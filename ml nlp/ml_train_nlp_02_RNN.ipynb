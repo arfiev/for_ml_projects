{
  "nbformat": 4,
  "nbformat_minor": 0,
  "metadata": {
    "colab": {
      "provenance": [],
      "gpuType": "T4"
    },
    "kernelspec": {
      "name": "python3",
      "display_name": "Python 3"
    },
    "language_info": {
      "name": "python"
    },
    "accelerator": "GPU"
  },
  "cells": [
    {
      "cell_type": "markdown",
      "source": [
        "#Домашнее задание 3\n",
        "\n",
        "Генерация текста с помощью рекурентной нейронной сети (VanilaRNN)"
      ],
      "metadata": {
        "id": "Tm49Ycccs-V9"
      }
    },
    {
      "cell_type": "code",
      "execution_count": 2,
      "metadata": {
        "id": "jfk7rPw38HtO"
      },
      "outputs": [],
      "source": [
        "import string\n",
        "import os\n",
        "from random import sample\n",
        "\n",
        "import numpy as np\n",
        "import torch, torch.nn as nn\n",
        "import torch.nn.functional as F\n",
        "\n",
        "import matplotlib.pyplot as plt\n",
        "\n",
        "\n",
        "from IPython.display import clear_output"
      ]
    },
    {
      "cell_type": "code",
      "source": [
        "device=torch.device('cuda') if torch.cuda.is_available() else torch.device('cpu')\n",
        "print('{} device is avaible'.format(device))\n"
      ],
      "metadata": {
        "colab": {
          "base_uri": "https://localhost:8080/"
        },
        "id": "GBIU5RqU9FP5",
        "outputId": "6cbe3576-a03c-4ba8-86e6-c4c6e645af3b"
      },
      "execution_count": 3,
      "outputs": [
        {
          "output_type": "stream",
          "name": "stdout",
          "text": [
            "cuda device is avaible\n"
          ]
        }
      ]
    },
    {
      "cell_type": "markdown",
      "source": [
        "загрузка данных (\"Евгений Онегин\")"
      ],
      "metadata": {
        "id": "VeVVfLSM9rwS"
      }
    },
    {
      "cell_type": "code",
      "source": [
        "# do not change the code in the block below\n",
        "# __________start of block__________\n",
        "!wget https://raw.githubusercontent.com/neychev/small_DL_repo/master/datasets/onegin.txt\n",
        "\n",
        "with open('onegin.txt', 'r') as iofile:\n",
        "    text = iofile.readlines()\n",
        "\n",
        "text = \"\".join([x.replace('\\t\\t', '').lower() for x in text])\n",
        "# __________end of block__________"
      ],
      "metadata": {
        "colab": {
          "base_uri": "https://localhost:8080/"
        },
        "id": "gEYgAjz79n0a",
        "outputId": "728b5fdd-6b28-4a23-982d-a06350b8cb63"
      },
      "execution_count": 4,
      "outputs": [
        {
          "output_type": "stream",
          "name": "stdout",
          "text": [
            "--2025-09-25 09:06:27--  https://raw.githubusercontent.com/neychev/small_DL_repo/master/datasets/onegin.txt\n",
            "Resolving raw.githubusercontent.com (raw.githubusercontent.com)... 185.199.108.133, 185.199.109.133, 185.199.110.133, ...\n",
            "Connecting to raw.githubusercontent.com (raw.githubusercontent.com)|185.199.108.133|:443... connected.\n",
            "HTTP request sent, awaiting response... 200 OK\n",
            "Length: 262521 (256K) [text/plain]\n",
            "Saving to: ‘onegin.txt’\n",
            "\n",
            "onegin.txt          100%[===================>] 256.37K  --.-KB/s    in 0.02s   \n",
            "\n",
            "2025-09-25 09:06:28 (14.2 MB/s) - ‘onegin.txt’ saved [262521/262521]\n",
            "\n"
          ]
        }
      ]
    },
    {
      "cell_type": "code",
      "source": [
        "tokens = sorted(set(text.lower())) + ['<sos>']\n",
        "num_tokens = len(tokens)\n",
        "\n",
        "assert num_tokens == 84, \"Check the tokenization process\"\n",
        "\n",
        "token_to_idx = {x: idx for idx, x in enumerate(tokens)}\n",
        "idx_to_token = {idx: x for idx, x in enumerate(tokens)}\n",
        "\n",
        "assert len(tokens) == len(token_to_idx), \"Mapping should be unique\"\n",
        "\n",
        "print(\"Seems fine!\")\n",
        "\n",
        "\n",
        "text_encoded = [token_to_idx[x] for x in text]"
      ],
      "metadata": {
        "colab": {
          "base_uri": "https://localhost:8080/"
        },
        "id": "3UzV_2gK9u37",
        "outputId": "7eab3cf8-65fd-48a3-e9c7-22f05901862f"
      },
      "execution_count": 5,
      "outputs": [
        {
          "output_type": "stream",
          "name": "stdout",
          "text": [
            "Seems fine!\n"
          ]
        }
      ]
    },
    {
      "cell_type": "code",
      "source": [
        "print(num_tokens)"
      ],
      "metadata": {
        "colab": {
          "base_uri": "https://localhost:8080/"
        },
        "id": "XqVDbzqBY7eW",
        "outputId": "63e668c8-dbe9-499e-f3ae-700254cca29d"
      },
      "execution_count": 6,
      "outputs": [
        {
          "output_type": "stream",
          "name": "stdout",
          "text": [
            "84\n"
          ]
        }
      ]
    },
    {
      "cell_type": "markdown",
      "source": [
        "RNN"
      ],
      "metadata": {
        "id": "7j5mcRW5BufB"
      }
    },
    {
      "cell_type": "code",
      "source": [
        "batch_size=256\n",
        "seq_lenght=100\n",
        "start_column=np.zeros((batch_size,1),dtype=int)+token_to_idx[\"<sos>\"]\n",
        "\n",
        "def generate_chunk():\n",
        "  global text_encoded, start_column, batch_size, seq_lenght\n",
        "\n",
        "  start_index = np.random.randint(0,len(text_encoded)-batch_size*seq_lenght-1)\n",
        "  data = np.array(text_encoded[start_index:start_index+batch_size*seq_lenght]).reshape((batch_size,-1))\n",
        "  yield np.hstack((start_column, data))\n"
      ],
      "metadata": {
        "id": "TQVomeTE-v9_"
      },
      "execution_count": 7,
      "outputs": []
    },
    {
      "cell_type": "markdown",
      "source": [
        "пример батча"
      ],
      "metadata": {
        "id": "VHf-zkSIIOxD"
      }
    },
    {
      "cell_type": "code",
      "source": [
        "next(generate_chunk()).shape"
      ],
      "metadata": {
        "colab": {
          "base_uri": "https://localhost:8080/"
        },
        "id": "We5bX808IONJ",
        "outputId": "710a505e-8bb8-4e7d-a8a8-7134dd89a435"
      },
      "execution_count": 8,
      "outputs": [
        {
          "output_type": "execute_result",
          "data": {
            "text/plain": [
              "(256, 101)"
            ]
          },
          "metadata": {},
          "execution_count": 8
        }
      ]
    },
    {
      "cell_type": "markdown",
      "source": [
        "обучение модели"
      ],
      "metadata": {
        "id": "oIz0Mh60IatQ"
      }
    },
    {
      "cell_type": "code",
      "source": [
        "class Char_RNN(nn.Module):\n",
        "  def __init__(self, rnn_num_units=512, num_tokens=num_tokens, embedding_size=128):\n",
        "    super(self.__class__,self).__init__()\n",
        "\n",
        "    self.num_units=rnn_num_units\n",
        "\n",
        "    self.embedding=nn.Embedding(num_tokens,embedding_size)\n",
        "    self.rnn_update=nn.Linear(rnn_num_units+embedding_size,rnn_num_units)\n",
        "    self.rnn_to_logits=nn.Linear(rnn_num_units, num_tokens)\n",
        "  def forward(self, x, h_prev):\n",
        "\n",
        "    x_emb = self.embedding(x)\n",
        "    #print(x_emb.shape,h_prev.shape)\n",
        "    x_and_h = torch.cat([x_emb,h_prev], dim=-1)\n",
        "    h_next=self.rnn_update(x_and_h)\n",
        "\n",
        "    h_next=torch.tanh(h_next)\n",
        "\n",
        "    logits=self.rnn_to_logits(h_next)\n",
        "    return logits, h_next\n",
        "\n",
        "  def initial_state(self, batch_size):\n",
        "    return torch.zeros(batch_size, self.num_units, requires_grad=True)\n",
        "\n",
        "\n",
        "\n"
      ],
      "metadata": {
        "id": "yEZaEBLfHFOk"
      },
      "execution_count": 9,
      "outputs": []
    },
    {
      "cell_type": "code",
      "source": [
        "model=Char_RNN()"
      ],
      "metadata": {
        "id": "pvyyYDGJv-gi"
      },
      "execution_count": 10,
      "outputs": []
    },
    {
      "cell_type": "code",
      "source": [
        "from torch.optim.lr_scheduler import ReduceLROnPlateau"
      ],
      "metadata": {
        "id": "cwklkD5TZ5D7"
      },
      "execution_count": 11,
      "outputs": []
    },
    {
      "cell_type": "code",
      "source": [
        "loss_func=nn.CrossEntropyLoss()\n",
        "opt =  torch.optim.Adam(model.parameters(),lr=5e-3)\n",
        "lr_scheduler = ReduceLROnPlateau(opt, factor=0.5, patience=150)\n",
        "history=[]\n",
        "num_epochs=2500"
      ],
      "metadata": {
        "id": "6evuyDnUwdJh"
      },
      "execution_count": 12,
      "outputs": []
    },
    {
      "cell_type": "code",
      "source": [
        "def rnn_loop(char_rnn, batch_ix):\n",
        "\n",
        "  max_lenght, batch_size = batch_ix.size()\n",
        "  hid_state=char_rnn.initial_state(batch_size)\n",
        "  all_logits=[]\n",
        "  #print(batch_ix.shape,hid_state.shape)\n",
        "  for x_t in batch_ix:\n",
        "    #print(x_t.shape, hid_state.shape)\n",
        "    logits_next, hid_state= char_rnn(\n",
        "        x_t, hid_state\n",
        "    )\n",
        "    all_logits.append(logits_next)\n",
        "\n",
        "  return torch.stack(all_logits,dim=1)\n"
      ],
      "metadata": {
        "id": "PudD92pv7XUe"
      },
      "execution_count": 13,
      "outputs": []
    },
    {
      "cell_type": "code",
      "source": [
        "for i in range(num_epochs):\n",
        "  opt.zero_grad()\n",
        "  batch_ix=next(generate_chunk())\n",
        "  batch_ix=torch.tensor(batch_ix,dtype=torch.int64)\n",
        "\n",
        "  all_logits=rnn_loop(model,batch_ix.T)\n",
        "\n",
        "  actual_next_tokens = batch_ix[:,1:]\n",
        "  pred_logits=all_logits[:,:-1, :]\n",
        "  pred_logits_flattened=pred_logits.reshape(\n",
        "      (pred_logits.shape[0]*pred_logits.shape[1], -1)\n",
        "  )\n",
        "  actual_next_tokens_flattened=actual_next_tokens.reshape(-1)\n",
        "\n",
        "  loss=loss_func(pred_logits_flattened,actual_next_tokens_flattened)\n",
        "\n",
        "  loss.backward()\n",
        "  opt.step()\n",
        "\n",
        "  history.append(loss.item())\n",
        "  lr_scheduler.step(history[-1])\n",
        "  if i % 100 == 0:\n",
        "    print(\n",
        "        f\"Step {i}, Loss: {np.mean(history[-100:])}, learning rate: {lr_scheduler._last_lr}\"\n",
        "    )"
      ],
      "metadata": {
        "id": "OUO-juaU0nzx",
        "colab": {
          "base_uri": "https://localhost:8080/"
        },
        "outputId": "0375802b-2c06-4aa5-d007-8882db989fda"
      },
      "execution_count": 14,
      "outputs": [
        {
          "output_type": "stream",
          "name": "stdout",
          "text": [
            "Step 0, Loss: 4.442641735076904, learning rate: [0.005]\n",
            "Step 100, Loss: 2.3894573760032656, learning rate: [0.005]\n",
            "Step 200, Loss: 1.9062927770614624, learning rate: [0.005]\n",
            "Step 300, Loss: 1.6690424156188965, learning rate: [0.005]\n",
            "Step 400, Loss: 1.4743733775615693, learning rate: [0.005]\n",
            "Step 500, Loss: 1.295304492712021, learning rate: [0.005]\n",
            "Step 600, Loss: 1.1515170651674271, learning rate: [0.005]\n",
            "Step 700, Loss: 1.0252156549692153, learning rate: [0.005]\n",
            "Step 800, Loss: 0.956486890912056, learning rate: [0.005]\n",
            "Step 900, Loss: 0.8904267299175262, learning rate: [0.005]\n",
            "Step 1000, Loss: 0.8161504495143891, learning rate: [0.005]\n",
            "Step 1100, Loss: 0.8205078274011612, learning rate: [0.005]\n",
            "Step 1200, Loss: 0.7580373275279999, learning rate: [0.0025]\n",
            "Step 1300, Loss: 0.6230174174904823, learning rate: [0.0025]\n",
            "Step 1400, Loss: 0.564752314388752, learning rate: [0.0025]\n",
            "Step 1500, Loss: 0.5499815011024475, learning rate: [0.0025]\n",
            "Step 1600, Loss: 0.5397106206417084, learning rate: [0.0025]\n",
            "Step 1700, Loss: 0.5194676440954208, learning rate: [0.0025]\n",
            "Step 1800, Loss: 0.5282180139422417, learning rate: [0.0025]\n",
            "Step 1900, Loss: 0.5100256925821305, learning rate: [0.00125]\n",
            "Step 2000, Loss: 0.4531024268269539, learning rate: [0.00125]\n",
            "Step 2100, Loss: 0.4113863983750343, learning rate: [0.00125]\n",
            "Step 2200, Loss: 0.42902051866054536, learning rate: [0.00125]\n",
            "Step 2300, Loss: 0.42400856137275694, learning rate: [0.00125]\n",
            "Step 2400, Loss: 0.4031725522875786, learning rate: [0.00125]\n"
          ]
        }
      ]
    },
    {
      "cell_type": "code",
      "source": [
        "clear_output(True)\n",
        "plt.plot(history,label='loss')\n",
        "plt.legend()\n",
        "plt.show()"
      ],
      "metadata": {
        "colab": {
          "base_uri": "https://localhost:8080/",
          "height": 430
        },
        "id": "_YM7Qe5OIeKm",
        "outputId": "92a79a22-3e10-4223-9a07-6a4c303e25f7"
      },
      "execution_count": 15,
      "outputs": [
        {
          "output_type": "display_data",
          "data": {
            "text/plain": [
              "<Figure size 640x480 with 1 Axes>"
            ],
            "image/png": "[encoded data removed]"
          },
          "metadata": {}
        }
      ]
    },
    {
      "cell_type": "code",
      "source": [
        "def generate_sample(char_rnn, seed_phrase=None, max_length=200, temperature=1.0, device=device):\n",
        "    '''\n",
        "    The function generates text given a phrase of length at least SEQ_LENGTH.\n",
        "    :param seed_phrase: prefix characters. The RNN is asked to continue the phrase\n",
        "    :param max_length: maximum output length, including seed_phrase\n",
        "    :param temperature: coefficient for sampling.  higher temperature produces more chaotic outputs,\n",
        "                        smaller temperature converges to the single most likely output\n",
        "    '''\n",
        "    len_seed=1\n",
        "    if seed_phrase is not None:\n",
        "\n",
        "        len_seed=len(seed_phrase)\n",
        "        x_sequence = [token_to_idx['<sos>']] + [token_to_idx[token] for token in seed_phrase]\n",
        "    else:\n",
        "\n",
        "        x_sequence = [token_to_idx['<sos>']]\n",
        "    x_sequence = torch.tensor([x_sequence], dtype=torch.int64)\n",
        "\n",
        "    hid_state=char_rnn.initial_state(1)\n",
        "\n",
        "    for i in range(len_seed-1):\n",
        "      #print(x_sequence[:,i].shape, hid_state.shape)\n",
        "      logits_next, hid_state= char_rnn(\n",
        "          x_sequence[:,i], hid_state\n",
        "      )\n",
        "    for i in range(max_length-len_seed):\n",
        "\n",
        "      logits_next, hid_state= char_rnn(\n",
        "          x_sequence[:,-1], hid_state\n",
        "      )\n",
        "      p_next=F.softmax((logits_next/temperature),dim=-1).data.numpy()[0]\n",
        "\n",
        "      ix_next=np.random.choice(num_tokens,p=p_next)\n",
        "      ix_next=torch.tensor([[ix_next]],dtype=torch.int64)\n",
        "      x_sequence=torch.cat([x_sequence,ix_next],dim=1)\n",
        "\n",
        "    # for i in range (max_length-len(x_sequence)):\n",
        "    #     logits_next, hid_state= char_rnn(\n",
        "    #       x_t, hid_state\n",
        "    #   )\n",
        "\n",
        "    return ''.join([tokens[ix] for ix in x_sequence.cpu().data.numpy()[0]])"
      ],
      "metadata": {
        "id": "zjfAg9_HStod"
      },
      "execution_count": 18,
      "outputs": []
    },
    {
      "cell_type": "code",
      "source": [
        "generated_phrases = [\n",
        "    generate_sample(\n",
        "        model,\n",
        "        ' мой дядя самых честных правил',\n",
        "        max_length=500,\n",
        "        temperature=1.\n",
        "    ).replace('<sos>', ' ')\n",
        "    for _ in range(10)\n",
        "]"
      ],
      "metadata": {
        "id": "eZTqJ153XvDI"
      },
      "execution_count": 19,
      "outputs": []
    },
    {
      "cell_type": "code",
      "source": [
        "len(generated_phrases)"
      ],
      "metadata": {
        "id": "dDFW9wEcXxHS",
        "colab": {
          "base_uri": "https://localhost:8080/"
        },
        "outputId": "76324865-cee6-4bdb-c138-0316ca88c3dd"
      },
      "execution_count": 20,
      "outputs": [
        {
          "output_type": "execute_result",
          "data": {
            "text/plain": [
              "10"
            ]
          },
          "metadata": {},
          "execution_count": 20
        }
      ]
    },
    {
      "cell_type": "code",
      "source": [
        "generated_phrases=[generated_phrase[1:] for generated_phrase in generated_phrases]"
      ],
      "metadata": {
        "id": "AwtrsfbUjq0z"
      },
      "execution_count": 21,
      "outputs": []
    },
    {
      "cell_type": "code",
      "source": [
        "generated_phrases"
      ],
      "metadata": {
        "colab": {
          "base_uri": "https://localhost:8080/"
        },
        "id": "cWyDJRUckfwL",
        "outputId": "36ce77db-28d8-45cd-81a5-bff285e53669"
      },
      "execution_count": 22,
      "outputs": [
        {
          "output_type": "execute_result",
          "data": {
            "text/plain": [
              "[' мой дядя самых честных правилять, с ним останости мне шепотах ее веселом,\\nвсё в нем\\nроссирдцей бурной,\\nих добродетели природа\\nпредания поль, разъезжались тихо к отца,\\nлетит, уж да своевольном сумрака,\\nкак богу, да, ввух или не много понимал,\\nприлегкой на почтиной кружится горой книгом увидели вас поражает в лица?\\nзаметит и писали?\\nужели жребий вам такой\\nназначен строгою судьбой?\\n\\n\\n\\nxvi\\n\\nмечтами стол и тайные для погружены. хозяйки нет находилась\\nдовольно скукора,\\nярво жизнь дани осуждена…\\nи нес',\n",
              " ' мой дядя самых честных правилять,\\nчтоб остальное время глубоко приятелем ей;\\nкорой я твой супруг, суди тени двух сестрой.\\n\\n\\n\\nxxii\\n\\nзамечтанью,\\nсовсем утомлена,\\nв сей беснет,\\nглядит он изнавственной души,\\nа молвила кряхтив ей занимает\\nтакой-то, стихи,\\nказалась девочко было, галь.\\nзами, невольник навы, скорей!\\n\\n\\n\\nxv\\n\\nчто очень мало,\\nа почему,\\nи за€ похороной\\nо сказал рожало,\\nкрасавиц между случалось на душу я на плеста;\\nне понемлии златой\\nсозресть\\nблесашись олегкой встретя,\\nкак селен;\\nмой бедных ',\n",
              " ' мой дядя самых честных правилялся,\\nего нашел я с досад на бледный,\\nиль даже сам в баню враги;\\nпризнаться: довольно летов борот… какое теперь.\\nза ней и смех,\\nбез медленно про нем?\\nи верновал.\\nпо балов,\\nв возок благоразумный\\nуж нынче предметы,\\nкак я каждый день,\\nи нет отчет и най белом, там достить,\\nи, может быть, одно и то же ль дяте с видя,\\nдвух друга мечты\\nи вихорь безумливые поклонилась в этом рога,\\nпересказать, ей альбом, как простак.\\nвсё это мужды было, что я могу… – «опятом, иль? уже бедна',\n",
              " ' мой дядя самых честных правиленьем,\\nперезымы роздет и на широкий двор…»\\n\\n\\n\\nii\\n\\n– я тотчас приним,\\nбеспелых, вижу я.\\nнебо мог,\\nговорил вечор небрежки, фапущив лариных алеках подъемлют общий полною душой.\\nон завторям полножать чудой.\\nв то желаний,\\nа старом колпаке.\\nахмала молодой,\\nмои доуми\\nей привозят и вьется; но прочла,\\nне дожду над бегущий невинных,\\nлюбовной лестью усыпался он; его с изуки,\\nстрастей.\\n\\n\\n\\nxxxviii\\n\\nон был наводит на нее,\\nи все предвавы\\nили дроже кратких искусством\\nи друзы, вы зо',\n",
              " ' мой дядя самых честных правилять, и наконец\\nего страшные рассказы\\nзимою впигрубом цвела?» —\\n«о могильной сени,\\nс онравимся она.\\n\\n\\n\\nxxiii\\n\\nприятно дерзок невел в час приным о нас они…\\nитак, дай бог душе не той пять шаходится гимной тетки и прочили дамы,\\nпокойной ничего не могу.\\nкак и на сонна.\\nо наших муж утро и нет. меня деров и плакала со страха,\\nпредчии тебе не томимый на бой,\\nсоблет,\\nонегин полухом в слезах,\\nпочтовых она:\\nсприятный,\\nчитаю слезы;\\nон пел поблекательный пары\\nпод фиал с платком ',\n",
              " ' мой дядя самых честных правилять, и сердце думай… причудая, в ноский слово\\nнам ее покора,\\nи, признаюсь княжна?\\nкнязь пламенный и сенях;\\nтатьяна скамень, суетный и руку не слышить, сани, везде был похоронах!\\n\\n\\n\\nxxii\\n\\nбувгин!\\nда жарона». —\\n«как, сердечное лири\\nи понять. непрелестных и продолжится,\\nи этот жество поутру читал…\\nи, приют, бывало, хладнокровно,\\nхоть он я.)\\n\\n\\n\\nxvii\\n\\nя знаем, сватали встаринные мечтанья,\\nвозмогнувших добрый и пестрый барышен. —\\n\\n\\n\\nxxxvi\\n\\nи час одета?\\n\\n\\n\\nxxi\\n\\nтатьяна то ',\n",
              " ' мой дядя самых честных правиленный,\\nчто всякий в доме друг от всех волшебный капитванья,\\nмгновенной благой\\nпоказали\\nи сладостной невежной, —\\nуж уже испод низвратайся, и запаски;\\nдве дороги, вольная природ он видел он.\\nтот после моя странной\\nстало родной?\\n\\n\\n\\nxxvii\\n\\nно обеда\\nмысла, в том пока?\\nчем жажда, боже!\\nчто слышит боле\\nона в очки,\\nсогреты.\\nдевицы к ним друг отраду…\\nно нынче мы\\nподъеянас;\\nуж расходы\\nбесед опасный, ты жизнь домой весла б в окно искал чуждал необарыне смотрел и мух давно… нет',\n",
              " ' мой дядя самых честных правилять он от их опершиственных была охладел любовь, ленский опершися вйри стулья, сумаем, что так!. мы петрубну;\\nон знатоклонье сердцем юный?\\nи где мечтах ройки,\\nи бабы, клеветы,\\nврадела за блисталенье\\nи волшебный мщенья сон перенес.\\nчто слышать клевещул унесен,\\nи ярко смутился в нем\\nдля он оставил себя стыдится;\\nбыл за милой\\nв нем жаль:\\nмосьем,\\nлет, он про волшебный день и никогда,\\nиз пирог\\nстал оживил\\nи грудпогиб он селится, с легкой стоит судьбу бранитель.\\n«ах!» – «',\n",
              " ' мой дядя самых честных правилять о ком;\\nмазурка раздаси…\\nдончую!» идет беспед,\\nи новы\\nпрогулки с тене\\nтерпонях сосед.\\nубит!.. сирассовой,\\nпод свой покровницы привлечена:\\nвсегда по-русски прикажут боле дышает смотрит и пламенным полно, ланит,\\nна язык,\\nобы вернее гневай, нежной щедвии звать\\nосуждена судьбою властной:\\nчудак печальный жизни нашей дали\\nзарецкий бережно кладость, докой героине\\nего невеста о нем?..\\nтак точно кладком сна\\nидет оне.\\n\\n\\n\\nxxxvi\\n\\nи что ж?» – «и, что-то бледной и худой,\\nа впр',\n",
              " ' мой дядя самых честных правилять,\\nразок пистолета\\nв пяти сыпать;\\nона в сельсного принял,\\nи славный хорок прочел\\nдуши мечтою холодня?\\nи было следа\\nво весь дитя.\\nона в семенья,\\nумил, точно тани,\\nя знаю: вранье?\\nя важно генерал себя пришла, слезы приближает спать заняться никто б направи безубелаться, няня, и пробожной\\nи девственной душой,\\nсебялоты.\\n\\n\\n\\nxxx\\n\\nно где рождает глуша\\nсквозь верхому».\\n\\n\\n\\nxxi\\n\\nсвобор.\\n\\n\\n\\nlv\\n\\nя замыгают; тамброков\\nоднако же трторе,\\nни считает воле,\\nи уж сожале мир его не з']"
            ]
          },
          "metadata": {},
          "execution_count": 22
        }
      ]
    },
    {
      "cell_type": "code",
      "source": [
        "# do not change the code in the block below\n",
        "# __________start of block__________\n",
        "\n",
        "import json\n",
        "if 'generated_phrases' not in locals():\n",
        "    raise ValueError(\"Please, save generated phrases to `generated_phrases` variable\")\n",
        "\n",
        "for phrase in generated_phrases:\n",
        "\n",
        "    if not isinstance(phrase, str):\n",
        "        raise ValueError(\"The generated phrase should be a string\")\n",
        "\n",
        "    if len(phrase) != 500:\n",
        "        raise ValueError(\"The `generated_phrase` length should be equal to 500\")\n",
        "\n",
        "    assert all([x in set(tokens) for x in set(list(phrase))]), 'Unknown tokens detected, check your submission!'\n",
        "\n",
        "\n",
        "submission_dict = {\n",
        "    'token_to_idx': token_to_idx,\n",
        "    'generated_phrases': generated_phrases\n",
        "}\n",
        "\n",
        "with open('submission_dict.json', 'w') as iofile:\n",
        "    json.dump(submission_dict, iofile)\n",
        "print('File saved to `submission_dict.json`')\n",
        "# __________end of block__________"
      ],
      "metadata": {
        "colab": {
          "base_uri": "https://localhost:8080/"
        },
        "id": "8eTqplq9htSi",
        "outputId": "305d76d9-edb9-45d7-a8c3-aca6f673d455"
      },
      "execution_count": 24,
      "outputs": [
        {
          "output_type": "stream",
          "name": "stdout",
          "text": [
            "File saved to `submission_dict.json`\n"
          ]
        }
      ]
    },
    {
      "cell_type": "code",
      "source": [],
      "metadata": {
        "id": "cfWE8zRXR-uQ"
      },
      "execution_count": null,
      "outputs": []
    }
  ]
}