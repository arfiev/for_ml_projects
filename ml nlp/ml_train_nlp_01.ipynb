{
  "nbformat": 4,
  "nbformat_minor": 0,
  "metadata": {
    "colab": {
      "provenance": []
    },
    "kernelspec": {
      "name": "python3",
      "display_name": "Python 3"
    },
    "language_info": {
      "name": "python"
    },
    "widgets": {
      "application/vnd.jupyter.widget-state+json": {
        "dbdcd998d29a4c3ebf1b00ea2cc97d56": {
          "model_module": "@jupyter-widgets/controls",
          "model_name": "HBoxModel",
          "model_module_version": "1.5.0",
          "state": {
            "_dom_classes": [],
            "_model_module": "@jupyter-widgets/controls",
            "_model_module_version": "1.5.0",
            "_model_name": "HBoxModel",
            "_view_count": null,
            "_view_module": "@jupyter-widgets/controls",
            "_view_module_version": "1.5.0",
            "_view_name": "HBoxView",
            "box_style": "",
            "children": [
              "IPY_MODEL_ddad06e149504adebc37acd560ee5536",
              "IPY_MODEL_567259dc7f774aad81d19b948ebffefd",
              "IPY_MODEL_b616dd9cd402453abfa6df4520975f51"
            ],
            "layout": "IPY_MODEL_7956b21b914f49689ba397b18afc00b9"
          }
        },
        "ddad06e149504adebc37acd560ee5536": {
          "model_module": "@jupyter-widgets/controls",
          "model_name": "HTMLModel",
          "model_module_version": "1.5.0",
          "state": {
            "_dom_classes": [],
            "_model_module": "@jupyter-widgets/controls",
            "_model_module_version": "1.5.0",
            "_model_name": "HTMLModel",
            "_view_count": null,
            "_view_module": "@jupyter-widgets/controls",
            "_view_module_version": "1.5.0",
            "_view_name": "HTMLView",
            "description": "",
            "description_tooltip": null,
            "layout": "IPY_MODEL_5c7fd5082c094810a110ce7d163b9be0",
            "placeholder": "​",
            "style": "IPY_MODEL_9da28925024743bbb1c258301c25e53d",
            "value": "100%"
          }
        },
        "567259dc7f774aad81d19b948ebffefd": {
          "model_module": "@jupyter-widgets/controls",
          "model_name": "FloatProgressModel",
          "model_module_version": "1.5.0",
          "state": {
            "_dom_classes": [],
            "_model_module": "@jupyter-widgets/controls",
            "_model_module_version": "1.5.0",
            "_model_name": "FloatProgressModel",
            "_view_count": null,
            "_view_module": "@jupyter-widgets/controls",
            "_view_module_version": "1.5.0",
            "_view_name": "ProgressView",
            "bar_style": "success",
            "description": "",
            "description_tooltip": null,
            "layout": "IPY_MODEL_30174952f8ae4e799b53717afdeec65f",
            "max": 3001,
            "min": 0,
            "orientation": "horizontal",
            "style": "IPY_MODEL_290c0655e9654b6aaca76d1e16d2af1e",
            "value": 3001
          }
        },
        "b616dd9cd402453abfa6df4520975f51": {
          "model_module": "@jupyter-widgets/controls",
          "model_name": "HTMLModel",
          "model_module_version": "1.5.0",
          "state": {
            "_dom_classes": [],
            "_model_module": "@jupyter-widgets/controls",
            "_model_module_version": "1.5.0",
            "_model_name": "HTMLModel",
            "_view_count": null,
            "_view_module": "@jupyter-widgets/controls",
            "_view_module_version": "1.5.0",
            "_view_name": "HTMLView",
            "description": "",
            "description_tooltip": null,
            "layout": "IPY_MODEL_264fc0019ee946f1a47270db6e5c3ca8",
            "placeholder": "​",
            "style": "IPY_MODEL_b4d6cb453ffe4c1eb7eff21e9a9645d3",
            "value": " 3001/3001 [1:18:33&lt;00:00,  1.66s/it]"
          }
        },
        "7956b21b914f49689ba397b18afc00b9": {
          "model_module": "@jupyter-widgets/base",
          "model_name": "LayoutModel",
          "model_module_version": "1.2.0",
          "state": {
            "_model_module": "@jupyter-widgets/base",
            "_model_module_version": "1.2.0",
            "_model_name": "LayoutModel",
            "_view_count": null,
            "_view_module": "@jupyter-widgets/base",
            "_view_module_version": "1.2.0",
            "_view_name": "LayoutView",
            "align_content": null,
            "align_items": null,
            "align_self": null,
            "border": null,
            "bottom": null,
            "display": null,
            "flex": null,
            "flex_flow": null,
            "grid_area": null,
            "grid_auto_columns": null,
            "grid_auto_flow": null,
            "grid_auto_rows": null,
            "grid_column": null,
            "grid_gap": null,
            "grid_row": null,
            "grid_template_areas": null,
            "grid_template_columns": null,
            "grid_template_rows": null,
            "height": null,
            "justify_content": null,
            "justify_items": null,
            "left": null,
            "margin": null,
            "max_height": null,
            "max_width": null,
            "min_height": null,
            "min_width": null,
            "object_fit": null,
            "object_position": null,
            "order": null,
            "overflow": null,
            "overflow_x": null,
            "overflow_y": null,
            "padding": null,
            "right": null,
            "top": null,
            "visibility": null,
            "width": null
          }
        },
        "5c7fd5082c094810a110ce7d163b9be0": {
          "model_module": "@jupyter-widgets/base",
          "model_name": "LayoutModel",
          "model_module_version": "1.2.0",
          "state": {
            "_model_module": "@jupyter-widgets/base",
            "_model_module_version": "1.2.0",
            "_model_name": "LayoutModel",
            "_view_count": null,
            "_view_module": "@jupyter-widgets/base",
            "_view_module_version": "1.2.0",
            "_view_name": "LayoutView",
            "align_content": null,
            "align_items": null,
            "align_self": null,
            "border": null,
            "bottom": null,
            "display": null,
            "flex": null,
            "flex_flow": null,
            "grid_area": null,
            "grid_auto_columns": null,
            "grid_auto_flow": null,
            "grid_auto_rows": null,
            "grid_column": null,
            "grid_gap": null,
            "grid_row": null,
            "grid_template_areas": null,
            "grid_template_columns": null,
            "grid_template_rows": null,
            "height": null,
            "justify_content": null,
            "justify_items": null,
            "left": null,
            "margin": null,
            "max_height": null,
            "max_width": null,
            "min_height": null,
            "min_width": null,
            "object_fit": null,
            "object_position": null,
            "order": null,
            "overflow": null,
            "overflow_x": null,
            "overflow_y": null,
            "padding": null,
            "right": null,
            "top": null,
            "visibility": null,
            "width": null
          }
        },
        "9da28925024743bbb1c258301c25e53d": {
          "model_module": "@jupyter-widgets/controls",
          "model_name": "DescriptionStyleModel",
          "model_module_version": "1.5.0",
          "state": {
            "_model_module": "@jupyter-widgets/controls",
            "_model_module_version": "1.5.0",
            "_model_name": "DescriptionStyleModel",
            "_view_count": null,
            "_view_module": "@jupyter-widgets/base",
            "_view_module_version": "1.2.0",
            "_view_name": "StyleView",
            "description_width": ""
          }
        },
        "30174952f8ae4e799b53717afdeec65f": {
          "model_module": "@jupyter-widgets/base",
          "model_name": "LayoutModel",
          "model_module_version": "1.2.0",
          "state": {
            "_model_module": "@jupyter-widgets/base",
            "_model_module_version": "1.2.0",
            "_model_name": "LayoutModel",
            "_view_count": null,
            "_view_module": "@jupyter-widgets/base",
            "_view_module_version": "1.2.0",
            "_view_name": "LayoutView",
            "align_content": null,
            "align_items": null,
            "align_self": null,
            "border": null,
            "bottom": null,
            "display": null,
            "flex": null,
            "flex_flow": null,
            "grid_area": null,
            "grid_auto_columns": null,
            "grid_auto_flow": null,
            "grid_auto_rows": null,
            "grid_column": null,
            "grid_gap": null,
            "grid_row": null,
            "grid_template_areas": null,
            "grid_template_columns": null,
            "grid_template_rows": null,
            "height": null,
            "justify_content": null,
            "justify_items": null,
            "left": null,
            "margin": null,
            "max_height": null,
            "max_width": null,
            "min_height": null,
            "min_width": null,
            "object_fit": null,
            "object_position": null,
            "order": null,
            "overflow": null,
            "overflow_x": null,
            "overflow_y": null,
            "padding": null,
            "right": null,
            "top": null,
            "visibility": null,
            "width": null
          }
        },
        "290c0655e9654b6aaca76d1e16d2af1e": {
          "model_module": "@jupyter-widgets/controls",
          "model_name": "ProgressStyleModel",
          "model_module_version": "1.5.0",
          "state": {
            "_model_module": "@jupyter-widgets/controls",
            "_model_module_version": "1.5.0",
            "_model_name": "ProgressStyleModel",
            "_view_count": null,
            "_view_module": "@jupyter-widgets/base",
            "_view_module_version": "1.2.0",
            "_view_name": "StyleView",
            "bar_color": null,
            "description_width": ""
          }
        },
        "264fc0019ee946f1a47270db6e5c3ca8": {
          "model_module": "@jupyter-widgets/base",
          "model_name": "LayoutModel",
          "model_module_version": "1.2.0",
          "state": {
            "_model_module": "@jupyter-widgets/base",
            "_model_module_version": "1.2.0",
            "_model_name": "LayoutModel",
            "_view_count": null,
            "_view_module": "@jupyter-widgets/base",
            "_view_module_version": "1.2.0",
            "_view_name": "LayoutView",
            "align_content": null,
            "align_items": null,
            "align_self": null,
            "border": null,
            "bottom": null,
            "display": null,
            "flex": null,
            "flex_flow": null,
            "grid_area": null,
            "grid_auto_columns": null,
            "grid_auto_flow": null,
            "grid_auto_rows": null,
            "grid_column": null,
            "grid_gap": null,
            "grid_row": null,
            "grid_template_areas": null,
            "grid_template_columns": null,
            "grid_template_rows": null,
            "height": null,
            "justify_content": null,
            "justify_items": null,
            "left": null,
            "margin": null,
            "max_height": null,
            "max_width": null,
            "min_height": null,
            "min_width": null,
            "object_fit": null,
            "object_position": null,
            "order": null,
            "overflow": null,
            "overflow_x": null,
            "overflow_y": null,
            "padding": null,
            "right": null,
            "top": null,
            "visibility": null,
            "width": null
          }
        },
        "b4d6cb453ffe4c1eb7eff21e9a9645d3": {
          "model_module": "@jupyter-widgets/controls",
          "model_name": "DescriptionStyleModel",
          "model_module_version": "1.5.0",
          "state": {
            "_model_module": "@jupyter-widgets/controls",
            "_model_module_version": "1.5.0",
            "_model_name": "DescriptionStyleModel",
            "_view_count": null,
            "_view_module": "@jupyter-widgets/base",
            "_view_module_version": "1.2.0",
            "_view_name": "StyleView",
            "description_width": ""
          }
        }
      }
    }
  },
  "cells": [
    {
      "cell_type": "markdown",
      "source": [
        "Ноутбук сделан для выполнения 1-ого задания тренировок по ML NLP\n",
        "\n",
        "Задание - создание собственного Word2Vec"
      ],
      "metadata": {
        "id": "XI8-w3c1qXr6"
      }
    },
    {
      "cell_type": "code",
      "source": [
        "import itertools\n",
        "import random\n",
        "import string\n",
        "from collections import Counter\n",
        "from itertools import chain\n",
        "\n",
        "import matplotlib.pyplot as plt\n",
        "import numpy as np\n",
        "import torch\n",
        "import torch.autograd as autograd\n",
        "import torch.nn as nn\n",
        "import torch.nn.functional as F\n",
        "import torch.optim as optim\n",
        "import umap\n",
        "from IPython.display import clear_output\n",
        "from matplotlib import pyplot as plt\n",
        "from nltk.tokenize import WordPunctTokenizer\n",
        "from torch.optim.lr_scheduler import ReduceLROnPlateau, StepLR\n",
        "from tqdm.auto import tqdm as tqdma"
      ],
      "metadata": {
        "id": "kpTW8-MPz_px"
      },
      "execution_count": null,
      "outputs": []
    },
    {
      "cell_type": "code",
      "source": [
        "# download the data:\n",
        "!wget https://www.dropbox.com/s/obaitrix9jyu84r/quora.txt?dl=1 -O ./quora.txt -nc\n",
        "# alternative download link: https://yadi.sk/i/BPQrUu1NaTduEw"
      ],
      "metadata": {
        "colab": {
          "base_uri": "https://localhost:8080/"
        },
        "id": "vsqaZ8op0Eia",
        "outputId": "a6e819f3-ddac-4848-d595-8edcc7597c14"
      },
      "execution_count": null,
      "outputs": [
        {
          "output_type": "stream",
          "name": "stdout",
          "text": [
            "--2025-09-20 05:47:06--  https://www.dropbox.com/s/obaitrix9jyu84r/quora.txt?dl=1\n",
            "Resolving www.dropbox.com (www.dropbox.com)... 162.125.13.18, 2620:100:6057:18::a27d:d12\n",
            "Connecting to www.dropbox.com (www.dropbox.com)|162.125.13.18|:443... connected.\n",
            "HTTP request sent, awaiting response... 302 Found\n",
            "Location: https://www.dropbox.com/scl/fi/p0t2dw6oqs6oxpd6zz534/quora.txt?rlkey=bjupppwua4zmd4elz8octecy9&dl=1 [following]\n",
            "--2025-09-20 05:47:06--  https://www.dropbox.com/scl/fi/p0t2dw6oqs6oxpd6zz534/quora.txt?rlkey=bjupppwua4zmd4elz8octecy9&dl=1\n",
            "Reusing existing connection to www.dropbox.com:443.\n",
            "HTTP request sent, awaiting response... 302 Found\n",
            "Location: https://uc9107a7d1d4521df587ebd7d016.dl.dropboxusercontent.com/cd/0/inline/CxupLv2RMDJQdVZjI-DRNkMEODvQ1DdiVt2avcyolufRJBpiMI9C4dNTN7qTCnGob2I1lZz5HL4uq8w_UxFzyStB-B2KF2N-KM257jvsJ15TJur3MevdBX7nCVCMam-nPUE/file?dl=1# [following]\n",
            "--2025-09-20 05:47:06--  https://uc9107a7d1d4521df587ebd7d016.dl.dropboxusercontent.com/cd/0/inline/CxupLv2RMDJQdVZjI-DRNkMEODvQ1DdiVt2avcyolufRJBpiMI9C4dNTN7qTCnGob2I1lZz5HL4uq8w_UxFzyStB-B2KF2N-KM257jvsJ15TJur3MevdBX7nCVCMam-nPUE/file?dl=1\n",
            "Resolving uc9107a7d1d4521df587ebd7d016.dl.dropboxusercontent.com (uc9107a7d1d4521df587ebd7d016.dl.dropboxusercontent.com)... 162.125.13.15, 2620:100:6057:15::a27d:d0f\n",
            "Connecting to uc9107a7d1d4521df587ebd7d016.dl.dropboxusercontent.com (uc9107a7d1d4521df587ebd7d016.dl.dropboxusercontent.com)|162.125.13.15|:443... connected.\n",
            "HTTP request sent, awaiting response... 200 OK\n",
            "Length: 33813903 (32M) [application/binary]\n",
            "Saving to: ‘./quora.txt’\n",
            "\n",
            "./quora.txt         100%[===================>]  32.25M  88.7MB/s    in 0.4s    \n",
            "\n",
            "2025-09-20 05:47:07 (88.7 MB/s) - ‘./quora.txt’ saved [33813903/33813903]\n",
            "\n"
          ]
        }
      ]
    },
    {
      "cell_type": "code",
      "source": [
        "data=list(open(\"./quora.txt\",encoding=\"utf-8\"))\n",
        "data[49]"
      ],
      "metadata": {
        "colab": {
          "base_uri": "https://localhost:8080/",
          "height": 36
        },
        "id": "mXkJo4FL0lm6",
        "outputId": "7b3a19b5-b174-4324-eea3-7aa039d3a739"
      },
      "execution_count": null,
      "outputs": [
        {
          "output_type": "execute_result",
          "data": {
            "text/plain": [
              "'Should cricket be our national sport and not hockey?\\n'"
            ],
            "application/vnd.google.colaboratory.intrinsic+json": {
              "type": "string"
            }
          },
          "metadata": {},
          "execution_count": 3
        }
      ]
    },
    {
      "cell_type": "markdown",
      "source": [
        "Токенизация\n"
      ],
      "metadata": {
        "id": "lD8W-QOY06uA"
      }
    },
    {
      "cell_type": "code",
      "source": [
        "tokenizer=WordPunctTokenizer()\n",
        "\n",
        "print(tokenizer.tokenize(data[49]))"
      ],
      "metadata": {
        "colab": {
          "base_uri": "https://localhost:8080/"
        },
        "id": "AFnzY0nS0ws7",
        "outputId": "eb16d676-d6cb-4a79-e4ec-96c208a2b7e1"
      },
      "execution_count": null,
      "outputs": [
        {
          "output_type": "stream",
          "name": "stdout",
          "text": [
            "['Should', 'cricket', 'be', 'our', 'national', 'sport', 'and', 'not', 'hockey', '?']\n"
          ]
        }
      ]
    },
    {
      "cell_type": "code",
      "source": [
        "data_tok=[\n",
        "    tokenizer.tokenize(\n",
        "      line.translate(str.maketrans(\"\",\"\",string.punctuation)).lower()\n",
        "    )\n",
        "    for line in data\n",
        "]\n",
        "print(data_tok[49])"
      ],
      "metadata": {
        "colab": {
          "base_uri": "https://localhost:8080/"
        },
        "id": "6Fs-o9dB1ceQ",
        "outputId": "530d2caf-72aa-459b-cd94-8cd151cd0b78"
      },
      "execution_count": null,
      "outputs": [
        {
          "output_type": "stream",
          "name": "stdout",
          "text": [
            "['should', 'cricket', 'be', 'our', 'national', 'sport', 'and', 'not', 'hockey']\n"
          ]
        }
      ]
    },
    {
      "cell_type": "code",
      "source": [
        "data_tok=[x for x in data_tok if len(x)>=3]"
      ],
      "metadata": {
        "id": "DBBuKuTq5nnQ"
      },
      "execution_count": null,
      "outputs": []
    },
    {
      "cell_type": "markdown",
      "source": [
        "проверки"
      ],
      "metadata": {
        "id": "saVNnnRz5AwO"
      }
    },
    {
      "cell_type": "code",
      "source": [
        "assert all(\n",
        "    isinstance(row, (list, tuple)) for row in data_tok\n",
        "), \"please convert each line into a list of tokens (strings)\"\n",
        "assert all(\n",
        "    all(isinstance(tok, str) for tok in row) for row in data_tok\n",
        "), \"please convert each line into a list of tokens (strings)\"\n",
        "is_latin = lambda tok: all(\"a\" <= x.lower() <= \"z\" for x in tok)\n",
        "assert all(\n",
        "    map(lambda l: not is_latin(l) or l.islower(), map(\" \".join, data_tok))\n",
        "), \"please make sure to lowercase the data\""
      ],
      "metadata": {
        "id": "OaiO_2Uc447f"
      },
      "execution_count": null,
      "outputs": []
    },
    {
      "cell_type": "markdown",
      "source": [
        "Ниже заданы константы ширины окна контекста и проведена предобработка для построения skip-gram модели."
      ],
      "metadata": {
        "id": "IFmptPQ16GIH"
      }
    },
    {
      "cell_type": "code",
      "source": [
        "min_count =5\n",
        "window_radius =5"
      ],
      "metadata": {
        "id": "vNkg0hFl5DNl"
      },
      "execution_count": null,
      "outputs": []
    },
    {
      "cell_type": "code",
      "source": [
        "vocabulary_with_counter=Counter(chain.from_iterable(data_tok))\n",
        "\n",
        "word_count_dict=dict()\n",
        "for word, counter in vocabulary_with_counter.items():\n",
        "  if counter>=min_count:\n",
        "    word_count_dict[word]=counter\n",
        "\n",
        "vocabulary =set(word_count_dict.keys())\n",
        "del vocabulary_with_counter"
      ],
      "metadata": {
        "id": "5KYxOii36STp"
      },
      "execution_count": null,
      "outputs": []
    },
    {
      "cell_type": "code",
      "source": [
        "word_to_index = {word: index for index, word in enumerate(vocabulary)}\n",
        "index_to_word = {index: word for word, index in word_to_index.items()}"
      ],
      "metadata": {
        "id": "llagGfKoioaC"
      },
      "execution_count": null,
      "outputs": []
    },
    {
      "cell_type": "code",
      "source": [
        "context_pairs=[]\n",
        "\n",
        "for text in data_tok:\n",
        "  for i, central_word in enumerate(text):\n",
        "    context_indicec=range(\n",
        "        max(0,i-window_radius), min(i+window_radius,len(text))\n",
        "    )\n",
        "    for j in context_indicec:\n",
        "      if j!=i:\n",
        "        context_word=text[j]\n",
        "        if central_word in vocabulary and context_word in vocabulary:\n",
        "          context_pairs.append(\n",
        "              (word_to_index[central_word],word_to_index[context_word])\n",
        "          )\n",
        "print (len(context_pairs))"
      ],
      "metadata": {
        "colab": {
          "base_uri": "https://localhost:8080/"
        },
        "id": "Ulc0OduEj-F2",
        "outputId": "79a72067-e33f-41f3-8958-517ab7539c3c"
      },
      "execution_count": null,
      "outputs": [
        {
          "output_type": "stream",
          "name": "stdout",
          "text": [
            "40220313\n"
          ]
        }
      ]
    },
    {
      "cell_type": "markdown",
      "source": [
        "SUBSAMPLING"
      ],
      "metadata": {
        "id": "yEeQ5zQumh6S"
      }
    },
    {
      "cell_type": "code",
      "source": [
        "def subsample_frequent_words(word_count_dict, threshold=1e-5):\n",
        "    \"\"\"\n",
        "    Calculates the subsampling probabilities for words based on their frequencies.\n",
        "\n",
        "    This function is used to determine the probability of keeping a word in the dataset\n",
        "    when subsampling frequent words. The method used is inspired by the subsampling approach\n",
        "    in Word2Vec, where each word's frequency affects its probability of being kept.\n",
        "\n",
        "    Parameters:\n",
        "    - word_count_dict (dict): A dictionary where keys are words and values are the counts of those words.\n",
        "    - threshold (float, optional): A threshold parameter used to adjust the frequency of word subsampling.\n",
        "                                   Defaults to 1e-5.\n",
        "\n",
        "    Returns:\n",
        "    - dict: A dictionary where keys are words and values are the probabilities of keeping each word.\n",
        "\n",
        "    Example:\n",
        "    >>> word_counts = {'the': 5000, 'is': 1000, 'apple': 50}\n",
        "    >>> subsample_frequent_words(word_counts)\n",
        "    {'the': 0.028, 'is': 0.223, 'apple': 1.0}\n",
        "    \"\"\"\n",
        "    s=0\n",
        "    for word in word_count_dict.keys():\n",
        "      s+=word_count_dict[word]\n",
        "\n",
        "    ### YOUR CODE HERE\n",
        "    keep_prob_dict = {\n",
        "        word: np.sqrt(threshold/(word_count_dict[word]/s)) for word in word_count_dict.keys()\n",
        "    }  # THIS IS A PLACEHOLDER!\n",
        "    return keep_prob_dict"
      ],
      "metadata": {
        "id": "fGo2Rx3kmcCL"
      },
      "execution_count": null,
      "outputs": []
    },
    {
      "cell_type": "markdown",
      "source": [
        "Negative sampling"
      ],
      "metadata": {
        "id": "uAiok02fuw_-"
      }
    },
    {
      "cell_type": "code",
      "source": [
        "def get_negative_sampling_prob(word_count_dict):\n",
        "    \"\"\"\n",
        "    Calculates the negative sampling probabilities for words based on their frequencies.\n",
        "\n",
        "    This function adjusts the frequency of each word raised to the power of 0.75, which is\n",
        "    commonly used in algorithms like Word2Vec to moderate the influence of very frequent words.\n",
        "    It then normalizes these adjusted frequencies to ensure they sum to 1, forming a probability\n",
        "    distribution used for negative sampling.\n",
        "\n",
        "    Parameters:\n",
        "    - word_count_dict (dict): A dictionary where keys are words and values are the counts of those words.\n",
        "\n",
        "    Returns:\n",
        "    - dict: A dictionary where keys are words and values are the probabilities of selecting each word\n",
        "            for negative sampling.\n",
        "\n",
        "    Example:\n",
        "    >>> word_counts = {'the': 5000, 'is': 1000, 'apple': 50}\n",
        "    >>> get_negative_sampling_prob(word_counts)\n",
        "    {'the': 0.298, 'is': 0.160, 'apple': 0.042}\n",
        "    \"\"\"\n",
        "    Z=0\n",
        "    for word in word_count_dict.keys():\n",
        "      Z+=word_count_dict[word]**(3/4)\n",
        "\n",
        "    ### YOUR CODE HERE\n",
        "    negative_sampling_prob_dict = {\n",
        "        word: word_count_dict[word]**(3/4)/Z for word in word_count_dict.keys()\n",
        "    }  # THIS IS A PLACEHOLDER!\n",
        "    return negative_sampling_prob_dict"
      ],
      "metadata": {
        "id": "BcoG0YaEud60"
      },
      "execution_count": null,
      "outputs": []
    },
    {
      "cell_type": "markdown",
      "source": [
        "Проверки"
      ],
      "metadata": {
        "id": "PbvqlLLirIHR"
      }
    },
    {
      "cell_type": "code",
      "source": [
        "keep_prob_dict = subsample_frequent_words(word_count_dict)\n",
        "assert keep_prob_dict.keys() == word_count_dict.keys()"
      ],
      "metadata": {
        "id": "IDFiIIszu8U7"
      },
      "execution_count": null,
      "outputs": []
    },
    {
      "cell_type": "code",
      "source": [
        "negative_sampling_prob_dict = get_negative_sampling_prob(word_count_dict)\n",
        "assert negative_sampling_prob_dict.keys() == negative_sampling_prob_dict.keys()\n",
        "assert np.allclose(sum(negative_sampling_prob_dict.values()), 1)"
      ],
      "metadata": {
        "id": "Bg64QqJhwg8q"
      },
      "execution_count": null,
      "outputs": []
    },
    {
      "cell_type": "code",
      "source": [
        "keep_prob_array = np.array(\n",
        "    [keep_prob_dict[index_to_word[idx]] for idx in range(len(word_to_index))]\n",
        ")\n",
        "negative_sampling_prob_array = np.array(\n",
        "    [\n",
        "        negative_sampling_prob_dict[index_to_word[idx]]\n",
        "        for idx in range(len(word_to_index))\n",
        "    ]\n",
        ")"
      ],
      "metadata": {
        "id": "ZoNDb0DdwlIh"
      },
      "execution_count": null,
      "outputs": []
    },
    {
      "cell_type": "code",
      "source": [
        "def generate_batch_with_neg_samples(\n",
        "    context_pairs,\n",
        "    batch_size,\n",
        "    keep_prob_array,\n",
        "    word_to_index,\n",
        "    num_negatives,\n",
        "    negative_sampling_prob_array,\n",
        "):\n",
        "  batch = []\n",
        "  neg_samples = []\n",
        "\n",
        "  while len(batch) < batch_size:\n",
        "    center, context =random.choice(context_pairs)\n",
        "    if random.random()<keep_prob_array[center]:\n",
        "      batch.append((center, context))\n",
        "      neg_sample=np.random.choice(\n",
        "          range(len(negative_sampling_prob_array)),\n",
        "          size=num_negatives,\n",
        "          p=negative_sampling_prob_array,\n",
        "                                  )\n",
        "      neg_samples.append(neg_sample)\n",
        "  batch=np.array(batch)\n",
        "  neg_samples = np.vstack(neg_samples)\n",
        "  return batch, neg_samples"
      ],
      "metadata": {
        "id": "epGW6fy-wpMv"
      },
      "execution_count": null,
      "outputs": []
    },
    {
      "cell_type": "code",
      "source": [
        "batch_size=4\n",
        "num_negatives=15\n",
        "batch, neg_samples=generate_batch_with_neg_samples(\n",
        "    context_pairs,\n",
        "    batch_size,\n",
        "    keep_prob_array,\n",
        "    word_to_index,\n",
        "    num_negatives,\n",
        "    negative_sampling_prob_array,\n",
        ")"
      ],
      "metadata": {
        "id": "IV5Z7-Od0-nG"
      },
      "execution_count": null,
      "outputs": []
    },
    {
      "cell_type": "code",
      "source": [
        "print(batch.shape)"
      ],
      "metadata": {
        "colab": {
          "base_uri": "https://localhost:8080/"
        },
        "id": "56w8126yckWs",
        "outputId": "10dbb14f-8b4f-474b-b4e7-f63bd1b75b02"
      },
      "execution_count": null,
      "outputs": [
        {
          "output_type": "stream",
          "name": "stdout",
          "text": [
            "(4, 2)\n"
          ]
        }
      ]
    },
    {
      "cell_type": "code",
      "source": [
        "class SkipGramModelWithNegSampling(nn.Module):\n",
        "    def __init__(self, vocab_size, embedding_dim):\n",
        "        super().__init__()\n",
        "        self.center_embeddings = nn.Embedding(vocab_size, embedding_dim)\n",
        "        self.context_embeddings = nn.Embedding(vocab_size, embedding_dim)\n",
        "\n",
        "    def forward(self, center_words, pos_context_words, neg_context_words):\n",
        "        # center_words: [B], pos_context_words: [B], neg_context_words: [B, K]\n",
        "        center = self.center_embeddings(center_words)                 # [B, D]\n",
        "        pos    = self.context_embeddings(pos_context_words)           # [B, D]\n",
        "        neg    = self.context_embeddings(neg_context_words)           # [B, K, D]\n",
        "\n",
        "        pos_logits = (center * pos).sum(dim=1)                        # [B]\n",
        "        # батчевый скалярный продукт для каждого из K негативов\n",
        "        neg_logits = torch.bmm(neg, center.unsqueeze(2)).squeeze(2)   # [B, K]\n",
        "        return pos_logits, neg_logits"
      ],
      "metadata": {
        "id": "54zAbtbrc4gD"
      },
      "execution_count": null,
      "outputs": []
    },
    {
      "cell_type": "code",
      "source": [
        "device = torch.device(\"cpu\")"
      ],
      "metadata": {
        "id": "P42QbTrr5G0j"
      },
      "execution_count": null,
      "outputs": []
    },
    {
      "cell_type": "code",
      "source": [
        "vocab_size = len(word_to_index)\n",
        "print(vocab_size)\n",
        "embedding_dim = 32\n",
        "num_negatives = 15\n",
        "\n",
        "model = SkipGramModelWithNegSampling(vocab_size, embedding_dim).to(device)\n",
        "optimizer = optim.Adam(model.parameters(), lr=0.05)\n",
        "lr_scheduler = ReduceLROnPlateau(optimizer, factor=0.5, patience=150)\n",
        "criterion = nn.BCEWithLogitsLoss()"
      ],
      "metadata": {
        "colab": {
          "base_uri": "https://localhost:8080/"
        },
        "id": "q7WepDdM4gbh",
        "outputId": "e6e7b706-bb1b-4df1-fe5c-a264f362f002"
      },
      "execution_count": null,
      "outputs": [
        {
          "output_type": "stream",
          "name": "stdout",
          "text": [
            "28546\n"
          ]
        }
      ]
    },
    {
      "cell_type": "markdown",
      "source": [
        "проверки"
      ],
      "metadata": {
        "id": "uThamguosXLM"
      }
    },
    {
      "cell_type": "code",
      "source": [
        "params_counter = 0\n",
        "for weights in model.parameters():\n",
        "    params_counter += weights.shape.numel()\n",
        "print(params_counter, len(word_to_index) * embedding_dim * 2)\n",
        "assert params_counter == len(word_to_index) * embedding_dim * 2"
      ],
      "metadata": {
        "colab": {
          "base_uri": "https://localhost:8080/"
        },
        "id": "q3G8myrX5D0T",
        "outputId": "36ca0ef4-e54d-4f50-bf45-f72afa6be380"
      },
      "execution_count": null,
      "outputs": [
        {
          "output_type": "stream",
          "name": "stdout",
          "text": [
            "1826944 1826944\n"
          ]
        }
      ]
    },
    {
      "cell_type": "code",
      "source": [
        "def train_skipgram_with_neg_sampling(\n",
        "    model,\n",
        "    context_pairs,\n",
        "    keep_prob_array,\n",
        "    word_to_index,\n",
        "    batch_size,\n",
        "    num_negatives,\n",
        "    negative_sampling_prob_array,\n",
        "    steps,\n",
        "    optimizer=optimizer,\n",
        "    lr_scheduler=lr_scheduler,\n",
        "    device=device,\n",
        "):\n",
        "    pos_labels = torch.ones(batch_size).to(device)\n",
        "    neg_labels = torch.zeros(batch_size, num_negatives).to(device)\n",
        "    loss_history = []\n",
        "    for step in tqdma(range(steps)):\n",
        "        batch, neg_samples = generate_batch_with_neg_samples(\n",
        "            context_pairs,\n",
        "            batch_size,\n",
        "            keep_prob_array,\n",
        "            word_to_index,\n",
        "            num_negatives,\n",
        "            negative_sampling_prob_array,\n",
        "        )\n",
        "        center_words = torch.tensor([pair[0] for pair in batch], dtype=torch.long).to(\n",
        "            device\n",
        "        )\n",
        "        pos_context_words = torch.tensor(\n",
        "            [pair[1] for pair in batch], dtype=torch.long\n",
        "        ).to(device)\n",
        "        neg_context_words = torch.tensor(neg_samples, dtype=torch.long).to(device)\n",
        "\n",
        "        optimizer.zero_grad()\n",
        "        pos_scores, neg_scores = model(\n",
        "            center_words, pos_context_words, neg_context_words\n",
        "        )\n",
        "\n",
        "        loss_pos = criterion(pos_scores, pos_labels)\n",
        "        loss_neg = criterion(neg_scores, neg_labels)\n",
        "\n",
        "        loss = loss_pos + loss_neg\n",
        "        loss.backward()\n",
        "        optimizer.step()\n",
        "\n",
        "        loss_history.append(loss.item())\n",
        "        lr_scheduler.step(loss_history[-1])\n",
        "\n",
        "        if step % 100 == 0:\n",
        "            print(\n",
        "                f\"Step {step}, Loss: {np.mean(loss_history[-100:])}, learning rate: {lr_scheduler._last_lr}\"\n",
        "            )"
      ],
      "metadata": {
        "id": "rD5vgDWO54iA"
      },
      "execution_count": null,
      "outputs": []
    },
    {
      "cell_type": "code",
      "source": [
        "steps=3001\n",
        "batch_size=512\n",
        "train_skipgram_with_neg_sampling(\n",
        "    model,\n",
        "    context_pairs,\n",
        "    keep_prob_array,\n",
        "    word_to_index,\n",
        "    batch_size,\n",
        "    num_negatives,\n",
        "    negative_sampling_prob_array,\n",
        "    steps\n",
        ")"
      ],
      "metadata": {
        "colab": {
          "base_uri": "https://localhost:8080/",
          "height": 614,
          "referenced_widgets": [
            "dbdcd998d29a4c3ebf1b00ea2cc97d56",
            "ddad06e149504adebc37acd560ee5536",
            "567259dc7f774aad81d19b948ebffefd",
            "b616dd9cd402453abfa6df4520975f51",
            "7956b21b914f49689ba397b18afc00b9",
            "5c7fd5082c094810a110ce7d163b9be0",
            "9da28925024743bbb1c258301c25e53d",
            "30174952f8ae4e799b53717afdeec65f",
            "290c0655e9654b6aaca76d1e16d2af1e",
            "264fc0019ee946f1a47270db6e5c3ca8",
            "b4d6cb453ffe4c1eb7eff21e9a9645d3"
          ]
        },
        "id": "Aevjytv7Me9s",
        "outputId": "421b3beb-02fd-464e-ad45-68a49adb0244"
      },
      "execution_count": 25,
      "outputs": [
        {
          "data": {
            "application/vnd.jupyter.widget-view+json": {
              "model_id": "dbdcd998d29a4c3ebf1b00ea2cc97d56",
              "version_major": 2,
              "version_minor": 0
            },
            "text/plain": [
              "  0%|          | 0/3001 [00:00<?, ?it/s]"
            ]
          },
          "metadata": {},
          "output_type": "display_data"
        },
        {
          "output_type": "stream",
          "name": "stdout",
          "text": [
            "Step 0, Loss: 4.714033603668213, learning rate: [0.05]\n",
            "Step 100, Loss: 3.5123893809318543, learning rate: [0.05]\n",
            "Step 200, Loss: 2.5590882992744444, learning rate: [0.05]\n",
            "Step 300, Loss: 2.283320007324219, learning rate: [0.05]\n",
            "Step 400, Loss: 2.1210634875297547, learning rate: [0.05]\n",
            "Step 500, Loss: 2.0456932640075682, learning rate: [0.05]\n",
            "Step 600, Loss: 2.037844440937042, learning rate: [0.05]\n",
            "Step 700, Loss: 2.0522425162792204, learning rate: [0.05]\n",
            "Step 800, Loss: 2.080521545410156, learning rate: [0.05]\n",
            "Step 900, Loss: 2.081893130540848, learning rate: [0.025]\n",
            "Step 1000, Loss: 1.970003101825714, learning rate: [0.025]\n",
            "Step 1100, Loss: 1.8710433161258697, learning rate: [0.025]\n",
            "Step 1200, Loss: 1.8517334473133087, learning rate: [0.025]\n",
            "Step 1300, Loss: 1.8062978196144104, learning rate: [0.025]\n",
            "Step 1400, Loss: 1.7765582156181337, learning rate: [0.025]\n",
            "Step 1500, Loss: 1.7563161444664002, learning rate: [0.025]\n",
            "Step 1600, Loss: 1.719922926425934, learning rate: [0.0125]\n",
            "Step 1700, Loss: 1.6858388471603394, learning rate: [0.0125]\n",
            "Step 1800, Loss: 1.6452150893211366, learning rate: [0.0125]\n",
            "Step 1900, Loss: 1.612103899717331, learning rate: [0.0125]\n",
            "Step 2000, Loss: 1.597041006088257, learning rate: [0.0125]\n",
            "Step 2100, Loss: 1.5837524580955504, learning rate: [0.00625]\n",
            "Step 2200, Loss: 1.5622623646259308, learning rate: [0.00625]\n",
            "Step 2300, Loss: 1.5443040227890015, learning rate: [0.00625]\n",
            "Step 2400, Loss: 1.52276913523674, learning rate: [0.003125]\n",
            "Step 2500, Loss: 1.5197638881206512, learning rate: [0.003125]\n",
            "Step 2600, Loss: 1.5090347969532012, learning rate: [0.003125]\n",
            "Step 2700, Loss: 1.509823544025421, learning rate: [0.0015625]\n",
            "Step 2800, Loss: 1.503483920097351, learning rate: [0.0015625]\n",
            "Step 2900, Loss: 1.4873247027397156, learning rate: [0.0015625]\n",
            "Step 3000, Loss: 1.4900628447532653, learning rate: [0.0015625]\n"
          ]
        }
      ]
    },
    {
      "cell_type": "code",
      "source": [
        "_model_parameters = model.parameters()\n",
        "embedding_matrix_center = next(\n",
        "    _model_parameters\n",
        ").detach()  # Assuming that first matrix was for central word\n",
        "embedding_matrix_context = next(\n",
        "    _model_parameters\n",
        ").detach()  # Assuming that second matrix was for context word"
      ],
      "metadata": {
        "id": "G8yYvpuqNp7K"
      },
      "execution_count": 30,
      "outputs": []
    },
    {
      "cell_type": "code",
      "source": [
        "def get_word_vector(word, embedding_matrix, word_to_index=word_to_index):\n",
        "    return embedding_matrix[word_to_index[word]]"
      ],
      "metadata": {
        "id": "Vn_RC5BJyN9P"
      },
      "execution_count": 31,
      "outputs": []
    },
    {
      "cell_type": "markdown",
      "source": [
        "ещё проверки (на то что модель обучилась)"
      ],
      "metadata": {
        "id": "bOvZtNI4r4wp"
      }
    },
    {
      "cell_type": "code",
      "source": [
        "similarity_1 = F.cosine_similarity(\n",
        "    get_word_vector(\"windows\", embedding_matrix_context)[None, :],\n",
        "    get_word_vector(\"laptop\", embedding_matrix_context)[None, :],\n",
        ")\n",
        "similarity_2 = F.cosine_similarity(\n",
        "    get_word_vector(\"windows\", embedding_matrix_context)[None, :],\n",
        "    get_word_vector(\"macbook\", embedding_matrix_context)[None, :],\n",
        ")\n",
        "print(similarity_1,similarity_2)\n",
        "assert similarity_1 > similarity_2"
      ],
      "metadata": {
        "id": "ZpHtivkNySkO",
        "colab": {
          "base_uri": "https://localhost:8080/"
        },
        "outputId": "a2b158a6-aed7-4fb5-f457-08f3da5548ff"
      },
      "execution_count": 33,
      "outputs": [
        {
          "output_type": "stream",
          "name": "stdout",
          "text": [
            "tensor([0.6512]) tensor([0.2809])\n"
          ]
        }
      ]
    },
    {
      "cell_type": "code",
      "source": [
        "def find_nearest(word, embedding_matrix, word_to_index=word_to_index, k=10):\n",
        "    word_vector = get_word_vector(word, embedding_matrix)[None, :]\n",
        "    dists = F.cosine_similarity(embedding_matrix, word_vector)\n",
        "    index_sorted = torch.argsort(dists)\n",
        "    top_k = index_sorted[-k:]\n",
        "    return [(index_to_word[x], dists[x].item()) for x in top_k.numpy()]"
      ],
      "metadata": {
        "id": "jFsbJny0yUB0"
      },
      "execution_count": 35,
      "outputs": []
    },
    {
      "cell_type": "code",
      "source": [
        "find_nearest(\"python\", embedding_matrix_context, k=10)"
      ],
      "metadata": {
        "id": "SBDcKjGWyg01",
        "colab": {
          "base_uri": "https://localhost:8080/"
        },
        "outputId": "53961b2c-2baf-47eb-c3c7-9dd298fa2def"
      },
      "execution_count": 36,
      "outputs": [
        {
          "output_type": "execute_result",
          "data": {
            "text/plain": [
              "[('burritos', 0.6027625203132629),\n",
              " ('designs', 0.6185270547866821),\n",
              " ('sdn', 0.6221513152122498),\n",
              " ('enders', 0.6270361542701721),\n",
              " ('java', 0.6276894211769104),\n",
              " ('dehradun', 0.6311379671096802),\n",
              " ('language', 0.65376877784729),\n",
              " ('reintroduced', 0.6819435358047485),\n",
              " ('assurance', 0.6846585869789124),\n",
              " ('python', 1.0000001192092896)]"
            ]
          },
          "metadata": {},
          "execution_count": 36
        }
      ]
    },
    {
      "cell_type": "markdown",
      "source": [
        "Похоже на правду"
      ],
      "metadata": {
        "id": "S8mYL5B7sDBj"
      }
    },
    {
      "cell_type": "code",
      "source": [
        "top_k = 5000\n",
        "_top_words = sorted([x for x in word_count_dict.items()], key=lambda x: x[1])[\n",
        "    -top_k - 100 : -100\n",
        "]  # ignoring 100 most frequent words\n",
        "top_words = [x[0] for x in _top_words]\n",
        "del _top_words"
      ],
      "metadata": {
        "id": "iw1P31HfyiI3"
      },
      "execution_count": 37,
      "outputs": []
    },
    {
      "cell_type": "code",
      "source": [
        "word_embeddings = torch.cat(\n",
        "    [embedding_matrix_context[word_to_index[x]][None, :] for x in top_words], dim=0\n",
        ").numpy()"
      ],
      "metadata": {
        "id": "ZeJspBtfymBZ"
      },
      "execution_count": 38,
      "outputs": []
    },
    {
      "cell_type": "code",
      "source": [
        "import bokeh.models as bm\n",
        "import bokeh.plotting as pl\n",
        "from bokeh.io import output_notebook\n",
        "\n",
        "output_notebook()\n",
        "\n",
        "\n",
        "def draw_vectors(\n",
        "    x,\n",
        "    y,\n",
        "    radius=10,\n",
        "    alpha=0.25,\n",
        "    color=\"blue\",\n",
        "    width=600,\n",
        "    height=400,\n",
        "    show=True,\n",
        "    **kwargs,\n",
        "):\n",
        "    \"\"\"draws an interactive plot for data points with auxilirary info on hover\"\"\"\n",
        "    if isinstance(color, str):\n",
        "        color = [color] * len(x)\n",
        "    data_source = bm.ColumnDataSource({\"x\": x, \"y\": y, \"color\": color, **kwargs})\n",
        "\n",
        "    fig = pl.figure(active_scroll=\"wheel_zoom\", width=width, height=height)\n",
        "    fig.scatter(\"x\", \"y\", size=radius, color=\"color\", alpha=alpha, source=data_source)\n",
        "\n",
        "    fig.add_tools(bm.HoverTool(tooltips=[(key, \"@\" + key) for key in kwargs.keys()]))\n",
        "    if show:\n",
        "        pl.show(fig)\n",
        "    return fig"
      ],
      "metadata": {
        "id": "uZss5FEAynNT"
      },
      "execution_count": 39,
      "outputs": []
    },
    {
      "cell_type": "code",
      "source": [
        "embedding = umap.UMAP(n_neighbors=5).fit_transform(word_embeddings)"
      ],
      "metadata": {
        "id": "VrOGruNbypn4"
      },
      "execution_count": 40,
      "outputs": []
    },
    {
      "cell_type": "code",
      "source": [
        "draw_vectors(embedding[:, 0], embedding[:, 1], token=top_words)"
      ],
      "metadata": {
        "id": "7pziNg8pyrss",
        "colab": {
          "base_uri": "https://localhost:8080/",
          "height": 434
        },
        "outputId": "64f64721-45c6-4ffe-816d-4ec95286bccd"
      },
      "execution_count": 41,
      "outputs": [
        {
          "output_type": "display_data",
          "data": {
            "application/javascript": [
              "'use strict';\n",
              "(function(root) {\n",
              "  function now() {\n",
              "    return new Date();\n",
              "  }\n",
              "\n",
              "  const force = true;\n",
              "\n",
              "  if (typeof root._bokeh_onload_callbacks === \"undefined\" || force === true) {\n",
              "    root._bokeh_onload_callbacks = [];\n",
              "    root._bokeh_is_loading = undefined;\n",
              "  }\n",
              "\n",
              "const JS_MIME_TYPE = 'application/javascript';\n",
              "  const HTML_MIME_TYPE = 'text/html';\n",
              "  const EXEC_MIME_TYPE = 'application/vnd.bokehjs_exec.v0+json';\n",
              "  const CLASS_NAME = 'output_bokeh rendered_html';\n",
              "\n",
              "  /**\n",
              "   * Render data to the DOM node\n",
              "   */\n",
              "  function render(props, node) {\n",
              "    const script = document.createElement(\"script\");\n",
              "    node.appendChild(script);\n",
              "  }\n",
              "\n",
              "  /**\n",
              "   * Handle when an output is cleared or removed\n",
              "   */\n",
              "  function handleClearOutput(event, handle) {\n",
              "    function drop(id) {\n",
              "      const view = Bokeh.index.get_by_id(id)\n",
              "      if (view != null) {\n",
              "        view.model.document.clear()\n",
              "        Bokeh.index.delete(view)\n",
              "      }\n",
              "    }\n",
              "\n",
              "    const cell = handle.cell;\n",
              "\n",
              "    const id = cell.output_area._bokeh_element_id;\n",
              "    const server_id = cell.output_area._bokeh_server_id;\n",
              "\n",
              "    // Clean up Bokeh references\n",
              "    if (id != null) {\n",
              "      drop(id)\n",
              "    }\n",
              "\n",
              "    if (server_id !== undefined) {\n",
              "      // Clean up Bokeh references\n",
              "      const cmd_clean = \"from bokeh.io.state import curstate; print(curstate().uuid_to_server['\" + server_id + \"'].get_sessions()[0].document.roots[0]._id)\";\n",
              "      cell.notebook.kernel.execute(cmd_clean, {\n",
              "        iopub: {\n",
              "          output: function(msg) {\n",
              "            const id = msg.content.text.trim()\n",
              "            drop(id)\n",
              "          }\n",
              "        }\n",
              "      });\n",
              "      // Destroy server and session\n",
              "      const cmd_destroy = \"import bokeh.io.notebook as ion; ion.destroy_server('\" + server_id + \"')\";\n",
              "      cell.notebook.kernel.execute(cmd_destroy);\n",
              "    }\n",
              "  }\n",
              "\n",
              "  /**\n",
              "   * Handle when a new output is added\n",
              "   */\n",
              "  function handleAddOutput(event, handle) {\n",
              "    const output_area = handle.output_area;\n",
              "    const output = handle.output;\n",
              "\n",
              "    // limit handleAddOutput to display_data with EXEC_MIME_TYPE content only\n",
              "    if ((output.output_type != \"display_data\") || (!Object.prototype.hasOwnProperty.call(output.data, EXEC_MIME_TYPE))) {\n",
              "      return\n",
              "    }\n",
              "\n",
              "    const toinsert = output_area.element.find(\".\" + CLASS_NAME.split(' ')[0]);\n",
              "\n",
              "    if (output.metadata[EXEC_MIME_TYPE][\"id\"] !== undefined) {\n",
              "      toinsert[toinsert.length - 1].firstChild.textContent = output.data[JS_MIME_TYPE];\n",
              "      // store reference to embed id on output_area\n",
              "      output_area._bokeh_element_id = output.metadata[EXEC_MIME_TYPE][\"id\"];\n",
              "    }\n",
              "    if (output.metadata[EXEC_MIME_TYPE][\"server_id\"] !== undefined) {\n",
              "      const bk_div = document.createElement(\"div\");\n",
              "      bk_div.innerHTML = output.data[HTML_MIME_TYPE];\n",
              "      const script_attrs = bk_div.children[0].attributes;\n",
              "      for (let i = 0; i < script_attrs.length; i++) {\n",
              "        toinsert[toinsert.length - 1].firstChild.setAttribute(script_attrs[i].name, script_attrs[i].value);\n",
              "        toinsert[toinsert.length - 1].firstChild.textContent = bk_div.children[0].textContent\n",
              "      }\n",
              "      // store reference to server id on output_area\n",
              "      output_area._bokeh_server_id = output.metadata[EXEC_MIME_TYPE][\"server_id\"];\n",
              "    }\n",
              "  }\n",
              "\n",
              "  function register_renderer(events, OutputArea) {\n",
              "\n",
              "    function append_mime(data, metadata, element) {\n",
              "      // create a DOM node to render to\n",
              "      const toinsert = this.create_output_subarea(\n",
              "        metadata,\n",
              "        CLASS_NAME,\n",
              "        EXEC_MIME_TYPE\n",
              "      );\n",
              "      this.keyboard_manager.register_events(toinsert);\n",
              "      // Render to node\n",
              "      const props = {data: data, metadata: metadata[EXEC_MIME_TYPE]};\n",
              "      render(props, toinsert[toinsert.length - 1]);\n",
              "      element.append(toinsert);\n",
              "      return toinsert\n",
              "    }\n",
              "\n",
              "    /* Handle when an output is cleared or removed */\n",
              "    events.on('clear_output.CodeCell', handleClearOutput);\n",
              "    events.on('delete.Cell', handleClearOutput);\n",
              "\n",
              "    /* Handle when a new output is added */\n",
              "    events.on('output_added.OutputArea', handleAddOutput);\n",
              "\n",
              "    /**\n",
              "     * Register the mime type and append_mime function with output_area\n",
              "     */\n",
              "    OutputArea.prototype.register_mime_type(EXEC_MIME_TYPE, append_mime, {\n",
              "      /* Is output safe? */\n",
              "      safe: true,\n",
              "      /* Index of renderer in `output_area.display_order` */\n",
              "      index: 0\n",
              "    });\n",
              "  }\n",
              "\n",
              "  // register the mime type if in Jupyter Notebook environment and previously unregistered\n",
              "  if (root.Jupyter !== undefined) {\n",
              "    const events = require('base/js/events');\n",
              "    const OutputArea = require('notebook/js/outputarea').OutputArea;\n",
              "\n",
              "    if (OutputArea.prototype.mime_types().indexOf(EXEC_MIME_TYPE) == -1) {\n",
              "      register_renderer(events, OutputArea);\n",
              "    }\n",
              "  }\n",
              "  if (typeof (root._bokeh_timeout) === \"undefined\" || force === true) {\n",
              "    root._bokeh_timeout = Date.now() + 5000;\n",
              "    root._bokeh_failed_load = false;\n",
              "  }\n",
              "\n",
              "  const NB_LOAD_WARNING = {'data': {'text/html':\n",
              "     \"<div style='background-color: #fdd'>\\n\"+\n",
              "     \"<p>\\n\"+\n",
              "     \"BokehJS does not appear to have successfully loaded. If loading BokehJS from CDN, this \\n\"+\n",
              "     \"may be due to a slow or bad network connection. Possible fixes:\\n\"+\n",
              "     \"</p>\\n\"+\n",
              "     \"<ul>\\n\"+\n",
              "     \"<li>re-rerun `output_notebook()` to attempt to load from CDN again, or</li>\\n\"+\n",
              "     \"<li>use INLINE resources instead, as so:</li>\\n\"+\n",
              "     \"</ul>\\n\"+\n",
              "     \"<code>\\n\"+\n",
              "     \"from bokeh.resources import INLINE\\n\"+\n",
              "     \"output_notebook(resources=INLINE)\\n\"+\n",
              "     \"</code>\\n\"+\n",
              "     \"</div>\"}};\n",
              "\n",
              "  function display_loaded(error = null) {\n",
              "    const el = document.getElementById(null);\n",
              "    if (el != null) {\n",
              "      const html = (() => {\n",
              "        if (typeof root.Bokeh === \"undefined\") {\n",
              "          if (error == null) {\n",
              "            return \"BokehJS is loading ...\";\n",
              "          } else {\n",
              "            return \"BokehJS failed to load.\";\n",
              "          }\n",
              "        } else {\n",
              "          const prefix = `BokehJS ${root.Bokeh.version}`;\n",
              "          if (error == null) {\n",
              "            return `${prefix} successfully loaded.`;\n",
              "          } else {\n",
              "            return `${prefix} <b>encountered errors</b> while loading and may not function as expected.`;\n",
              "          }\n",
              "        }\n",
              "      })();\n",
              "      el.innerHTML = html;\n",
              "\n",
              "      if (error != null) {\n",
              "        const wrapper = document.createElement(\"div\");\n",
              "        wrapper.style.overflow = \"auto\";\n",
              "        wrapper.style.height = \"5em\";\n",
              "        wrapper.style.resize = \"vertical\";\n",
              "        const content = document.createElement(\"div\");\n",
              "        content.style.fontFamily = \"monospace\";\n",
              "        content.style.whiteSpace = \"pre-wrap\";\n",
              "        content.style.backgroundColor = \"rgb(255, 221, 221)\";\n",
              "        content.textContent = error.stack ?? error.toString();\n",
              "        wrapper.append(content);\n",
              "        el.append(wrapper);\n",
              "      }\n",
              "    } else if (Date.now() < root._bokeh_timeout) {\n",
              "      setTimeout(() => display_loaded(error), 100);\n",
              "    }\n",
              "  }\n",
              "\n",
              "  function run_callbacks() {\n",
              "    try {\n",
              "      root._bokeh_onload_callbacks.forEach(function(callback) {\n",
              "        if (callback != null)\n",
              "          callback();\n",
              "      });\n",
              "    } finally {\n",
              "      delete root._bokeh_onload_callbacks\n",
              "    }\n",
              "    console.debug(\"Bokeh: all callbacks have finished\");\n",
              "  }\n",
              "\n",
              "  function load_libs(css_urls, js_urls, callback) {\n",
              "    if (css_urls == null) css_urls = [];\n",
              "    if (js_urls == null) js_urls = [];\n",
              "\n",
              "    root._bokeh_onload_callbacks.push(callback);\n",
              "    if (root._bokeh_is_loading > 0) {\n",
              "      console.debug(\"Bokeh: BokehJS is being loaded, scheduling callback at\", now());\n",
              "      return null;\n",
              "    }\n",
              "    if (js_urls == null || js_urls.length === 0) {\n",
              "      run_callbacks();\n",
              "      return null;\n",
              "    }\n",
              "    console.debug(\"Bokeh: BokehJS not loaded, scheduling load and callback at\", now());\n",
              "    root._bokeh_is_loading = css_urls.length + js_urls.length;\n",
              "\n",
              "    function on_load() {\n",
              "      root._bokeh_is_loading--;\n",
              "      if (root._bokeh_is_loading === 0) {\n",
              "        console.debug(\"Bokeh: all BokehJS libraries/stylesheets loaded\");\n",
              "        run_callbacks()\n",
              "      }\n",
              "    }\n",
              "\n",
              "    function on_error(url) {\n",
              "      console.error(\"failed to load \" + url);\n",
              "    }\n",
              "\n",
              "    for (let i = 0; i < css_urls.length; i++) {\n",
              "      const url = css_urls[i];\n",
              "      const element = document.createElement(\"link\");\n",
              "      element.onload = on_load;\n",
              "      element.onerror = on_error.bind(null, url);\n",
              "      element.rel = \"stylesheet\";\n",
              "      element.type = \"text/css\";\n",
              "      element.href = url;\n",
              "      console.debug(\"Bokeh: injecting link tag for BokehJS stylesheet: \", url);\n",
              "      document.body.appendChild(element);\n",
              "    }\n",
              "\n",
              "    for (let i = 0; i < js_urls.length; i++) {\n",
              "      const url = js_urls[i];\n",
              "      const element = document.createElement('script');\n",
              "      element.onload = on_load;\n",
              "      element.onerror = on_error.bind(null, url);\n",
              "      element.async = false;\n",
              "      element.src = url;\n",
              "      console.debug(\"Bokeh: injecting script tag for BokehJS library: \", url);\n",
              "      document.head.appendChild(element);\n",
              "    }\n",
              "  };\n",
              "\n",
              "  function inject_raw_css(css) {\n",
              "    const element = document.createElement(\"style\");\n",
              "    element.appendChild(document.createTextNode(css));\n",
              "    document.body.appendChild(element);\n",
              "  }\n",
              "\n",
              "  const js_urls = [\"https://cdn.bokeh.org/bokeh/release/bokeh-3.7.3.min.js\", \"https://cdn.bokeh.org/bokeh/release/bokeh-gl-3.7.3.min.js\", \"https://cdn.bokeh.org/bokeh/release/bokeh-widgets-3.7.3.min.js\", \"https://cdn.bokeh.org/bokeh/release/bokeh-tables-3.7.3.min.js\", \"https://cdn.bokeh.org/bokeh/release/bokeh-mathjax-3.7.3.min.js\"];\n",
              "  const css_urls = [];\n",
              "\n",
              "  const inline_js = [    function(Bokeh) {\n",
              "      Bokeh.set_log_level(\"info\");\n",
              "    },\n",
              "function(Bokeh) {\n",
              "    }\n",
              "  ];\n",
              "\n",
              "  function run_inline_js() {\n",
              "    if (root.Bokeh !== undefined || force === true) {\n",
              "      try {\n",
              "            for (let i = 0; i < inline_js.length; i++) {\n",
              "      inline_js[i].call(root, root.Bokeh);\n",
              "    }\n",
              "\n",
              "      } catch (error) {throw error;\n",
              "      }} else if (Date.now() < root._bokeh_timeout) {\n",
              "      setTimeout(run_inline_js, 100);\n",
              "    } else if (!root._bokeh_failed_load) {\n",
              "      console.log(\"Bokeh: BokehJS failed to load within specified timeout.\");\n",
              "      root._bokeh_failed_load = true;\n",
              "    } else if (force !== true) {\n",
              "      const cell = $(document.getElementById(null)).parents('.cell').data().cell;\n",
              "      cell.output_area.append_execute_result(NB_LOAD_WARNING)\n",
              "    }\n",
              "  }\n",
              "\n",
              "  if (root._bokeh_is_loading === 0) {\n",
              "    console.debug(\"Bokeh: BokehJS loaded, going straight to plotting\");\n",
              "    run_inline_js();\n",
              "  } else {\n",
              "    load_libs(css_urls, js_urls, function() {\n",
              "      console.debug(\"Bokeh: BokehJS plotting callback run at\", now());\n",
              "      run_inline_js();\n",
              "    });\n",
              "  }\n",
              "}(window));"
            ],
            "application/vnd.bokehjs_load.v0+json": "'use strict';\n(function(root) {\n  function now() {\n    return new Date();\n  }\n\n  const force = true;\n\n  if (typeof root._bokeh_onload_callbacks === \"undefined\" || force === true) {\n    root._bokeh_onload_callbacks = [];\n    root._bokeh_is_loading = undefined;\n  }\n\n\n  if (typeof (root._bokeh_timeout) === \"undefined\" || force === true) {\n    root._bokeh_timeout = Date.now() + 5000;\n    root._bokeh_failed_load = false;\n  }\n\n  const NB_LOAD_WARNING = {'data': {'text/html':\n     \"<div style='background-color: #fdd'>\\n\"+\n     \"<p>\\n\"+\n     \"BokehJS does not appear to have successfully loaded. If loading BokehJS from CDN, this \\n\"+\n     \"may be due to a slow or bad network connection. Possible fixes:\\n\"+\n     \"</p>\\n\"+\n     \"<ul>\\n\"+\n     \"<li>re-rerun `output_notebook()` to attempt to load from CDN again, or</li>\\n\"+\n     \"<li>use INLINE resources instead, as so:</li>\\n\"+\n     \"</ul>\\n\"+\n     \"<code>\\n\"+\n     \"from bokeh.resources import INLINE\\n\"+\n     \"output_notebook(resources=INLINE)\\n\"+\n     \"</code>\\n\"+\n     \"</div>\"}};\n\n  function display_loaded(error = null) {\n    const el = document.getElementById(null);\n    if (el != null) {\n      const html = (() => {\n        if (typeof root.Bokeh === \"undefined\") {\n          if (error == null) {\n            return \"BokehJS is loading ...\";\n          } else {\n            return \"BokehJS failed to load.\";\n          }\n        } else {\n          const prefix = `BokehJS ${root.Bokeh.version}`;\n          if (error == null) {\n            return `${prefix} successfully loaded.`;\n          } else {\n            return `${prefix} <b>encountered errors</b> while loading and may not function as expected.`;\n          }\n        }\n      })();\n      el.innerHTML = html;\n\n      if (error != null) {\n        const wrapper = document.createElement(\"div\");\n        wrapper.style.overflow = \"auto\";\n        wrapper.style.height = \"5em\";\n        wrapper.style.resize = \"vertical\";\n        const content = document.createElement(\"div\");\n        content.style.fontFamily = \"monospace\";\n        content.style.whiteSpace = \"pre-wrap\";\n        content.style.backgroundColor = \"rgb(255, 221, 221)\";\n        content.textContent = error.stack ?? error.toString();\n        wrapper.append(content);\n        el.append(wrapper);\n      }\n    } else if (Date.now() < root._bokeh_timeout) {\n      setTimeout(() => display_loaded(error), 100);\n    }\n  }\n\n  function run_callbacks() {\n    try {\n      root._bokeh_onload_callbacks.forEach(function(callback) {\n        if (callback != null)\n          callback();\n      });\n    } finally {\n      delete root._bokeh_onload_callbacks\n    }\n    console.debug(\"Bokeh: all callbacks have finished\");\n  }\n\n  function load_libs(css_urls, js_urls, callback) {\n    if (css_urls == null) css_urls = [];\n    if (js_urls == null) js_urls = [];\n\n    root._bokeh_onload_callbacks.push(callback);\n    if (root._bokeh_is_loading > 0) {\n      console.debug(\"Bokeh: BokehJS is being loaded, scheduling callback at\", now());\n      return null;\n    }\n    if (js_urls == null || js_urls.length === 0) {\n      run_callbacks();\n      return null;\n    }\n    console.debug(\"Bokeh: BokehJS not loaded, scheduling load and callback at\", now());\n    root._bokeh_is_loading = css_urls.length + js_urls.length;\n\n    function on_load() {\n      root._bokeh_is_loading--;\n      if (root._bokeh_is_loading === 0) {\n        console.debug(\"Bokeh: all BokehJS libraries/stylesheets loaded\");\n        run_callbacks()\n      }\n    }\n\n    function on_error(url) {\n      console.error(\"failed to load \" + url);\n    }\n\n    for (let i = 0; i < css_urls.length; i++) {\n      const url = css_urls[i];\n      const element = document.createElement(\"link\");\n      element.onload = on_load;\n      element.onerror = on_error.bind(null, url);\n      element.rel = \"stylesheet\";\n      element.type = \"text/css\";\n      element.href = url;\n      console.debug(\"Bokeh: injecting link tag for BokehJS stylesheet: \", url);\n      document.body.appendChild(element);\n    }\n\n    for (let i = 0; i < js_urls.length; i++) {\n      const url = js_urls[i];\n      const element = document.createElement('script');\n      element.onload = on_load;\n      element.onerror = on_error.bind(null, url);\n      element.async = false;\n      element.src = url;\n      console.debug(\"Bokeh: injecting script tag for BokehJS library: \", url);\n      document.head.appendChild(element);\n    }\n  };\n\n  function inject_raw_css(css) {\n    const element = document.createElement(\"style\");\n    element.appendChild(document.createTextNode(css));\n    document.body.appendChild(element);\n  }\n\n  const js_urls = [\"https://cdn.bokeh.org/bokeh/release/bokeh-3.7.3.min.js\", \"https://cdn.bokeh.org/bokeh/release/bokeh-gl-3.7.3.min.js\", \"https://cdn.bokeh.org/bokeh/release/bokeh-widgets-3.7.3.min.js\", \"https://cdn.bokeh.org/bokeh/release/bokeh-tables-3.7.3.min.js\", \"https://cdn.bokeh.org/bokeh/release/bokeh-mathjax-3.7.3.min.js\"];\n  const css_urls = [];\n\n  const inline_js = [    function(Bokeh) {\n      Bokeh.set_log_level(\"info\");\n    },\nfunction(Bokeh) {\n    }\n  ];\n\n  function run_inline_js() {\n    if (root.Bokeh !== undefined || force === true) {\n      try {\n            for (let i = 0; i < inline_js.length; i++) {\n      inline_js[i].call(root, root.Bokeh);\n    }\n\n      } catch (error) {throw error;\n      }} else if (Date.now() < root._bokeh_timeout) {\n      setTimeout(run_inline_js, 100);\n    } else if (!root._bokeh_failed_load) {\n      console.log(\"Bokeh: BokehJS failed to load within specified timeout.\");\n      root._bokeh_failed_load = true;\n    } else if (force !== true) {\n      const cell = $(document.getElementById(null)).parents('.cell').data().cell;\n      cell.output_area.append_execute_result(NB_LOAD_WARNING)\n    }\n  }\n\n  if (root._bokeh_is_loading === 0) {\n    console.debug(\"Bokeh: BokehJS loaded, going straight to plotting\");\n    run_inline_js();\n  } else {\n    load_libs(css_urls, js_urls, function() {\n      console.debug(\"Bokeh: BokehJS plotting callback run at\", now());\n      run_inline_js();\n    });\n  }\n}(window));"
          },
          "metadata": {}
        },
        {
          "output_type": "display_data",
          "data": {
            "text/html": [
              "\n",
              "  <div id=\"c0d6de70-045b-4d14-ba01-a3057d35592d\" data-root-id=\"p1006\" style=\"display: contents;\"></div>\n"
            ]
          },
          "metadata": {}
        },
        {
          "output_type": "display_data",
          "data": {
            "application/javascript": [
              "(function(root) {\n",
              "  function embed_document(root) {\n",
              "  const docs_json = {\"85af00d5-1a06-49ce-a26c-85387bcc0c07\":{\"version\":\"3.7.3\",\"title\":\"Bokeh Application\",\"roots\":[{\"type\":\"object\",\"name\":\"Figure\",\"id\":\"p1006\",\"attributes\":{\"height\":400,\"x_range\":{\"type\":\"object\",\"name\":\"DataRange1d\",\"id\":\"p1007\"},\"y_range\":{\"type\":\"object\",\"name\":\"DataRange1d\",\"id\":\"p1008\"},\"x_scale\":{\"type\":\"object\",\"name\":\"LinearScale\",\"id\":\"p1015\"},\"y_scale\":{\"type\":\"object\",\"name\":\"LinearScale\",\"id\":\"p1016\"},\"title\":{\"type\":\"object\",\"name\":\"Title\",\"id\":\"p1013\"},\"renderers\":[{\"type\":\"object\",\"name\":\"GlyphRenderer\",\"id\":\"p1046\",\"attributes\":{\"data_source\":{\"type\":\"object\",\"name\":\"ColumnDataSource\",\"id\":\"p1003\",\"attributes\":{\"selected\":{\"type\":\"object\",\"name\":\"Selection\",\"id\":\"p1004\",\"attributes\":{\"indices\":[],\"line_indices\":[]}},\"selection_policy\":{\"type\":\"object\",\"name\":\"UnionRenderers\",\"id\":\"p1005\"},\"data\":{\"type\":\"map\",\"entries\":[[\"x\",{\"type\":\"ndarray\",\"array\":{\"type\":\"bytes\",\"data\":\"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\"},\"shape\":[5000],\"dtype\":\"float32\",\"order\":\"little\"}],[\"y\",{\"type\":\"ndarray\",\"array\":{\"type\":\"bytes\",\"data\":\"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\"},\"shape\":[5000],\"dtype\":\"float32\",\"order\":\"little\"}],[\"color\",[\"blue\",\"blue\",\"blue\",\"blue\",\"blue\",\"blue\",\"blue\",\"blue\",\"blue\",\"blue\",\"blue\",\"blue\",\"blue\",\"blue\",\"blue\",\"blue\",\"blue\",\"blue\",\"blue\",\"blue\",\"blue\",\"blue\",\"blue\",\"blue\",\"blue\",\"blue\",\"blue\",\"blue\",\"blue\",\"blue\",\"blue\",\"blue\",\"blue\",\"blue\",\"blue\",\"blue\",\"blue\",\"blue\",\"blue\",\"blue\",\"blue\",\"blue\",\"blue\",\"blue\",\"blue\",\"blue\",\"blue\",\"blue\",\"blue\",\"blue\",\"blue\",\"blue\",\"blue\",\"blue\",\"blue\",\"blue\",\"blue\",\"blue\",\"blue\",\"blue\",\"blue\",\"blue\",\"blue\",\"blue\",\"blue\",\"blue\",\"blue\",\"blue\",\"blue\",\"blue\",\"blue\",\"blue\",\"blue\",\"blue\",\"blue\",\"blue\",\"blue\",\"blue\",\"blue\",\"blue\",\"blue\",\"blue\",\"blue\",\"blue\",\"blue\",\"blue\",\"blue\",\"blue\",\"blue\",\"blue\",\"blue\",\"blue\",\"blue\",\"blue\",\"blue\",\"blue\",\"blue\",\"blue\",\"blue\",\"blue\",\"blue\",\"blue\",\"blue\",\"blue\",\"blue\",\"blue\",\"blue\",\"blue\",\"blue\",\"blue\",\"blue\",\"blue\",\"blue\",\"blue\",\"blue\",\"blue\",\"blue\",\"blue\",\"blue\",\"blue\",\"blue\",\"blue\",\"blue\",\"blue\",\"blue\",\"blue\",\"blue\",\"blue\",\"blue\",\"blue\",\"blue\",\"blue\",\"blue\",\"blue\",\"blue\",\"blue\",\"blue\",\"blue\",\"blue\",\"blue\",\"blue\",\"blue\",\"blue\",\"blue\",\"blue\",\"blue\",\"blue\",\"blue\",\"blue\",\"blue\",\"blue\",\"blue\",\"blue\",\"blue\",\"blue\",\"blue\",\"blue\",\"blue\",\"blue\",\"blue\",\"blue\",\"blue\",\"blue\",\"blue\",\"blue\",\"blue\",\"blue\",\"blue\",\"blue\",\"blue\",\"blue\",\"blue\",\"blue\",\"blue\",\"blue\",\"blue\",\"blue\",\"blue\",\"blue\",\"blue\",\"blue\",\"blue\",\"blue\",\"blue\",\"blue\",\"blue\",\"blue\",\"blue\",\"blue\",\"blue\",\"blue\",\"blue\",\"blue\",\"blue\",\"blue\",\"blue\",\"blue\",\"blue\",\"blue\",\"blue\",\"blue\",\"blue\",\"blue\",\"blue\",\"blue\",\"blue\",\"blue\",\"blue\",\"blue\",\"blue\",\"blue\",\"blue\",\"blue\",\"blue\",\"blue\",\"blue\",\"blue\",\"blue\",\"blue\",\"blue\",\"blue\",\"blue\",\"blue\",\"blue\",\"blue\",\"blue\",\"blue\",\"blue\",\"blue\",\"blue\",\"blue\",\"blue\",\"blue\",\"blue\",\"blue\",\"blue\",\"blue\",\"blue\",\"blue\",\"blue\",\"blue\",\"blue\",\"blue\",\"blue\",\"blue\",\"blue\",\"blue\",\"blue\",\"blue\",\"blue\",\"blue\",\"blue\",\"blue\",\"blue\",\"blue\",\"blue\",\"blue\",\"blue\",\"blue\",\"blue\",\"blue\",\"blue\",\"blue\",\"blue\",\"blue\",\"blue\",\"blue\",\"blue\",\"blue\",\"blue\",\"blue\",\"blue\",\"blue\",\"blue\",\"blue\",\"blue\",\"blue\",\"blue\",\"blue\",\"blue\",\"blue\",\"blue\",\"blue\",\"blue\",\"blue\",\"blue\",\"blue\",\"blue\",\"blue\",\"blue\",\"blue\",\"blue\",\"blue\",\"blue\",\"blue\",\"blue\",\"blue\",\"blue\",\"blue\",\"blue\",\"blue\",\"blue\",\"blue\",\"blue\",\"blue\",\"blue\",\"blue\",\"blue\",\"blue\",\"blue\",\"blue\",\"blue\",\"blue\",\"blue\",\"blue\",\"blue\",\"blue\",\"blue\",\"blue\",\"blue\",\"blue\",\"blue\",\"blue\",\"blue\",\"blue\",\"blue\",\"blue\",\"blue\",\"blue\",\"blue\",\"blue\",\"blue\",\"blue\",\"blue\",\"blue\",\"blue\",\"blue\",\"blue\",\"blue\",\"blue\",\"blue\",\"blue\",\"blue\",\"blue\",\"blue\",\"blue\",\"blue\",\"blue\",\"blue\",\"blue\",\"blue\",\"blue\",\"blue\",\"blue\",\"blue\",\"blue\",\"blue\",\"blue\",\"blue\",\"blue\",\"blue\",\"blue\",\"blue\",\"blue\",\"blue\",\"blue\",\"blue\",\"blue\",\"blue\",\"blue\",\"blue\",\"blue\",\"blue\",\"blue\",\"blue\",\"blue\",\"blue\",\"blue\",\"blue\",\"blue\",\"blue\",\"blue\",\"blue\",\"blue\",\"blue\",\"blue\",\"blue\",\"blue\",\"blue\",\"blue\",\"blue\",\"blue\",\"blue\",\"blue\",\"blue\",\"blue\",\"blue\",\"blue\",\"blue\",\"blue\",\"blue\",\"blue\",\"blue\",\"blue\",\"blue\",\"blue\",\"blue\",\"blue\",\"blue\",\"blue\",\"blue\",\"blue\",\"blue\",\"blue\",\"blue\",\"blue\",\"blue\",\"blue\",\"blue\",\"blue\",\"blue\",\"blue\",\"blue\",\"blue\",\"blue\",\"blue\",\"blue\",\"blue\",\"blue\",\"blue\",\"blue\",\"blue\",\"blue\",\"blue\",\"blue\",\"blue\",\"blue\",\"blue\",\"blue\",\"blue\",\"blue\",\"blue\",\"blue\",\"blue\",\"blue\",\"blue\",\"blue\",\"blue\",\"blue\",\"blue\",\"blue\",\"blue\",\"blue\",\"blue\",\"blue\",\"blue\",\"blue\",\"blue\",\"blue\",\"blue\",\"blue\",\"blue\",\"blue\",\"blue\",\"blue\",\"blue\",\"blue\",\"blue\",\"blue\",\"blue\",\"blue\",\"blue\",\"blue\",\"blue\",\"blue\",\"blue\",\"blue\",\"blue\",\"blue\",\"blue\",\"blue\",\"blue\",\"blue\",\"blue\",\"blue\",\"blue\",\"blue\",\"blue\",\"blue\",\"blue\",\"blue\",\"blue\",\"blue\",\"blue\",\"blue\",\"blue\",\"blue\",\"blue\",\"blue\",\"blue\",\"blue\",\"blue\",\"blue\",\"blue\",\"blue\",\"blue\",\"blue\",\"blue\",\"blue\",\"blue\",\"blue\",\"blue\",\"blue\",\"blue\",\"blue\",\"blue\",\"blue\",\"blue\",\"blue\",\"blue\",\"blue\",\"blue\",\"blue\",\"blue\",\"blue\",\"blue\",\"blue\",\"blue\",\"blue\",\"blue\",\"blue\",\"blue\",\"blue\",\"blue\",\"blue\",\"blue\",\"blue\",\"blue\",\"blue\",\"blue\",\"blue\",\"blue\",\"blue\",\"blue\",\"blue\",\"blue\",\"blue\",\"blue\",\"blue\",\"blue\",\"blue\",\"blue\",\"blue\",\"blue\",\"blue\",\"blue\",\"blue\",\"blue\",\"blue\",\"blue\",\"blue\",\"blue\",\"blue\",\"blue\",\"blue\",\"blue\",\"blue\",\"blue\",\"blue\",\"blue\",\"blue\",\"blue\",\"blue\",\"blue\",\"blue\",\"blue\",\"blue\",\"blue\",\"blue\",\"blue\",\"blue\",\"blue\",\"blue\",\"blue\",\"blue\",\"blue\",\"blue\",\"blue\",\"blue\",\"blue\",\"blue\",\"blue\",\"blue\",\"blue\",\"blue\",\"blue\",\"blue\",\"blue\",\"blue\",\"blue\",\"blue\",\"blue\",\"blue\",\"blue\",\"blue\",\"blue\",\"blue\",\"blue\",\"blue\",\"blue\",\"blue\",\"blue\",\"blue\",\"blue\",\"blue\",\"blue\",\"blue\",\"blue\",\"blue\",\"blue\",\"blue\",\"blue\",\"blue\",\"blue\",\"blue\",\"blue\",\"blue\",\"blue\",\"blue\",\"blue\",\"blue\",\"blue\",\"blue\",\"blue\",\"blue\",\"blue\",\"blue\",\"blue\",\"blue\",\"blue\",\"blue\",\"blue\",\"blue\",\"blue\",\"blue\",\"blue\",\"blue\",\"blue\",\"blue\",\"blue\",\"blue\",\"blue\",\"blue\",\"blue\",\"blue\",\"blue\",\"blue\",\"blue\",\"blue\",\"blue\",\"blue\",\"blue\",\"blue\",\"blue\",\"blue\",\"blue\",\"blue\",\"blue\",\"blue\",\"blue\",\"blue\",\"blue\",\"blue\",\"blue\",\"blue\",\"blue\",\"blue\",\"blue\",\"blue\",\"blue\",\"blue\",\"blue\",\"blue\",\"blue\",\"blue\",\"blue\",\"blue\",\"blue\",\"blue\",\"blue\",\"blue\",\"blue\",\"blue\",\"blue\",\"blue\",\"blue\",\"blue\",\"blue\",\"blue\",\"blue\",\"blue\",\"blue\",\"blue\",\"blue\",\"blue\",\"blue\",\"blue\",\"blue\",\"blue\",\"blue\",\"blue\",\"blue\",\"blue\",\"blue\",\"blue\",\"blue\",\"blue\",\"blue\",\"blue\",\"blue\",\"blue\",\"blue\",\"blue\",\"blue\",\"blue\",\"blue\",\"blue\",\"blue\",\"blue\",\"blue\",\"blue\",\"blue\",\"blue\",\"blue\",\"blue\",\"blue\",\"blue\",\"blue\",\"blue\",\"blue\",\"blue\",\"blue\",\"blue\",\"blue\",\"blue\",\"blue\",\"blue\",\"blue\",\"blue\",\"blue\",\"blue\",\"blue\",\"blue\",\"blue\",\"blue\",\"blue\",\"blue\",\"blue\",\"blue\",\"blue\",\"blue\",\"blue\",\"blue\",\"blue\",\"blue\",\"blue\",\"blue\",\"blue\",\"blue\",\"blue\",\"blue\",\"blue\",\"blue\",\"blue\",\"blue\",\"blue\",\"blue\",\"blue\",\"blue\",\"blue\",\"blue\",\"blue\",\"blue\",\"blue\",\"blue\",\"blue\",\"blue\",\"blue\",\"blue\",\"blue\",\"blue\",\"blue\",\"blue\",\"blue\",\"blue\",\"blue\",\"blue\",\"blue\",\"blue\",\"blue\",\"blue\",\"blue\",\"blue\",\"blue\",\"blue\",\"blue\",\"blue\",\"blue\",\"blue\",\"blue\",\"blue\",\"blue\",\"blue\",\"blue\",\"blue\",\"blue\",\"blue\",\"blue\",\"blue\",\"blue\",\"blue\",\"blue\",\"blue\",\"blue\",\"blue\",\"blue\",\"blue\",\"blue\",\"blue\",\"blue\",\"blue\",\"blue\",\"blue\",\"blue\",\"blue\",\"blue\",\"blue\",\"blue\",\"blue\",\"blue\",\"blue\",\"blue\",\"blue\",\"blue\",\"blue\",\"blue\",\"blue\",\"blue\",\"blue\",\"blue\",\"blue\",\"blue\",\"blue\",\"blue\",\"blue\",\"blue\",\"blue\",\"blue\",\"blue\",\"blue\",\"blue\",\"blue\",\"blue\",\"blue\",\"blue\",\"blue\",\"blue\",\"blue\",\"blue\",\"blue\",\"blue\",\"blue\",\"blue\",\"blue\",\"blue\",\"blue\",\"blue\",\"blue\",\"blue\",\"blue\",\"blue\",\"blue\",\"blue\",\"blue\",\"blue\",\"blue\",\"blue\",\"blue\",\"blue\",\"blue\",\"blue\",\"blue\",\"blue\",\"blue\",\"blue\",\"blue\",\"blue\",\"blue\",\"blue\",\"blue\",\"blue\",\"blue\",\"blue\",\"blue\",\"blue\",\"blue\",\"blue\",\"blue\",\"blue\",\"blue\",\"blue\",\"blue\",\"blue\",\"blue\",\"blue\",\"blue\",\"blue\",\"blue\",\"blue\",\"blue\",\"blue\",\"blue\",\"blue\",\"blue\",\"blue\",\"blue\",\"blue\",\"blue\",\"blue\",\"blue\",\"blue\",\"blue\",\"blue\",\"blue\",\"blue\",\"blue\",\"blue\",\"blue\",\"blue\",\"blue\",\"blue\",\"blue\",\"blue\",\"blue\",\"blue\",\"blue\",\"blue\",\"blue\",\"blue\",\"blue\",\"blue\",\"blue\",\"blue\",\"blue\",\"blue\",\"blue\",\"blue\",\"blue\",\"blue\",\"blue\",\"blue\",\"blue\",\"blue\",\"blue\",\"blue\",\"blue\",\"blue\",\"blue\",\"blue\",\"blue\",\"blue\",\"blue\",\"blue\",\"blue\",\"blue\",\"blue\",\"blue\",\"blue\",\"blue\",\"blue\",\"blue\",\"blue\",\"blue\",\"blue\",\"blue\",\"blue\",\"blue\",\"blue\",\"blue\",\"blue\",\"blue\",\"blue\",\"blue\",\"blue\",\"blue\",\"blue\",\"blue\",\"blue\",\"blue\",\"blue\",\"blue\",\"blue\",\"blue\",\"blue\",\"blue\",\"blue\",\"blue\",\"blue\",\"blue\",\"blue\",\"blue\",\"blue\",\"blue\",\"blue\",\"blue\",\"blue\",\"blue\",\"blue\",\"blue\",\"blue\",\"blue\",\"blue\",\"blue\",\"blue\",\"blue\",\"blue\",\"blue\",\"blue\",\"blue\",\"blue\",\"blue\",\"blue\",\"blue\",\"blue\",\"blue\",\"blue\",\"blue\",\"blue\",\"blue\",\"blue\",\"blue\",\"blue\",\"blue\",\"blue\",\"blue\",\"blue\",\"blue\",\"blue\",\"blue\",\"blue\",\"blue\",\"blue\",\"blue\",\"blue\",\"blue\",\"blue\",\"blue\",\"blue\",\"blue\",\"blue\",\"blue\",\"blue\",\"blue\",\"blue\",\"blue\",\"blue\",\"blue\",\"blue\",\"blue\",\"blue\",\"blue\",\"blue\",\"blue\",\"blue\",\"blue\",\"blue\",\"blue\",\"blue\",\"blue\",\"blue\",\"blue\",\"blue\",\"blue\",\"blue\",\"blue\",\"blue\",\"blue\",\"blue\",\"blue\",\"blue\",\"blue\",\"blue\",\"blue\",\"blue\",\"blue\",\"blue\",\"blue\",\"blue\",\"blue\",\"blue\",\"blue\",\"blue\",\"blue\",\"blue\",\"blue\",\"blue\",\"blue\",\"blue\",\"blue\",\"blue\",\"blue\",\"blue\",\"blue\",\"blue\",\"blue\",\"blue\",\"blue\",\"blue\",\"blue\",\"blue\",\"blue\",\"blue\",\"blue\",\"blue\",\"blue\",\"blue\",\"blue\",\"blue\",\"blue\",\"blue\",\"blue\",\"blue\",\"blue\",\"blue\",\"blue\",\"blue\",\"blue\",\"blue\",\"blue\",\"blue\",\"blue\",\"blue\",\"blue\",\"blue\",\"blue\",\"blue\",\"blue\",\"blue\",\"blue\",\"blue\",\"blue\",\"blue\",\"blue\",\"blue\",\"blue\",\"blue\",\"blue\",\"blue\",\"blue\",\"blue\",\"blue\",\"blue\",\"blue\",\"blue\",\"blue\",\"blue\",\"blue\",\"blue\",\"blue\",\"blue\",\"blue\",\"blue\",\"blue\",\"blue\",\"blue\",\"blue\",\"blue\",\"blue\",\"blue\",\"blue\",\"blue\",\"blue\",\"blue\",\"blue\",\"blue\",\"blue\",\"blue\",\"blue\",\"blue\",\"blue\",\"blue\",\"blue\",\"blue\",\"blue\",\"blue\",\"blue\",\"blue\",\"blue\",\"blue\",\"blue\",\"blue\",\"blue\",\"blue\",\"blue\",\"blue\",\"blue\",\"blue\",\"blue\",\"blue\",\"blue\",\"blue\",\"blue\",\"blue\",\"blue\",\"blue\",\"blue\",\"blue\",\"blue\",\"blue\",\"blue\",\"blue\",\"blue\",\"blue\",\"blue\",\"blue\",\"blue\",\"blue\",\"blue\",\"blue\",\"blue\",\"blue\",\"blue\",\"blue\",\"blue\",\"blue\",\"blue\",\"blue\",\"blue\",\"blue\",\"blue\",\"blue\",\"blue\",\"blue\",\"blue\",\"blue\",\"blue\",\"blue\",\"blue\",\"blue\",\"blue\",\"blue\",\"blue\",\"blue\",\"blue\",\"blue\",\"blue\",\"blue\",\"blue\",\"blue\",\"blue\",\"blue\",\"blue\",\"blue\",\"blue\",\"blue\",\"blue\",\"blue\",\"blue\",\"blue\",\"blue\",\"blue\",\"blue\",\"blue\",\"blue\",\"blue\",\"blue\",\"blue\",\"blue\",\"blue\",\"blue\",\"blue\",\"blue\",\"blue\",\"blue\",\"blue\",\"blue\",\"blue\",\"blue\",\"blue\",\"blue\",\"blue\",\"blue\",\"blue\",\"blue\",\"blue\",\"blue\",\"blue\",\"blue\",\"blue\",\"blue\",\"blue\",\"blue\",\"blue\",\"blue\",\"blue\",\"blue\",\"blue\",\"blue\",\"blue\",\"blue\",\"blue\",\"blue\",\"blue\",\"blue\",\"blue\",\"blue\",\"blue\",\"blue\",\"blue\",\"blue\",\"blue\",\"blue\",\"blue\",\"blue\",\"blue\",\"blue\",\"blue\",\"blue\",\"blue\",\"blue\",\"blue\",\"blue\",\"blue\",\"blue\",\"blue\",\"blue\",\"blue\",\"blue\",\"blue\",\"blue\",\"blue\",\"blue\",\"blue\",\"blue\",\"blue\",\"blue\",\"blue\",\"blue\",\"blue\",\"blue\",\"blue\",\"blue\",\"blue\",\"blue\",\"blue\",\"blue\",\"blue\",\"blue\",\"blue\",\"blue\",\"blue\",\"blue\",\"blue\",\"blue\",\"blue\",\"blue\",\"blue\",\"blue\",\"blue\",\"blue\",\"blue\",\"blue\",\"blue\",\"blue\",\"blue\",\"blue\",\"blue\",\"blue\",\"blue\",\"blue\",\"blue\",\"blue\",\"blue\",\"blue\",\"blue\",\"blue\",\"blue\",\"blue\",\"blue\",\"blue\",\"blue\",\"blue\",\"blue\",\"blue\",\"blue\",\"blue\",\"blue\",\"blue\",\"blue\",\"blue\",\"blue\",\"blue\",\"blue\",\"blue\",\"blue\",\"blue\",\"blue\",\"blue\",\"blue\",\"blue\",\"blue\",\"blue\",\"blue\",\"blue\",\"blue\",\"blue\",\"blue\",\"blue\",\"blue\",\"blue\",\"blue\",\"blue\",\"blue\",\"blue\",\"blue\",\"blue\",\"blue\",\"blue\",\"blue\",\"blue\",\"blue\",\"blue\",\"blue\",\"blue\",\"blue\",\"blue\",\"blue\",\"blue\",\"blue\",\"blue\",\"blue\",\"blue\",\"blue\",\"blue\",\"blue\",\"blue\",\"blue\",\"blue\",\"blue\",\"blue\",\"blue\",\"blue\",\"blue\",\"blue\",\"blue\",\"blue\",\"blue\",\"blue\",\"blue\",\"blue\",\"blue\",\"blue\",\"blue\",\"blue\",\"blue\",\"blue\",\"blue\",\"blue\",\"blue\",\"blue\",\"blue\",\"blue\",\"blue\",\"blue\",\"blue\",\"blue\",\"blue\",\"blue\",\"blue\",\"blue\",\"blue\",\"blue\",\"blue\",\"blue\",\"blue\",\"blue\",\"blue\",\"blue\",\"blue\",\"blue\",\"blue\",\"blue\",\"blue\",\"blue\",\"blue\",\"blue\",\"blue\",\"blue\",\"blue\",\"blue\",\"blue\",\"blue\",\"blue\",\"blue\",\"blue\",\"blue\",\"blue\",\"blue\",\"blue\",\"blue\",\"blue\",\"blue\",\"blue\",\"blue\",\"blue\",\"blue\",\"blue\",\"blue\",\"blue\",\"blue\",\"blue\",\"blue\",\"blue\",\"blue\",\"blue\",\"blue\",\"blue\",\"blue\",\"blue\",\"blue\",\"blue\",\"blue\",\"blue\",\"blue\",\"blue\",\"blue\",\"blue\",\"blue\",\"blue\",\"blue\",\"blue\",\"blue\",\"blue\",\"blue\",\"blue\",\"blue\",\"blue\",\"blue\",\"blue\",\"blue\",\"blue\",\"blue\",\"blue\",\"blue\",\"blue\",\"blue\",\"blue\",\"blue\",\"blue\",\"blue\",\"blue\",\"blue\",\"blue\",\"blue\",\"blue\",\"blue\",\"blue\",\"blue\",\"blue\",\"blue\",\"blue\",\"blue\",\"blue\",\"blue\",\"blue\",\"blue\",\"blue\",\"blue\",\"blue\",\"blue\",\"blue\",\"blue\",\"blue\",\"blue\",\"blue\",\"blue\",\"blue\",\"blue\",\"blue\",\"blue\",\"blue\",\"blue\",\"blue\",\"blue\",\"blue\",\"blue\",\"blue\",\"blue\",\"blue\",\"blue\",\"blue\",\"blue\",\"blue\",\"blue\",\"blue\",\"blue\",\"blue\",\"blue\",\"blue\",\"blue\",\"blue\",\"blue\",\"blue\",\"blue\",\"blue\",\"blue\",\"blue\",\"blue\",\"blue\",\"blue\",\"blue\",\"blue\",\"blue\",\"blue\",\"blue\",\"blue\",\"blue\",\"blue\",\"blue\",\"blue\",\"blue\",\"blue\",\"blue\",\"blue\",\"blue\",\"blue\",\"blue\",\"blue\",\"blue\",\"blue\",\"blue\",\"blue\",\"blue\",\"blue\",\"blue\",\"blue\",\"blue\",\"blue\",\"blue\",\"blue\",\"blue\",\"blue\",\"blue\",\"blue\",\"blue\",\"blue\",\"blue\",\"blue\",\"blue\",\"blue\",\"blue\",\"blue\",\"blue\",\"blue\",\"blue\",\"blue\",\"blue\",\"blue\",\"blue\",\"blue\",\"blue\",\"blue\",\"blue\",\"blue\",\"blue\",\"blue\",\"blue\",\"blue\",\"blue\",\"blue\",\"blue\",\"blue\",\"blue\",\"blue\",\"blue\",\"blue\",\"blue\",\"blue\",\"blue\",\"blue\",\"blue\",\"blue\",\"blue\",\"blue\",\"blue\",\"blue\",\"blue\",\"blue\",\"blue\",\"blue\",\"blue\",\"blue\",\"blue\",\"blue\",\"blue\",\"blue\",\"blue\",\"blue\",\"blue\",\"blue\",\"blue\",\"blue\",\"blue\",\"blue\",\"blue\",\"blue\",\"blue\",\"blue\",\"blue\",\"blue\",\"blue\",\"blue\",\"blue\",\"blue\",\"blue\",\"blue\",\"blue\",\"blue\",\"blue\",\"blue\",\"blue\",\"blue\",\"blue\",\"blue\",\"blue\",\"blue\",\"blue\",\"blue\",\"blue\",\"blue\",\"blue\",\"blue\",\"blue\",\"blue\",\"blue\",\"blue\",\"blue\",\"blue\",\"blue\",\"blue\",\"blue\",\"blue\",\"blue\",\"blue\",\"blue\",\"blue\",\"blue\",\"blue\",\"blue\",\"blue\",\"blue\",\"blue\",\"blue\",\"blue\",\"blue\",\"blue\",\"blue\",\"blue\",\"blue\",\"blue\",\"blue\",\"blue\",\"blue\",\"blue\",\"blue\",\"blue\",\"blue\",\"blue\",\"blue\",\"blue\",\"blue\",\"blue\",\"blue\",\"blue\",\"blue\",\"blue\",\"blue\",\"blue\",\"blue\",\"blue\",\"blue\",\"blue\",\"blue\",\"blue\",\"blue\",\"blue\",\"blue\",\"blue\",\"blue\",\"blue\",\"blue\",\"blue\",\"blue\",\"blue\",\"blue\",\"blue\",\"blue\",\"blue\",\"blue\",\"blue\",\"blue\",\"blue\",\"blue\",\"blue\",\"blue\",\"blue\",\"blue\",\"blue\",\"blue\",\"blue\",\"blue\",\"blue\",\"blue\",\"blue\",\"blue\",\"blue\",\"blue\",\"blue\",\"blue\",\"blue\",\"blue\",\"blue\",\"blue\",\"blue\",\"blue\",\"blue\",\"blue\",\"blue\",\"blue\",\"blue\",\"blue\",\"blue\",\"blue\",\"blue\",\"blue\",\"blue\",\"blue\",\"blue\",\"blue\",\"blue\",\"blue\",\"blue\",\"blue\",\"blue\",\"blue\",\"blue\",\"blue\",\"blue\",\"blue\",\"blue\",\"blue\",\"blue\",\"blue\",\"blue\",\"blue\",\"blue\",\"blue\",\"blue\",\"blue\",\"blue\",\"blue\",\"blue\",\"blue\",\"blue\",\"blue\",\"blue\",\"blue\",\"blue\",\"blue\",\"blue\",\"blue\",\"blue\",\"blue\",\"blue\",\"blue\",\"blue\",\"blue\",\"blue\",\"blue\",\"blue\",\"blue\",\"blue\",\"blue\",\"blue\",\"blue\",\"blue\",\"blue\",\"blue\",\"blue\",\"blue\",\"blue\",\"blue\",\"blue\",\"blue\",\"blue\",\"blue\",\"blue\",\"blue\",\"blue\",\"blue\",\"blue\",\"blue\",\"blue\",\"blue\",\"blue\",\"blue\",\"blue\",\"blue\",\"blue\",\"blue\",\"blue\",\"blue\",\"blue\",\"blue\",\"blue\",\"blue\",\"blue\",\"blue\",\"blue\",\"blue\",\"blue\",\"blue\",\"blue\",\"blue\",\"blue\",\"blue\",\"blue\",\"blue\",\"blue\",\"blue\",\"blue\",\"blue\",\"blue\",\"blue\",\"blue\",\"blue\",\"blue\",\"blue\",\"blue\",\"blue\",\"blue\",\"blue\",\"blue\",\"blue\",\"blue\",\"blue\",\"blue\",\"blue\",\"blue\",\"blue\",\"blue\",\"blue\",\"blue\",\"blue\",\"blue\",\"blue\",\"blue\",\"blue\",\"blue\",\"blue\",\"blue\",\"blue\",\"blue\",\"blue\",\"blue\",\"blue\",\"blue\",\"blue\",\"blue\",\"blue\",\"blue\",\"blue\",\"blue\",\"blue\",\"blue\",\"blue\",\"blue\",\"blue\",\"blue\",\"blue\",\"blue\",\"blue\",\"blue\",\"blue\",\"blue\",\"blue\",\"blue\",\"blue\",\"blue\",\"blue\",\"blue\",\"blue\",\"blue\",\"blue\",\"blue\",\"blue\",\"blue\",\"blue\",\"blue\",\"blue\",\"blue\",\"blue\",\"blue\",\"blue\",\"blue\",\"blue\",\"blue\",\"blue\",\"blue\",\"blue\",\"blue\",\"blue\",\"blue\",\"blue\",\"blue\",\"blue\",\"blue\",\"blue\",\"blue\",\"blue\",\"blue\",\"blue\",\"blue\",\"blue\",\"blue\",\"blue\",\"blue\",\"blue\",\"blue\",\"blue\",\"blue\",\"blue\",\"blue\",\"blue\",\"blue\",\"blue\",\"blue\",\"blue\",\"blue\",\"blue\",\"blue\",\"blue\",\"blue\",\"blue\",\"blue\",\"blue\",\"blue\",\"blue\",\"blue\",\"blue\",\"blue\",\"blue\",\"blue\",\"blue\",\"blue\",\"blue\",\"blue\",\"blue\",\"blue\",\"blue\",\"blue\",\"blue\",\"blue\",\"blue\",\"blue\",\"blue\",\"blue\",\"blue\",\"blue\",\"blue\",\"blue\",\"blue\",\"blue\",\"blue\",\"blue\",\"blue\",\"blue\",\"blue\",\"blue\",\"blue\",\"blue\",\"blue\",\"blue\",\"blue\",\"blue\",\"blue\",\"blue\",\"blue\",\"blue\",\"blue\",\"blue\",\"blue\",\"blue\",\"blue\",\"blue\",\"blue\",\"blue\",\"blue\",\"blue\",\"blue\",\"blue\",\"blue\",\"blue\",\"blue\",\"blue\",\"blue\",\"blue\",\"blue\",\"blue\",\"blue\",\"blue\",\"blue\",\"blue\",\"blue\",\"blue\",\"blue\",\"blue\",\"blue\",\"blue\",\"blue\",\"blue\",\"blue\",\"blue\",\"blue\",\"blue\",\"blue\",\"blue\",\"blue\",\"blue\",\"blue\",\"blue\",\"blue\",\"blue\",\"blue\",\"blue\",\"blue\",\"blue\",\"blue\",\"blue\",\"blue\",\"blue\",\"blue\",\"blue\",\"blue\",\"blue\",\"blue\",\"blue\",\"blue\",\"blue\",\"blue\",\"blue\",\"blue\",\"blue\",\"blue\",\"blue\",\"blue\",\"blue\",\"blue\",\"blue\",\"blue\",\"blue\",\"blue\",\"blue\",\"blue\",\"blue\",\"blue\",\"blue\",\"blue\",\"blue\",\"blue\",\"blue\",\"blue\",\"blue\",\"blue\",\"blue\",\"blue\",\"blue\",\"blue\",\"blue\",\"blue\",\"blue\",\"blue\",\"blue\",\"blue\",\"blue\",\"blue\",\"blue\",\"blue\",\"blue\",\"blue\",\"blue\",\"blue\",\"blue\",\"blue\",\"blue\",\"blue\",\"blue\",\"blue\",\"blue\",\"blue\",\"blue\",\"blue\",\"blue\",\"blue\",\"blue\",\"blue\",\"blue\",\"blue\",\"blue\",\"blue\",\"blue\",\"blue\",\"blue\",\"blue\",\"blue\",\"blue\",\"blue\",\"blue\",\"blue\",\"blue\",\"blue\",\"blue\",\"blue\",\"blue\",\"blue\",\"blue\",\"blue\",\"blue\",\"blue\",\"blue\",\"blue\",\"blue\",\"blue\",\"blue\",\"blue\",\"blue\",\"blue\",\"blue\",\"blue\",\"blue\",\"blue\",\"blue\",\"blue\",\"blue\",\"blue\",\"blue\",\"blue\",\"blue\",\"blue\",\"blue\",\"blue\",\"blue\",\"blue\",\"blue\",\"blue\",\"blue\",\"blue\",\"blue\",\"blue\",\"blue\",\"blue\",\"blue\",\"blue\",\"blue\",\"blue\",\"blue\",\"blue\",\"blue\",\"blue\",\"blue\",\"blue\",\"blue\",\"blue\",\"blue\",\"blue\",\"blue\",\"blue\",\"blue\",\"blue\",\"blue\",\"blue\",\"blue\",\"blue\",\"blue\",\"blue\",\"blue\",\"blue\",\"blue\",\"blue\",\"blue\",\"blue\",\"blue\",\"blue\",\"blue\",\"blue\",\"blue\",\"blue\",\"blue\",\"blue\",\"blue\",\"blue\",\"blue\",\"blue\",\"blue\",\"blue\",\"blue\",\"blue\",\"blue\",\"blue\",\"blue\",\"blue\",\"blue\",\"blue\",\"blue\",\"blue\",\"blue\",\"blue\",\"blue\",\"blue\",\"blue\",\"blue\",\"blue\",\"blue\",\"blue\",\"blue\",\"blue\",\"blue\",\"blue\",\"blue\",\"blue\",\"blue\",\"blue\",\"blue\",\"blue\",\"blue\",\"blue\",\"blue\",\"blue\",\"blue\",\"blue\",\"blue\",\"blue\",\"blue\",\"blue\",\"blue\",\"blue\",\"blue\",\"blue\",\"blue\",\"blue\",\"blue\",\"blue\",\"blue\",\"blue\",\"blue\",\"blue\",\"blue\",\"blue\",\"blue\",\"blue\",\"blue\",\"blue\",\"blue\",\"blue\",\"blue\",\"blue\",\"blue\",\"blue\",\"blue\",\"blue\",\"blue\",\"blue\",\"blue\",\"blue\",\"blue\",\"blue\",\"blue\",\"blue\",\"blue\",\"blue\",\"blue\",\"blue\",\"blue\",\"blue\",\"blue\",\"blue\",\"blue\",\"blue\",\"blue\",\"blue\",\"blue\",\"blue\",\"blue\",\"blue\",\"blue\",\"blue\",\"blue\",\"blue\",\"blue\",\"blue\",\"blue\",\"blue\",\"blue\",\"blue\",\"blue\",\"blue\",\"blue\",\"blue\",\"blue\",\"blue\",\"blue\",\"blue\",\"blue\",\"blue\",\"blue\",\"blue\",\"blue\",\"blue\",\"blue\",\"blue\",\"blue\",\"blue\",\"blue\",\"blue\",\"blue\",\"blue\",\"blue\",\"blue\",\"blue\",\"blue\",\"blue\",\"blue\",\"blue\",\"blue\",\"blue\",\"blue\",\"blue\",\"blue\",\"blue\",\"blue\",\"blue\",\"blue\",\"blue\",\"blue\",\"blue\",\"blue\",\"blue\",\"blue\",\"blue\",\"blue\",\"blue\",\"blue\",\"blue\",\"blue\",\"blue\",\"blue\",\"blue\",\"blue\",\"blue\",\"blue\",\"blue\",\"blue\",\"blue\",\"blue\",\"blue\",\"blue\",\"blue\",\"blue\",\"blue\",\"blue\",\"blue\",\"blue\",\"blue\",\"blue\",\"blue\",\"blue\",\"blue\",\"blue\",\"blue\",\"blue\",\"blue\",\"blue\",\"blue\",\"blue\",\"blue\",\"blue\",\"blue\",\"blue\",\"blue\",\"blue\",\"blue\",\"blue\",\"blue\",\"blue\",\"blue\",\"blue\",\"blue\",\"blue\",\"blue\",\"blue\",\"blue\",\"blue\",\"blue\",\"blue\",\"blue\",\"blue\",\"blue\",\"blue\",\"blue\",\"blue\",\"blue\",\"blue\",\"blue\",\"blue\",\"blue\",\"blue\",\"blue\",\"blue\",\"blue\",\"blue\",\"blue\",\"blue\",\"blue\",\"blue\",\"blue\",\"blue\",\"blue\",\"blue\",\"blue\",\"blue\",\"blue\",\"blue\",\"blue\",\"blue\",\"blue\",\"blue\",\"blue\",\"blue\",\"blue\",\"blue\",\"blue\",\"blue\",\"blue\",\"blue\",\"blue\",\"blue\",\"blue\",\"blue\",\"blue\",\"blue\",\"blue\",\"blue\",\"blue\",\"blue\",\"blue\",\"blue\",\"blue\",\"blue\",\"blue\",\"blue\",\"blue\",\"blue\",\"blue\",\"blue\",\"blue\",\"blue\",\"blue\",\"blue\",\"blue\",\"blue\",\"blue\",\"blue\",\"blue\",\"blue\",\"blue\",\"blue\",\"blue\",\"blue\",\"blue\",\"blue\",\"blue\",\"blue\",\"blue\",\"blue\",\"blue\",\"blue\",\"blue\",\"blue\",\"blue\",\"blue\",\"blue\",\"blue\",\"blue\",\"blue\",\"blue\",\"blue\",\"blue\",\"blue\",\"blue\",\"blue\",\"blue\",\"blue\",\"blue\",\"blue\",\"blue\",\"blue\",\"blue\",\"blue\",\"blue\",\"blue\",\"blue\",\"blue\",\"blue\",\"blue\",\"blue\",\"blue\",\"blue\",\"blue\",\"blue\",\"blue\",\"blue\",\"blue\",\"blue\",\"blue\",\"blue\",\"blue\",\"blue\",\"blue\",\"blue\",\"blue\",\"blue\",\"blue\",\"blue\",\"blue\",\"blue\",\"blue\",\"blue\",\"blue\",\"blue\",\"blue\",\"blue\",\"blue\",\"blue\",\"blue\",\"blue\",\"blue\",\"blue\",\"blue\",\"blue\",\"blue\",\"blue\",\"blue\",\"blue\",\"blue\",\"blue\",\"blue\",\"blue\",\"blue\",\"blue\",\"blue\",\"blue\",\"blue\",\"blue\",\"blue\",\"blue\",\"blue\",\"blue\",\"blue\",\"blue\",\"blue\",\"blue\",\"blue\",\"blue\",\"blue\",\"blue\",\"blue\",\"blue\",\"blue\",\"blue\",\"blue\",\"blue\",\"blue\",\"blue\",\"blue\",\"blue\",\"blue\",\"blue\",\"blue\",\"blue\",\"blue\",\"blue\",\"blue\",\"blue\",\"blue\",\"blue\",\"blue\",\"blue\",\"blue\",\"blue\",\"blue\",\"blue\",\"blue\",\"blue\",\"blue\",\"blue\",\"blue\",\"blue\",\"blue\",\"blue\",\"blue\",\"blue\",\"blue\",\"blue\",\"blue\",\"blue\",\"blue\",\"blue\",\"blue\",\"blue\",\"blue\",\"blue\",\"blue\",\"blue\",\"blue\",\"blue\",\"blue\",\"blue\",\"blue\",\"blue\",\"blue\",\"blue\",\"blue\",\"blue\",\"blue\",\"blue\",\"blue\",\"blue\",\"blue\",\"blue\",\"blue\",\"blue\",\"blue\",\"blue\",\"blue\",\"blue\",\"blue\",\"blue\",\"blue\",\"blue\",\"blue\",\"blue\",\"blue\",\"blue\",\"blue\",\"blue\",\"blue\",\"blue\",\"blue\",\"blue\",\"blue\",\"blue\",\"blue\",\"blue\",\"blue\",\"blue\",\"blue\",\"blue\",\"blue\",\"blue\",\"blue\",\"blue\",\"blue\",\"blue\",\"blue\",\"blue\",\"blue\",\"blue\",\"blue\",\"blue\",\"blue\",\"blue\",\"blue\",\"blue\",\"blue\",\"blue\",\"blue\",\"blue\",\"blue\",\"blue\",\"blue\",\"blue\",\"blue\",\"blue\",\"blue\",\"blue\",\"blue\",\"blue\",\"blue\",\"blue\",\"blue\",\"blue\",\"blue\",\"blue\",\"blue\",\"blue\",\"blue\",\"blue\",\"blue\",\"blue\",\"blue\",\"blue\",\"blue\",\"blue\",\"blue\",\"blue\",\"blue\",\"blue\",\"blue\",\"blue\",\"blue\",\"blue\",\"blue\",\"blue\",\"blue\",\"blue\",\"blue\",\"blue\",\"blue\",\"blue\",\"blue\",\"blue\",\"blue\",\"blue\",\"blue\",\"blue\",\"blue\",\"blue\",\"blue\",\"blue\",\"blue\",\"blue\",\"blue\",\"blue\",\"blue\",\"blue\",\"blue\",\"blue\",\"blue\",\"blue\",\"blue\",\"blue\",\"blue\",\"blue\",\"blue\",\"blue\",\"blue\",\"blue\",\"blue\",\"blue\",\"blue\",\"blue\",\"blue\",\"blue\",\"blue\",\"blue\",\"blue\",\"blue\",\"blue\",\"blue\",\"blue\",\"blue\",\"blue\",\"blue\",\"blue\",\"blue\",\"blue\",\"blue\",\"blue\",\"blue\",\"blue\",\"blue\",\"blue\",\"blue\",\"blue\",\"blue\",\"blue\",\"blue\",\"blue\",\"blue\",\"blue\",\"blue\",\"blue\",\"blue\",\"blue\",\"blue\",\"blue\",\"blue\",\"blue\",\"blue\",\"blue\",\"blue\",\"blue\",\"blue\",\"blue\",\"blue\",\"blue\",\"blue\",\"blue\",\"blue\",\"blue\",\"blue\",\"blue\",\"blue\",\"blue\",\"blue\",\"blue\",\"blue\",\"blue\",\"blue\",\"blue\",\"blue\",\"blue\",\"blue\",\"blue\",\"blue\",\"blue\",\"blue\",\"blue\",\"blue\",\"blue\",\"blue\",\"blue\",\"blue\",\"blue\",\"blue\",\"blue\",\"blue\",\"blue\",\"blue\",\"blue\",\"blue\",\"blue\",\"blue\",\"blue\",\"blue\",\"blue\",\"blue\",\"blue\",\"blue\",\"blue\",\"blue\",\"blue\",\"blue\",\"blue\",\"blue\",\"blue\",\"blue\",\"blue\",\"blue\",\"blue\",\"blue\",\"blue\",\"blue\",\"blue\",\"blue\",\"blue\",\"blue\",\"blue\",\"blue\",\"blue\",\"blue\",\"blue\",\"blue\",\"blue\",\"blue\",\"blue\",\"blue\",\"blue\",\"blue\",\"blue\",\"blue\",\"blue\",\"blue\",\"blue\",\"blue\",\"blue\",\"blue\",\"blue\",\"blue\",\"blue\",\"blue\",\"blue\",\"blue\",\"blue\",\"blue\",\"blue\",\"blue\",\"blue\",\"blue\",\"blue\",\"blue\",\"blue\",\"blue\",\"blue\",\"blue\",\"blue\",\"blue\",\"blue\",\"blue\",\"blue\",\"blue\",\"blue\",\"blue\",\"blue\",\"blue\",\"blue\",\"blue\",\"blue\",\"blue\",\"blue\",\"blue\",\"blue\",\"blue\",\"blue\",\"blue\",\"blue\",\"blue\",\"blue\",\"blue\",\"blue\",\"blue\",\"blue\",\"blue\",\"blue\",\"blue\",\"blue\",\"blue\",\"blue\",\"blue\",\"blue\",\"blue\",\"blue\",\"blue\",\"blue\",\"blue\",\"blue\",\"blue\",\"blue\",\"blue\",\"blue\",\"blue\",\"blue\",\"blue\",\"blue\",\"blue\",\"blue\",\"blue\",\"blue\",\"blue\",\"blue\",\"blue\",\"blue\",\"blue\",\"blue\",\"blue\",\"blue\",\"blue\",\"blue\",\"blue\",\"blue\",\"blue\",\"blue\",\"blue\",\"blue\",\"blue\",\"blue\",\"blue\",\"blue\",\"blue\",\"blue\",\"blue\",\"blue\",\"blue\",\"blue\",\"blue\",\"blue\",\"blue\",\"blue\",\"blue\",\"blue\",\"blue\",\"blue\",\"blue\",\"blue\",\"blue\",\"blue\",\"blue\",\"blue\",\"blue\",\"blue\",\"blue\",\"blue\",\"blue\",\"blue\",\"blue\",\"blue\",\"blue\",\"blue\",\"blue\",\"blue\",\"blue\",\"blue\",\"blue\",\"blue\",\"blue\",\"blue\",\"blue\",\"blue\",\"blue\",\"blue\",\"blue\",\"blue\",\"blue\",\"blue\",\"blue\",\"blue\",\"blue\",\"blue\",\"blue\",\"blue\",\"blue\",\"blue\",\"blue\",\"blue\",\"blue\",\"blue\",\"blue\",\"blue\",\"blue\",\"blue\",\"blue\",\"blue\",\"blue\",\"blue\",\"blue\",\"blue\",\"blue\",\"blue\",\"blue\",\"blue\",\"blue\",\"blue\",\"blue\",\"blue\",\"blue\",\"blue\",\"blue\",\"blue\",\"blue\",\"blue\",\"blue\",\"blue\",\"blue\",\"blue\",\"blue\",\"blue\",\"blue\",\"blue\",\"blue\",\"blue\",\"blue\",\"blue\",\"blue\",\"blue\",\"blue\",\"blue\",\"blue\",\"blue\",\"blue\",\"blue\",\"blue\",\"blue\",\"blue\",\"blue\",\"blue\",\"blue\",\"blue\",\"blue\",\"blue\",\"blue\",\"blue\",\"blue\",\"blue\",\"blue\",\"blue\",\"blue\",\"blue\",\"blue\",\"blue\",\"blue\",\"blue\",\"blue\",\"blue\",\"blue\",\"blue\",\"blue\",\"blue\",\"blue\",\"blue\",\"blue\",\"blue\",\"blue\",\"blue\",\"blue\",\"blue\",\"blue\",\"blue\",\"blue\",\"blue\",\"blue\",\"blue\",\"blue\",\"blue\",\"blue\",\"blue\",\"blue\",\"blue\",\"blue\",\"blue\",\"blue\",\"blue\",\"blue\",\"blue\",\"blue\",\"blue\",\"blue\",\"blue\",\"blue\",\"blue\",\"blue\",\"blue\",\"blue\",\"blue\",\"blue\",\"blue\",\"blue\",\"blue\",\"blue\",\"blue\",\"blue\",\"blue\",\"blue\",\"blue\",\"blue\",\"blue\",\"blue\",\"blue\",\"blue\",\"blue\",\"blue\",\"blue\",\"blue\",\"blue\",\"blue\",\"blue\",\"blue\",\"blue\",\"blue\",\"blue\",\"blue\",\"blue\",\"blue\",\"blue\",\"blue\",\"blue\",\"blue\",\"blue\",\"blue\",\"blue\",\"blue\",\"blue\",\"blue\",\"blue\",\"blue\",\"blue\",\"blue\",\"blue\",\"blue\",\"blue\",\"blue\",\"blue\",\"blue\",\"blue\",\"blue\",\"blue\",\"blue\",\"blue\",\"blue\",\"blue\",\"blue\",\"blue\",\"blue\",\"blue\",\"blue\",\"blue\",\"blue\",\"blue\",\"blue\",\"blue\",\"blue\",\"blue\",\"blue\",\"blue\",\"blue\",\"blue\",\"blue\",\"blue\",\"blue\",\"blue\",\"blue\",\"blue\",\"blue\",\"blue\",\"blue\",\"blue\",\"blue\",\"blue\",\"blue\",\"blue\",\"blue\",\"blue\",\"blue\",\"blue\",\"blue\",\"blue\",\"blue\",\"blue\",\"blue\",\"blue\",\"blue\",\"blue\",\"blue\",\"blue\",\"blue\",\"blue\",\"blue\",\"blue\",\"blue\",\"blue\",\"blue\",\"blue\",\"blue\",\"blue\",\"blue\",\"blue\",\"blue\",\"blue\",\"blue\",\"blue\",\"blue\",\"blue\",\"blue\",\"blue\",\"blue\",\"blue\",\"blue\",\"blue\",\"blue\",\"blue\",\"blue\",\"blue\",\"blue\",\"blue\",\"blue\",\"blue\",\"blue\",\"blue\",\"blue\",\"blue\",\"blue\",\"blue\",\"blue\",\"blue\",\"blue\",\"blue\",\"blue\",\"blue\",\"blue\",\"blue\",\"blue\",\"blue\",\"blue\",\"blue\",\"blue\",\"blue\",\"blue\",\"blue\",\"blue\",\"blue\",\"blue\",\"blue\",\"blue\",\"blue\",\"blue\",\"blue\",\"blue\",\"blue\",\"blue\",\"blue\",\"blue\",\"blue\",\"blue\",\"blue\",\"blue\",\"blue\",\"blue\",\"blue\",\"blue\",\"blue\",\"blue\",\"blue\",\"blue\",\"blue\",\"blue\",\"blue\",\"blue\",\"blue\",\"blue\",\"blue\",\"blue\",\"blue\",\"blue\",\"blue\",\"blue\",\"blue\",\"blue\",\"blue\",\"blue\",\"blue\",\"blue\",\"blue\",\"blue\",\"blue\",\"blue\",\"blue\",\"blue\",\"blue\",\"blue\",\"blue\",\"blue\",\"blue\",\"blue\",\"blue\",\"blue\",\"blue\",\"blue\",\"blue\",\"blue\",\"blue\",\"blue\",\"blue\",\"blue\",\"blue\",\"blue\",\"blue\",\"blue\",\"blue\",\"blue\",\"blue\",\"blue\",\"blue\",\"blue\",\"blue\",\"blue\",\"blue\",\"blue\",\"blue\",\"blue\",\"blue\",\"blue\",\"blue\",\"blue\",\"blue\",\"blue\",\"blue\",\"blue\",\"blue\",\"blue\",\"blue\",\"blue\",\"blue\",\"blue\",\"blue\",\"blue\",\"blue\",\"blue\",\"blue\",\"blue\",\"blue\",\"blue\",\"blue\",\"blue\",\"blue\",\"blue\",\"blue\",\"blue\",\"blue\",\"blue\",\"blue\",\"blue\",\"blue\",\"blue\",\"blue\",\"blue\",\"blue\",\"blue\",\"blue\",\"blue\",\"blue\",\"blue\",\"blue\",\"blue\",\"blue\",\"blue\",\"blue\",\"blue\",\"blue\",\"blue\",\"blue\",\"blue\",\"blue\",\"blue\",\"blue\",\"blue\",\"blue\",\"blue\",\"blue\",\"blue\",\"blue\",\"blue\",\"blue\",\"blue\",\"blue\",\"blue\",\"blue\",\"blue\",\"blue\",\"blue\",\"blue\",\"blue\",\"blue\",\"blue\",\"blue\",\"blue\",\"blue\",\"blue\",\"blue\",\"blue\",\"blue\",\"blue\",\"blue\",\"blue\",\"blue\",\"blue\",\"blue\",\"blue\",\"blue\",\"blue\",\"blue\",\"blue\",\"blue\",\"blue\",\"blue\",\"blue\",\"blue\",\"blue\",\"blue\",\"blue\",\"blue\",\"blue\",\"blue\",\"blue\",\"blue\",\"blue\",\"blue\",\"blue\",\"blue\",\"blue\",\"blue\",\"blue\",\"blue\",\"blue\",\"blue\",\"blue\",\"blue\",\"blue\",\"blue\",\"blue\",\"blue\",\"blue\",\"blue\",\"blue\",\"blue\",\"blue\",\"blue\",\"blue\",\"blue\",\"blue\",\"blue\",\"blue\",\"blue\",\"blue\",\"blue\",\"blue\",\"blue\",\"blue\",\"blue\",\"blue\",\"blue\",\"blue\",\"blue\",\"blue\",\"blue\",\"blue\",\"blue\",\"blue\",\"blue\",\"blue\",\"blue\",\"blue\",\"blue\",\"blue\",\"blue\",\"blue\",\"blue\",\"blue\",\"blue\",\"blue\",\"blue\",\"blue\",\"blue\",\"blue\",\"blue\",\"blue\",\"blue\",\"blue\",\"blue\",\"blue\",\"blue\",\"blue\",\"blue\",\"blue\",\"blue\",\"blue\",\"blue\",\"blue\",\"blue\",\"blue\",\"blue\",\"blue\",\"blue\",\"blue\",\"blue\",\"blue\",\"blue\",\"blue\",\"blue\",\"blue\",\"blue\",\"blue\",\"blue\",\"blue\",\"blue\",\"blue\",\"blue\",\"blue\",\"blue\",\"blue\",\"blue\",\"blue\",\"blue\",\"blue\",\"blue\",\"blue\",\"blue\",\"blue\",\"blue\",\"blue\",\"blue\",\"blue\",\"blue\",\"blue\",\"blue\",\"blue\",\"blue\",\"blue\",\"blue\",\"blue\",\"blue\",\"blue\",\"blue\",\"blue\",\"blue\",\"blue\",\"blue\",\"blue\",\"blue\",\"blue\",\"blue\",\"blue\",\"blue\",\"blue\",\"blue\",\"blue\",\"blue\",\"blue\",\"blue\",\"blue\",\"blue\",\"blue\",\"blue\",\"blue\",\"blue\",\"blue\",\"blue\",\"blue\",\"blue\",\"blue\",\"blue\",\"blue\",\"blue\",\"blue\",\"blue\",\"blue\",\"blue\",\"blue\",\"blue\",\"blue\",\"blue\",\"blue\",\"blue\",\"blue\",\"blue\",\"blue\",\"blue\",\"blue\",\"blue\",\"blue\",\"blue\",\"blue\",\"blue\",\"blue\",\"blue\",\"blue\",\"blue\",\"blue\",\"blue\",\"blue\",\"blue\",\"blue\",\"blue\",\"blue\",\"blue\",\"blue\",\"blue\",\"blue\",\"blue\",\"blue\",\"blue\",\"blue\",\"blue\",\"blue\",\"blue\",\"blue\",\"blue\",\"blue\",\"blue\",\"blue\",\"blue\",\"blue\",\"blue\",\"blue\",\"blue\",\"blue\",\"blue\",\"blue\",\"blue\",\"blue\",\"blue\",\"blue\",\"blue\",\"blue\",\"blue\",\"blue\",\"blue\",\"blue\",\"blue\",\"blue\",\"blue\",\"blue\",\"blue\",\"blue\",\"blue\",\"blue\",\"blue\",\"blue\",\"blue\",\"blue\",\"blue\",\"blue\",\"blue\",\"blue\",\"blue\",\"blue\",\"blue\",\"blue\",\"blue\",\"blue\",\"blue\",\"blue\",\"blue\",\"blue\",\"blue\",\"blue\",\"blue\",\"blue\",\"blue\",\"blue\",\"blue\",\"blue\",\"blue\",\"blue\",\"blue\",\"blue\",\"blue\",\"blue\",\"blue\",\"blue\",\"blue\",\"blue\",\"blue\",\"blue\",\"blue\",\"blue\",\"blue\",\"blue\",\"blue\",\"blue\",\"blue\",\"blue\",\"blue\",\"blue\",\"blue\",\"blue\",\"blue\",\"blue\",\"blue\",\"blue\",\"blue\",\"blue\",\"blue\",\"blue\",\"blue\",\"blue\",\"blue\",\"blue\",\"blue\",\"blue\",\"blue\",\"blue\",\"blue\",\"blue\",\"blue\",\"blue\",\"blue\",\"blue\",\"blue\",\"blue\",\"blue\",\"blue\",\"blue\",\"blue\",\"blue\",\"blue\",\"blue\",\"blue\",\"blue\",\"blue\",\"blue\",\"blue\",\"blue\",\"blue\",\"blue\",\"blue\",\"blue\",\"blue\",\"blue\",\"blue\",\"blue\",\"blue\",\"blue\",\"blue\",\"blue\",\"blue\",\"blue\",\"blue\",\"blue\",\"blue\",\"blue\",\"blue\",\"blue\",\"blue\",\"blue\",\"blue\",\"blue\",\"blue\",\"blue\",\"blue\",\"blue\",\"blue\",\"blue\",\"blue\",\"blue\",\"blue\",\"blue\",\"blue\",\"blue\",\"blue\",\"blue\",\"blue\",\"blue\",\"blue\",\"blue\",\"blue\",\"blue\",\"blue\",\"blue\",\"blue\",\"blue\",\"blue\",\"blue\",\"blue\",\"blue\",\"blue\",\"blue\",\"blue\",\"blue\",\"blue\",\"blue\",\"blue\",\"blue\",\"blue\",\"blue\",\"blue\",\"blue\",\"blue\",\"blue\",\"blue\",\"blue\",\"blue\",\"blue\",\"blue\",\"blue\",\"blue\",\"blue\",\"blue\",\"blue\",\"blue\",\"blue\",\"blue\",\"blue\",\"blue\",\"blue\",\"blue\",\"blue\",\"blue\",\"blue\",\"blue\",\"blue\",\"blue\",\"blue\",\"blue\",\"blue\",\"blue\",\"blue\",\"blue\",\"blue\",\"blue\",\"blue\",\"blue\",\"blue\",\"blue\",\"blue\",\"blue\",\"blue\",\"blue\",\"blue\",\"blue\",\"blue\",\"blue\",\"blue\",\"blue\",\"blue\",\"blue\",\"blue\",\"blue\",\"blue\",\"blue\",\"blue\",\"blue\",\"blue\",\"blue\",\"blue\",\"blue\",\"blue\",\"blue\",\"blue\",\"blue\",\"blue\",\"blue\",\"blue\",\"blue\",\"blue\",\"blue\",\"blue\",\"blue\",\"blue\",\"blue\",\"blue\",\"blue\",\"blue\",\"blue\",\"blue\",\"blue\",\"blue\",\"blue\",\"blue\",\"blue\",\"blue\",\"blue\",\"blue\",\"blue\",\"blue\",\"blue\",\"blue\",\"blue\",\"blue\",\"blue\",\"blue\",\"blue\",\"blue\",\"blue\",\"blue\",\"blue\",\"blue\",\"blue\",\"blue\",\"blue\",\"blue\",\"blue\",\"blue\",\"blue\",\"blue\",\"blue\",\"blue\",\"blue\",\"blue\",\"blue\",\"blue\",\"blue\",\"blue\",\"blue\",\"blue\",\"blue\",\"blue\",\"blue\",\"blue\",\"blue\",\"blue\",\"blue\",\"blue\",\"blue\",\"blue\",\"blue\",\"blue\",\"blue\",\"blue\",\"blue\",\"blue\",\"blue\",\"blue\",\"blue\",\"blue\",\"blue\",\"blue\",\"blue\",\"blue\",\"blue\",\"blue\",\"blue\",\"blue\",\"blue\",\"blue\",\"blue\",\"blue\",\"blue\",\"blue\",\"blue\",\"blue\",\"blue\",\"blue\",\"blue\",\"blue\",\"blue\",\"blue\",\"blue\",\"blue\",\"blue\",\"blue\",\"blue\",\"blue\",\"blue\",\"blue\",\"blue\",\"blue\",\"blue\",\"blue\",\"blue\",\"blue\",\"blue\",\"blue\",\"blue\",\"blue\",\"blue\",\"blue\",\"blue\",\"blue\",\"blue\",\"blue\",\"blue\",\"blue\",\"blue\",\"blue\",\"blue\",\"blue\",\"blue\",\"blue\",\"blue\",\"blue\",\"blue\",\"blue\",\"blue\",\"blue\",\"blue\",\"blue\",\"blue\",\"blue\",\"blue\",\"blue\",\"blue\",\"blue\",\"blue\",\"blue\",\"blue\",\"blue\",\"blue\",\"blue\",\"blue\",\"blue\",\"blue\",\"blue\",\"blue\",\"blue\",\"blue\",\"blue\",\"blue\",\"blue\",\"blue\",\"blue\",\"blue\",\"blue\",\"blue\",\"blue\",\"blue\",\"blue\",\"blue\",\"blue\",\"blue\",\"blue\",\"blue\",\"blue\",\"blue\",\"blue\",\"blue\",\"blue\",\"blue\",\"blue\",\"blue\",\"blue\",\"blue\",\"blue\",\"blue\",\"blue\",\"blue\",\"blue\",\"blue\",\"blue\",\"blue\",\"blue\",\"blue\",\"blue\",\"blue\",\"blue\",\"blue\",\"blue\",\"blue\",\"blue\",\"blue\",\"blue\",\"blue\",\"blue\",\"blue\",\"blue\",\"blue\",\"blue\",\"blue\",\"blue\",\"blue\",\"blue\",\"blue\",\"blue\",\"blue\",\"blue\",\"blue\",\"blue\",\"blue\",\"blue\",\"blue\",\"blue\",\"blue\",\"blue\",\"blue\",\"blue\",\"blue\",\"blue\",\"blue\",\"blue\",\"blue\",\"blue\",\"blue\",\"blue\",\"blue\",\"blue\",\"blue\",\"blue\",\"blue\",\"blue\",\"blue\",\"blue\",\"blue\",\"blue\",\"blue\",\"blue\",\"blue\",\"blue\",\"blue\",\"blue\",\"blue\",\"blue\",\"blue\",\"blue\",\"blue\",\"blue\",\"blue\",\"blue\",\"blue\",\"blue\",\"blue\",\"blue\",\"blue\",\"blue\",\"blue\",\"blue\",\"blue\",\"blue\",\"blue\",\"blue\",\"blue\",\"blue\",\"blue\",\"blue\",\"blue\",\"blue\",\"blue\",\"blue\",\"blue\",\"blue\",\"blue\",\"blue\",\"blue\",\"blue\",\"blue\",\"blue\",\"blue\",\"blue\",\"blue\",\"blue\",\"blue\",\"blue\",\"blue\",\"blue\",\"blue\",\"blue\",\"blue\",\"blue\",\"blue\",\"blue\",\"blue\",\"blue\",\"blue\",\"blue\",\"blue\",\"blue\",\"blue\",\"blue\",\"blue\",\"blue\",\"blue\",\"blue\",\"blue\",\"blue\",\"blue\",\"blue\",\"blue\",\"blue\",\"blue\",\"blue\",\"blue\",\"blue\",\"blue\",\"blue\",\"blue\",\"blue\",\"blue\",\"blue\",\"blue\",\"blue\",\"blue\",\"blue\",\"blue\",\"blue\",\"blue\",\"blue\",\"blue\",\"blue\",\"blue\",\"blue\",\"blue\",\"blue\",\"blue\",\"blue\",\"blue\",\"blue\",\"blue\",\"blue\",\"blue\",\"blue\",\"blue\",\"blue\",\"blue\",\"blue\",\"blue\",\"blue\",\"blue\",\"blue\",\"blue\",\"blue\",\"blue\",\"blue\",\"blue\",\"blue\",\"blue\",\"blue\",\"blue\",\"blue\",\"blue\",\"blue\",\"blue\",\"blue\",\"blue\",\"blue\",\"blue\",\"blue\",\"blue\",\"blue\",\"blue\",\"blue\",\"blue\",\"blue\",\"blue\",\"blue\",\"blue\",\"blue\",\"blue\",\"blue\",\"blue\",\"blue\",\"blue\",\"blue\",\"blue\",\"blue\",\"blue\",\"blue\",\"blue\",\"blue\",\"blue\",\"blue\",\"blue\",\"blue\",\"blue\",\"blue\",\"blue\",\"blue\",\"blue\",\"blue\",\"blue\",\"blue\",\"blue\",\"blue\",\"blue\",\"blue\",\"blue\",\"blue\",\"blue\",\"blue\",\"blue\",\"blue\",\"blue\",\"blue\",\"blue\",\"blue\",\"blue\",\"blue\",\"blue\",\"blue\",\"blue\",\"blue\",\"blue\",\"blue\",\"blue\",\"blue\",\"blue\",\"blue\",\"blue\",\"blue\",\"blue\",\"blue\",\"blue\",\"blue\",\"blue\",\"blue\",\"blue\",\"blue\",\"blue\",\"blue\",\"blue\",\"blue\",\"blue\",\"blue\",\"blue\",\"blue\",\"blue\",\"blue\",\"blue\",\"blue\",\"blue\",\"blue\",\"blue\",\"blue\",\"blue\",\"blue\",\"blue\",\"blue\",\"blue\",\"blue\",\"blue\",\"blue\",\"blue\",\"blue\",\"blue\",\"blue\",\"blue\",\"blue\",\"blue\",\"blue\",\"blue\",\"blue\",\"blue\",\"blue\",\"blue\",\"blue\",\"blue\",\"blue\",\"blue\",\"blue\",\"blue\",\"blue\",\"blue\",\"blue\",\"blue\",\"blue\",\"blue\",\"blue\",\"blue\",\"blue\",\"blue\",\"blue\",\"blue\",\"blue\",\"blue\",\"blue\",\"blue\",\"blue\",\"blue\",\"blue\",\"blue\",\"blue\",\"blue\",\"blue\",\"blue\",\"blue\",\"blue\",\"blue\",\"blue\",\"blue\",\"blue\",\"blue\",\"blue\",\"blue\",\"blue\",\"blue\",\"blue\",\"blue\",\"blue\",\"blue\",\"blue\",\"blue\",\"blue\",\"blue\",\"blue\",\"blue\",\"blue\",\"blue\",\"blue\",\"blue\",\"blue\",\"blue\",\"blue\",\"blue\",\"blue\",\"blue\",\"blue\",\"blue\",\"blue\",\"blue\",\"blue\",\"blue\",\"blue\",\"blue\",\"blue\",\"blue\",\"blue\",\"blue\",\"blue\",\"blue\",\"blue\",\"blue\",\"blue\",\"blue\",\"blue\",\"blue\",\"blue\",\"blue\",\"blue\",\"blue\",\"blue\",\"blue\",\"blue\",\"blue\",\"blue\",\"blue\",\"blue\",\"blue\",\"blue\",\"blue\",\"blue\",\"blue\",\"blue\",\"blue\",\"blue\",\"blue\",\"blue\",\"blue\",\"blue\",\"blue\",\"blue\",\"blue\",\"blue\",\"blue\",\"blue\",\"blue\",\"blue\",\"blue\",\"blue\",\"blue\",\"blue\",\"blue\",\"blue\",\"blue\",\"blue\",\"blue\",\"blue\",\"blue\",\"blue\",\"blue\",\"blue\",\"blue\",\"blue\",\"blue\",\"blue\",\"blue\",\"blue\",\"blue\",\"blue\",\"blue\",\"blue\",\"blue\",\"blue\",\"blue\",\"blue\",\"blue\",\"blue\",\"blue\",\"blue\",\"blue\",\"blue\",\"blue\",\"blue\",\"blue\",\"blue\",\"blue\",\"blue\",\"blue\",\"blue\",\"blue\",\"blue\",\"blue\",\"blue\",\"blue\",\"blue\",\"blue\",\"blue\",\"blue\",\"blue\",\"blue\",\"blue\",\"blue\",\"blue\",\"blue\",\"blue\",\"blue\",\"blue\",\"blue\",\"blue\",\"blue\",\"blue\",\"blue\",\"blue\",\"blue\",\"blue\",\"blue\",\"blue\",\"blue\",\"blue\",\"blue\",\"blue\",\"blue\",\"blue\",\"blue\",\"blue\",\"blue\",\"blue\",\"blue\",\"blue\",\"blue\",\"blue\",\"blue\",\"blue\",\"blue\",\"blue\",\"blue\",\"blue\",\"blue\",\"blue\",\"blue\",\"blue\",\"blue\",\"blue\",\"blue\",\"blue\",\"blue\",\"blue\",\"blue\",\"blue\",\"blue\",\"blue\",\"blue\",\"blue\",\"blue\",\"blue\",\"blue\",\"blue\",\"blue\",\"blue\",\"blue\",\"blue\",\"blue\",\"blue\",\"blue\",\"blue\",\"blue\",\"blue\",\"blue\",\"blue\",\"blue\",\"blue\",\"blue\",\"blue\",\"blue\",\"blue\",\"blue\",\"blue\",\"blue\",\"blue\",\"blue\",\"blue\",\"blue\",\"blue\",\"blue\",\"blue\",\"blue\",\"blue\",\"blue\",\"blue\",\"blue\",\"blue\",\"blue\",\"blue\",\"blue\",\"blue\",\"blue\",\"blue\",\"blue\",\"blue\",\"blue\",\"blue\",\"blue\",\"blue\",\"blue\",\"blue\",\"blue\",\"blue\",\"blue\",\"blue\",\"blue\",\"blue\",\"blue\",\"blue\",\"blue\",\"blue\",\"blue\",\"blue\",\"blue\",\"blue\",\"blue\",\"blue\",\"blue\",\"blue\",\"blue\",\"blue\",\"blue\",\"blue\",\"blue\",\"blue\",\"blue\",\"blue\",\"blue\",\"blue\",\"blue\",\"blue\",\"blue\",\"blue\",\"blue\",\"blue\",\"blue\",\"blue\",\"blue\",\"blue\",\"blue\",\"blue\",\"blue\",\"blue\",\"blue\",\"blue\",\"blue\",\"blue\",\"blue\",\"blue\",\"blue\",\"blue\",\"blue\",\"blue\",\"blue\",\"blue\",\"blue\",\"blue\",\"blue\",\"blue\",\"blue\",\"blue\",\"blue\",\"blue\",\"blue\",\"blue\",\"blue\",\"blue\",\"blue\",\"blue\",\"blue\",\"blue\",\"blue\",\"blue\",\"blue\",\"blue\",\"blue\",\"blue\",\"blue\",\"blue\",\"blue\",\"blue\",\"blue\",\"blue\",\"blue\",\"blue\",\"blue\",\"blue\",\"blue\",\"blue\",\"blue\",\"blue\",\"blue\",\"blue\",\"blue\",\"blue\",\"blue\",\"blue\",\"blue\",\"blue\",\"blue\",\"blue\",\"blue\",\"blue\",\"blue\",\"blue\",\"blue\",\"blue\",\"blue\",\"blue\",\"blue\",\"blue\",\"blue\",\"blue\",\"blue\",\"blue\",\"blue\",\"blue\",\"blue\",\"blue\",\"blue\",\"blue\",\"blue\",\"blue\",\"blue\",\"blue\",\"blue\",\"blue\",\"blue\",\"blue\",\"blue\",\"blue\",\"blue\",\"blue\",\"blue\",\"blue\",\"blue\",\"blue\",\"blue\",\"blue\",\"blue\",\"blue\",\"blue\",\"blue\",\"blue\",\"blue\",\"blue\",\"blue\",\"blue\",\"blue\",\"blue\",\"blue\",\"blue\",\"blue\",\"blue\",\"blue\",\"blue\",\"blue\",\"blue\",\"blue\",\"blue\",\"blue\",\"blue\",\"blue\",\"blue\",\"blue\",\"blue\",\"blue\",\"blue\",\"blue\",\"blue\",\"blue\",\"blue\",\"blue\",\"blue\",\"blue\",\"blue\",\"blue\",\"blue\",\"blue\",\"blue\",\"blue\",\"blue\",\"blue\",\"blue\",\"blue\",\"blue\",\"blue\",\"blue\",\"blue\",\"blue\",\"blue\",\"blue\",\"blue\",\"blue\",\"blue\",\"blue\",\"blue\",\"blue\",\"blue\",\"blue\",\"blue\",\"blue\",\"blue\",\"blue\",\"blue\",\"blue\",\"blue\",\"blue\",\"blue\",\"blue\",\"blue\",\"blue\",\"blue\",\"blue\",\"blue\",\"blue\",\"blue\",\"blue\",\"blue\",\"blue\",\"blue\"]],[\"token\",[\"verified\",\"2gb\",\"illinois\",\"jazz\",\"checking\",\"telescope\",\"seasons\",\"astrologer\",\"contribution\",\"homemade\",\"heroes\",\"warcraft\",\"kumar\",\"tester\",\"politically\",\"conquer\",\"columbia\",\"quiet\",\"repeat\",\"kapil\",\"involve\",\"mckinsey\",\"switched\",\"att\",\"instance\",\"innocent\",\"portuguese\",\"subscribers\",\"cabinet\",\"terror\",\"85\",\"rotation\",\"shirts\",\"drawn\",\"bi\",\"aspergers\",\"inspiration\",\"beats\",\"\\u00a3\",\"approximately\",\"asset\",\"empathy\",\"rooting\",\"ia\",\"dandruff\",\"slab\",\"operator\",\"horrible\",\"dominant\",\"ocd\",\"spacetime\",\"blow\",\"installing\",\"learnt\",\"separation\",\"institution\",\"temples\",\"hons\",\"pound\",\"removing\",\"unemployment\",\"greenlit\",\"audit\",\"supplement\",\"roller\",\"dota\",\"tiny\",\"equally\",\"braces\",\"aggressive\",\"corn\",\"camps\",\"additional\",\"consent\",\"granted\",\"welfare\",\"myths\",\"stations\",\"timeline\",\"psychologist\",\"nagpur\",\"herself\",\"cooper\",\"exgirlfriend\",\"intercourse\",\"flip\",\"hurts\",\"lpa\",\"nerve\",\"tvs\",\"halloween\",\"screenshot\",\"biomedical\",\"covered\",\"milky\",\"onsite\",\"aside\",\"meaningful\",\"stretch\",\"joker\",\"encounter\",\"tone\",\"founders\",\"talked\",\"respectively\",\"downloads\",\"cocaine\",\"toxic\",\"sword\",\"fuck\",\"trainer\",\"partition\",\"boxing\",\"grid\",\"practicing\",\"menu\",\"cms\",\"indore\",\"ate\",\"volunteer\",\"misconceptions\",\"pics\",\"flies\",\"instantly\",\"trans\",\"friday\",\"sociopaths\",\"ctc\",\"hoax\",\"detailed\",\"sizes\",\"rejection\",\"limitations\",\"bharat\",\"kissing\",\"renewable\",\"oriented\",\"countrys\",\"dumps\",\"spiders\",\"technological\",\"advertisement\",\"headache\",\"zodiac\",\"accommodation\",\"venus\",\"calcium\",\"passenger\",\"falls\",\"overnight\",\"pickup\",\"gary\",\"transportation\",\"odds\",\"jupiter\",\"purchasing\",\"fluently\",\"flu\",\"photons\",\"conductor\",\"ohio\",\"balaji\",\"mcdonalds\",\"betting\",\"irrational\",\"sachin\",\"deactivate\",\"estimate\",\"hairs\",\"fluent\",\"errors\",\"remaining\",\"marriages\",\"medieval\",\"charles\",\"spider\",\"oxford\",\"gita\",\"races\",\"liquor\",\"poland\",\"lease\",\"co2\",\"selenium\",\"attempts\",\"crystal\",\"manaphy\",\"knight\",\"collapsed\",\"wheels\",\"behaviour\",\"bitcoins\",\"parliament\",\"himher\",\"handsome\",\"thousands\",\"caring\",\"kings\",\"lucky\",\"workplace\",\"condom\",\"intuitive\",\"chronic\",\"eyesight\",\"simulation\",\"prank\",\"quickest\",\"concert\",\"popularity\",\"connections\",\"disorders\",\"scripting\",\"appearance\",\"js\",\"depth\",\"cheque\",\"longterm\",\"documentaries\",\"dioxide\",\"bright\",\"info\",\"diseases\",\"appeal\",\"snap\",\"smoked\",\"singers\",\"boil\",\"probably\",\"temperatures\",\"appearing\",\"olive\",\"ntse\",\"telecom\",\"brief\",\"discrimination\",\"ethnic\",\"cache\",\"passionate\",\"shoulder\",\"assault\",\"marshmallow\",\"momentum\",\"yr\",\"migrate\",\"retire\",\"cet\",\"canvas\",\"vietnamese\",\"institutions\",\"meter\",\"roots\",\"integer\",\"imported\",\"ants\",\"lyft\",\"piercing\",\"il\",\"poop\",\"organisms\",\"ve\",\"entropy\",\"calm\",\"saddest\",\"toward\",\"myth\",\"sight\",\"filling\",\"hdmi\",\"satisfied\",\"transactions\",\"pharmacy\",\"nursing\",\"correlation\",\"regression\",\"awake\",\"md\",\"nri\",\"recommendations\",\"bin\",\"finland\",\"multi\",\"voted\",\"discovery\",\"edward\",\"touching\",\"immigrant\",\"geometry\",\"indicate\",\"ourselves\",\"texting\",\"seek\",\"expecting\",\"dj\",\"brake\",\"helicopter\",\"blonde\",\"triple\",\"ladies\",\"vivekananda\",\"switching\",\"prostitution\",\"banana\",\"magazines\",\"shippuden\",\"lucknow\",\"2019\",\"failing\",\"elizabeth\",\"irish\",\"ebook\",\"temporary\",\"governor\",\"wasting\",\"weekends\",\"cpt\",\"wax\",\"labor\",\"instruments\",\"instrumentation\",\"hates\",\"hip\",\"arnab\",\"bubble\",\"employers\",\"aadhaar\",\"boyfriends\",\"jake\",\"explained\",\"yesterday\",\"beta\",\"extrovert\",\"andhra\",\"micromax\",\"vertical\",\"lay\",\"nonprofit\",\"dubbed\",\"typing\",\"automotive\",\"thomas\",\"procedures\",\"priority\",\"funded\",\"arabs\",\"siblings\",\"guinea\",\"missile\",\"luck\",\"strategic\",\"defend\",\"module\",\"tuition\",\"acids\",\"controller\",\"committee\",\"housing\",\"integral\",\"peaceful\",\"refugees\",\"prescription\",\"interns\",\"supported\",\"womans\",\"dentist\",\"wives\",\"village\",\"affecting\",\"lte\",\"beaches\",\"austin\",\"substance\",\"engagement\",\"trainee\",\"measures\",\"trailer\",\"purchased\",\"15000\",\"uttar\",\"glue\",\"dtu\",\"medal\",\"photon\",\"engg\",\"violin\",\"column\",\"somehow\",\"rotate\",\"3000\",\"virat\",\"forgotten\",\"fingers\",\"slim\",\"arrest\",\"covalent\",\"ncert\",\"kernel\",\"da\",\"alarm\",\"ngo\",\"4gb\",\"productivity\",\"planned\",\"district\",\"berlin\",\"lists\",\"leads\",\"slang\",\"defence\",\"aspiring\",\"56\",\"enemy\",\"farming\",\"muller\",\"pays\",\"liver\",\"membrane\",\"secretly\",\"plug\",\"gum\",\"eclipse\",\"chewing\",\"labs\",\"zombie\",\"authority\",\"males\",\"argentina\",\"tasks\",\"fell\",\"nails\",\"palestine\",\"tanks\",\"identical\",\"deck\",\"qualification\",\"leadership\",\"kohli\",\"pronunciation\",\"hello\",\"violent\",\"sabha\",\"respiration\",\"transform\",\"warranty\",\"faculty\",\"adolf\",\"expenses\",\"jersey\",\"mercury\",\"whiskey\",\"tackle\",\"tweet\",\"blame\",\"cruise\",\"mahindra\",\"discharge\",\"reduced\",\"vodka\",\"mahatma\",\"bass\",\"compete\",\"stains\",\"pill\",\"swim\",\"ali\",\"gf\",\"ford\",\"prince\",\"sweat\",\"performing\",\"limits\",\"leonardo\",\"cow\",\"resolve\",\"matters\",\"pharmaceutical\",\"ray\",\"remotely\",\"pf\",\"clinical\",\"bpo\",\"homeless\",\"husbands\",\"rising\",\"newtons\",\"outcome\",\"derivative\",\"alpha\",\"grown\",\"capitalism\",\"astronaut\",\"hybrid\",\"palm\",\"teens\",\"hits\",\"airplanes\",\"none\",\"admin\",\"applicable\",\"amcat\",\"spam\",\"neutrality\",\"pixel\",\"festival\",\"faces\",\"molar\",\"snakes\",\"sip\",\"kik\",\"farm\",\"ltd\",\"votes\",\"publishing\",\"comfort\",\"frontend\",\"spin\",\"diagnosed\",\"buildings\",\"\\u00b0\",\"cashless\",\"addictive\",\"extinct\",\"ugc\",\"coke\",\"llb\",\"phrases\",\"struggle\",\"drives\",\"fiber\",\"grocery\",\"achieved\",\"penny\",\"bath\",\"allies\",\"uninstall\",\"ny\",\"appears\",\"effort\",\"satellites\",\"confirmed\",\"loneliness\",\"illuminati\",\"uri\",\"lucid\",\"preferably\",\"neither\",\"\\u221a\",\"pacific\",\"americas\",\"bs\",\"graduated\",\"bills\",\"tube\",\"germans\",\"assume\",\"cleared\",\"mate\",\"divide\",\"versions\",\"fallen\",\"journey\",\"anthem\",\"certificates\",\"looked\",\"sponsor\",\"useless\",\"dependent\",\"invite\",\"guru\",\"keyword\",\"aipmt\",\"clone\",\"kgs\",\"chip\",\"origins\",\"wide\",\"motivational\",\"elite\",\"wanna\",\"unity\",\"cough\",\"connecting\",\"mystery\",\"kim\",\"syrian\",\"voldemort\",\"responsibilities\",\"molecules\",\"boobs\",\"holidays\",\"tutorial\",\"circumstances\",\"fiitjee\",\"islands\",\"bypass\",\"slowly\",\"mixture\",\"aluminum\",\"salesforce\",\"twin\",\"iot\",\"remedy\",\"sheets\",\"pole\",\"hated\",\"females\",\"protected\",\"irs\",\"insecure\",\"entering\",\"neuroscience\",\"offices\",\"delta\",\"suggestion\",\"snapdeal\",\"backstory\",\"periodic\",\"cancelled\",\"mans\",\"complicated\",\"bitsat\",\"pleasure\",\"loop\",\"dropbox\",\"selfish\",\"nude\",\"20000\",\"voter\",\"variables\",\"victory\",\"closest\",\"compensation\",\"extended\",\"locations\",\"cracked\",\"perks\",\"ended\",\"exit\",\"awareness\",\"pakistanis\",\"ebooks\",\"bull\",\"unblock\",\"100000\",\"entrepreneurship\",\"infrastructure\",\"scotland\",\"guest\",\"attacked\",\"hurting\",\"lion\",\"reject\",\"purposes\",\"knife\",\"thai\",\"ipl\",\"knee\",\"accepting\",\"spent\",\"punjabi\",\"tab\",\"quoras\",\"caffeine\",\"athletes\",\"ink\",\"cooked\",\"improving\",\"invaded\",\"allah\",\"thermodynamics\",\"mortgage\",\"firsttime\",\"achievements\",\"issued\",\"breath\",\"award\",\"llc\",\"legends\",\"mood\",\"influenced\",\"proteins\",\"holy\",\"performed\",\"pee\",\"blocks\",\"molecule\",\"interests\",\"imei\",\"requires\",\"cisco\",\"moves\",\"marrying\",\"mca\",\"perfectly\",\"iisc\",\"corporation\",\"shiva\",\"viruses\",\"difficulty\",\"50000\",\"volte\",\"shampoo\",\"secular\",\"transplant\",\"ghz\",\"ahead\",\"crew\",\"interact\",\"depend\",\"hawaii\",\"hiv\",\"evening\",\"vegetable\",\"revenge\",\"suppose\",\"busy\",\"label\",\"rogue\",\"rational\",\"hillstation\",\"brains\",\"urdu\",\"imagine\",\"salaries\",\"survey\",\"g4\",\"butt\",\"manufacturers\",\"saas\",\"residency\",\"recommendation\",\"purple\",\"fault\",\"aadhar\",\"aging\",\"bhopal\",\"conducted\",\"loses\",\"infection\",\"forest\",\"impacts\",\"collection\",\"fridge\",\"diamond\",\"mis\",\"recorded\",\"march\",\"conditioner\",\"signature\",\"listed\",\"branches\",\"manchester\",\"wanting\",\"perception\",\"absolutely\",\"servers\",\"soluble\",\"swami\",\"lumia\",\"directors\",\"52\",\"2008\",\"gaining\",\"stereotypes\",\"homes\",\"vegas\",\"jam\",\"behave\",\"relatively\",\"forum\",\"ib\",\"earphones\",\"facilities\",\"april\",\"finally\",\"tail\",\"capacitor\",\"tiger\",\"deaf\",\"deliver\",\"django\",\"expand\",\"skip\",\"nearly\",\"maybe\",\"task\",\"gateway\",\"strangest\",\"abstract\",\"adding\",\"suck\",\"tim\",\"printed\",\"sigma\",\"immigrate\",\"decline\",\"arrested\",\"95\",\"narcissistic\",\"freelancing\",\"patterns\",\"expired\",\"casual\",\"tablets\",\"patients\",\"lean\",\"pieces\",\"laymans\",\"whatever\",\"polish\",\"lemon\",\"abortion\",\"i3\",\"theorem\",\"h\",\"compulsory\",\"helped\",\"sons\",\"feminism\",\"compiler\",\"tested\",\"enhance\",\"adhd\",\"manhattan\",\"iii\",\"nail\",\"eee\",\"deals\",\"excellent\",\"ipo\",\"folder\",\"sand\",\"continuous\",\"capable\",\"libraries\",\"aggregate\",\"64\",\"bsnl\",\"profiles\",\"spirit\",\"pulled\",\"owns\",\"deloitte\",\"therapist\",\"acts\",\"millions\",\"authors\",\"marathi\",\"dvd\",\"coconut\",\"swiss\",\"interaction\",\"ncr\",\"kannada\",\"smallest\",\"advisable\",\"smartest\",\"sorry\",\"normally\",\"ends\",\"rome\",\"spectrum\",\"cousin\",\"75\",\"suzuki\",\"nights\",\"cap\",\"enable\",\"counselling\",\"proxy\",\"margin\",\"shops\",\"hackers\",\"tatkal\",\"opened\",\"cinema\",\"consumption\",\"coal\",\"silent\",\"choosing\",\"introduction\",\"electromagnetic\",\"hcl\",\"complaint\",\"puppies\",\"vc\",\"symbols\",\"lenses\",\"username\",\"arrow\",\"adopted\",\"affects\",\"sudden\",\"pcm\",\"gel\",\"affair\",\"pinterest\",\"statements\",\"supplements\",\"justified\",\"turns\",\"santa\",\"shoe\",\"trek\",\"headphone\",\"girlfriends\",\"verizon\",\"rocket\",\"conference\",\"ego\",\"srm\",\"afghanistan\",\"nucleus\",\"generated\",\"chinas\",\"ww1\",\"consultancy\",\"socially\",\"allen\",\"berkeley\",\"missed\",\"crying\",\"introduced\",\"ps3\",\"flour\",\"brought\",\"elder\",\"minecraft\",\"9th\",\"freelancer\",\"circles\",\"scars\",\"entertainment\",\"turbine\",\"deeply\",\"rom\",\"evolved\",\"nato\",\"strengths\",\"ide\",\"tweets\",\"scholarships\",\"mentor\",\"collect\",\"hdfc\",\"mandarin\",\"solo\",\"terrible\",\"influential\",\"professionals\",\"65\",\"recognition\",\"nvidia\",\"cia\",\"designs\",\"10k\",\"creation\",\"tom\",\"rated\",\"introverts\",\"boiling\",\"communism\",\"treaty\",\"whereas\",\"thanks\",\"cigarette\",\"bengaluru\",\"oneplus\",\"reserve\",\"advertise\",\"nits\",\"helping\",\"bruce\",\"mp3\",\"severe\",\"proposal\",\"cultures\",\"tap\",\"animated\",\"planes\",\"hall\",\"cognitive\",\"supports\",\"keys\",\"gotten\",\"feedback\",\"recording\",\"proceed\",\"membership\",\"console\",\"overseas\",\"hows\",\"william\",\"billionaires\",\"updated\",\"pre\",\"organizations\",\"messi\",\"unexpected\",\"nitrogen\",\"hungry\",\"nigeria\",\"sync\",\"arduino\",\"gross\",\"outer\",\"searching\",\"workers\",\"outlook\",\"europeans\",\"founder\",\"lectures\",\"legitimate\",\"camp\",\"ordinary\",\"investments\",\"bone\",\"raising\",\"quite\",\"ages\",\"joint\",\"johnson\",\"destination\",\"concerned\",\"belief\",\"refrigerator\",\"implications\",\"manga\",\"mandatory\",\"obamas\",\"lawyers\",\"bedroom\",\"icon\",\"qualifications\",\"qa\",\"bikes\",\"boston\",\"holding\",\"session\",\"appointment\",\"weaknesses\",\"iphones\",\"motorcycle\",\"schizophrenia\",\"5th\",\"intellectual\",\"eaten\",\"attending\",\"medals\",\"adsense\",\"nda\",\"6th\",\"kali\",\"georgia\",\"wechat\",\"earlier\",\"drone\",\"truck\",\"horse\",\"merchant\",\"torque\",\"seed\",\"backend\",\"holmes\",\"graduating\",\"400\",\"bones\",\"sufficient\",\"participate\",\"rifle\",\"shock\",\"downloaded\",\"earthquake\",\"breasts\",\"secretary\",\"insert\",\"damaged\",\"massive\",\"standing\",\"remainder\",\"programme\",\"holocaust\",\"totally\",\"belt\",\"affairs\",\"nokia\",\"mechanism\",\"pin\",\"scan\",\"fought\",\"superpower\",\"poetry\",\"signals\",\"educated\",\"scariest\",\"trains\",\"closer\",\"weapon\",\"icici\",\"serial\",\"bicycle\",\"terminal\",\"finished\",\"stolen\",\"inspiring\",\"cuisine\",\"spark\",\"sounds\",\"pricing\",\"click\",\"underwear\",\"kidney\",\"bengal\",\"invention\",\"discount\",\"chase\",\"evaluate\",\"distributed\",\"themes\",\"amd\",\"stem\",\"st\",\"genre\",\"vegetables\",\"council\",\"bihar\",\"thick\",\"mouse\",\"worry\",\"newly\",\"updates\",\"candy\",\"prepaid\",\"wet\",\"rap\",\"motors\",\"implemented\",\"theoretical\",\"fabric\",\"mexican\",\"portfolio\",\"technique\",\"icse\",\"expansion\",\"evolutionary\",\"justify\",\"trick\",\"attached\",\"lightning\",\"pitch\",\"armed\",\"einstein\",\"conversion\",\"iitjee\",\"declared\",\"admit\",\"acquisition\",\"innovation\",\"runs\",\"wwe\",\"trial\",\"memories\",\"refuse\",\"netherlands\",\"committed\",\"fraud\",\"jailbreak\",\"settle\",\"badly\",\"approved\",\"eligibility\",\"trend\",\"increases\",\"comic\",\"quorans\",\"cellular\",\"matches\",\"receiving\",\"bmw\",\"vlsi\",\"signed\",\"lakes\",\"350\",\"communications\",\"pork\",\"joined\",\"anyway\",\"differentiate\",\"actresses\",\"29\",\"ethics\",\"premier\",\"hearing\",\"vehicles\",\"drama\",\"instant\",\"lips\",\"dates\",\"july\",\"holiday\",\"coach\",\"malayalam\",\"superior\",\"soviet\",\"plate\",\"throw\",\"worship\",\"bars\",\"sharma\",\"mothers\",\"integrated\",\"clubs\",\"bug\",\"melbourne\",\"co\",\"bisexual\",\"regions\",\"lesson\",\"heads\",\"reader\",\"snake\",\"qualify\",\"paul\",\"causing\",\"disappear\",\"era\",\"lets\",\"qualified\",\"spiritual\",\"wolf\",\"requirement\",\"journalism\",\"studied\",\"lowest\",\"vader\",\"coursera\",\"stark\",\"configuration\",\"verbal\",\"undergrad\",\"dimensions\",\"transition\",\"efficiently\",\"interstellar\",\"locked\",\"summary\",\"chandigarh\",\"ghosts\",\"included\",\"operate\",\"dimension\",\"mount\",\"noticed\",\"rating\",\"somewhere\",\"martin\",\"bra\",\"bird\",\"zuckerberg\",\"sensor\",\"audience\",\"dirty\",\"starbucks\",\"permission\",\"residential\",\"wholesale\",\"assets\",\"clearly\",\"km\",\"invade\",\"ipcc\",\"fb\",\"shell\",\"shave\",\"loud\",\"tip\",\"seeds\",\"sets\",\"polar\",\"although\",\"june\",\"judaism\",\"anti\",\"instrument\",\"seven\",\"shooting\",\"j\",\"portal\",\"tower\",\"github\",\"linked\",\"admitted\",\"punishment\",\"mid\",\"micro\",\"cured\",\"lifestyle\",\"nor\",\"upset\",\"challenge\",\"soap\",\"standards\",\"integration\",\"lottery\",\"lab\",\"williams\",\"odd\",\"soil\",\"sensitive\",\"route\",\"tattoos\",\"coin\",\"declare\",\"frame\",\"differential\",\"bowl\",\"softwares\",\"notifications\",\"maintenance\",\"inner\",\"apples\",\"converted\",\"recruiter\",\"bombay\",\"command\",\"posting\",\"controlled\",\"balls\",\"personally\",\"poker\",\"extract\",\"hired\",\"bugs\",\"providers\",\"loans\",\"calculator\",\"attractions\",\"torrents\",\"keywords\",\"profession\",\"blogging\",\"transport\",\"sue\",\"anonymously\",\"compounds\",\"robot\",\"buddhism\",\"sweet\",\"defense\",\"nobody\",\"uc\",\"defined\",\"division\",\"bags\",\"epic\",\"unhealthy\",\"craziest\",\"urban\",\"combination\",\"pair\",\"laugh\",\"cv\",\"usd\",\"launched\",\"usps\",\"visited\",\"nexus\",\"regularly\",\"brothers\",\"broker\",\"concentrate\",\"agreement\",\"nervous\",\"frozen\",\"detail\",\"sir\",\"situations\",\"borderline\",\"angularjs\",\"abusive\",\"tourism\",\"relate\",\"august\",\"communist\",\"accountant\",\"dumb\",\"arab\",\"b2b\",\"du\",\"thermal\",\"asians\",\"threat\",\"karma\",\"passive\",\"homosexuality\",\"putting\",\"quantitative\",\"relativity\",\"sanskrit\",\"opinions\",\"verify\",\"bear\",\"roll\",\"expanding\",\"teenage\",\"jeans\",\"providing\",\"shared\",\"extreme\",\"mi\",\"vr\",\"progress\",\"greece\",\"cpu\",\"ips\",\"merge\",\"reputation\",\"loving\",\"salman\",\"iss\",\"warm\",\"dental\",\"extension\",\"attraction\",\"fictional\",\"journal\",\"login\",\"secondary\",\"recognize\",\"southern\",\"ph\",\"lunch\",\"wallet\",\"ronaldo\",\"larger\",\"actions\",\"fathers\",\"adopt\",\"claims\",\"bottom\",\"therapy\",\"patient\",\"described\",\"virginity\",\"functional\",\"ionic\",\"chartered\",\"discover\",\"55\",\"21st\",\"biased\",\"mad\",\"northern\",\"onto\",\"liberals\",\"premium\",\"neutral\",\"detect\",\"diagram\",\"sperm\",\"ga\",\"bleach\",\"spread\",\"contributions\",\"activate\",\"prior\",\"safest\",\"holder\",\"360\",\"aim\",\"rental\",\"families\",\"everybody\",\"shut\",\"payments\",\"150\",\"cube\",\"vegan\",\"newspaper\",\"beef\",\"houses\",\"preferred\",\"simultaneously\",\"marked\",\"reactions\",\"emergency\",\"protection\",\"cab\",\"forex\",\"norway\",\"immigrants\",\"googles\",\"ssb\",\"wing\",\"yrs\",\"ensure\",\"spy\",\"reasoning\",\"strange\",\"forgive\",\"turkish\",\"tag\",\"ranking\",\"platforms\",\"fox\",\"existed\",\"walmart\",\"lazy\",\"ears\",\"clock\",\"beam\",\"rare\",\"bush\",\"2011\",\"stops\",\"batteries\",\"certified\",\"naked\",\"worldwide\",\"staying\",\"lifetime\",\"ted\",\"lake\",\"wealthy\",\"transit\",\"stephen\",\"rural\",\"versa\",\"pets\",\"commonly\",\"adults\",\"ultimate\",\"genius\",\"vinegar\",\"allows\",\"aid\",\"retirement\",\"airtel\",\"sciences\",\"mountain\",\"drinks\",\"tour\",\"wind\",\"seattle\",\"disabled\",\"bodies\",\"lesbian\",\"governments\",\"kinetic\",\"tumblr\",\"absolute\",\"author\",\"toilet\",\"whey\",\"sleepy\",\"molecular\",\"watches\",\"inventions\",\"rain\",\"34\",\"angular\",\"o\",\"dish\",\"however\",\"agents\",\"abs\",\"switzerland\",\"transformer\",\"clearing\",\"consciousness\",\"broadband\",\"uae\",\"automatic\",\"opposed\",\"geography\",\"astronauts\",\"decisions\",\"cement\",\"induction\",\"luxury\",\"upvotes\",\"politicians\",\"posted\",\"toefl\",\"kitchen\",\"noise\",\"radius\",\"dye\",\"miles\",\"risks\",\"scientifically\",\"mnc\",\"propose\",\"prepared\",\"iiit\",\"mention\",\"equipment\",\"darth\",\"january\",\"surname\",\"raised\",\"attitude\",\"gta\",\"david\",\"hike\",\"awkward\",\"proven\",\"productive\",\"lg\",\"filled\",\"atmosphere\",\"lee\",\"irctc\",\"addicted\",\"dynamic\",\"employment\",\"weekend\",\"replacement\",\"singing\",\"owners\",\"bipolar\",\"tomorrow\",\"poems\",\"default\",\"kvpy\",\"sauce\",\"competitors\",\"russians\",\"sample\",\"crimes\",\"hang\",\"inspired\",\"furniture\",\"throughout\",\"presence\",\"efficiency\",\"leg\",\"biological\",\"pilani\",\"conversations\",\"inspirational\",\"bachelor\",\"centers\",\"withdraw\",\"fundamental\",\"comparison\",\"november\",\"fifa\",\"penalty\",\"algebra\",\"joke\",\"htc\",\"pilots\",\"collapse\",\"texts\",\"vocabulary\",\"moved\",\"sc\",\"smile\",\"october\",\"dot\",\"genetic\",\"architect\",\"url\",\"51\",\"sore\",\"uniform\",\"re\",\"rails\",\"smaller\",\"marine\",\"terrorists\",\"nazi\",\"breast\",\"politician\",\"subtitles\",\"chosen\",\"egypt\",\"thin\",\"packages\",\"editor\",\"bands\",\"mythology\",\"reasonable\",\"permit\",\"acceptable\",\"seriously\",\"iraq\",\"fever\",\"visitor\",\"honest\",\"friction\",\"offering\",\"smarter\",\"ahmedabad\",\"replaced\",\"resolution\",\"burning\",\"bridge\",\"catholic\",\"calendar\",\"resident\",\"policies\",\"forced\",\"leading\",\"arm\",\"deserve\",\"context\",\"coolest\",\"arranged\",\"arizona\",\"comics\",\"harm\",\"democrats\",\"jail\",\"breed\",\"anywhere\",\"psu\",\"christ\",\"violence\",\"agriculture\",\"objective\",\"moments\",\"infinity\",\"supporting\",\"critical\",\"trees\",\"beyond\",\"bag\",\"vitamin\",\"assembly\",\"solved\",\"array\",\"perspective\",\"pas\",\"wwii\",\"skinny\",\"contains\",\"lift\",\"cleaning\",\"peter\",\"aap\",\"pimples\",\"initial\",\"lesserknown\",\"sights\",\"principles\",\"realize\",\"millionaire\",\"faux\",\"orbit\",\"desire\",\"hi\",\"prophet\",\"suits\",\"careers\",\"thinks\",\"quantity\",\"spots\",\"wage\",\"asleep\",\"sociology\",\"guard\",\"units\",\"structural\",\"operation\",\"pants\",\"w\",\"bulk\",\"possibly\",\"drunk\",\"fired\",\"accident\",\"inch\",\"bottle\",\"aerospace\",\"narcissist\",\"ux\",\"angeles\",\"wood\",\"index\",\"safely\",\"robotics\",\"edition\",\"metals\",\"practices\",\"scheme\",\"interior\",\"diabetes\",\"nobel\",\"youth\",\"lived\",\"september\",\"chief\",\"proposed\",\"assuming\",\"sin\",\"counter\",\"disable\",\"introduce\",\"restore\",\"swimming\",\"intern\",\"answering\",\"mentioned\",\"crash\",\"laser\",\"teenagers\",\"presentation\",\"quran\",\"classified\",\"demonetisation\",\"communicate\",\"cotton\",\"autism\",\"anger\",\"environmental\",\"stable\",\"7th\",\"bread\",\"invited\",\"wisdom\",\"wrote\",\"widely\",\"minor\",\"formal\",\"dreaming\",\"managers\",\"escape\",\"pollution\",\"taiwan\",\"verification\",\"los\",\"figures\",\"26\",\"illness\",\"sides\",\"compatible\",\"pack\",\"conspiracy\",\"hedge\",\"flights\",\"dropped\",\"former\",\"suffer\",\"aware\",\"designers\",\"mahabharata\",\"evolve\",\"weigh\",\"dies\",\"fruits\",\"cc\",\"butter\",\"sharing\",\"atoms\",\"tongue\",\"transaction\",\"poverty\",\"suffering\",\"presidents\",\"resistance\",\"adam\",\"civilization\",\"mining\",\"toronto\",\"stick\",\"increased\",\"wild\",\"freelance\",\"removal\",\"aws\",\"rio\",\"principle\",\"asus\",\"cute\",\"consumer\",\"pool\",\"variable\",\"tutorials\",\"advance\",\"keeping\",\"visible\",\"cognizant\",\"equations\",\"rooms\",\"krishna\",\"printer\",\"tooth\",\"mentally\",\"realistic\",\"automobile\",\"cake\",\"tie\",\"beach\",\"ghost\",\"comfortable\",\"mysql\",\"oral\",\"closed\",\"helps\",\"maharashtra\",\"admissions\",\"i5\",\"partners\",\"axis\",\"beliefs\",\"neck\",\"clans\",\"hidden\",\"cyber\",\"voting\",\"bacteria\",\"layer\",\"chhattisgarh\",\"5000\",\"sitting\",\"murder\",\"argument\",\"f\",\"privacy\",\"syndrome\",\"2010\",\"bite\",\"vacation\",\"isro\",\"trouble\",\"records\",\"answered\",\"digit\",\"defeat\",\"childhood\",\"5s\",\"gates\",\"f1\",\"town\",\"anal\",\"copper\",\"talks\",\"affiliate\",\"sociopath\",\"installed\",\"static\",\"copyright\",\"animation\",\"donate\",\"stranger\",\"bcom\",\"destroyed\",\"gujarat\",\"foundation\",\"prize\",\"components\",\"foreigner\",\"arms\",\"unlimited\",\"needing\",\"settings\",\"item\",\"eve\",\"competition\",\"landing\",\"beard\",\"patent\",\"ending\",\"2020\",\"incident\",\"petroleum\",\"florida\",\"particularly\",\"ups\",\"generator\",\"leather\",\"heal\",\"experiment\",\"28\",\"passing\",\"talent\",\"remote\",\"300\",\"published\",\"impossible\",\"steam\",\"80\",\"washing\",\"guilty\",\"punjab\",\"70\",\"album\",\"bullet\",\"paris\",\"interface\",\"agencies\",\"mission\",\"digits\",\"modis\",\"recruitment\",\"manipal\",\"telling\",\"meal\",\"orange\",\"stone\",\"links\",\"ab\",\"upper\",\"cameras\",\"p\",\"combat\",\"passion\",\"shower\",\"thailand\",\"beings\",\"grad\",\"27\",\"finger\",\"jump\",\"lights\",\"ui\",\"bba\",\"sweden\",\"arrive\",\"4th\",\"amendment\",\"window\",\"satellite\",\"al\",\"matlab\",\"jokes\",\"muhammad\",\"expression\",\"booking\",\"dinner\",\"skype\",\"lots\",\"2018\",\"teen\",\"finish\",\"dslr\",\"mens\",\"proud\",\"entrepreneurs\",\"ukraine\",\"coins\",\"scenario\",\"transmission\",\"ignore\",\"pride\",\"contribute\",\"grand\",\"curve\",\"false\",\"operations\",\"breakup\",\"eventually\",\"acquire\",\"commission\",\"lies\",\"spoken\",\"pills\",\"masturbating\",\"jackson\",\"airbnb\",\"delivered\",\"disk\",\"radiation\",\"plays\",\"marvel\",\"particle\",\"breakfast\",\"smartphones\",\"relevant\",\"quota\",\"refund\",\"inches\",\"telugu\",\"angel\",\"eastern\",\"inflation\",\"predict\",\"annoying\",\"obc\",\"tough\",\"conduct\",\"originate\",\"notification\",\"backup\",\"harder\",\"richest\",\"pronounce\",\"sri\",\"wheel\",\"wasnt\",\"oldest\",\"sheet\",\"soda\",\"20s\",\"wipro\",\"awesome\",\"facial\",\"z\",\"noida\",\"confident\",\"fbi\",\"corrupt\",\"succeed\",\"reddit\",\"associate\",\"input\",\"guns\",\"rahul\",\"baking\",\"description\",\"musical\",\"apache\",\"nowadays\",\"fluid\",\"capacity\",\"loose\",\"freshman\",\"cfa\",\"optional\",\"theres\",\"ps4\",\"trends\",\"jon\",\"richard\",\"legit\",\"nodejs\",\"document\",\"sexually\",\"particles\",\"singer\",\"printing\",\"captain\",\"valuable\",\"several\",\"aiims\",\"boot\",\"sit\",\"zone\",\"billionaire\",\"floor\",\"gravitational\",\"export\",\"motivation\",\"golden\",\"transgender\",\"healthcare\",\"heaven\",\"81\",\"leaves\",\"listening\",\"overall\",\"press\",\"dishes\",\"railways\",\"warming\",\"enfield\",\"extent\",\"acceleration\",\"afford\",\"bonds\",\"border\",\"registration\",\"cast\",\"hope\",\"shipping\",\"karnataka\",\"specifically\",\"opportunity\",\"arabia\",\"pump\",\"pg\",\"carrier\",\"plot\",\"kingdom\",\"contract\",\"painful\",\"kindle\",\"boring\",\"essential\",\"disney\",\"charger\",\"seconds\",\"measured\",\"honda\",\"ba\",\"makeup\",\"\\u2013\",\"mini\",\"annual\",\"traits\",\"retrieve\",\"willing\",\"swift\",\"consume\",\"hindus\",\"psychopath\",\"tells\",\"solving\",\"conditions\",\"artists\",\"spotify\",\"bomb\",\"integrate\",\"stuck\",\"nikon\",\"gadgets\",\"womens\",\"judge\",\"republicans\",\"vacuum\",\"felt\",\"putin\",\"tennis\",\"concentration\",\"fans\",\"constantly\",\"matrix\",\"secrets\",\"spot\",\"soft\",\"stored\",\"neural\",\"submit\",\"scores\",\"ola\",\"wire\",\"gdp\",\"jaipur\",\"typically\",\"airline\",\"roles\",\"cheaper\",\"machines\",\"shift\",\"impress\",\"basics\",\"32\",\"conservative\",\"birds\",\"tend\",\"duty\",\"setup\",\"rude\",\"pink\",\"church\",\"mine\",\"jack\",\"sending\",\"cooking\",\"versus\",\"expert\",\"olympic\",\"biotechnology\",\"gurgaon\",\"worked\",\"codes\",\"successfully\",\"hardware\",\"faith\",\"pr\",\"television\",\"compound\",\"vit\",\"universal\",\"thank\",\"grammatically\",\"chicago\",\"ivy\",\"worried\",\"enterprise\",\"sodium\",\"railway\",\"remedies\",\"racism\",\"tracking\",\"psychological\",\"apartment\",\"magazine\",\"martial\",\"beauty\",\"waiting\",\"attacks\",\"horror\",\"fantasy\",\"ma\",\"select\",\"increasing\",\"metro\",\"opt\",\"map\",\"watched\",\"gear\",\"icloud\",\"james\",\"comedy\",\"lollipop\",\"ireland\",\"upcoming\",\"italian\",\"oven\",\"emotionally\",\"decided\",\"lakh\",\"grey\",\"kept\",\"produced\",\"mouth\",\"manual\",\"dhoni\",\"fill\",\"throat\",\"shoot\",\"liked\",\"innovative\",\"immediately\",\"lonely\",\"fighting\",\"max\",\"accidentally\",\"schedule\",\"orgasm\",\"rape\",\"ride\",\"muscles\",\"graduates\",\"taller\",\"boost\",\"lakhs\",\"microwave\",\"electrons\",\"upon\",\"attract\",\"ap\",\"abuse\",\"earths\",\"forever\",\"underrated\",\"facing\",\"terrorist\",\"alien\",\"celebrity\",\"frequently\",\"vpn\",\"wales\",\"powder\",\"superman\",\"mixed\",\"caught\",\"goods\",\"beginning\",\"starts\",\"atomic\",\"associated\",\"triangle\",\"parties\",\"banning\",\"k\",\"honey\",\"monitor\",\"graph\",\"leaders\",\"embedded\",\"juice\",\"split\",\"lady\",\"sequence\",\"911\",\"harassment\",\"nepal\",\"pop\",\"habit\",\"setting\",\"edge\",\"ww2\",\"gps\",\"federal\",\"charged\",\"lying\",\"empty\",\"whenever\",\"airplane\",\"jet\",\"destroy\",\"ies\",\"wouldnt\",\"quick\",\"decrease\",\"robert\",\"pradesh\",\"professors\",\"massage\",\"held\",\"spending\",\"markets\",\"objects\",\"chart\",\"mechanics\",\"silver\",\"usage\",\"basketball\",\"gen\",\"periods\",\"identity\",\"individuals\",\"css\",\"soul\",\"ipod\",\"chest\",\"understanding\",\"coast\",\"classic\",\"spain\",\"babies\",\"sd\",\"hostel\",\"shirt\",\"further\",\"logical\",\"franchise\",\"obtain\",\"foreigners\",\"fully\",\"region\",\"designed\",\"cheated\",\"beneficial\",\"shes\",\"accent\",\"couldnt\",\"queen\",\"sick\",\"blowing\",\"properly\",\"stronger\",\"returns\",\"condition\",\"musk\",\"ugly\",\"teams\",\"filter\",\"snow\",\"glasses\",\"employer\",\"solid\",\"followed\",\"embarrassing\",\"auto\",\"meeting\",\"belong\",\"strike\",\"internships\",\"bachelors\",\"administration\",\"temple\",\"wealth\",\"retail\",\"speakers\",\"electoral\",\"headphones\",\"streaming\",\"mirror\",\"diesel\",\"republic\",\"antivirus\",\"customers\",\"atm\",\"vagina\",\"cigarettes\",\"aptitude\",\"lewis\",\"saudi\",\"puppy\",\"recovery\",\"jimmy\",\"obsessed\",\"domestic\",\"pen\",\"batch\",\"de\",\"drawing\",\"ai\",\"medium\",\"simply\",\"photoshop\",\"sms\",\"turning\",\"nadu\",\"appropriate\",\"adobe\",\"substitute\",\"fruit\",\"recipes\",\"fighter\",\"saving\",\"greater\",\"cheat\",\"routine\",\"push\",\"sherlock\",\"arguments\",\"sony\",\"import\",\"soldiers\",\"charges\",\"emotions\",\"ibm\",\"un\",\"innovations\",\"itunes\",\"consultant\",\"iims\",\"relations\",\"psychopaths\",\"existing\",\"angle\",\"clash\",\"bus\",\"australian\",\"crazy\",\"pull\",\"theories\",\"savings\",\"suit\",\"contrast\",\"calculus\",\"pi\",\"credits\",\"bluetooth\",\"himself\",\"traveling\",\"criminal\",\"xiaomi\",\"zealand\",\"seats\",\"electron\",\"script\",\"11th\",\"lessons\",\"programmers\",\"december\",\"flag\",\"singh\",\"arabic\",\"sale\",\"nfl\",\"grammar\",\"killing\",\"virgin\",\"differently\",\"poem\",\"provided\",\"automation\",\"shy\",\"translation\",\"mathematical\",\"45\",\"celebrities\",\"spring\",\"downloading\",\"dr\",\"organization\",\"majority\",\"clients\",\"hd\",\"motivate\",\"thats\",\"thesis\",\"door\",\"weakest\",\"saw\",\"canon\",\"younger\",\"costs\",\"river\",\"rings\",\"factory\",\"decent\",\"clintons\",\"holes\",\"desert\",\"divorce\",\"sold\",\"cheese\",\"atom\",\"taught\",\"minute\",\"ocean\",\"crisis\",\"represent\",\"surgical\",\"parent\",\"brexit\",\"possibility\",\"longest\",\"edit\",\"scholarship\",\"motivated\",\"chocolate\",\"faced\",\"90\",\"parallel\",\"foot\",\"examination\",\"friendly\",\"kinds\",\"wins\",\"islamic\",\"degrees\",\"registered\",\"distribution\",\"junior\",\"gave\",\"sing\",\"articles\",\"hadoop\",\"saved\",\"hero\",\"ear\",\"asks\",\"improved\",\"teenager\",\"forms\",\"wash\",\"provides\",\"washington\",\"strikes\",\"binary\",\"syria\",\"indonesia\",\"powers\",\"highly\",\"heshe\",\"happiness\",\"director\",\"citizenship\",\"knew\",\"humanity\",\"translate\",\"nba\",\"permanently\",\"soccer\",\"todays\",\"challenges\",\"barack\",\"title\",\"latin\",\"fitness\",\"genuine\",\"investor\",\"dislike\",\"scenes\",\"hacker\",\"bangladesh\",\"ebay\",\"earning\",\"dell\",\"paytm\",\"spouse\",\"bored\",\"roman\",\"official\",\"dragon\",\"park\",\"except\",\"habits\",\"quote\",\"astrology\",\"congress\",\"automatically\",\"island\",\"religions\",\"christianity\",\"supreme\",\"owner\",\"hell\",\"wikipedia\",\"cancel\",\"industries\",\"actress\",\"client\",\"visual\",\"michael\",\"remain\",\"ability\",\"concrete\",\"conflict\",\"string\",\"linear\",\"supposed\",\"engines\",\"2012\",\"\\u2018\",\"lesser\",\"traditional\",\"episodes\",\"goals\",\"tata\",\"opening\",\"target\",\"weak\",\"anonymous\",\"bjp\",\"resource\",\"concepts\",\"ruby\",\"friendship\",\"nyc\",\"pretty\",\"implement\",\"painting\",\"ill\",\"agency\",\"reverse\",\"confused\",\"italy\",\"response\",\"yellow\",\"dance\",\"contain\",\"vice\",\"editing\",\"acting\",\"weirdest\",\"feels\",\"govt\",\"accounting\",\"rise\",\"wise\",\"leaving\",\"lens\",\"artist\",\"arvind\",\"pattern\",\"scared\",\"attention\",\"airlines\",\"sky\",\"malaysia\",\"port\",\"attempt\",\"element\",\"classical\",\"shown\",\"safety\",\"including\",\"tablet\",\"la\",\"terrorism\",\"commit\",\"maps\",\"african\",\"viewed\",\"calling\",\"6s\",\"agent\",\"output\",\"justice\",\"don\",\"addiction\",\"lock\",\"vegetarian\",\"britain\",\"percent\",\"meditation\",\"ibps\",\"monthly\",\"writers\",\"forward\",\"stuff\",\"mr\",\"ready\",\"forgot\",\"flying\",\"recommended\",\"fields\",\"blind\",\"l\",\"hinduism\",\"desktop\",\"host\",\"tattoo\",\"maintain\",\"boards\",\"helpful\",\"semester\",\"load\",\"tier\",\"agree\",\"factor\",\"elon\",\"freshers\",\"sql\",\"cases\",\"exact\",\"confidence\",\"behavior\",\"hacked\",\"quotes\",\"hydrogen\",\"pakistani\",\"masturbate\",\"divided\",\"skill\",\"fine\",\"falling\",\"chess\",\"charging\",\"pages\",\"vector\",\"supporters\",\"waste\",\"sanders\",\"affordable\",\"unlock\",\"techniques\",\"wine\",\"keyboard\",\"cm\",\"wireless\",\"lawyer\",\"egg\",\"cope\",\"mindblowing\",\"recipe\",\"corruption\",\"scored\",\"secure\",\"teaching\",\"opposite\",\"educational\",\"bernie\",\"y\",\"library\",\"models\",\"kid\",\"stack\",\"separate\",\"19\",\"extremely\",\"properties\",\"cable\",\"magic\",\"removed\",\"computing\",\"hospital\",\"beer\",\"christians\",\"twice\",\"kg\",\"consulting\",\"whose\",\"serious\",\"petrol\",\"travelling\",\"revolution\",\"custom\",\"structures\",\"guide\",\"celebrate\",\"lenovo\",\"turned\",\"ielts\",\"grades\",\"fuel\",\"relative\",\"oracle\",\"academy\",\"lack\",\"passed\",\"relation\",\"values\",\"movement\",\"strategies\",\"eu\",\"emotional\",\"legs\",\"pokemon\",\"3g\",\"iran\",\"mostly\",\"jewish\",\"offered\",\"log\",\"hasnt\",\"explanation\",\"signal\",\"stores\",\"syllabus\",\"bits\",\"yoga\",\"weapons\",\"gods\",\"10000\",\"delivery\",\"gb\",\"sum\",\"letters\",\"venture\",\"selection\",\"winning\",\"35\",\"comment\",\"consequences\",\"sport\",\"items\",\"seems\",\"ring\",\"jealous\",\"laptops\",\"criteria\",\"fresh\",\"reference\",\"bitcoin\",\"infinite\",\"perform\",\"brazil\",\"density\",\"plans\",\"hosting\",\"clothing\",\"hong\",\"dying\",\"heavy\",\"steve\",\"gone\",\"damage\",\"missing\",\"ethical\",\"republican\",\"contacts\",\"activity\",\"electronic\",\"qualities\",\"piano\",\"hisher\",\"repair\",\"posts\",\"disease\",\"winter\",\"ten\",\"publish\",\"paint\",\"physically\",\"executive\",\"deposit\",\"elements\",\"xbox\",\"ceo\",\"visitors\",\"discovered\",\"tickets\",\"literature\",\"primary\",\"naturally\",\"senior\",\"u\",\"hardest\",\"debate\",\"frequency\",\"vietnam\",\"cry\",\"assistant\",\"gifts\",\"practical\",\"funny\",\"valid\",\"liberal\",\"refer\",\"beat\",\"shape\",\"institutes\",\"msc\",\"internal\",\"located\",\"significant\",\"scientists\",\"g\",\"ship\",\"proper\",\"independence\",\"added\",\"hes\",\"catch\",\"urine\",\"effectively\",\"named\",\"responsible\",\"strength\",\"whos\",\"immigration\",\"vehicle\",\"tesla\",\"kong\",\"meth\",\"england\",\"huge\",\"pizza\",\"rejected\",\"george\",\"fan\",\"salt\",\"browser\",\"sat\",\"loved\",\"fees\",\"walking\",\"symbol\",\"equity\",\"ubuntu\",\"alternatives\",\"theme\",\"virus\",\"manufacturing\",\"cutoff\",\"pure\",\"22\",\"introvert\",\"unable\",\"greek\",\"rice\",\"gst\",\"happening\",\"centre\",\"kiss\",\"prison\",\"bigger\",\"font\",\"construction\",\"exercises\",\"keeps\",\"gmat\",\"offers\",\"cross\",\"nasa\",\"unit\",\"advertising\",\"cup\",\"fixed\",\"limited\",\"billion\",\"subjects\",\"arts\",\"worlds\",\"stupid\",\"breaking\",\"funding\",\"tank\",\"generate\",\"efficient\",\"exists\",\"atheist\",\"entrepreneur\",\"direction\",\"broken\",\"offline\",\"firms\",\"station\",\"magnetic\",\"include\",\"aliens\",\"tinder\",\"logo\",\"photography\",\"worse\",\"besides\",\"path\",\"somebody\",\"interviews\",\"persons\",\"figure\",\"placed\",\"nation\",\"knows\",\"unmarried\",\"hp\",\"profitable\",\"tricks\",\"boss\",\"reply\",\"scam\",\"circle\",\"processor\",\"debt\",\"growing\",\"royal\",\"fiction\",\"department\",\"mistake\",\"weird\",\"graphics\",\"external\",\"article\",\"volume\",\"scratch\",\"chain\",\"protect\",\"storage\",\"texas\",\"liquid\",\"circuit\",\"graphic\",\"tired\",\"weather\",\"oxygen\",\"velocity\",\"dad\",\"band\",\"teachers\",\"drugs\",\"complex\",\"studio\",\"accenture\",\"leader\",\"levels\",\"goal\",\"logic\",\"acne\",\"plastic\",\"motion\",\"button\",\"peoples\",\"vision\",\"gap\",\"dollar\",\"computers\",\"stomach\",\"sources\",\"constant\",\"draw\",\"dress\",\"calculated\",\"sort\",\"3rd\",\"club\",\"channels\",\"creating\",\"candidates\",\"kejriwal\",\"broke\",\"sentences\",\"format\",\"emails\",\"raw\",\"stanford\",\"completed\",\"documents\",\"pan\",\"showing\",\"enter\",\"unknown\",\"bought\",\"router\",\"claim\",\"six\",\"technologies\",\"\\u20b9\",\"flipkart\",\"infosys\",\"mutual\",\"angry\",\"iits\",\"affected\",\"prices\",\"shares\",\"naruto\",\"processing\",\"finding\",\"democratic\",\"evolution\",\"harmful\",\"dual\",\"virtual\",\"member\",\"wave\",\"actual\",\"extra\",\"radio\",\"citizens\",\"e\",\"hr\",\"previous\",\"stopped\",\"walk\",\"redmi\",\"speaker\",\"torrent\",\"smoke\",\"mistakes\",\"flash\",\"iron\",\"entire\",\"individual\",\"express\",\"flow\",\"mode\",\"aircraft\",\"section\",\"planets\",\"10th\",\"respond\",\"easier\",\"evil\",\"percentile\",\"seeing\",\"calories\",\"upgrade\",\"professor\",\"v\",\"launch\",\"staff\",\"till\",\"silicon\",\"entry\",\"constitution\",\"century\",\"notice\",\"ie\",\"atheists\",\"tests\",\"21\",\"became\",\"kerala\",\"truly\",\"count\",\"essay\",\"papers\",\"accurate\",\"colors\",\"respect\",\"ideal\",\"rock\",\"reliance\",\"peace\",\"masturbation\",\"audio\",\"random\",\"independent\",\"colour\",\"hotels\",\"presidency\",\"generation\",\"paypal\",\"shot\",\"central\",\"released\",\"occur\",\"display\",\"industrial\",\"particular\",\"risk\",\"eg\",\"belly\",\"pet\",\"similarities\",\"organic\",\"marijuana\",\"networks\",\"aspects\",\"flat\",\"d\",\"comments\",\"nose\",\"identify\",\"rbi\",\"improvement\",\"directly\",\"framework\",\"suggestions\",\"designing\",\"brands\",\"religious\",\"influence\",\"novels\",\"statistics\",\"historical\",\"ground\",\"commerce\",\"pregnancy\",\"romantic\",\"failure\",\"wearing\",\"john\",\"apart\",\"bay\",\"symptoms\",\"200\",\"couple\",\"60\",\"canadian\",\"lie\",\"print\",\"carry\",\"gender\",\"experienced\",\"pounds\",\"reservation\",\"either\",\"stage\",\"artificial\",\"fit\",\"blogs\",\"developing\",\"environment\",\"learned\",\"copy\",\"phase\",\"bond\",\"democracy\",\"cgpa\",\"operating\",\"surface\",\"officers\",\"h1b\",\"ip\",\"workout\",\"fee\",\"elected\",\"hands\",\"largest\",\"sad\",\"shouldnt\",\"seat\",\"sister\",\"developers\",\"despite\",\"scene\",\"po\",\"diploma\",\"request\",\"empire\",\"ratio\",\"considering\",\"academic\",\"tree\",\"register\",\"advantage\",\"eligible\",\"nit\",\"shop\",\"intel\",\"funniest\",\"alternative\",\"fail\",\"ads\",\"nature\",\"miss\",\"involved\",\"overrated\",\"attend\",\"freedom\",\"dna\",\"beginners\",\"raise\",\"dry\",\"failed\",\"legally\",\"batman\",\"upload\",\"carbon\",\"regret\",\"applied\",\"points\",\"investors\",\"pick\",\"equivalent\",\"connected\",\"christmas\",\"lyrics\",\"nations\",\"caused\",\"bsc\",\"1st\",\"action\",\"activities\",\"biology\",\"hide\",\"asia\",\"takes\",\"require\",\"alive\",\"mom\",\"cycle\",\"generally\",\"campaign\",\"fair\",\"wake\",\"bit\",\"rules\",\"olympics\",\"racist\",\"areas\",\"eggs\",\"feature\",\"sap\",\"taxes\",\"ad\",\"shall\",\"theyre\",\"species\",\"pilot\",\"firm\",\"fish\",\"define\",\"doctors\",\"piece\",\"itself\",\"bang\",\"solutions\",\"iim\",\"2013\",\"wanted\",\"length\",\"burn\",\"waves\",\"bar\",\"gives\",\"forces\",\"christian\",\"anybody\",\"relationships\",\"nice\",\"wedding\",\"various\",\"brother\",\"films\",\"cream\",\"suddenly\",\"philippines\",\"fashion\",\"truth\",\"gpa\",\"cgl\",\"tall\",\"goa\",\"hacking\",\"statement\",\"reset\",\"materials\",\"played\",\"match\",\"usb\",\"novel\",\"unusual\",\"knowing\",\"selected\",\"valley\",\"chrome\",\"couples\",\"becomes\",\"died\",\"cheating\",\"community\",\"groups\",\"category\",\"pursuing\",\"writer\",\"mexico\",\"anymore\",\"sugar\",\"climate\",\"brown\",\"players\",\"ii\",\"reviews\",\"took\",\"led\",\"connection\",\"begin\",\"html\",\"changing\",\"received\",\"plants\",\"debit\",\"record\",\"revenue\",\"mars\",\"strongest\",\"members\",\"formed\",\"union\",\"thought\",\"existence\",\"kashmir\",\"gandhi\",\"pdf\",\"banned\",\"0\",\"plane\",\"treated\",\"electricity\",\"scale\",\"basis\",\"moral\",\"images\",\"methods\",\"certification\",\"voltage\",\"style\",\"base\",\"excel\",\"amazing\",\"regarding\",\"result\",\"rates\",\"hold\",\"indias\",\"airport\",\"businesses\",\"feet\",\"built\",\"linkedin\",\"signs\",\"above\",\"networking\",\"r\",\"shopping\",\"looks\",\"went\",\"placements\",\"bed\",\"experiences\",\"daughter\",\"tourist\",\"employee\",\"caste\",\"wait\",\"direct\",\"especially\",\"feed\",\"continue\",\"expected\",\"algorithm\",\"depressed\",\"shoes\",\"soon\",\"supply\",\"stress\",\"24\",\"inr\",\"foods\",\"rent\",\"architecture\",\"ban\",\"entrance\",\"actors\",\"messenger\",\"unique\",\"kolkata\",\"funds\",\"rupee\",\"promote\",\"rupees\",\"jews\",\"23\",\"cook\",\"cultural\",\"accepted\",\"hear\",\"glass\",\"road\",\"joining\",\"measure\",\"havent\",\"metal\",\"resume\",\"afraid\",\"turkey\",\"meat\",\"goes\",\"installation\",\"netflix\",\"benefit\",\"demand\",\"release\",\"produce\",\"report\",\"cover\",\"changes\",\"double\",\"2nd\",\"reaction\",\"killed\",\"steel\",\"requirements\",\"france\",\"exchange\",\"ac\",\"quantum\",\"reliable\",\"box\",\"results\",\"lives\",\"treatment\",\"4g\",\"ece\",\"probability\",\"sleeping\",\"philosophy\",\"handle\",\"forget\",\"driver\",\"demonetization\",\"algorithms\",\"trade\",\"rule\",\"muscle\",\"calls\",\"tried\",\"mental\",\"sure\",\"quit\",\"navy\",\"achieve\",\"francisco\",\"location\",\"until\",\"sense\",\"anxiety\",\"wordpress\",\"focus\",\"fact\",\"production\",\"conversation\",\"motor\",\"five\",\"attracted\",\"hit\",\"analyst\",\"moto\",\"isis\",\"chicken\",\"sector\",\"permanent\",\"along\",\"king\",\"slow\",\"candidate\",\"minutes\",\"purchase\",\"gun\",\"selling\",\"usually\",\"\\u2026\",\"fly\",\"round\",\"panel\",\"error\",\"stocks\",\"api\",\"remember\",\"africa\",\"paying\",\"hitler\",\"3d\",\"regular\",\"losing\",\"mail\",\"yahoo\",\"cheapest\",\"older\",\"concept\",\"characters\",\"definition\",\"lines\",\"pm\",\"cloud\",\"cats\",\"russian\",\"ipad\",\"korean\",\"proof\",\"battle\",\"stars\",\"stream\",\"recent\",\"typical\",\"performance\",\"harvard\",\"restaurant\",\"origin\",\"listen\",\"smell\",\"decide\",\"serve\",\"undergraduate\",\"profit\",\"situation\",\"surgery\",\"asking\",\"plant\",\"link\",\"square\",\"completing\",\"four\",\"trust\",\"payment\",\"gym\",\"andor\",\"worklife\",\"guitar\",\"elections\",\"half\",\"investing\",\"scientist\",\"street\",\"needs\",\"native\",\"thoughts\",\"reality\",\"40\",\"medicine\",\"race\",\"choice\",\"longer\",\"came\",\"applying\",\"hiring\",\"west\",\"weed\",\"hacks\",\"step\",\"sea\",\"crime\",\"devices\",\"event\",\"citizen\",\"14\",\"17\",\"ticket\",\"fund\",\"equation\",\"suicide\",\"whom\",\"met\",\"almost\",\"designer\",\"local\",\"departments\",\"khan\",\"customer\",\"banking\",\"javascript\",\"trip\",\"issue\",\"react\",\"cannot\",\"dubai\",\"wall\",\"touch\",\"parts\",\"loves\",\"clothes\",\"straight\",\"sexual\",\"active\",\"inpatient\",\"dreams\",\"protein\",\"table\",\"exercise\",\"lord\",\"mtech\",\"creative\",\"ball\",\"speaking\",\"son\",\"receive\",\"dollars\",\"domain\",\"prospects\",\"hour\",\"graduation\",\"commercial\",\"themselves\",\"factors\",\"jesus\",\"programmer\",\"recommend\",\"replace\",\"chat\",\"placement\",\"episode\",\"fastest\",\"restaurants\",\"object\",\"drivers\",\"gaming\",\"mark\",\"taste\",\"seem\",\"perfect\",\"potential\",\"trumps\",\"appear\",\"rights\",\"equal\",\"rest\",\"package\",\"meant\",\"drop\",\"cool\",\"material\",\"potter\",\"events\",\"convince\",\"completely\",\"n\",\"zero\",\"significance\",\"lower\",\"feelings\",\"followers\",\"evidence\",\"certain\",\"later\",\"original\",\"bible\",\"disorder\",\"testing\",\"via\",\"stand\",\"actor\",\"characteristics\",\"cities\",\"reach\",\"ago\",\"mbbs\",\"speech\",\"electric\",\"approach\",\"scientific\",\"root\",\"analytics\",\"below\",\"grade\",\"mains\",\"topic\",\"fun\",\"ancient\",\"adult\",\"standard\",\"ice\",\"everyday\",\"population\",\"invented\",\"european\",\"intelligent\",\"11\",\"subject\",\"rehab\",\"background\",\"giving\",\"platform\",\"flight\",\"thrones\",\"maths\",\"dc\",\"teeth\",\"mit\",\"weeks\",\"east\",\"means\",\"programs\",\"beginner\",\"heat\",\"third\",\"tea\",\"range\",\"london\",\"maximum\",\"enjoy\",\"2000\",\"cells\",\"quickly\",\"here\",\"expensive\",\"phrase\",\"partner\",\"league\",\"anime\",\"latest\",\"specific\",\"whether\",\"functions\",\"os\",\"fire\",\"saying\",\"secret\",\"13\",\"planet\",\"hole\",\"super\",\"teacher\",\"strong\",\"accounts\",\"minister\",\"database\",\"economic\",\"channel\",\"estate\",\"ram\",\"switch\",\"asian\",\"smoking\",\"branch\",\"israel\",\"18\",\"features\",\"success\",\"lead\",\"total\",\"key\",\"master\",\"ok\",\"favourite\",\"psychology\",\"pok\\u00e9mon\",\"nothing\",\"clean\",\"25\",\"politics\",\"drinking\",\"sometimes\",\"recently\",\"korea\",\"sent\",\"poor\",\"hindu\",\"hollywood\",\"survive\",\"cure\",\"property\",\"return\",\"narendra\",\"budget\",\"sports\",\"limit\",\"arent\",\"boys\",\"driving\",\"whole\",\"cash\",\"smartphone\",\"php\",\"developed\",\"ssc\",\"hot\",\"attractive\",\"tool\",\"physical\",\"ecommerce\",\"sbi\",\"morning\",\"animal\",\"multiple\",\"loan\",\"acid\",\"fresher\",\"spanish\",\"moving\",\"decision\",\"county\",\"determined\",\"becoming\",\"seo\",\"summer\",\"manage\",\"server\",\"competitive\",\"milk\",\"importance\",\"banks\",\"cheap\",\"powerful\",\"issues\",\"penis\",\"according\",\"analysis\",\"bike\",\"position\",\"western\",\"advanced\",\"campus\",\"highest\",\"front\",\"court\",\"status\",\"gravity\",\"positions\",\"comes\",\"steps\",\"complete\",\"electronics\",\"won\",\"hurt\",\"certificate\",\"temperature\",\"player\",\"someones\",\"communication\",\"million\",\"talking\",\"preparing\",\"finance\",\"cancer\",\"9\",\"harry\",\"accept\",\"2014\",\"plus\",\"born\",\"tcs\",\"license\",\"bring\",\"teach\",\"practice\",\"trading\",\"m\",\"might\",\"opportunities\",\"global\",\"wish\",\"outside\",\"attack\",\"procedure\",\"needed\",\"update\",\"coffee\",\"provider\",\"rather\",\"16\",\"allow\",\"tamil\",\"mix\",\"connect\",\"room\",\"watching\",\"deep\",\"york\",\"image\",\"birth\",\"sign\",\"birthday\",\"playing\",\"wars\",\"grads\",\"hire\",\"phones\",\"cbse\",\"details\",\"clear\",\"cricket\",\"dangerous\",\"track\",\"corporate\",\"voice\",\"upsc\",\"content\",\"okay\",\"san\",\"heart\",\"far\",\"heard\",\"prove\",\"positive\",\"moment\",\"sales\",\"opinion\",\"engineers\",\"block\",\"diet\",\"coding\",\"core\",\"baby\",\"father\",\"little\",\"large\",\"blocked\",\"distance\",\"land\",\"simple\",\"husband\",\"told\",\"traffic\",\"prevent\",\"pictures\",\"planning\",\"fear\",\"classes\",\"towards\",\"technical\",\"building\",\"trying\",\"photo\",\"early\",\"uses\",\"sydney\",\"startups\",\"act\",\"id\",\"describe\",\"12th\",\"may\",\"formula\",\"gets\",\"present\",\"wont\",\"cut\",\"treat\",\"mathematics\",\"visiting\",\"eye\",\"policy\",\"close\",\"cse\",\"suitable\",\"version\",\"tools\",\"head\",\"minimum\",\"chennai\",\"easily\",\"method\",\"intelligence\",\"gre\",\"mother\",\"doctor\",\"macbook\",\"deleted\",\"gas\",\"suggest\",\"cards\",\"files\",\"loss\",\"art\",\"easiest\",\"late\",\"among\",\"together\",\"depression\",\"higher\",\"alone\",\"economics\",\"dead\",\"growth\",\"insurance\",\"gold\",\"necessary\",\"neet\",\"blog\",\"example\",\"memory\",\"crack\",\"consider\",\"works\",\"currency\",\"recruit\",\"pursue\",\"strategy\",\"young\",\"cs\",\"projects\",\"50\",\"manager\",\"abroad\",\"schools\",\"illegal\",\"inside\",\"stories\",\"hand\",\"t\",\"greatest\",\"personality\",\"galaxy\",\"device\",\"views\",\"user\",\"chemistry\",\"cars\",\"iq\",\"prefer\",\"picture\",\"nuclear\",\"middle\",\"applications\",\"gmail\",\"laws\",\"final\",\"capital\",\"kids\",\"society\",\"fake\",\"bill\",\"save\",\"though\",\"likely\",\"determine\",\"shows\",\"character\",\"snapchat\",\"youre\",\"eyes\",\"islam\",\"marry\",\"brand\",\"yet\",\"impact\",\"speak\",\"within\",\"rich\",\"resources\",\"net\",\"non\",\"pressure\",\"changed\",\"allowed\",\"obama\",\"cold\",\"running\",\"feeling\",\"jio\",\"football\",\"gift\",\"written\",\"buying\",\"mac\",\"spend\",\"prime\",\"blue\",\"train\",\"studies\",\"negative\",\"thinking\",\"solution\",\"sun\",\"least\",\"following\",\"install\",\"else\",\"muslims\",\"camera\",\"vote\",\"linux\",\"expect\",\"german\",\"recover\",\"starting\",\"crush\",\"coming\",\"muslim\",\"modern\",\"battery\",\"provide\",\"access\",\"presidential\",\"interest\",\"dating\",\"pro\",\"likes\",\"french\",\"singapore\",\"useful\",\"already\",\"professional\",\"percentage\",\"drink\",\"created\",\"board\",\"passport\",\"structure\",\"case\",\"height\",\"microsoft\",\"break\",\"screen\",\"names\",\"chance\",\"special\",\"30\",\"skin\",\"natural\",\"color\",\"interested\",\"amount\",\"pain\",\"healthy\",\"hack\",\"messages\",\"ias\",\"gay\",\"disadvantages\",\"pass\",\"moon\",\"systems\",\"hindi\",\"financial\",\"taken\",\"yes\",\"sim\",\"pregnant\",\"faster\",\"animals\",\"internship\",\"let\",\"photos\",\"balance\",\"sound\",\"due\",\"knowledge\",\"charge\",\"message\",\"officer\",\"solar\",\"military\",\"meet\",\"option\",\"reading\",\"across\",\"overcome\",\"everyone\",\"everything\",\"wife\",\"reduce\",\"chances\",\"samsung\",\"income\",\"bollywood\",\"season\",\"europe\",\"boy\",\"currently\",\"ex\",\"smart\",\"california\",\"engine\",\"paid\",\"army\",\"contact\",\"address\",\"wants\",\"ones\",\"gain\",\"reasons\",\"avoid\",\"please\",\"note\",\"known\",\"pune\",\"film\",\"national\",\"once\",\"users\",\"porn\",\"scope\",\"twitter\",\"drug\",\"rank\",\"japan\",\"fight\",\"transfer\",\"political\",\"green\",\"news\",\"self\",\"uber\",\"basic\",\"british\",\"religion\",\"hyderabad\",\"topics\",\"explain\",\"phd\",\"eating\",\"letter\",\"calculate\",\"ive\",\"tech\",\"personal\",\"japanese\",\"check\",\"hotel\",\"wifi\",\"beautiful\",\"difficult\",\"paper\",\"languages\",\"investment\",\"develop\",\"north\",\"electrical\",\"ios\",\"alcohol\",\"exactly\",\"profile\",\"past\",\"exams\",\"ca\",\"convert\",\"vs\",\"understand\",\"care\",\"dream\",\"try\",\"americans\",\"lost\",\"chemical\",\"source\",\"b\",\"admission\",\"easy\",\"must\",\"three\",\"effect\",\"view\",\"options\",\"page\",\"away\",\"red\",\"said\",\"line\",\"short\",\"happy\",\"security\",\"dark\",\"preparation\",\"second\",\"fat\",\"matter\",\"few\",\"since\",\"role\",\"pc\",\"office\",\"team\",\"delete\",\"cell\",\"election\",\"economy\",\"term\",\"dogs\",\"text\",\"female\",\"effective\",\"brain\",\"share\",\"digital\",\"btech\",\"russia\",\"\\u201c\",\"party\",\"numbers\",\"20\",\"store\",\"male\",\"mass\",\"turn\",\"left\",\"married\",\"rs\",\"taking\",\"those\",\"password\",\"follow\",\"advice\",\"isnt\",\"15\",\"types\",\"network\",\"\\u201d\",\"week\",\"purpose\",\"related\",\"fix\",\"started\",\"courses\",\"masters\",\"grow\",\"8\",\"fast\",\"leave\",\"100\",\"often\",\"found\",\"pros\",\"marriage\",\"cons\",\"quality\",\"words\",\"kill\",\"price\",\"near\",\"modi\",\"enough\",\"search\",\"python\",\"x\",\"blood\",\"math\",\"yourself\",\"drive\",\"size\",\"star\",\"graduate\",\"majors\",\"500\",\"model\",\"studying\",\"general\",\"oil\",\"colleges\",\"area\",\"developer\",\"germany\",\"industry\",\"full\",\"training\",\"says\",\"period\",\"videos\",\"universe\",\"fall\",\"daily\",\"information\",\"foreign\",\"credit\",\"force\",\"12\",\"youve\",\"south\",\"offer\",\"set\",\"add\",\"send\",\"australia\",\"center\",\"1000\",\"famous\",\"2015\",\"lot\",\"function\",\"tax\",\"correct\",\"solve\",\"advantages\",\"coaching\",\"institute\",\"effects\",\"guys\",\"again\",\"group\",\"hours\",\"side\",\"sentence\",\"low\",\"similar\",\"plan\",\"children\",\"answers\",\"talk\",\"marks\",\"ideas\",\"theory\",\"death\",\"compared\",\"night\",\"remove\",\"dog\",\"anything\",\"single\",\"successful\",\"gate\",\"indians\",\"put\",\"problems\",\"move\",\"writing\",\"point\",\"invest\",\"asked\",\"biggest\",\"others\",\"stock\",\"notes\",\"story\",\"machine\",\"private\",\"sell\",\"seen\",\"required\",\"field\",\"file\",\"rate\",\"humans\",\"application\",\"face\",\"sites\",\"mind\",\"facts\",\"mumbai\",\"post\",\"stay\",\"child\",\"terms\",\"products\",\"control\",\"legal\",\"police\",\"didnt\",\"level\",\"worst\",\"hate\",\"visit\",\"called\",\"amazon\",\"causes\",\"health\",\"form\",\"physics\",\"iit\",\"skills\",\"times\",\"medical\",\"based\",\"list\",\"websites\",\"die\",\"part\",\"less\",\"benefits\",\"apple\",\"instead\",\"these\",\"boyfriend\",\"sleep\",\"canada\",\"reason\",\"education\",\"cause\",\"jee\",\"value\",\"today\",\"media\",\"public\",\"happened\",\"product\",\"research\",\"main\",\"behind\",\"international\",\"project\",\"uk\",\"differ\",\"7\",\"places\",\"wear\",\"order\",\"date\",\"etc\",\"small\",\"songs\",\"apps\",\"email\",\"given\",\"wrong\",\"site\",\"normal\",\"culture\",\"also\",\"civil\",\"city\",\"available\",\"house\",\"exist\",\"startup\",\"services\",\"ms\",\"both\",\"down\",\"2017\",\"run\",\"cat\",\"well\",\"space\",\"join\",\"deal\",\"games\",\"visa\",\"rid\",\"air\",\"speed\",\"popular\",\"problem\",\"support\",\"current\",\"pakistan\",\"choose\",\"build\",\"idea\",\"america\",\"whatsapp\",\"affect\",\"law\",\"technology\",\"call\",\"6\",\"universities\",\"family\",\"marketing\",\"major\",\"actually\",\"favorite\",\"light\",\"bangalore\",\"woman\",\"because\",\"type\",\"program\",\"looking\",\"living\",\"open\",\"believe\",\"month\",\"able\",\"management\",\"travel\",\"degree\",\"show\",\"interesting\",\"score\",\"months\",\"series\",\"chinese\",\"development\",\"end\",\"code\",\"design\",\"per\",\"employees\",\"review\",\"clinton\",\"common\",\"kind\",\"internet\",\"song\",\"download\",\"course\",\"parents\",\"jobs\",\"such\",\"increase\",\"java\",\"god\",\"another\",\"united\",\"girlfriend\",\"mechanical\",\"always\",\"next\",\"never\",\"around\",\"tips\",\"mba\",\"myself\",\"hillary\",\"apply\",\"answer\",\"something\",\"considered\",\"making\",\"differences\",\"market\",\"compare\",\"great\",\"keep\",\"test\",\"s\",\"win\",\"against\",\"states\",\"earn\",\"youtube\",\"worth\",\"delhi\",\"energy\",\"laptop\",\"american\",\"lose\",\"each\",\"hard\",\"makes\",\"age\",\"ask\",\"safe\",\"body\",\"power\",\"salary\",\"4\",\"watch\",\"white\",\"windows\",\"instagram\",\"history\",\"pay\",\"every\",\"last\",\"create\",\"relationship\",\"music\",\"too\",\"meaning\",\"state\",\"average\",\"earth\",\"got\",\"process\",\"class\",\"tv\",\"eat\",\"done\",\"happens\",\"days\",\"big\",\"off\",\"improve\",\"future\",\"place\",\"man\",\"human\",\"government\",\"play\",\"countries\",\"food\",\"service\",\"students\",\"weight\",\"game\",\"engineer\",\"write\",\"very\",\"interview\",\"web\",\"tell\",\"social\",\"girls\",\"video\",\"look\",\"having\",\"guy\",\"home\",\"hair\",\"usa\",\"doesnt\",\"word\",\"bank\",\"friend\",\"true\",\"experience\",\"career\",\"president\",\"question\",\"own\",\"china\",\"come\",\"under\",\"working\",\"him\",\"doing\",\"donald\",\"friends\",\"right\",\"5\",\"cost\",\"mobile\",\"even\",\"movies\",\"then\",\"c\",\"\\u2019\",\"exam\",\"men\",\"learning\",\"card\",\"war\",\"read\",\"programming\",\"black\",\"anyone\",\"high\",\"10\",\"companies\",\"car\",\"getting\",\"give\",\"important\",\"questions\",\"cant\",\"iphone\",\"website\",\"top\",\"water\",\"prepare\",\"during\",\"real\",\"say\",\"system\",\"name\",\"through\",\"two\",\"1\",\"our\",\"study\",\"3\",\"university\",\"made\",\"back\",\"happen\",\"stop\",\"student\",\"sex\",\"bad\",\"language\",\"going\",\"same\",\"before\",\"software\",\"school\",\"live\",\"country\",\"android\",\"science\",\"help\",\"she\",\"see\",\"thing\",\"women\",\"over\",\"data\",\"examples\",\"computer\",\"had\",\"ways\",\"change\",\"while\",\"book\",\"english\",\"account\",\"still\",\"movie\",\"books\",\"2016\",\"facebook\",\"free\",\"number\",\"college\",\"app\",\"2\",\"just\",\"now\",\"no\",\"trump\",\"company\",\"only\",\"old\",\"been\",\"google\",\"phone\",\"long\",\"different\",\"girl\",\"his\",\"her\",\"years\",\"really\",\"them\",\"using\",\"business\",\"need\",\"being\",\"buy\",\"day\",\"person\",\"things\",\"possible\",\"could\",\"were\",\"its\",\"love\",\"engineering\",\"im\",\"used\",\"online\",\"go\",\"year\",\"he\",\"into\",\"feel\",\"dont\",\"first\",\"up\"]]]}}},\"view\":{\"type\":\"object\",\"name\":\"CDSView\",\"id\":\"p1047\",\"attributes\":{\"filter\":{\"type\":\"object\",\"name\":\"AllIndices\",\"id\":\"p1048\"}}},\"glyph\":{\"type\":\"object\",\"name\":\"Scatter\",\"id\":\"p1043\",\"attributes\":{\"x\":{\"type\":\"field\",\"field\":\"x\"},\"y\":{\"type\":\"field\",\"field\":\"y\"},\"size\":{\"type\":\"value\",\"value\":10},\"line_color\":{\"type\":\"field\",\"field\":\"color\"},\"line_alpha\":{\"type\":\"value\",\"value\":0.25},\"fill_color\":{\"type\":\"field\",\"field\":\"color\"},\"fill_alpha\":{\"type\":\"value\",\"value\":0.25},\"hatch_color\":{\"type\":\"field\",\"field\":\"color\"},\"hatch_alpha\":{\"type\":\"value\",\"value\":0.25}}},\"nonselection_glyph\":{\"type\":\"object\",\"name\":\"Scatter\",\"id\":\"p1044\",\"attributes\":{\"x\":{\"type\":\"field\",\"field\":\"x\"},\"y\":{\"type\":\"field\",\"field\":\"y\"},\"size\":{\"type\":\"value\",\"value\":10},\"line_color\":{\"type\":\"field\",\"field\":\"color\"},\"line_alpha\":{\"type\":\"value\",\"value\":0.1},\"fill_color\":{\"type\":\"field\",\"field\":\"color\"},\"fill_alpha\":{\"type\":\"value\",\"value\":0.1},\"hatch_color\":{\"type\":\"field\",\"field\":\"color\"},\"hatch_alpha\":{\"type\":\"value\",\"value\":0.1}}},\"muted_glyph\":{\"type\":\"object\",\"name\":\"Scatter\",\"id\":\"p1045\",\"attributes\":{\"x\":{\"type\":\"field\",\"field\":\"x\"},\"y\":{\"type\":\"field\",\"field\":\"y\"},\"size\":{\"type\":\"value\",\"value\":10},\"line_color\":{\"type\":\"field\",\"field\":\"color\"},\"line_alpha\":{\"type\":\"value\",\"value\":0.2},\"fill_color\":{\"type\":\"field\",\"field\":\"color\"},\"fill_alpha\":{\"type\":\"value\",\"value\":0.2},\"hatch_color\":{\"type\":\"field\",\"field\":\"color\"},\"hatch_alpha\":{\"type\":\"value\",\"value\":0.2}}}}}],\"toolbar\":{\"type\":\"object\",\"name\":\"Toolbar\",\"id\":\"p1014\",\"attributes\":{\"tools\":[{\"type\":\"object\",\"name\":\"PanTool\",\"id\":\"p1027\"},{\"type\":\"object\",\"name\":\"WheelZoomTool\",\"id\":\"p1028\",\"attributes\":{\"renderers\":\"auto\"}},{\"type\":\"object\",\"name\":\"BoxZoomTool\",\"id\":\"p1029\",\"attributes\":{\"dimensions\":\"both\",\"overlay\":{\"type\":\"object\",\"name\":\"BoxAnnotation\",\"id\":\"p1030\",\"attributes\":{\"syncable\":false,\"line_color\":\"black\",\"line_alpha\":1.0,\"line_width\":2,\"line_dash\":[4,4],\"fill_color\":\"lightgrey\",\"fill_alpha\":0.5,\"level\":\"overlay\",\"visible\":false,\"left\":{\"type\":\"number\",\"value\":\"nan\"},\"right\":{\"type\":\"number\",\"value\":\"nan\"},\"top\":{\"type\":\"number\",\"value\":\"nan\"},\"bottom\":{\"type\":\"number\",\"value\":\"nan\"},\"left_units\":\"canvas\",\"right_units\":\"canvas\",\"top_units\":\"canvas\",\"bottom_units\":\"canvas\",\"handles\":{\"type\":\"object\",\"name\":\"BoxInteractionHandles\",\"id\":\"p1036\",\"attributes\":{\"all\":{\"type\":\"object\",\"name\":\"AreaVisuals\",\"id\":\"p1035\",\"attributes\":{\"fill_color\":\"white\",\"hover_fill_color\":\"lightgray\"}}}}}}}},{\"type\":\"object\",\"name\":\"SaveTool\",\"id\":\"p1037\"},{\"type\":\"object\",\"name\":\"ResetTool\",\"id\":\"p1038\"},{\"type\":\"object\",\"name\":\"HelpTool\",\"id\":\"p1039\"},{\"type\":\"object\",\"name\":\"HoverTool\",\"id\":\"p1049\",\"attributes\":{\"renderers\":\"auto\",\"tooltips\":[[\"token\",\"@token\"]]}}],\"active_scroll\":{\"id\":\"p1028\"}}},\"left\":[{\"type\":\"object\",\"name\":\"LinearAxis\",\"id\":\"p1022\",\"attributes\":{\"ticker\":{\"type\":\"object\",\"name\":\"BasicTicker\",\"id\":\"p1023\",\"attributes\":{\"mantissas\":[1,2,5]}},\"formatter\":{\"type\":\"object\",\"name\":\"BasicTickFormatter\",\"id\":\"p1024\"},\"major_label_policy\":{\"type\":\"object\",\"name\":\"AllLabels\",\"id\":\"p1025\"}}}],\"below\":[{\"type\":\"object\",\"name\":\"LinearAxis\",\"id\":\"p1017\",\"attributes\":{\"ticker\":{\"type\":\"object\",\"name\":\"BasicTicker\",\"id\":\"p1018\",\"attributes\":{\"mantissas\":[1,2,5]}},\"formatter\":{\"type\":\"object\",\"name\":\"BasicTickFormatter\",\"id\":\"p1019\"},\"major_label_policy\":{\"type\":\"object\",\"name\":\"AllLabels\",\"id\":\"p1020\"}}}],\"center\":[{\"type\":\"object\",\"name\":\"Grid\",\"id\":\"p1021\",\"attributes\":{\"axis\":{\"id\":\"p1017\"}}},{\"type\":\"object\",\"name\":\"Grid\",\"id\":\"p1026\",\"attributes\":{\"dimension\":1,\"axis\":{\"id\":\"p1022\"}}}]}}]}};\n",
              "  const render_items = [{\"docid\":\"85af00d5-1a06-49ce-a26c-85387bcc0c07\",\"roots\":{\"p1006\":\"c0d6de70-045b-4d14-ba01-a3057d35592d\"},\"root_ids\":[\"p1006\"]}];\n",
              "  void root.Bokeh.embed.embed_items_notebook(docs_json, render_items);\n",
              "  }\n",
              "  if (root.Bokeh !== undefined) {\n",
              "    embed_document(root);\n",
              "  } else {\n",
              "    let attempts = 0;\n",
              "    const timer = setInterval(function(root) {\n",
              "      if (root.Bokeh !== undefined) {\n",
              "        clearInterval(timer);\n",
              "        embed_document(root);\n",
              "      } else {\n",
              "        attempts++;\n",
              "        if (attempts > 100) {\n",
              "          clearInterval(timer);\n",
              "          console.log(\"Bokeh: ERROR: Unable to run BokehJS code because BokehJS library is missing\");\n",
              "        }\n",
              "      }\n",
              "    }, 10, root)\n",
              "  }\n",
              "})(window);"
            ],
            "application/vnd.bokehjs_exec.v0+json": ""
          },
          "metadata": {
            "application/vnd.bokehjs_exec.v0+json": {
              "id": "p1006"
            }
          }
        },
        {
          "output_type": "execute_result",
          "data": {
            "text/plain": [
              "figure(id='p1006', ...)"
            ],
            "text/html": [
              "<div style=\"display: table;\"><div style=\"display: table-row;\"><div style=\"display: table-cell;\"><b title=\"bokeh.plotting._figure.figure\">figure</b>(</div><div style=\"display: table-cell;\">id&nbsp;=&nbsp;'p1006', <span id=\"p1053\" style=\"cursor: pointer;\">&hellip;)</span></div></div><div class=\"p1052\" style=\"display: none;\"><div style=\"display: table-cell;\"></div><div style=\"display: table-cell;\">above&nbsp;=&nbsp;[],</div></div><div class=\"p1052\" style=\"display: none;\"><div style=\"display: table-cell;\"></div><div style=\"display: table-cell;\">align&nbsp;=&nbsp;'auto',</div></div><div class=\"p1052\" style=\"display: none;\"><div style=\"display: table-cell;\"></div><div style=\"display: table-cell;\">aspect_ratio&nbsp;=&nbsp;None,</div></div><div class=\"p1052\" style=\"display: none;\"><div style=\"display: table-cell;\"></div><div style=\"display: table-cell;\">aspect_scale&nbsp;=&nbsp;1,</div></div><div class=\"p1052\" style=\"display: none;\"><div style=\"display: table-cell;\"></div><div style=\"display: table-cell;\">attribution&nbsp;=&nbsp;[],</div></div><div class=\"p1052\" style=\"display: none;\"><div style=\"display: table-cell;\"></div><div style=\"display: table-cell;\">background_fill_alpha&nbsp;=&nbsp;1.0,</div></div><div class=\"p1052\" style=\"display: none;\"><div style=\"display: table-cell;\"></div><div style=\"display: table-cell;\">background_fill_color&nbsp;=&nbsp;'#ffffff',</div></div><div class=\"p1052\" style=\"display: none;\"><div style=\"display: table-cell;\"></div><div style=\"display: table-cell;\">background_hatch_alpha&nbsp;=&nbsp;1.0,</div></div><div class=\"p1052\" style=\"display: none;\"><div style=\"display: table-cell;\"></div><div style=\"display: table-cell;\">background_hatch_color&nbsp;=&nbsp;'black',</div></div><div class=\"p1052\" style=\"display: none;\"><div style=\"display: table-cell;\"></div><div style=\"display: table-cell;\">background_hatch_extra&nbsp;=&nbsp;{},</div></div><div class=\"p1052\" style=\"display: none;\"><div style=\"display: table-cell;\"></div><div style=\"display: table-cell;\">background_hatch_pattern&nbsp;=&nbsp;None,</div></div><div class=\"p1052\" style=\"display: none;\"><div style=\"display: table-cell;\"></div><div style=\"display: table-cell;\">background_hatch_scale&nbsp;=&nbsp;12.0,</div></div><div class=\"p1052\" style=\"display: none;\"><div style=\"display: table-cell;\"></div><div style=\"display: table-cell;\">background_hatch_weight&nbsp;=&nbsp;1.0,</div></div><div class=\"p1052\" style=\"display: none;\"><div style=\"display: table-cell;\"></div><div style=\"display: table-cell;\">below&nbsp;=&nbsp;[LinearAxis(id='p1017', ...)],</div></div><div class=\"p1052\" style=\"display: none;\"><div style=\"display: table-cell;\"></div><div style=\"display: table-cell;\">border_fill_alpha&nbsp;=&nbsp;1.0,</div></div><div class=\"p1052\" style=\"display: none;\"><div style=\"display: table-cell;\"></div><div style=\"display: table-cell;\">border_fill_color&nbsp;=&nbsp;'#ffffff',</div></div><div class=\"p1052\" style=\"display: none;\"><div style=\"display: table-cell;\"></div><div style=\"display: table-cell;\">border_hatch_alpha&nbsp;=&nbsp;1.0,</div></div><div class=\"p1052\" style=\"display: none;\"><div style=\"display: table-cell;\"></div><div style=\"display: table-cell;\">border_hatch_color&nbsp;=&nbsp;'black',</div></div><div class=\"p1052\" style=\"display: none;\"><div style=\"display: table-cell;\"></div><div style=\"display: table-cell;\">border_hatch_extra&nbsp;=&nbsp;{},</div></div><div class=\"p1052\" style=\"display: none;\"><div style=\"display: table-cell;\"></div><div style=\"display: table-cell;\">border_hatch_pattern&nbsp;=&nbsp;None,</div></div><div class=\"p1052\" style=\"display: none;\"><div style=\"display: table-cell;\"></div><div style=\"display: table-cell;\">border_hatch_scale&nbsp;=&nbsp;12.0,</div></div><div class=\"p1052\" style=\"display: none;\"><div style=\"display: table-cell;\"></div><div style=\"display: table-cell;\">border_hatch_weight&nbsp;=&nbsp;1.0,</div></div><div class=\"p1052\" style=\"display: none;\"><div style=\"display: table-cell;\"></div><div style=\"display: table-cell;\">center&nbsp;=&nbsp;[Grid(id='p1021', ...), Grid(id='p1026', ...)],</div></div><div class=\"p1052\" style=\"display: none;\"><div style=\"display: table-cell;\"></div><div style=\"display: table-cell;\">context_menu&nbsp;=&nbsp;'auto',</div></div><div class=\"p1052\" style=\"display: none;\"><div style=\"display: table-cell;\"></div><div style=\"display: table-cell;\">css_classes&nbsp;=&nbsp;[],</div></div><div class=\"p1052\" style=\"display: none;\"><div style=\"display: table-cell;\"></div><div style=\"display: table-cell;\">css_variables&nbsp;=&nbsp;{},</div></div><div class=\"p1052\" style=\"display: none;\"><div style=\"display: table-cell;\"></div><div style=\"display: table-cell;\">disabled&nbsp;=&nbsp;False,</div></div><div class=\"p1052\" style=\"display: none;\"><div style=\"display: table-cell;\"></div><div style=\"display: table-cell;\">elements&nbsp;=&nbsp;[],</div></div><div class=\"p1052\" style=\"display: none;\"><div style=\"display: table-cell;\"></div><div style=\"display: table-cell;\">extra_x_ranges&nbsp;=&nbsp;{},</div></div><div class=\"p1052\" style=\"display: none;\"><div style=\"display: table-cell;\"></div><div style=\"display: table-cell;\">extra_x_scales&nbsp;=&nbsp;{},</div></div><div class=\"p1052\" style=\"display: none;\"><div style=\"display: table-cell;\"></div><div style=\"display: table-cell;\">extra_y_ranges&nbsp;=&nbsp;{},</div></div><div class=\"p1052\" style=\"display: none;\"><div style=\"display: table-cell;\"></div><div style=\"display: table-cell;\">extra_y_scales&nbsp;=&nbsp;{},</div></div><div class=\"p1052\" style=\"display: none;\"><div style=\"display: table-cell;\"></div><div style=\"display: table-cell;\">flow_mode&nbsp;=&nbsp;'block',</div></div><div class=\"p1052\" style=\"display: none;\"><div style=\"display: table-cell;\"></div><div style=\"display: table-cell;\">frame_align&nbsp;=&nbsp;True,</div></div><div class=\"p1052\" style=\"display: none;\"><div style=\"display: table-cell;\"></div><div style=\"display: table-cell;\">frame_height&nbsp;=&nbsp;None,</div></div><div class=\"p1052\" style=\"display: none;\"><div style=\"display: table-cell;\"></div><div style=\"display: table-cell;\">frame_width&nbsp;=&nbsp;None,</div></div><div class=\"p1052\" style=\"display: none;\"><div style=\"display: table-cell;\"></div><div style=\"display: table-cell;\">height&nbsp;=&nbsp;400,</div></div><div class=\"p1052\" style=\"display: none;\"><div style=\"display: table-cell;\"></div><div style=\"display: table-cell;\">height_policy&nbsp;=&nbsp;'auto',</div></div><div class=\"p1052\" style=\"display: none;\"><div style=\"display: table-cell;\"></div><div style=\"display: table-cell;\">hidpi&nbsp;=&nbsp;True,</div></div><div class=\"p1052\" style=\"display: none;\"><div style=\"display: table-cell;\"></div><div style=\"display: table-cell;\">hold_render&nbsp;=&nbsp;False,</div></div><div class=\"p1052\" style=\"display: none;\"><div style=\"display: table-cell;\"></div><div style=\"display: table-cell;\">html_attributes&nbsp;=&nbsp;{},</div></div><div class=\"p1052\" style=\"display: none;\"><div style=\"display: table-cell;\"></div><div style=\"display: table-cell;\">html_id&nbsp;=&nbsp;None,</div></div><div class=\"p1052\" style=\"display: none;\"><div style=\"display: table-cell;\"></div><div style=\"display: table-cell;\">js_event_callbacks&nbsp;=&nbsp;{},</div></div><div class=\"p1052\" style=\"display: none;\"><div style=\"display: table-cell;\"></div><div style=\"display: table-cell;\">js_property_callbacks&nbsp;=&nbsp;{},</div></div><div class=\"p1052\" style=\"display: none;\"><div style=\"display: table-cell;\"></div><div style=\"display: table-cell;\">left&nbsp;=&nbsp;[LinearAxis(id='p1022', ...)],</div></div><div class=\"p1052\" style=\"display: none;\"><div style=\"display: table-cell;\"></div><div style=\"display: table-cell;\">lod_factor&nbsp;=&nbsp;10,</div></div><div class=\"p1052\" style=\"display: none;\"><div style=\"display: table-cell;\"></div><div style=\"display: table-cell;\">lod_interval&nbsp;=&nbsp;300,</div></div><div class=\"p1052\" style=\"display: none;\"><div style=\"display: table-cell;\"></div><div style=\"display: table-cell;\">lod_threshold&nbsp;=&nbsp;2000,</div></div><div class=\"p1052\" style=\"display: none;\"><div style=\"display: table-cell;\"></div><div style=\"display: table-cell;\">lod_timeout&nbsp;=&nbsp;500,</div></div><div class=\"p1052\" style=\"display: none;\"><div style=\"display: table-cell;\"></div><div style=\"display: table-cell;\">margin&nbsp;=&nbsp;None,</div></div><div class=\"p1052\" style=\"display: none;\"><div style=\"display: table-cell;\"></div><div style=\"display: table-cell;\">match_aspect&nbsp;=&nbsp;False,</div></div><div class=\"p1052\" style=\"display: none;\"><div style=\"display: table-cell;\"></div><div style=\"display: table-cell;\">max_height&nbsp;=&nbsp;None,</div></div><div class=\"p1052\" style=\"display: none;\"><div style=\"display: table-cell;\"></div><div style=\"display: table-cell;\">max_width&nbsp;=&nbsp;None,</div></div><div class=\"p1052\" style=\"display: none;\"><div style=\"display: table-cell;\"></div><div style=\"display: table-cell;\">min_border&nbsp;=&nbsp;5,</div></div><div class=\"p1052\" style=\"display: none;\"><div style=\"display: table-cell;\"></div><div style=\"display: table-cell;\">min_border_bottom&nbsp;=&nbsp;None,</div></div><div class=\"p1052\" style=\"display: none;\"><div style=\"display: table-cell;\"></div><div style=\"display: table-cell;\">min_border_left&nbsp;=&nbsp;None,</div></div><div class=\"p1052\" style=\"display: none;\"><div style=\"display: table-cell;\"></div><div style=\"display: table-cell;\">min_border_right&nbsp;=&nbsp;None,</div></div><div class=\"p1052\" style=\"display: none;\"><div style=\"display: table-cell;\"></div><div style=\"display: table-cell;\">min_border_top&nbsp;=&nbsp;None,</div></div><div class=\"p1052\" style=\"display: none;\"><div style=\"display: table-cell;\"></div><div style=\"display: table-cell;\">min_height&nbsp;=&nbsp;None,</div></div><div class=\"p1052\" style=\"display: none;\"><div style=\"display: table-cell;\"></div><div style=\"display: table-cell;\">min_width&nbsp;=&nbsp;None,</div></div><div class=\"p1052\" style=\"display: none;\"><div style=\"display: table-cell;\"></div><div style=\"display: table-cell;\">name&nbsp;=&nbsp;None,</div></div><div class=\"p1052\" style=\"display: none;\"><div style=\"display: table-cell;\"></div><div style=\"display: table-cell;\">outline_line_alpha&nbsp;=&nbsp;1.0,</div></div><div class=\"p1052\" style=\"display: none;\"><div style=\"display: table-cell;\"></div><div style=\"display: table-cell;\">outline_line_cap&nbsp;=&nbsp;'butt',</div></div><div class=\"p1052\" style=\"display: none;\"><div style=\"display: table-cell;\"></div><div style=\"display: table-cell;\">outline_line_color&nbsp;=&nbsp;'#e5e5e5',</div></div><div class=\"p1052\" style=\"display: none;\"><div style=\"display: table-cell;\"></div><div style=\"display: table-cell;\">outline_line_dash&nbsp;=&nbsp;[],</div></div><div class=\"p1052\" style=\"display: none;\"><div style=\"display: table-cell;\"></div><div style=\"display: table-cell;\">outline_line_dash_offset&nbsp;=&nbsp;0,</div></div><div class=\"p1052\" style=\"display: none;\"><div style=\"display: table-cell;\"></div><div style=\"display: table-cell;\">outline_line_join&nbsp;=&nbsp;'bevel',</div></div><div class=\"p1052\" style=\"display: none;\"><div style=\"display: table-cell;\"></div><div style=\"display: table-cell;\">outline_line_width&nbsp;=&nbsp;1,</div></div><div class=\"p1052\" style=\"display: none;\"><div style=\"display: table-cell;\"></div><div style=\"display: table-cell;\">output_backend&nbsp;=&nbsp;'canvas',</div></div><div class=\"p1052\" style=\"display: none;\"><div style=\"display: table-cell;\"></div><div style=\"display: table-cell;\">renderers&nbsp;=&nbsp;[GlyphRenderer(id='p1046', ...)],</div></div><div class=\"p1052\" style=\"display: none;\"><div style=\"display: table-cell;\"></div><div style=\"display: table-cell;\">reset_policy&nbsp;=&nbsp;'standard',</div></div><div class=\"p1052\" style=\"display: none;\"><div style=\"display: table-cell;\"></div><div style=\"display: table-cell;\">resizable&nbsp;=&nbsp;False,</div></div><div class=\"p1052\" style=\"display: none;\"><div style=\"display: table-cell;\"></div><div style=\"display: table-cell;\">right&nbsp;=&nbsp;[],</div></div><div class=\"p1052\" style=\"display: none;\"><div style=\"display: table-cell;\"></div><div style=\"display: table-cell;\">sizing_mode&nbsp;=&nbsp;None,</div></div><div class=\"p1052\" style=\"display: none;\"><div style=\"display: table-cell;\"></div><div style=\"display: table-cell;\">styles&nbsp;=&nbsp;{},</div></div><div class=\"p1052\" style=\"display: none;\"><div style=\"display: table-cell;\"></div><div style=\"display: table-cell;\">stylesheets&nbsp;=&nbsp;[],</div></div><div class=\"p1052\" style=\"display: none;\"><div style=\"display: table-cell;\"></div><div style=\"display: table-cell;\">subscribed_events&nbsp;=&nbsp;PropertyValueSet(),</div></div><div class=\"p1052\" style=\"display: none;\"><div style=\"display: table-cell;\"></div><div style=\"display: table-cell;\">syncable&nbsp;=&nbsp;True,</div></div><div class=\"p1052\" style=\"display: none;\"><div style=\"display: table-cell;\"></div><div style=\"display: table-cell;\">tags&nbsp;=&nbsp;[],</div></div><div class=\"p1052\" style=\"display: none;\"><div style=\"display: table-cell;\"></div><div style=\"display: table-cell;\">title&nbsp;=&nbsp;Title(id='p1013', ...),</div></div><div class=\"p1052\" style=\"display: none;\"><div style=\"display: table-cell;\"></div><div style=\"display: table-cell;\">title_location&nbsp;=&nbsp;'above',</div></div><div class=\"p1052\" style=\"display: none;\"><div style=\"display: table-cell;\"></div><div style=\"display: table-cell;\">toolbar&nbsp;=&nbsp;Toolbar(id='p1014', ...),</div></div><div class=\"p1052\" style=\"display: none;\"><div style=\"display: table-cell;\"></div><div style=\"display: table-cell;\">toolbar_inner&nbsp;=&nbsp;False,</div></div><div class=\"p1052\" style=\"display: none;\"><div style=\"display: table-cell;\"></div><div style=\"display: table-cell;\">toolbar_location&nbsp;=&nbsp;'right',</div></div><div class=\"p1052\" style=\"display: none;\"><div style=\"display: table-cell;\"></div><div style=\"display: table-cell;\">toolbar_sticky&nbsp;=&nbsp;True,</div></div><div class=\"p1052\" style=\"display: none;\"><div style=\"display: table-cell;\"></div><div style=\"display: table-cell;\">visible&nbsp;=&nbsp;True,</div></div><div class=\"p1052\" style=\"display: none;\"><div style=\"display: table-cell;\"></div><div style=\"display: table-cell;\">width&nbsp;=&nbsp;600,</div></div><div class=\"p1052\" style=\"display: none;\"><div style=\"display: table-cell;\"></div><div style=\"display: table-cell;\">width_policy&nbsp;=&nbsp;'auto',</div></div><div class=\"p1052\" style=\"display: none;\"><div style=\"display: table-cell;\"></div><div style=\"display: table-cell;\">window_axis&nbsp;=&nbsp;'none',</div></div><div class=\"p1052\" style=\"display: none;\"><div style=\"display: table-cell;\"></div><div style=\"display: table-cell;\">x_range&nbsp;=&nbsp;DataRange1d(id='p1007', ...),</div></div><div class=\"p1052\" style=\"display: none;\"><div style=\"display: table-cell;\"></div><div style=\"display: table-cell;\">x_scale&nbsp;=&nbsp;LinearScale(id='p1015', ...),</div></div><div class=\"p1052\" style=\"display: none;\"><div style=\"display: table-cell;\"></div><div style=\"display: table-cell;\">y_range&nbsp;=&nbsp;DataRange1d(id='p1008', ...),</div></div><div class=\"p1052\" style=\"display: none;\"><div style=\"display: table-cell;\"></div><div style=\"display: table-cell;\">y_scale&nbsp;=&nbsp;LinearScale(id='p1016', ...))</div></div></div>\n",
              "<script>\n",
              "(function() {\n",
              "  let expanded = false;\n",
              "  const ellipsis = document.getElementById(\"p1053\");\n",
              "  ellipsis.addEventListener(\"click\", function() {\n",
              "    const rows = document.getElementsByClassName(\"p1052\");\n",
              "    for (let i = 0; i < rows.length; i++) {\n",
              "      const el = rows[i];\n",
              "      el.style.display = expanded ? \"none\" : \"table-row\";\n",
              "    }\n",
              "    ellipsis.innerHTML = expanded ? \"&hellip;)\" : \"&lsaquo;&lsaquo;&lsaquo;\";\n",
              "    expanded = !expanded;\n",
              "  });\n",
              "})();\n",
              "</script>\n"
            ]
          },
          "metadata": {},
          "execution_count": 41
        }
      ]
    },
    {
      "cell_type": "markdown",
      "source": [
        "Сабмит в тестовую систему"
      ],
      "metadata": {
        "id": "h1hRw4HOsJIX"
      }
    },
    {
      "cell_type": "code",
      "source": [
        "# do not change the code in the block below\n",
        "# __________start of block__________\n",
        "import os\n",
        "import json\n",
        "\n",
        "assert os.path.exists(\n",
        "    \"words_subset.txt\"\n",
        "), \"Please, download `words_subset.txt` and place it in the working directory\"\n",
        "\n",
        "with open(\"words_subset.txt\") as iofile:\n",
        "    selected_words = iofile.read().split(\"\\n\")\n",
        "\n",
        "\n",
        "def get_matrix_for_selected_words(selected_words, embedding_matrix, word_to_index):\n",
        "    word_vectors = []\n",
        "    for word in selected_words:\n",
        "        index = word_to_index.get(word, None)\n",
        "        vector = [0.0] * embedding_matrix.shape[1]\n",
        "        if index is not None:\n",
        "            vector = embedding_matrix[index].numpy().tolist()\n",
        "        word_vectors.append(vector)\n",
        "    return word_vectors\n",
        "\n",
        "\n",
        "word_vectors = get_matrix_for_selected_words(\n",
        "    selected_words, embedding_matrix_context, word_to_index\n",
        ")\n",
        "\n",
        "with open(\"submission_dict.json\", \"w\") as iofile:\n",
        "    json.dump(word_vectors, iofile)\n",
        "print(\"File saved to `submission_dict.json`\")\n",
        "# __________end of block__________"
      ],
      "metadata": {
        "id": "XmYki0_1yvsW",
        "colab": {
          "base_uri": "https://localhost:8080/"
        },
        "outputId": "648f1867-ce9c-49f7-92fb-111be68948e8"
      },
      "execution_count": 42,
      "outputs": [
        {
          "output_type": "stream",
          "name": "stdout",
          "text": [
            "File saved to `submission_dict.json`\n"
          ]
        }
      ]
    }
  ]
}