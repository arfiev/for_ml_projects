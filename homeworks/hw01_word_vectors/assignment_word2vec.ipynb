{
  "cells": [
    {
      "cell_type": "markdown",
      "metadata": {
        "id": "nTSf4ro-qU0d"
      },
      "source": [
        "## Бонусное задание: word2vec на PyTorch\n",
        "\n",
        "Как вы уже могли заметить, идея, лежащая в основе [word2vec](https://arxiv.org/pdf/1310.4546), достаточно общая. В данном задании вы реализуете его самостоятельно.\n",
        "\n",
        "Дисклеймер: не стоит удивляться тому, что реализация от `gensim` (или аналоги) обучается быстрее и работает точнее. Она использует множество доработок и ускорений, а также достаточно эффективный код. Ваша задача добиться промежуточных результатов за разумное время.\n",
        "\n",
        "P.s. Как ни странно, GPU в этом задании нам не потребуется."
      ]
    },
    {
      "cell_type": "markdown",
      "metadata": {
        "id": "p-A3SUMmeJBN"
      },
      "source": [
        "__Requirements:__ if you're running locally, in the selected environment run the following command:\n",
        "\n",
        "```pip install --upgrade nltk bokeh umap-learn```\n"
      ]
    },
    {
      "cell_type": "code",
      "execution_count": null,
      "metadata": {
        "id": "Oipe2DU8qfm7"
      },
      "outputs": [],
      "source": [
        "#!pip install --upgrade nltk bokeh umap-learn"
      ]
    },
    {
      "cell_type": "code",
      "execution_count": 1,
      "metadata": {
        "id": "pqPU4Lu2qU0h"
      },
      "outputs": [],
      "source": [
        "import itertools\n",
        "import random\n",
        "import string\n",
        "from collections import Counter\n",
        "from itertools import chain\n",
        "\n",
        "import matplotlib.pyplot as plt\n",
        "import numpy as np\n",
        "import torch\n",
        "import torch.autograd as autograd\n",
        "import torch.nn as nn\n",
        "import torch.nn.functional as F\n",
        "import torch.optim as optim\n",
        "import umap\n",
        "from IPython.display import clear_output\n",
        "from matplotlib import pyplot as plt\n",
        "from nltk.tokenize import WordPunctTokenizer\n",
        "from torch.optim.lr_scheduler import ReduceLROnPlateau, StepLR\n",
        "from tqdm.auto import tqdm as tqdma"
      ]
    },
    {
      "cell_type": "code",
      "execution_count": 2,
      "metadata": {
        "colab": {
          "base_uri": "https://localhost:8080/"
        },
        "id": "8Fbx57z3qU0i",
        "outputId": "3b7271a2-5849-4e9a-da36-e3ca150cb45e"
      },
      "outputs": [
        {
          "output_type": "stream",
          "name": "stdout",
          "text": [
            "--2025-09-06 05:22:17--  https://www.dropbox.com/s/obaitrix9jyu84r/quora.txt?dl=1\n",
            "Resolving www.dropbox.com (www.dropbox.com)... 162.125.3.18, 2620:100:6018:18::a27d:312\n",
            "Connecting to www.dropbox.com (www.dropbox.com)|162.125.3.18|:443... connected.\n",
            "HTTP request sent, awaiting response... 302 Found\n",
            "Location: https://www.dropbox.com/scl/fi/p0t2dw6oqs6oxpd6zz534/quora.txt?rlkey=bjupppwua4zmd4elz8octecy9&dl=1 [following]\n",
            "--2025-09-06 05:22:18--  https://www.dropbox.com/scl/fi/p0t2dw6oqs6oxpd6zz534/quora.txt?rlkey=bjupppwua4zmd4elz8octecy9&dl=1\n",
            "Reusing existing connection to www.dropbox.com:443.\n",
            "HTTP request sent, awaiting response... 302 Found\n",
            "Location: https://uc91a94eb6740a86f1147229ac45.dl.dropboxusercontent.com/cd/0/inline/Cw3WP00v2HheKZEWPsWL0UAheWLVJ3DDaP7IgqLP71jQ-z3wgkbhxFjOiAy2hNm0Fb1-co87NfCWyVkxIZSnoKuWOwoPub-Xp-QdiUcSPv3-fgf7pI6ydLEjj4uXUpplDN8/file?dl=1# [following]\n",
            "--2025-09-06 05:22:18--  https://uc91a94eb6740a86f1147229ac45.dl.dropboxusercontent.com/cd/0/inline/Cw3WP00v2HheKZEWPsWL0UAheWLVJ3DDaP7IgqLP71jQ-z3wgkbhxFjOiAy2hNm0Fb1-co87NfCWyVkxIZSnoKuWOwoPub-Xp-QdiUcSPv3-fgf7pI6ydLEjj4uXUpplDN8/file?dl=1\n",
            "Resolving uc91a94eb6740a86f1147229ac45.dl.dropboxusercontent.com (uc91a94eb6740a86f1147229ac45.dl.dropboxusercontent.com)... 162.125.3.15, 2620:100:6017:15::a27d:20f\n",
            "Connecting to uc91a94eb6740a86f1147229ac45.dl.dropboxusercontent.com (uc91a94eb6740a86f1147229ac45.dl.dropboxusercontent.com)|162.125.3.15|:443... connected.\n",
            "HTTP request sent, awaiting response... 200 OK\n",
            "Length: 33813903 (32M) [application/binary]\n",
            "Saving to: ‘./quora.txt’\n",
            "\n",
            "./quora.txt         100%[===================>]  32.25M  88.2MB/s    in 0.4s    \n",
            "\n",
            "2025-09-06 05:22:19 (88.2 MB/s) - ‘./quora.txt’ saved [33813903/33813903]\n",
            "\n"
          ]
        }
      ],
      "source": [
        "# download the data:\n",
        "!wget https://www.dropbox.com/s/obaitrix9jyu84r/quora.txt?dl=1 -O ./quora.txt -nc\n",
        "# alternative download link: https://yadi.sk/i/BPQrUu1NaTduEw"
      ]
    },
    {
      "cell_type": "code",
      "execution_count": 3,
      "metadata": {
        "colab": {
          "base_uri": "https://localhost:8080/",
          "height": 35
        },
        "id": "8EYy5dQpqU0i",
        "outputId": "fa3c514b-6c32-41a4-fcf6-e15ee9ecc734",
        "scrolled": false
      },
      "outputs": [
        {
          "output_type": "execute_result",
          "data": {
            "text/plain": [
              "\"What TV shows or books help you read people's body language?\\n\""
            ],
            "application/vnd.google.colaboratory.intrinsic+json": {
              "type": "string"
            }
          },
          "metadata": {},
          "execution_count": 3
        }
      ],
      "source": [
        "data = list(open(\"./quora.txt\", encoding=\"utf-8\"))\n",
        "data[50]"
      ]
    },
    {
      "cell_type": "markdown",
      "metadata": {
        "id": "feBEGI2eqU0j"
      },
      "source": [
        "Токенизация – первый шаг.\n",
        "Тексты, с которыми мы работаем, включают в себя пунктуацию, смайлики и прочие нестандартные токены, так что простой `str.split` не подойдет.\n",
        "\n",
        "Обратимся к `nltk` - библиотеку, нашла широкое применеие в области NLP."
      ]
    },
    {
      "cell_type": "code",
      "execution_count": 4,
      "metadata": {
        "colab": {
          "base_uri": "https://localhost:8080/"
        },
        "id": "7mWTvm50qU0j",
        "outputId": "c8cfbdf9-a73c-4e16-b98d-38632aa1fe53"
      },
      "outputs": [
        {
          "output_type": "stream",
          "name": "stdout",
          "text": [
            "['What', 'TV', 'shows', 'or', 'books', 'help', 'you', 'read', 'people', \"'\", 's', 'body', 'language', '?']\n"
          ]
        }
      ],
      "source": [
        "tokenizer = WordPunctTokenizer()\n",
        "\n",
        "print(tokenizer.tokenize(data[50]))"
      ]
    },
    {
      "cell_type": "code",
      "execution_count": 5,
      "metadata": {
        "id": "HzC05EHWqU0j"
      },
      "outputs": [],
      "source": [
        "data_tok = [\n",
        "    tokenizer.tokenize(\n",
        "        line.translate(str.maketrans(\"\", \"\", string.punctuation)).lower()\n",
        "    )\n",
        "    for line in data\n",
        "]\n",
        "data_tok = [x for x in data_tok if len(x) >= 3]"
      ]
    },
    {
      "cell_type": "markdown",
      "metadata": {
        "id": "6azRAgHIqU0k"
      },
      "source": [
        "Несколько проверок:"
      ]
    },
    {
      "cell_type": "code",
      "execution_count": 6,
      "metadata": {
        "id": "Cp8UpxdWqU0k"
      },
      "outputs": [],
      "source": [
        "assert all(\n",
        "    isinstance(row, (list, tuple)) for row in data_tok\n",
        "), \"please convert each line into a list of tokens (strings)\"\n",
        "assert all(\n",
        "    all(isinstance(tok, str) for tok in row) for row in data_tok\n",
        "), \"please convert each line into a list of tokens (strings)\"\n",
        "is_latin = lambda tok: all(\"a\" <= x.lower() <= \"z\" for x in tok)\n",
        "assert all(\n",
        "    map(lambda l: not is_latin(l) or l.islower(), map(\" \".join, data_tok))\n",
        "), \"please make sure to lowercase the data\""
      ]
    },
    {
      "cell_type": "markdown",
      "metadata": {
        "id": "37e7-MIhqU0x"
      },
      "source": [
        "Ниже заданы константы ширины окна контекста и проведена предобработка для построения skip-gram модели."
      ]
    },
    {
      "cell_type": "code",
      "execution_count": 7,
      "metadata": {
        "id": "fugc1IomqU0x"
      },
      "outputs": [],
      "source": [
        "min_count = 5\n",
        "window_radius = 5"
      ]
    },
    {
      "cell_type": "code",
      "execution_count": 8,
      "metadata": {
        "id": "SARVcof_eJBR"
      },
      "outputs": [],
      "source": [
        "vocabulary_with_counter = Counter(chain.from_iterable(data_tok))\n",
        "\n",
        "word_count_dict = dict()\n",
        "for word, counter in vocabulary_with_counter.items():\n",
        "    if counter >= min_count:\n",
        "        word_count_dict[word] = counter\n",
        "\n",
        "vocabulary = set(word_count_dict.keys())\n",
        "del vocabulary_with_counter"
      ]
    },
    {
      "cell_type": "code",
      "execution_count": 9,
      "metadata": {
        "id": "PiPMMgy0eJBR"
      },
      "outputs": [],
      "source": [
        "word_to_index = {word: index for index, word in enumerate(vocabulary)}\n",
        "index_to_word = {index: word for word, index in word_to_index.items()}"
      ]
    },
    {
      "cell_type": "markdown",
      "metadata": {
        "id": "4Y8rlBfqqU0x"
      },
      "source": [
        "Пары `(слово, контекст)` на основе доступного датасета сгенерированы ниже."
      ]
    },
    {
      "cell_type": "code",
      "execution_count": 10,
      "metadata": {
        "id": "h2-aqyyaqU0x",
        "outputId": "5b1f74e2-93ab-4e3a-f44c-02d4b9dfbc06",
        "colab": {
          "base_uri": "https://localhost:8080/"
        }
      },
      "outputs": [
        {
          "output_type": "stream",
          "name": "stdout",
          "text": [
            "Generated 40220313 pairs of target and context words.\n"
          ]
        }
      ],
      "source": [
        "context_pairs = []\n",
        "\n",
        "for text in data_tok:\n",
        "    for i, central_word in enumerate(text):\n",
        "        context_indices = range(\n",
        "            max(0, i - window_radius), min(i + window_radius, len(text))\n",
        "        )\n",
        "        for j in context_indices:\n",
        "            if j == i:\n",
        "                continue\n",
        "            context_word = text[j]\n",
        "            if central_word in vocabulary and context_word in vocabulary:\n",
        "                context_pairs.append(\n",
        "                    (word_to_index[central_word], word_to_index[context_word])\n",
        "                )\n",
        "\n",
        "print(f\"Generated {len(context_pairs)} pairs of target and context words.\")"
      ]
    },
    {
      "cell_type": "markdown",
      "metadata": {
        "id": "f2jK21oxeJBR"
      },
      "source": [
        "#### Подзадача №1: subsampling\n",
        "Для того, чтобы сгладить разницу в частоте встречаемсости слов, необходимо реализовать механизм subsampling'а.\n",
        "Для этого вам необходимо реализовать функцию ниже.\n",
        "\n",
        "Вероятность **исключить** слово из обучения (на фиксированном шаге) вычисляется как\n",
        "$$\n",
        "P_\\text{drop}(w_i)=1 - \\sqrt{\\frac{t}{f(w_i)}},\n",
        "$$\n",
        "где $f(w_i)$ – нормированная частота встречаемости слова, а $t$ – заданный порог (threshold)."
      ]
    },
    {
      "cell_type": "code",
      "execution_count": 11,
      "metadata": {
        "id": "Fn_-I9WjeJBR"
      },
      "outputs": [],
      "source": [
        "def subsample_frequent_words(word_count_dict, threshold=1e-5):\n",
        "    \"\"\"\n",
        "    Calculates the subsampling probabilities for words based on their frequencies.\n",
        "\n",
        "    This function is used to determine the probability of keeping a word in the dataset\n",
        "    when subsampling frequent words. The method used is inspired by the subsampling approach\n",
        "    in Word2Vec, where each word's frequency affects its probability of being kept.\n",
        "\n",
        "    Parameters:\n",
        "    - word_count_dict (dict): A dictionary where keys are words and values are the counts of those words.\n",
        "    - threshold (float, optional): A threshold parameter used to adjust the frequency of word subsampling.\n",
        "                                   Defaults to 1e-5.\n",
        "\n",
        "    Returns:\n",
        "    - dict: A dictionary where keys are words and values are the probabilities of keeping each word.\n",
        "\n",
        "    Example:\n",
        "    >>> word_counts = {'the': 5000, 'is': 1000, 'apple': 50}\n",
        "    >>> subsample_frequent_words(word_counts)\n",
        "    {'the': 0.028, 'is': 0.223, 'apple': 1.0}\n",
        "    \"\"\"\n",
        "    s=0\n",
        "    for word in word_count_dict.keys():\n",
        "      s+=word_count_dict[word]\n",
        "\n",
        "    ### YOUR CODE HERE\n",
        "    keep_prob_dict = {\n",
        "        word: np.sqrt(threshold/(word_count_dict[word]/s)) for word in word_count_dict.keys()\n",
        "    }  # THIS IS A PLACEHOLDER!\n",
        "    return keep_prob_dict"
      ]
    },
    {
      "cell_type": "markdown",
      "metadata": {
        "id": "1ZqyyqI4eJBR"
      },
      "source": [
        "#### Подзадача №2: negative sampling\n",
        "Для более эффективного обучения необходимо не только предсказывать высокие вероятности для слов из контекста, но и предсказывать низкие для слов, не встреченных в контексте. Для этого вам необходимо вычислить вероятност использовать слово в качестве negative sample, реализовав функцию ниже.\n",
        "\n",
        "В оригинальной статье предлагается оценивать вероятность слов выступать в качестве negative sample согласно распределению $P_n(w)$\n",
        "$$\n",
        "P_n(w) = \\frac{U(w)^{3/4}}{Z},\n",
        "$$\n",
        "\n",
        "где $U(w)$ распределение слов по частоте (или, как его еще называют, по униграммам), а $Z$ – нормировочная константа, чтобы общая мера была равна $1$."
      ]
    },
    {
      "cell_type": "code",
      "execution_count": 12,
      "metadata": {
        "id": "S3hK-fkleJBR"
      },
      "outputs": [],
      "source": [
        "def get_negative_sampling_prob(word_count_dict):\n",
        "    \"\"\"\n",
        "    Calculates the negative sampling probabilities for words based on their frequencies.\n",
        "\n",
        "    This function adjusts the frequency of each word raised to the power of 0.75, which is\n",
        "    commonly used in algorithms like Word2Vec to moderate the influence of very frequent words.\n",
        "    It then normalizes these adjusted frequencies to ensure they sum to 1, forming a probability\n",
        "    distribution used for negative sampling.\n",
        "\n",
        "    Parameters:\n",
        "    - word_count_dict (dict): A dictionary where keys are words and values are the counts of those words.\n",
        "\n",
        "    Returns:\n",
        "    - dict: A dictionary where keys are words and values are the probabilities of selecting each word\n",
        "            for negative sampling.\n",
        "\n",
        "    Example:\n",
        "    >>> word_counts = {'the': 5000, 'is': 1000, 'apple': 50}\n",
        "    >>> get_negative_sampling_prob(word_counts)\n",
        "    {'the': 0.298, 'is': 0.160, 'apple': 0.042}\n",
        "    \"\"\"\n",
        "    Z=0\n",
        "    for word in word_count_dict.keys():\n",
        "      Z+=word_count_dict[word]**(3/4)\n",
        "\n",
        "    ### YOUR CODE HERE\n",
        "    negative_sampling_prob_dict = {\n",
        "        word: word_count_dict[word]**(3/4)/Z for word in word_count_dict.keys()\n",
        "    }  # THIS IS A PLACEHOLDER!\n",
        "    return negative_sampling_prob_dict"
      ]
    },
    {
      "cell_type": "markdown",
      "metadata": {
        "id": "sKHB7DXKeJBR"
      },
      "source": [
        "Для удобства, преобразуем полученные словари в массивы (т.к. все слова все равно уже пронумерованы)."
      ]
    },
    {
      "cell_type": "code",
      "execution_count": 13,
      "metadata": {
        "id": "kQNPDrIaeJBR"
      },
      "outputs": [],
      "source": [
        "keep_prob_dict = subsample_frequent_words(word_count_dict)\n",
        "assert keep_prob_dict.keys() == word_count_dict.keys()"
      ]
    },
    {
      "cell_type": "code",
      "execution_count": 14,
      "metadata": {
        "id": "rpbg1u__eJBR"
      },
      "outputs": [],
      "source": [
        "negative_sampling_prob_dict = get_negative_sampling_prob(word_count_dict)\n",
        "assert negative_sampling_prob_dict.keys() == negative_sampling_prob_dict.keys()\n",
        "assert np.allclose(sum(negative_sampling_prob_dict.values()), 1)"
      ]
    },
    {
      "cell_type": "code",
      "execution_count": 15,
      "metadata": {
        "id": "HTuWB1oQeJBS"
      },
      "outputs": [],
      "source": [
        "keep_prob_array = np.array(\n",
        "    [keep_prob_dict[index_to_word[idx]] for idx in range(len(word_to_index))]\n",
        ")\n",
        "negative_sampling_prob_array = np.array(\n",
        "    [\n",
        "        negative_sampling_prob_dict[index_to_word[idx]]\n",
        "        for idx in range(len(word_to_index))\n",
        "    ]\n",
        ")"
      ]
    },
    {
      "cell_type": "markdown",
      "metadata": {
        "id": "ZTavEVONeJBS"
      },
      "source": [
        "Если все прошло успешно, функция ниже поможет вам с генерацией подвыборок (батчей)."
      ]
    },
    {
      "cell_type": "code",
      "execution_count": 16,
      "metadata": {
        "id": "CKV6jzWFeJBS"
      },
      "outputs": [],
      "source": [
        "def generate_batch_with_neg_samples(\n",
        "    context_pairs,\n",
        "    batch_size,\n",
        "    keep_prob_array,\n",
        "    word_to_index,\n",
        "    num_negatives,\n",
        "    negative_sampling_prob_array,\n",
        "):\n",
        "    batch = []\n",
        "    neg_samples = []\n",
        "\n",
        "    while len(batch) < batch_size:\n",
        "        center, context = random.choice(context_pairs)\n",
        "        if random.random() < keep_prob_array[center]:\n",
        "            batch.append((center, context))\n",
        "            neg_sample = np.random.choice(\n",
        "                range(len(negative_sampling_prob_array)),\n",
        "                size=num_negatives,\n",
        "                p=negative_sampling_prob_array,\n",
        "            )\n",
        "            neg_samples.append(neg_sample)\n",
        "    batch = np.array(batch)\n",
        "    neg_samples = np.vstack(neg_samples)\n",
        "    return batch, neg_samples"
      ]
    },
    {
      "cell_type": "code",
      "execution_count": 17,
      "metadata": {
        "id": "i_zH0MEqeJBS"
      },
      "outputs": [],
      "source": [
        "batch_size = 4\n",
        "num_negatives = 15\n",
        "batch, neg_samples = generate_batch_with_neg_samples(\n",
        "    context_pairs,\n",
        "    batch_size,\n",
        "    keep_prob_array,\n",
        "    word_to_index,\n",
        "    num_negatives,\n",
        "    negative_sampling_prob_array,\n",
        ")"
      ]
    },
    {
      "cell_type": "code",
      "source": [
        "batch, neg_samples"
      ],
      "metadata": {
        "id": "rZefEGTQf-jb",
        "outputId": "24fc2da6-3602-494b-d029-135458479f09",
        "colab": {
          "base_uri": "https://localhost:8080/"
        }
      },
      "execution_count": 30,
      "outputs": [
        {
          "output_type": "execute_result",
          "data": {
            "text/plain": [
              "(array([[25991, 11906],\n",
              "        [19446, 23496],\n",
              "        [15126,  7757],\n",
              "        [14880,  6299]]),\n",
              " array([[21377, 15178, 13420, 19757, 20339,  7481,  3362,  3777, 12569,\n",
              "          8113, 14587, 24568, 26787,  9562, 10675],\n",
              "        [ 7964, 27693,  1103,   230,  7481, 21378, 18439, 24865,  6728,\n",
              "         12631, 26279, 15621, 23496, 23959, 20951],\n",
              "        [28022,  6472, 27210,  8232, 20605, 17762, 12740, 10638,  3821,\n",
              "         18213, 25090,  8862,   321, 15343,  3704],\n",
              "        [ 8889,  3331,  1390,  7964, 12391, 28413, 16760,  5343, 27927,\n",
              "         17143,  3493, 17071, 11414,  7232, 16205]]))"
            ]
          },
          "metadata": {},
          "execution_count": 30
        }
      ]
    },
    {
      "cell_type": "markdown",
      "metadata": {
        "id": "KBavCuUzeJBS"
      },
      "source": [
        "Наконец, время реализовать модель. Обращаем ваше внимание, использование линейных слоев (`nn.Linear`) далеко не всегда оправданно!\n",
        "\n",
        "Напомним, что в случае negative sampling решается задача максимизации следующего функционала:\n",
        "\n",
        "$$\n",
        "\\mathcal{L} = \\log \\sigma({\\mathbf{v}'_{w_O}}^\\top \\mathbf{v}_{w_I}) + \\sum_{i=1}^{k} \\mathbb{E}_{w_i \\sim P_n(w)} \\left[ \\log \\sigma({-\\mathbf{v}'_{w_i}}^\\top \\mathbf{v}_{w_I}) \\right],\n",
        "$$\n",
        "\n",
        "где:\n",
        "- $\\mathbf{v}_{w_I}$ – вектор центрального слова $w_I$,\n",
        "- $\\mathbf{v}'_{w_O}$ – вектор слова из контекста $w_O$,\n",
        "- $k$ – число negative samplesЮ,\n",
        "- $P_n(w)$ – распределение negative samples, заданное выше,\n",
        "- $\\sigma$ – сигмоида."
      ]
    },
    {
      "cell_type": "code",
      "execution_count": 103,
      "metadata": {
        "id": "dEd2ITQneJBS"
      },
      "outputs": [],
      "source": [
        "class SkipGramModelWithNegSampling(nn.Module):\n",
        "    def __init__(self, vocab_size, embedding_dim):\n",
        "        super().__init__()\n",
        "\n",
        "        self.center_embeddings = nn.Embedding(vocab_size, embedding_dim)  # YOUR CODE HERE\n",
        "        self.context_embeddings = nn.Embedding(vocab_size, embedding_dim)  # YOUR CODE HERE\n",
        "\n",
        "    def forward(self, center_words, pos_context_words, neg_context_words):\n",
        "        # YOUR CODE HERE\n",
        "        #print(center_words.shape, pos_context_words.shape, neg_context_words.shape)\n",
        "        c=self.center_embeddings(center_words)\n",
        "        pos=self.context_embeddings(pos_context_words)\n",
        "        neg=self.context_embeddings(neg_context_words)\n",
        "        #print(c.shape, pos.shape, neg.shape)\n",
        "        pos_scores = torch.sum(c*pos,dim=1)  # THIS IS A PLACEHOLDER\n",
        "        #print(pos_scores.shape)\n",
        "        neg_scores = torch.bmm(c.unsqueeze(1), neg.transpose(1, 2)).squeeze(1)  # THIS IS A PLACEHOLDER\n",
        "        #print(neg_scores.shape)\n",
        "        return pos_scores, neg_scores"
      ]
    },
    {
      "cell_type": "code",
      "execution_count": 104,
      "metadata": {
        "id": "7KcArXCWeJBS"
      },
      "outputs": [],
      "source": [
        "device = torch.device(\"cpu\")"
      ]
    },
    {
      "cell_type": "code",
      "execution_count": 105,
      "metadata": {
        "id": "HAK_keqheJBS"
      },
      "outputs": [],
      "source": [
        "vocab_size = len(word_to_index)\n",
        "embedding_dim = 32\n",
        "num_negatives = 15\n",
        "\n",
        "model = SkipGramModelWithNegSampling(vocab_size, embedding_dim).to(device)\n",
        "optimizer = optim.Adam(model.parameters(), lr=0.05)\n",
        "lr_scheduler = ReduceLROnPlateau(optimizer, factor=0.5, patience=150)\n",
        "criterion = nn.BCEWithLogitsLoss()"
      ]
    },
    {
      "cell_type": "code",
      "execution_count": 106,
      "metadata": {
        "id": "L9kwbznVeJBS"
      },
      "outputs": [],
      "source": [
        "params_counter = 0\n",
        "for weights in model.parameters():\n",
        "    params_counter += weights.shape.numel()\n",
        "assert params_counter == len(word_to_index) * embedding_dim * 2"
      ]
    },
    {
      "cell_type": "code",
      "execution_count": 107,
      "metadata": {
        "id": "vdZdzNO-eJBS"
      },
      "outputs": [],
      "source": [
        "def train_skipgram_with_neg_sampling(\n",
        "    model,\n",
        "    context_pairs,\n",
        "    keep_prob_array,\n",
        "    word_to_index,\n",
        "    batch_size,\n",
        "    num_negatives,\n",
        "    negative_sampling_prob_array,\n",
        "    steps,\n",
        "    optimizer=optimizer,\n",
        "    lr_scheduler=lr_scheduler,\n",
        "    device=device,\n",
        "):\n",
        "    pos_labels = torch.ones(batch_size).to(device)\n",
        "    neg_labels = torch.zeros(batch_size, num_negatives).to(device)\n",
        "    loss_history = []\n",
        "    for step in tqdma(range(steps)):\n",
        "        batch, neg_samples = generate_batch_with_neg_samples(\n",
        "            context_pairs,\n",
        "            batch_size,\n",
        "            keep_prob_array,\n",
        "            word_to_index,\n",
        "            num_negatives,\n",
        "            negative_sampling_prob_array,\n",
        "        )\n",
        "        center_words = torch.tensor([pair[0] for pair in batch], dtype=torch.long).to(\n",
        "            device\n",
        "        )\n",
        "        pos_context_words = torch.tensor(\n",
        "            [pair[1] for pair in batch], dtype=torch.long\n",
        "        ).to(device)\n",
        "        neg_context_words = torch.tensor(neg_samples, dtype=torch.long).to(device)\n",
        "\n",
        "        optimizer.zero_grad()\n",
        "        pos_scores, neg_scores = model(\n",
        "            center_words, pos_context_words, neg_context_words\n",
        "        )\n",
        "\n",
        "        loss_pos = criterion(pos_scores, pos_labels)\n",
        "        loss_neg = criterion(neg_scores, neg_labels)\n",
        "\n",
        "        loss = loss_pos + loss_neg\n",
        "        loss.backward()\n",
        "        optimizer.step()\n",
        "\n",
        "        loss_history.append(loss.item())\n",
        "        lr_scheduler.step(loss_history[-1])\n",
        "\n",
        "        if step % 100 == 0:\n",
        "            print(\n",
        "                f\"Step {step}, Loss: {np.mean(loss_history[-100:])}, learning rate: {lr_scheduler._last_lr}\"\n",
        "            )"
      ]
    },
    {
      "cell_type": "code",
      "execution_count": 108,
      "metadata": {
        "id": "ZfKWYfQPeJBT",
        "outputId": "6f8bed13-1721-437b-af05-fda311bfbc3e",
        "colab": {
          "base_uri": "https://localhost:8080/",
          "height": 483,
          "referenced_widgets": [
            "7ec1008bb60043d99ecdcf7065a9e57e",
            "ece46912cf2f469b947de11f7322ab62",
            "1ccb85b770714ab3a981ab73a6c6598c",
            "d822747ca0da40fda20776a3416e30d2",
            "d8144f88946b499688c3052c2a3dae2f",
            "3756b7884fa14ae08186c06505df60ff",
            "a90a885b0a3945be80b1985fcb32f5ad",
            "c38269109663467796e062e68808d618",
            "eea28c9f5a44448d8acdb98b08c7f056",
            "efcd3aec4a544ec78f4054bd7a0db81f",
            "d3c14e79cc4e40f5880abd06e69d989f"
          ]
        }
      },
      "outputs": [
        {
          "output_type": "display_data",
          "data": {
            "text/plain": [
              "  0%|          | 0/2500 [00:00<?, ?it/s]"
            ],
            "application/vnd.jupyter.widget-view+json": {
              "version_major": 2,
              "version_minor": 0,
              "model_id": "7ec1008bb60043d99ecdcf7065a9e57e"
            }
          },
          "metadata": {}
        },
        {
          "output_type": "stream",
          "name": "stdout",
          "text": [
            "Step 0, Loss: 4.686927795410156, learning rate: [0.05]\n",
            "Step 100, Loss: 3.5058652186393737, learning rate: [0.05]\n",
            "Step 200, Loss: 2.577597050666809, learning rate: [0.05]\n",
            "Step 300, Loss: 2.2829478764533997, learning rate: [0.05]\n",
            "Step 400, Loss: 2.1322933089733125, learning rate: [0.05]\n",
            "Step 500, Loss: 2.0474741184711456, learning rate: [0.05]\n",
            "Step 600, Loss: 2.0343116295337675, learning rate: [0.05]\n",
            "Step 700, Loss: 2.0556787133216856, learning rate: [0.05]\n",
            "Step 800, Loss: 2.0459179973602293, learning rate: [0.025]\n",
            "Step 900, Loss: 1.9274329495429994, learning rate: [0.025]\n",
            "Step 1000, Loss: 1.8684901297092438, learning rate: [0.025]\n",
            "Step 1100, Loss: 1.823254909515381, learning rate: [0.025]\n",
            "Step 1200, Loss: 1.766724478006363, learning rate: [0.025]\n",
            "Step 1300, Loss: 1.7484576332569122, learning rate: [0.025]\n",
            "Step 1400, Loss: 1.7153920114040375, learning rate: [0.0125]\n",
            "Step 1500, Loss: 1.6733328747749328, learning rate: [0.0125]\n",
            "Step 1600, Loss: 1.6400773811340332, learning rate: [0.0125]\n",
            "Step 1700, Loss: 1.618093773126602, learning rate: [0.00625]\n",
            "Step 1800, Loss: 1.5987969756126403, learning rate: [0.00625]\n",
            "Step 1900, Loss: 1.5847480404376983, learning rate: [0.00625]\n",
            "Step 2000, Loss: 1.5667398607730865, learning rate: [0.00625]\n",
            "Step 2100, Loss: 1.5441399753093719, learning rate: [0.00625]\n",
            "Step 2200, Loss: 1.5293395137786865, learning rate: [0.003125]\n",
            "Step 2300, Loss: 1.5235668921470642, learning rate: [0.003125]\n",
            "Step 2400, Loss: 1.517025625705719, learning rate: [0.0015625]\n"
          ]
        }
      ],
      "source": [
        "steps = 2500\n",
        "batch_size = 512\n",
        "train_skipgram_with_neg_sampling(\n",
        "    model,\n",
        "    context_pairs,\n",
        "    keep_prob_array,\n",
        "    word_to_index,\n",
        "    batch_size,\n",
        "    num_negatives,\n",
        "    negative_sampling_prob_array,\n",
        "    steps,\n",
        ")"
      ]
    },
    {
      "cell_type": "markdown",
      "metadata": {
        "id": "ycax-SfieJBT"
      },
      "source": [
        "Наконец, используйте полученную матрицу весов в качестве матрицы в векторными представлениями слов. Рекомендуем использовать для сдачи матрицу, которая отвечала за слова из контекста (т.е. декодера)."
      ]
    },
    {
      "cell_type": "code",
      "execution_count": 109,
      "metadata": {
        "id": "B6sN5C3TeJBT"
      },
      "outputs": [],
      "source": [
        "_model_parameters = model.parameters()\n",
        "embedding_matrix_center = next(\n",
        "    _model_parameters\n",
        ").detach()  # Assuming that first matrix was for central word\n",
        "embedding_matrix_context = next(\n",
        "    _model_parameters\n",
        ").detach()  # Assuming that second matrix was for context word"
      ]
    },
    {
      "cell_type": "code",
      "execution_count": 110,
      "metadata": {
        "id": "w2fudpa9eJBT"
      },
      "outputs": [],
      "source": [
        "def get_word_vector(word, embedding_matrix, word_to_index=word_to_index):\n",
        "    return embedding_matrix[word_to_index[word]]"
      ]
    },
    {
      "cell_type": "markdown",
      "metadata": {
        "id": "EvC-EpI1eJBT"
      },
      "source": [
        "Простые проверки:"
      ]
    },
    {
      "cell_type": "code",
      "execution_count": 111,
      "metadata": {
        "id": "KTpuOwPPeJBW"
      },
      "outputs": [],
      "source": [
        "similarity_1 = F.cosine_similarity(\n",
        "    get_word_vector(\"iphone\", embedding_matrix_context)[None, :],\n",
        "    get_word_vector(\"apple\", embedding_matrix_context)[None, :],\n",
        ")\n",
        "similarity_2 = F.cosine_similarity(\n",
        "    get_word_vector(\"iphone\", embedding_matrix_context)[None, :],\n",
        "    get_word_vector(\"dell\", embedding_matrix_context)[None, :],\n",
        ")\n",
        "assert similarity_1 > similarity_2"
      ]
    },
    {
      "cell_type": "code",
      "execution_count": 112,
      "metadata": {
        "id": "AfROQKLmeJBX"
      },
      "outputs": [],
      "source": [
        "similarity_1 = F.cosine_similarity(\n",
        "    get_word_vector(\"windows\", embedding_matrix_context)[None, :],\n",
        "    get_word_vector(\"laptop\", embedding_matrix_context)[None, :],\n",
        ")\n",
        "similarity_2 = F.cosine_similarity(\n",
        "    get_word_vector(\"windows\", embedding_matrix_context)[None, :],\n",
        "    get_word_vector(\"macbook\", embedding_matrix_context)[None, :],\n",
        ")\n",
        "assert similarity_1 > similarity_2"
      ]
    },
    {
      "cell_type": "markdown",
      "metadata": {
        "id": "H9IPhaGgeJBX"
      },
      "source": [
        "Наконец, взглянем на ближайшие по косинусной мере слова. Функция реализована ниже."
      ]
    },
    {
      "cell_type": "code",
      "execution_count": 113,
      "metadata": {
        "id": "dA0V6rOYtsLk"
      },
      "outputs": [],
      "source": [
        "def find_nearest(word, embedding_matrix, word_to_index=word_to_index, k=10):\n",
        "    word_vector = get_word_vector(word, embedding_matrix)[None, :]\n",
        "    dists = F.cosine_similarity(embedding_matrix, word_vector)\n",
        "    index_sorted = torch.argsort(dists)\n",
        "    top_k = index_sorted[-k:]\n",
        "    return [(index_to_word[x], dists[x].item()) for x in top_k.numpy()]"
      ]
    },
    {
      "cell_type": "code",
      "execution_count": 116,
      "metadata": {
        "id": "aTRQxp41eJBX",
        "outputId": "70e998e1-02be-4884-de7e-59ec2ffe51ae",
        "colab": {
          "base_uri": "https://localhost:8080/"
        }
      },
      "outputs": [
        {
          "output_type": "execute_result",
          "data": {
            "text/plain": [
              "[('lex', 0.6772867441177368),\n",
              " ('washroom', 0.6816902756690979),\n",
              " ('sofa', 0.6843908429145813),\n",
              " ('mitosis', 0.685965895652771),\n",
              " ('statistic', 0.6973653435707092),\n",
              " ('gracefully', 0.6975114345550537),\n",
              " ('4g', 0.7168372273445129),\n",
              " ('bungee', 0.7188878059387207),\n",
              " ('trainee', 0.7552230954170227),\n",
              " ('python', 0.9999999403953552)]"
            ]
          },
          "metadata": {},
          "execution_count": 116
        }
      ],
      "source": [
        "find_nearest(\"python\", embedding_matrix_context, k=10)"
      ]
    },
    {
      "cell_type": "markdown",
      "metadata": {
        "id": "1BQbGVEEeJBX"
      },
      "source": [
        "Также вы можете визуально проверить, как представлены в латентном пространстве часто встречающиеся слова."
      ]
    },
    {
      "cell_type": "code",
      "execution_count": 117,
      "metadata": {
        "id": "2Ai8OUAmeJBX"
      },
      "outputs": [],
      "source": [
        "top_k = 5000\n",
        "_top_words = sorted([x for x in word_count_dict.items()], key=lambda x: x[1])[\n",
        "    -top_k - 100 : -100\n",
        "]  # ignoring 100 most frequent words\n",
        "top_words = [x[0] for x in _top_words]\n",
        "del _top_words"
      ]
    },
    {
      "cell_type": "code",
      "execution_count": 118,
      "metadata": {
        "id": "d2mEm8xQeJBX"
      },
      "outputs": [],
      "source": [
        "word_embeddings = torch.cat(\n",
        "    [embedding_matrix_context[word_to_index[x]][None, :] for x in top_words], dim=0\n",
        ").numpy()"
      ]
    },
    {
      "cell_type": "code",
      "execution_count": 119,
      "metadata": {
        "id": "G7DXNQt5eJBX"
      },
      "outputs": [],
      "source": [
        "import bokeh.models as bm\n",
        "import bokeh.plotting as pl\n",
        "from bokeh.io import output_notebook\n",
        "\n",
        "output_notebook()\n",
        "\n",
        "\n",
        "def draw_vectors(\n",
        "    x,\n",
        "    y,\n",
        "    radius=10,\n",
        "    alpha=0.25,\n",
        "    color=\"blue\",\n",
        "    width=600,\n",
        "    height=400,\n",
        "    show=True,\n",
        "    **kwargs,\n",
        "):\n",
        "    \"\"\"draws an interactive plot for data points with auxilirary info on hover\"\"\"\n",
        "    if isinstance(color, str):\n",
        "        color = [color] * len(x)\n",
        "    data_source = bm.ColumnDataSource({\"x\": x, \"y\": y, \"color\": color, **kwargs})\n",
        "\n",
        "    fig = pl.figure(active_scroll=\"wheel_zoom\", width=width, height=height)\n",
        "    fig.scatter(\"x\", \"y\", size=radius, color=\"color\", alpha=alpha, source=data_source)\n",
        "\n",
        "    fig.add_tools(bm.HoverTool(tooltips=[(key, \"@\" + key) for key in kwargs.keys()]))\n",
        "    if show:\n",
        "        pl.show(fig)\n",
        "    return fig"
      ]
    },
    {
      "cell_type": "code",
      "execution_count": 120,
      "metadata": {
        "id": "eDle_ZBWeJBX"
      },
      "outputs": [],
      "source": [
        "embedding = umap.UMAP(n_neighbors=5).fit_transform(word_embeddings)"
      ]
    },
    {
      "cell_type": "code",
      "execution_count": 121,
      "metadata": {
        "id": "V3ta6Y0eeJBX",
        "outputId": "482c74ba-24c9-40f5-8194-16e1b3dfc6d2",
        "colab": {
          "base_uri": "https://localhost:8080/",
          "height": 434
        }
      },
      "outputs": [
        {
          "output_type": "display_data",
          "data": {
            "application/javascript": [
              "'use strict';\n",
              "(function(root) {\n",
              "  function now() {\n",
              "    return new Date();\n",
              "  }\n",
              "\n",
              "  const force = true;\n",
              "\n",
              "  if (typeof root._bokeh_onload_callbacks === \"undefined\" || force === true) {\n",
              "    root._bokeh_onload_callbacks = [];\n",
              "    root._bokeh_is_loading = undefined;\n",
              "  }\n",
              "\n",
              "const JS_MIME_TYPE = 'application/javascript';\n",
              "  const HTML_MIME_TYPE = 'text/html';\n",
              "  const EXEC_MIME_TYPE = 'application/vnd.bokehjs_exec.v0+json';\n",
              "  const CLASS_NAME = 'output_bokeh rendered_html';\n",
              "\n",
              "  /**\n",
              "   * Render data to the DOM node\n",
              "   */\n",
              "  function render(props, node) {\n",
              "    const script = document.createElement(\"script\");\n",
              "    node.appendChild(script);\n",
              "  }\n",
              "\n",
              "  /**\n",
              "   * Handle when an output is cleared or removed\n",
              "   */\n",
              "  function handleClearOutput(event, handle) {\n",
              "    function drop(id) {\n",
              "      const view = Bokeh.index.get_by_id(id)\n",
              "      if (view != null) {\n",
              "        view.model.document.clear()\n",
              "        Bokeh.index.delete(view)\n",
              "      }\n",
              "    }\n",
              "\n",
              "    const cell = handle.cell;\n",
              "\n",
              "    const id = cell.output_area._bokeh_element_id;\n",
              "    const server_id = cell.output_area._bokeh_server_id;\n",
              "\n",
              "    // Clean up Bokeh references\n",
              "    if (id != null) {\n",
              "      drop(id)\n",
              "    }\n",
              "\n",
              "    if (server_id !== undefined) {\n",
              "      // Clean up Bokeh references\n",
              "      const cmd_clean = \"from bokeh.io.state import curstate; print(curstate().uuid_to_server['\" + server_id + \"'].get_sessions()[0].document.roots[0]._id)\";\n",
              "      cell.notebook.kernel.execute(cmd_clean, {\n",
              "        iopub: {\n",
              "          output: function(msg) {\n",
              "            const id = msg.content.text.trim()\n",
              "            drop(id)\n",
              "          }\n",
              "        }\n",
              "      });\n",
              "      // Destroy server and session\n",
              "      const cmd_destroy = \"import bokeh.io.notebook as ion; ion.destroy_server('\" + server_id + \"')\";\n",
              "      cell.notebook.kernel.execute(cmd_destroy);\n",
              "    }\n",
              "  }\n",
              "\n",
              "  /**\n",
              "   * Handle when a new output is added\n",
              "   */\n",
              "  function handleAddOutput(event, handle) {\n",
              "    const output_area = handle.output_area;\n",
              "    const output = handle.output;\n",
              "\n",
              "    // limit handleAddOutput to display_data with EXEC_MIME_TYPE content only\n",
              "    if ((output.output_type != \"display_data\") || (!Object.prototype.hasOwnProperty.call(output.data, EXEC_MIME_TYPE))) {\n",
              "      return\n",
              "    }\n",
              "\n",
              "    const toinsert = output_area.element.find(\".\" + CLASS_NAME.split(' ')[0]);\n",
              "\n",
              "    if (output.metadata[EXEC_MIME_TYPE][\"id\"] !== undefined) {\n",
              "      toinsert[toinsert.length - 1].firstChild.textContent = output.data[JS_MIME_TYPE];\n",
              "      // store reference to embed id on output_area\n",
              "      output_area._bokeh_element_id = output.metadata[EXEC_MIME_TYPE][\"id\"];\n",
              "    }\n",
              "    if (output.metadata[EXEC_MIME_TYPE][\"server_id\"] !== undefined) {\n",
              "      const bk_div = document.createElement(\"div\");\n",
              "      bk_div.innerHTML = output.data[HTML_MIME_TYPE];\n",
              "      const script_attrs = bk_div.children[0].attributes;\n",
              "      for (let i = 0; i < script_attrs.length; i++) {\n",
              "        toinsert[toinsert.length - 1].firstChild.setAttribute(script_attrs[i].name, script_attrs[i].value);\n",
              "        toinsert[toinsert.length - 1].firstChild.textContent = bk_div.children[0].textContent\n",
              "      }\n",
              "      // store reference to server id on output_area\n",
              "      output_area._bokeh_server_id = output.metadata[EXEC_MIME_TYPE][\"server_id\"];\n",
              "    }\n",
              "  }\n",
              "\n",
              "  function register_renderer(events, OutputArea) {\n",
              "\n",
              "    function append_mime(data, metadata, element) {\n",
              "      // create a DOM node to render to\n",
              "      const toinsert = this.create_output_subarea(\n",
              "        metadata,\n",
              "        CLASS_NAME,\n",
              "        EXEC_MIME_TYPE\n",
              "      );\n",
              "      this.keyboard_manager.register_events(toinsert);\n",
              "      // Render to node\n",
              "      const props = {data: data, metadata: metadata[EXEC_MIME_TYPE]};\n",
              "      render(props, toinsert[toinsert.length - 1]);\n",
              "      element.append(toinsert);\n",
              "      return toinsert\n",
              "    }\n",
              "\n",
              "    /* Handle when an output is cleared or removed */\n",
              "    events.on('clear_output.CodeCell', handleClearOutput);\n",
              "    events.on('delete.Cell', handleClearOutput);\n",
              "\n",
              "    /* Handle when a new output is added */\n",
              "    events.on('output_added.OutputArea', handleAddOutput);\n",
              "\n",
              "    /**\n",
              "     * Register the mime type and append_mime function with output_area\n",
              "     */\n",
              "    OutputArea.prototype.register_mime_type(EXEC_MIME_TYPE, append_mime, {\n",
              "      /* Is output safe? */\n",
              "      safe: true,\n",
              "      /* Index of renderer in `output_area.display_order` */\n",
              "      index: 0\n",
              "    });\n",
              "  }\n",
              "\n",
              "  // register the mime type if in Jupyter Notebook environment and previously unregistered\n",
              "  if (root.Jupyter !== undefined) {\n",
              "    const events = require('base/js/events');\n",
              "    const OutputArea = require('notebook/js/outputarea').OutputArea;\n",
              "\n",
              "    if (OutputArea.prototype.mime_types().indexOf(EXEC_MIME_TYPE) == -1) {\n",
              "      register_renderer(events, OutputArea);\n",
              "    }\n",
              "  }\n",
              "  if (typeof (root._bokeh_timeout) === \"undefined\" || force === true) {\n",
              "    root._bokeh_timeout = Date.now() + 5000;\n",
              "    root._bokeh_failed_load = false;\n",
              "  }\n",
              "\n",
              "  const NB_LOAD_WARNING = {'data': {'text/html':\n",
              "     \"<div style='background-color: #fdd'>\\n\"+\n",
              "     \"<p>\\n\"+\n",
              "     \"BokehJS does not appear to have successfully loaded. If loading BokehJS from CDN, this \\n\"+\n",
              "     \"may be due to a slow or bad network connection. Possible fixes:\\n\"+\n",
              "     \"</p>\\n\"+\n",
              "     \"<ul>\\n\"+\n",
              "     \"<li>re-rerun `output_notebook()` to attempt to load from CDN again, or</li>\\n\"+\n",
              "     \"<li>use INLINE resources instead, as so:</li>\\n\"+\n",
              "     \"</ul>\\n\"+\n",
              "     \"<code>\\n\"+\n",
              "     \"from bokeh.resources import INLINE\\n\"+\n",
              "     \"output_notebook(resources=INLINE)\\n\"+\n",
              "     \"</code>\\n\"+\n",
              "     \"</div>\"}};\n",
              "\n",
              "  function display_loaded(error = null) {\n",
              "    const el = document.getElementById(null);\n",
              "    if (el != null) {\n",
              "      const html = (() => {\n",
              "        if (typeof root.Bokeh === \"undefined\") {\n",
              "          if (error == null) {\n",
              "            return \"BokehJS is loading ...\";\n",
              "          } else {\n",
              "            return \"BokehJS failed to load.\";\n",
              "          }\n",
              "        } else {\n",
              "          const prefix = `BokehJS ${root.Bokeh.version}`;\n",
              "          if (error == null) {\n",
              "            return `${prefix} successfully loaded.`;\n",
              "          } else {\n",
              "            return `${prefix} <b>encountered errors</b> while loading and may not function as expected.`;\n",
              "          }\n",
              "        }\n",
              "      })();\n",
              "      el.innerHTML = html;\n",
              "\n",
              "      if (error != null) {\n",
              "        const wrapper = document.createElement(\"div\");\n",
              "        wrapper.style.overflow = \"auto\";\n",
              "        wrapper.style.height = \"5em\";\n",
              "        wrapper.style.resize = \"vertical\";\n",
              "        const content = document.createElement(\"div\");\n",
              "        content.style.fontFamily = \"monospace\";\n",
              "        content.style.whiteSpace = \"pre-wrap\";\n",
              "        content.style.backgroundColor = \"rgb(255, 221, 221)\";\n",
              "        content.textContent = error.stack ?? error.toString();\n",
              "        wrapper.append(content);\n",
              "        el.append(wrapper);\n",
              "      }\n",
              "    } else if (Date.now() < root._bokeh_timeout) {\n",
              "      setTimeout(() => display_loaded(error), 100);\n",
              "    }\n",
              "  }\n",
              "\n",
              "  function run_callbacks() {\n",
              "    try {\n",
              "      root._bokeh_onload_callbacks.forEach(function(callback) {\n",
              "        if (callback != null)\n",
              "          callback();\n",
              "      });\n",
              "    } finally {\n",
              "      delete root._bokeh_onload_callbacks\n",
              "    }\n",
              "    console.debug(\"Bokeh: all callbacks have finished\");\n",
              "  }\n",
              "\n",
              "  function load_libs(css_urls, js_urls, callback) {\n",
              "    if (css_urls == null) css_urls = [];\n",
              "    if (js_urls == null) js_urls = [];\n",
              "\n",
              "    root._bokeh_onload_callbacks.push(callback);\n",
              "    if (root._bokeh_is_loading > 0) {\n",
              "      console.debug(\"Bokeh: BokehJS is being loaded, scheduling callback at\", now());\n",
              "      return null;\n",
              "    }\n",
              "    if (js_urls == null || js_urls.length === 0) {\n",
              "      run_callbacks();\n",
              "      return null;\n",
              "    }\n",
              "    console.debug(\"Bokeh: BokehJS not loaded, scheduling load and callback at\", now());\n",
              "    root._bokeh_is_loading = css_urls.length + js_urls.length;\n",
              "\n",
              "    function on_load() {\n",
              "      root._bokeh_is_loading--;\n",
              "      if (root._bokeh_is_loading === 0) {\n",
              "        console.debug(\"Bokeh: all BokehJS libraries/stylesheets loaded\");\n",
              "        run_callbacks()\n",
              "      }\n",
              "    }\n",
              "\n",
              "    function on_error(url) {\n",
              "      console.error(\"failed to load \" + url);\n",
              "    }\n",
              "\n",
              "    for (let i = 0; i < css_urls.length; i++) {\n",
              "      const url = css_urls[i];\n",
              "      const element = document.createElement(\"link\");\n",
              "      element.onload = on_load;\n",
              "      element.onerror = on_error.bind(null, url);\n",
              "      element.rel = \"stylesheet\";\n",
              "      element.type = \"text/css\";\n",
              "      element.href = url;\n",
              "      console.debug(\"Bokeh: injecting link tag for BokehJS stylesheet: \", url);\n",
              "      document.body.appendChild(element);\n",
              "    }\n",
              "\n",
              "    for (let i = 0; i < js_urls.length; i++) {\n",
              "      const url = js_urls[i];\n",
              "      const element = document.createElement('script');\n",
              "      element.onload = on_load;\n",
              "      element.onerror = on_error.bind(null, url);\n",
              "      element.async = false;\n",
              "      element.src = url;\n",
              "      console.debug(\"Bokeh: injecting script tag for BokehJS library: \", url);\n",
              "      document.head.appendChild(element);\n",
              "    }\n",
              "  };\n",
              "\n",
              "  function inject_raw_css(css) {\n",
              "    const element = document.createElement(\"style\");\n",
              "    element.appendChild(document.createTextNode(css));\n",
              "    document.body.appendChild(element);\n",
              "  }\n",
              "\n",
              "  const js_urls = [\"https://cdn.bokeh.org/bokeh/release/bokeh-3.7.3.min.js\", \"https://cdn.bokeh.org/bokeh/release/bokeh-gl-3.7.3.min.js\", \"https://cdn.bokeh.org/bokeh/release/bokeh-widgets-3.7.3.min.js\", \"https://cdn.bokeh.org/bokeh/release/bokeh-tables-3.7.3.min.js\", \"https://cdn.bokeh.org/bokeh/release/bokeh-mathjax-3.7.3.min.js\"];\n",
              "  const css_urls = [];\n",
              "\n",
              "  const inline_js = [    function(Bokeh) {\n",
              "      Bokeh.set_log_level(\"info\");\n",
              "    },\n",
              "function(Bokeh) {\n",
              "    }\n",
              "  ];\n",
              "\n",
              "  function run_inline_js() {\n",
              "    if (root.Bokeh !== undefined || force === true) {\n",
              "      try {\n",
              "            for (let i = 0; i < inline_js.length; i++) {\n",
              "      inline_js[i].call(root, root.Bokeh);\n",
              "    }\n",
              "\n",
              "      } catch (error) {throw error;\n",
              "      }} else if (Date.now() < root._bokeh_timeout) {\n",
              "      setTimeout(run_inline_js, 100);\n",
              "    } else if (!root._bokeh_failed_load) {\n",
              "      console.log(\"Bokeh: BokehJS failed to load within specified timeout.\");\n",
              "      root._bokeh_failed_load = true;\n",
              "    } else if (force !== true) {\n",
              "      const cell = $(document.getElementById(null)).parents('.cell').data().cell;\n",
              "      cell.output_area.append_execute_result(NB_LOAD_WARNING)\n",
              "    }\n",
              "  }\n",
              "\n",
              "  if (root._bokeh_is_loading === 0) {\n",
              "    console.debug(\"Bokeh: BokehJS loaded, going straight to plotting\");\n",
              "    run_inline_js();\n",
              "  } else {\n",
              "    load_libs(css_urls, js_urls, function() {\n",
              "      console.debug(\"Bokeh: BokehJS plotting callback run at\", now());\n",
              "      run_inline_js();\n",
              "    });\n",
              "  }\n",
              "}(window));"
            ],
            "application/vnd.bokehjs_load.v0+json": "'use strict';\n(function(root) {\n  function now() {\n    return new Date();\n  }\n\n  const force = true;\n\n  if (typeof root._bokeh_onload_callbacks === \"undefined\" || force === true) {\n    root._bokeh_onload_callbacks = [];\n    root._bokeh_is_loading = undefined;\n  }\n\n\n  if (typeof (root._bokeh_timeout) === \"undefined\" || force === true) {\n    root._bokeh_timeout = Date.now() + 5000;\n    root._bokeh_failed_load = false;\n  }\n\n  const NB_LOAD_WARNING = {'data': {'text/html':\n     \"<div style='background-color: #fdd'>\\n\"+\n     \"<p>\\n\"+\n     \"BokehJS does not appear to have successfully loaded. If loading BokehJS from CDN, this \\n\"+\n     \"may be due to a slow or bad network connection. Possible fixes:\\n\"+\n     \"</p>\\n\"+\n     \"<ul>\\n\"+\n     \"<li>re-rerun `output_notebook()` to attempt to load from CDN again, or</li>\\n\"+\n     \"<li>use INLINE resources instead, as so:</li>\\n\"+\n     \"</ul>\\n\"+\n     \"<code>\\n\"+\n     \"from bokeh.resources import INLINE\\n\"+\n     \"output_notebook(resources=INLINE)\\n\"+\n     \"</code>\\n\"+\n     \"</div>\"}};\n\n  function display_loaded(error = null) {\n    const el = document.getElementById(null);\n    if (el != null) {\n      const html = (() => {\n        if (typeof root.Bokeh === \"undefined\") {\n          if (error == null) {\n            return \"BokehJS is loading ...\";\n          } else {\n            return \"BokehJS failed to load.\";\n          }\n        } else {\n          const prefix = `BokehJS ${root.Bokeh.version}`;\n          if (error == null) {\n            return `${prefix} successfully loaded.`;\n          } else {\n            return `${prefix} <b>encountered errors</b> while loading and may not function as expected.`;\n          }\n        }\n      })();\n      el.innerHTML = html;\n\n      if (error != null) {\n        const wrapper = document.createElement(\"div\");\n        wrapper.style.overflow = \"auto\";\n        wrapper.style.height = \"5em\";\n        wrapper.style.resize = \"vertical\";\n        const content = document.createElement(\"div\");\n        content.style.fontFamily = \"monospace\";\n        content.style.whiteSpace = \"pre-wrap\";\n        content.style.backgroundColor = \"rgb(255, 221, 221)\";\n        content.textContent = error.stack ?? error.toString();\n        wrapper.append(content);\n        el.append(wrapper);\n      }\n    } else if (Date.now() < root._bokeh_timeout) {\n      setTimeout(() => display_loaded(error), 100);\n    }\n  }\n\n  function run_callbacks() {\n    try {\n      root._bokeh_onload_callbacks.forEach(function(callback) {\n        if (callback != null)\n          callback();\n      });\n    } finally {\n      delete root._bokeh_onload_callbacks\n    }\n    console.debug(\"Bokeh: all callbacks have finished\");\n  }\n\n  function load_libs(css_urls, js_urls, callback) {\n    if (css_urls == null) css_urls = [];\n    if (js_urls == null) js_urls = [];\n\n    root._bokeh_onload_callbacks.push(callback);\n    if (root._bokeh_is_loading > 0) {\n      console.debug(\"Bokeh: BokehJS is being loaded, scheduling callback at\", now());\n      return null;\n    }\n    if (js_urls == null || js_urls.length === 0) {\n      run_callbacks();\n      return null;\n    }\n    console.debug(\"Bokeh: BokehJS not loaded, scheduling load and callback at\", now());\n    root._bokeh_is_loading = css_urls.length + js_urls.length;\n\n    function on_load() {\n      root._bokeh_is_loading--;\n      if (root._bokeh_is_loading === 0) {\n        console.debug(\"Bokeh: all BokehJS libraries/stylesheets loaded\");\n        run_callbacks()\n      }\n    }\n\n    function on_error(url) {\n      console.error(\"failed to load \" + url);\n    }\n\n    for (let i = 0; i < css_urls.length; i++) {\n      const url = css_urls[i];\n      const element = document.createElement(\"link\");\n      element.onload = on_load;\n      element.onerror = on_error.bind(null, url);\n      element.rel = \"stylesheet\";\n      element.type = \"text/css\";\n      element.href = url;\n      console.debug(\"Bokeh: injecting link tag for BokehJS stylesheet: \", url);\n      document.body.appendChild(element);\n    }\n\n    for (let i = 0; i < js_urls.length; i++) {\n      const url = js_urls[i];\n      const element = document.createElement('script');\n      element.onload = on_load;\n      element.onerror = on_error.bind(null, url);\n      element.async = false;\n      element.src = url;\n      console.debug(\"Bokeh: injecting script tag for BokehJS library: \", url);\n      document.head.appendChild(element);\n    }\n  };\n\n  function inject_raw_css(css) {\n    const element = document.createElement(\"style\");\n    element.appendChild(document.createTextNode(css));\n    document.body.appendChild(element);\n  }\n\n  const js_urls = [\"https://cdn.bokeh.org/bokeh/release/bokeh-3.7.3.min.js\", \"https://cdn.bokeh.org/bokeh/release/bokeh-gl-3.7.3.min.js\", \"https://cdn.bokeh.org/bokeh/release/bokeh-widgets-3.7.3.min.js\", \"https://cdn.bokeh.org/bokeh/release/bokeh-tables-3.7.3.min.js\", \"https://cdn.bokeh.org/bokeh/release/bokeh-mathjax-3.7.3.min.js\"];\n  const css_urls = [];\n\n  const inline_js = [    function(Bokeh) {\n      Bokeh.set_log_level(\"info\");\n    },\nfunction(Bokeh) {\n    }\n  ];\n\n  function run_inline_js() {\n    if (root.Bokeh !== undefined || force === true) {\n      try {\n            for (let i = 0; i < inline_js.length; i++) {\n      inline_js[i].call(root, root.Bokeh);\n    }\n\n      } catch (error) {throw error;\n      }} else if (Date.now() < root._bokeh_timeout) {\n      setTimeout(run_inline_js, 100);\n    } else if (!root._bokeh_failed_load) {\n      console.log(\"Bokeh: BokehJS failed to load within specified timeout.\");\n      root._bokeh_failed_load = true;\n    } else if (force !== true) {\n      const cell = $(document.getElementById(null)).parents('.cell').data().cell;\n      cell.output_area.append_execute_result(NB_LOAD_WARNING)\n    }\n  }\n\n  if (root._bokeh_is_loading === 0) {\n    console.debug(\"Bokeh: BokehJS loaded, going straight to plotting\");\n    run_inline_js();\n  } else {\n    load_libs(css_urls, js_urls, function() {\n      console.debug(\"Bokeh: BokehJS plotting callback run at\", now());\n      run_inline_js();\n    });\n  }\n}(window));"
          },
          "metadata": {}
        },
        {
          "output_type": "display_data",
          "data": {
            "text/html": [
              "\n",
              "  <div id=\"ba3b44ac-d9bc-48a5-ad3e-187183d101d9\" data-root-id=\"p1006\" style=\"display: contents;\"></div>\n"
            ]
          },
          "metadata": {}
        },
        {
          "output_type": "display_data",
          "data": {
            "application/javascript": [
              "(function(root) {\n",
              "  function embed_document(root) {\n",
              "  const docs_json = {\"3f4d8910-875a-4fca-81a9-e86349de129f\":{\"version\":\"3.7.3\",\"title\":\"Bokeh Application\",\"roots\":[{\"type\":\"object\",\"name\":\"Figure\",\"id\":\"p1006\",\"attributes\":{\"height\":400,\"x_range\":{\"type\":\"object\",\"name\":\"DataRange1d\",\"id\":\"p1007\"},\"y_range\":{\"type\":\"object\",\"name\":\"DataRange1d\",\"id\":\"p1008\"},\"x_scale\":{\"type\":\"object\",\"name\":\"LinearScale\",\"id\":\"p1015\"},\"y_scale\":{\"type\":\"object\",\"name\":\"LinearScale\",\"id\":\"p1016\"},\"title\":{\"type\":\"object\",\"name\":\"Title\",\"id\":\"p1013\"},\"renderers\":[{\"type\":\"object\",\"name\":\"GlyphRenderer\",\"id\":\"p1046\",\"attributes\":{\"data_source\":{\"type\":\"object\",\"name\":\"ColumnDataSource\",\"id\":\"p1003\",\"attributes\":{\"selected\":{\"type\":\"object\",\"name\":\"Selection\",\"id\":\"p1004\",\"attributes\":{\"indices\":[],\"line_indices\":[]}},\"selection_policy\":{\"type\":\"object\",\"name\":\"UnionRenderers\",\"id\":\"p1005\"},\"data\":{\"type\":\"map\",\"entries\":[[\"x\",{\"type\":\"ndarray\",\"array\":{\"type\":\"bytes\",\"data\":\"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\"},\"shape\":[5000],\"dtype\":\"float32\",\"order\":\"little\"}],[\"y\",{\"type\":\"ndarray\",\"array\":{\"type\":\"bytes\",\"data\":\"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\"},\"shape\":[5000],\"dtype\":\"float32\",\"order\":\"little\"}],[\"color\",[\"blue\",\"blue\",\"blue\",\"blue\",\"blue\",\"blue\",\"blue\",\"blue\",\"blue\",\"blue\",\"blue\",\"blue\",\"blue\",\"blue\",\"blue\",\"blue\",\"blue\",\"blue\",\"blue\",\"blue\",\"blue\",\"blue\",\"blue\",\"blue\",\"blue\",\"blue\",\"blue\",\"blue\",\"blue\",\"blue\",\"blue\",\"blue\",\"blue\",\"blue\",\"blue\",\"blue\",\"blue\",\"blue\",\"blue\",\"blue\",\"blue\",\"blue\",\"blue\",\"blue\",\"blue\",\"blue\",\"blue\",\"blue\",\"blue\",\"blue\",\"blue\",\"blue\",\"blue\",\"blue\",\"blue\",\"blue\",\"blue\",\"blue\",\"blue\",\"blue\",\"blue\",\"blue\",\"blue\",\"blue\",\"blue\",\"blue\",\"blue\",\"blue\",\"blue\",\"blue\",\"blue\",\"blue\",\"blue\",\"blue\",\"blue\",\"blue\",\"blue\",\"blue\",\"blue\",\"blue\",\"blue\",\"blue\",\"blue\",\"blue\",\"blue\",\"blue\",\"blue\",\"blue\",\"blue\",\"blue\",\"blue\",\"blue\",\"blue\",\"blue\",\"blue\",\"blue\",\"blue\",\"blue\",\"blue\",\"blue\",\"blue\",\"blue\",\"blue\",\"blue\",\"blue\",\"blue\",\"blue\",\"blue\",\"blue\",\"blue\",\"blue\",\"blue\",\"blue\",\"blue\",\"blue\",\"blue\",\"blue\",\"blue\",\"blue\",\"blue\",\"blue\",\"blue\",\"blue\",\"blue\",\"blue\",\"blue\",\"blue\",\"blue\",\"blue\",\"blue\",\"blue\",\"blue\",\"blue\",\"blue\",\"blue\",\"blue\",\"blue\",\"blue\",\"blue\",\"blue\",\"blue\",\"blue\",\"blue\",\"blue\",\"blue\",\"blue\",\"blue\",\"blue\",\"blue\",\"blue\",\"blue\",\"blue\",\"blue\",\"blue\",\"blue\",\"blue\",\"blue\",\"blue\",\"blue\",\"blue\",\"blue\",\"blue\",\"blue\",\"blue\",\"blue\",\"blue\",\"blue\",\"blue\",\"blue\",\"blue\",\"blue\",\"blue\",\"blue\",\"blue\",\"blue\",\"blue\",\"blue\",\"blue\",\"blue\",\"blue\",\"blue\",\"blue\",\"blue\",\"blue\",\"blue\",\"blue\",\"blue\",\"blue\",\"blue\",\"blue\",\"blue\",\"blue\",\"blue\",\"blue\",\"blue\",\"blue\",\"blue\",\"blue\",\"blue\",\"blue\",\"blue\",\"blue\",\"blue\",\"blue\",\"blue\",\"blue\",\"blue\",\"blue\",\"blue\",\"blue\",\"blue\",\"blue\",\"blue\",\"blue\",\"blue\",\"blue\",\"blue\",\"blue\",\"blue\",\"blue\",\"blue\",\"blue\",\"blue\",\"blue\",\"blue\",\"blue\",\"blue\",\"blue\",\"blue\",\"blue\",\"blue\",\"blue\",\"blue\",\"blue\",\"blue\",\"blue\",\"blue\",\"blue\",\"blue\",\"blue\",\"blue\",\"blue\",\"blue\",\"blue\",\"blue\",\"blue\",\"blue\",\"blue\",\"blue\",\"blue\",\"blue\",\"blue\",\"blue\",\"blue\",\"blue\",\"blue\",\"blue\",\"blue\",\"blue\",\"blue\",\"blue\",\"blue\",\"blue\",\"blue\",\"blue\",\"blue\",\"blue\",\"blue\",\"blue\",\"blue\",\"blue\",\"blue\",\"blue\",\"blue\",\"blue\",\"blue\",\"blue\",\"blue\",\"blue\",\"blue\",\"blue\",\"blue\",\"blue\",\"blue\",\"blue\",\"blue\",\"blue\",\"blue\",\"blue\",\"blue\",\"blue\",\"blue\",\"blue\",\"blue\",\"blue\",\"blue\",\"blue\",\"blue\",\"blue\",\"blue\",\"blue\",\"blue\",\"blue\",\"blue\",\"blue\",\"blue\",\"blue\",\"blue\",\"blue\",\"blue\",\"blue\",\"blue\",\"blue\",\"blue\",\"blue\",\"blue\",\"blue\",\"blue\",\"blue\",\"blue\",\"blue\",\"blue\",\"blue\",\"blue\",\"blue\",\"blue\",\"blue\",\"blue\",\"blue\",\"blue\",\"blue\",\"blue\",\"blue\",\"blue\",\"blue\",\"blue\",\"blue\",\"blue\",\"blue\",\"blue\",\"blue\",\"blue\",\"blue\",\"blue\",\"blue\",\"blue\",\"blue\",\"blue\",\"blue\",\"blue\",\"blue\",\"blue\",\"blue\",\"blue\",\"blue\",\"blue\",\"blue\",\"blue\",\"blue\",\"blue\",\"blue\",\"blue\",\"blue\",\"blue\",\"blue\",\"blue\",\"blue\",\"blue\",\"blue\",\"blue\",\"blue\",\"blue\",\"blue\",\"blue\",\"blue\",\"blue\",\"blue\",\"blue\",\"blue\",\"blue\",\"blue\",\"blue\",\"blue\",\"blue\",\"blue\",\"blue\",\"blue\",\"blue\",\"blue\",\"blue\",\"blue\",\"blue\",\"blue\",\"blue\",\"blue\",\"blue\",\"blue\",\"blue\",\"blue\",\"blue\",\"blue\",\"blue\",\"blue\",\"blue\",\"blue\",\"blue\",\"blue\",\"blue\",\"blue\",\"blue\",\"blue\",\"blue\",\"blue\",\"blue\",\"blue\",\"blue\",\"blue\",\"blue\",\"blue\",\"blue\",\"blue\",\"blue\",\"blue\",\"blue\",\"blue\",\"blue\",\"blue\",\"blue\",\"blue\",\"blue\",\"blue\",\"blue\",\"blue\",\"blue\",\"blue\",\"blue\",\"blue\",\"blue\",\"blue\",\"blue\",\"blue\",\"blue\",\"blue\",\"blue\",\"blue\",\"blue\",\"blue\",\"blue\",\"blue\",\"blue\",\"blue\",\"blue\",\"blue\",\"blue\",\"blue\",\"blue\",\"blue\",\"blue\",\"blue\",\"blue\",\"blue\",\"blue\",\"blue\",\"blue\",\"blue\",\"blue\",\"blue\",\"blue\",\"blue\",\"blue\",\"blue\",\"blue\",\"blue\",\"blue\",\"blue\",\"blue\",\"blue\",\"blue\",\"blue\",\"blue\",\"blue\",\"blue\",\"blue\",\"blue\",\"blue\",\"blue\",\"blue\",\"blue\",\"blue\",\"blue\",\"blue\",\"blue\",\"blue\",\"blue\",\"blue\",\"blue\",\"blue\",\"blue\",\"blue\",\"blue\",\"blue\",\"blue\",\"blue\",\"blue\",\"blue\",\"blue\",\"blue\",\"blue\",\"blue\",\"blue\",\"blue\",\"blue\",\"blue\",\"blue\",\"blue\",\"blue\",\"blue\",\"blue\",\"blue\",\"blue\",\"blue\",\"blue\",\"blue\",\"blue\",\"blue\",\"blue\",\"blue\",\"blue\",\"blue\",\"blue\",\"blue\",\"blue\",\"blue\",\"blue\",\"blue\",\"blue\",\"blue\",\"blue\",\"blue\",\"blue\",\"blue\",\"blue\",\"blue\",\"blue\",\"blue\",\"blue\",\"blue\",\"blue\",\"blue\",\"blue\",\"blue\",\"blue\",\"blue\",\"blue\",\"blue\",\"blue\",\"blue\",\"blue\",\"blue\",\"blue\",\"blue\",\"blue\",\"blue\",\"blue\",\"blue\",\"blue\",\"blue\",\"blue\",\"blue\",\"blue\",\"blue\",\"blue\",\"blue\",\"blue\",\"blue\",\"blue\",\"blue\",\"blue\",\"blue\",\"blue\",\"blue\",\"blue\",\"blue\",\"blue\",\"blue\",\"blue\",\"blue\",\"blue\",\"blue\",\"blue\",\"blue\",\"blue\",\"blue\",\"blue\",\"blue\",\"blue\",\"blue\",\"blue\",\"blue\",\"blue\",\"blue\",\"blue\",\"blue\",\"blue\",\"blue\",\"blue\",\"blue\",\"blue\",\"blue\",\"blue\",\"blue\",\"blue\",\"blue\",\"blue\",\"blue\",\"blue\",\"blue\",\"blue\",\"blue\",\"blue\",\"blue\",\"blue\",\"blue\",\"blue\",\"blue\",\"blue\",\"blue\",\"blue\",\"blue\",\"blue\",\"blue\",\"blue\",\"blue\",\"blue\",\"blue\",\"blue\",\"blue\",\"blue\",\"blue\",\"blue\",\"blue\",\"blue\",\"blue\",\"blue\",\"blue\",\"blue\",\"blue\",\"blue\",\"blue\",\"blue\",\"blue\",\"blue\",\"blue\",\"blue\",\"blue\",\"blue\",\"blue\",\"blue\",\"blue\",\"blue\",\"blue\",\"blue\",\"blue\",\"blue\",\"blue\",\"blue\",\"blue\",\"blue\",\"blue\",\"blue\",\"blue\",\"blue\",\"blue\",\"blue\",\"blue\",\"blue\",\"blue\",\"blue\",\"blue\",\"blue\",\"blue\",\"blue\",\"blue\",\"blue\",\"blue\",\"blue\",\"blue\",\"blue\",\"blue\",\"blue\",\"blue\",\"blue\",\"blue\",\"blue\",\"blue\",\"blue\",\"blue\",\"blue\",\"blue\",\"blue\",\"blue\",\"blue\",\"blue\",\"blue\",\"blue\",\"blue\",\"blue\",\"blue\",\"blue\",\"blue\",\"blue\",\"blue\",\"blue\",\"blue\",\"blue\",\"blue\",\"blue\",\"blue\",\"blue\",\"blue\",\"blue\",\"blue\",\"blue\",\"blue\",\"blue\",\"blue\",\"blue\",\"blue\",\"blue\",\"blue\",\"blue\",\"blue\",\"blue\",\"blue\",\"blue\",\"blue\",\"blue\",\"blue\",\"blue\",\"blue\",\"blue\",\"blue\",\"blue\",\"blue\",\"blue\",\"blue\",\"blue\",\"blue\",\"blue\",\"blue\",\"blue\",\"blue\",\"blue\",\"blue\",\"blue\",\"blue\",\"blue\",\"blue\",\"blue\",\"blue\",\"blue\",\"blue\",\"blue\",\"blue\",\"blue\",\"blue\",\"blue\",\"blue\",\"blue\",\"blue\",\"blue\",\"blue\",\"blue\",\"blue\",\"blue\",\"blue\",\"blue\",\"blue\",\"blue\",\"blue\",\"blue\",\"blue\",\"blue\",\"blue\",\"blue\",\"blue\",\"blue\",\"blue\",\"blue\",\"blue\",\"blue\",\"blue\",\"blue\",\"blue\",\"blue\",\"blue\",\"blue\",\"blue\",\"blue\",\"blue\",\"blue\",\"blue\",\"blue\",\"blue\",\"blue\",\"blue\",\"blue\",\"blue\",\"blue\",\"blue\",\"blue\",\"blue\",\"blue\",\"blue\",\"blue\",\"blue\",\"blue\",\"blue\",\"blue\",\"blue\",\"blue\",\"blue\",\"blue\",\"blue\",\"blue\",\"blue\",\"blue\",\"blue\",\"blue\",\"blue\",\"blue\",\"blue\",\"blue\",\"blue\",\"blue\",\"blue\",\"blue\",\"blue\",\"blue\",\"blue\",\"blue\",\"blue\",\"blue\",\"blue\",\"blue\",\"blue\",\"blue\",\"blue\",\"blue\",\"blue\",\"blue\",\"blue\",\"blue\",\"blue\",\"blue\",\"blue\",\"blue\",\"blue\",\"blue\",\"blue\",\"blue\",\"blue\",\"blue\",\"blue\",\"blue\",\"blue\",\"blue\",\"blue\",\"blue\",\"blue\",\"blue\",\"blue\",\"blue\",\"blue\",\"blue\",\"blue\",\"blue\",\"blue\",\"blue\",\"blue\",\"blue\",\"blue\",\"blue\",\"blue\",\"blue\",\"blue\",\"blue\",\"blue\",\"blue\",\"blue\",\"blue\",\"blue\",\"blue\",\"blue\",\"blue\",\"blue\",\"blue\",\"blue\",\"blue\",\"blue\",\"blue\",\"blue\",\"blue\",\"blue\",\"blue\",\"blue\",\"blue\",\"blue\",\"blue\",\"blue\",\"blue\",\"blue\",\"blue\",\"blue\",\"blue\",\"blue\",\"blue\",\"blue\",\"blue\",\"blue\",\"blue\",\"blue\",\"blue\",\"blue\",\"blue\",\"blue\",\"blue\",\"blue\",\"blue\",\"blue\",\"blue\",\"blue\",\"blue\",\"blue\",\"blue\",\"blue\",\"blue\",\"blue\",\"blue\",\"blue\",\"blue\",\"blue\",\"blue\",\"blue\",\"blue\",\"blue\",\"blue\",\"blue\",\"blue\",\"blue\",\"blue\",\"blue\",\"blue\",\"blue\",\"blue\",\"blue\",\"blue\",\"blue\",\"blue\",\"blue\",\"blue\",\"blue\",\"blue\",\"blue\",\"blue\",\"blue\",\"blue\",\"blue\",\"blue\",\"blue\",\"blue\",\"blue\",\"blue\",\"blue\",\"blue\",\"blue\",\"blue\",\"blue\",\"blue\",\"blue\",\"blue\",\"blue\",\"blue\",\"blue\",\"blue\",\"blue\",\"blue\",\"blue\",\"blue\",\"blue\",\"blue\",\"blue\",\"blue\",\"blue\",\"blue\",\"blue\",\"blue\",\"blue\",\"blue\",\"blue\",\"blue\",\"blue\",\"blue\",\"blue\",\"blue\",\"blue\",\"blue\",\"blue\",\"blue\",\"blue\",\"blue\",\"blue\",\"blue\",\"blue\",\"blue\",\"blue\",\"blue\",\"blue\",\"blue\",\"blue\",\"blue\",\"blue\",\"blue\",\"blue\",\"blue\",\"blue\",\"blue\",\"blue\",\"blue\",\"blue\",\"blue\",\"blue\",\"blue\",\"blue\",\"blue\",\"blue\",\"blue\",\"blue\",\"blue\",\"blue\",\"blue\",\"blue\",\"blue\",\"blue\",\"blue\",\"blue\",\"blue\",\"blue\",\"blue\",\"blue\",\"blue\",\"blue\",\"blue\",\"blue\",\"blue\",\"blue\",\"blue\",\"blue\",\"blue\",\"blue\",\"blue\",\"blue\",\"blue\",\"blue\",\"blue\",\"blue\",\"blue\",\"blue\",\"blue\",\"blue\",\"blue\",\"blue\",\"blue\",\"blue\",\"blue\",\"blue\",\"blue\",\"blue\",\"blue\",\"blue\",\"blue\",\"blue\",\"blue\",\"blue\",\"blue\",\"blue\",\"blue\",\"blue\",\"blue\",\"blue\",\"blue\",\"blue\",\"blue\",\"blue\",\"blue\",\"blue\",\"blue\",\"blue\",\"blue\",\"blue\",\"blue\",\"blue\",\"blue\",\"blue\",\"blue\",\"blue\",\"blue\",\"blue\",\"blue\",\"blue\",\"blue\",\"blue\",\"blue\",\"blue\",\"blue\",\"blue\",\"blue\",\"blue\",\"blue\",\"blue\",\"blue\",\"blue\",\"blue\",\"blue\",\"blue\",\"blue\",\"blue\",\"blue\",\"blue\",\"blue\",\"blue\",\"blue\",\"blue\",\"blue\",\"blue\",\"blue\",\"blue\",\"blue\",\"blue\",\"blue\",\"blue\",\"blue\",\"blue\",\"blue\",\"blue\",\"blue\",\"blue\",\"blue\",\"blue\",\"blue\",\"blue\",\"blue\",\"blue\",\"blue\",\"blue\",\"blue\",\"blue\",\"blue\",\"blue\",\"blue\",\"blue\",\"blue\",\"blue\",\"blue\",\"blue\",\"blue\",\"blue\",\"blue\",\"blue\",\"blue\",\"blue\",\"blue\",\"blue\",\"blue\",\"blue\",\"blue\",\"blue\",\"blue\",\"blue\",\"blue\",\"blue\",\"blue\",\"blue\",\"blue\",\"blue\",\"blue\",\"blue\",\"blue\",\"blue\",\"blue\",\"blue\",\"blue\",\"blue\",\"blue\",\"blue\",\"blue\",\"blue\",\"blue\",\"blue\",\"blue\",\"blue\",\"blue\",\"blue\",\"blue\",\"blue\",\"blue\",\"blue\",\"blue\",\"blue\",\"blue\",\"blue\",\"blue\",\"blue\",\"blue\",\"blue\",\"blue\",\"blue\",\"blue\",\"blue\",\"blue\",\"blue\",\"blue\",\"blue\",\"blue\",\"blue\",\"blue\",\"blue\",\"blue\",\"blue\",\"blue\",\"blue\",\"blue\",\"blue\",\"blue\",\"blue\",\"blue\",\"blue\",\"blue\",\"blue\",\"blue\",\"blue\",\"blue\",\"blue\",\"blue\",\"blue\",\"blue\",\"blue\",\"blue\",\"blue\",\"blue\",\"blue\",\"blue\",\"blue\",\"blue\",\"blue\",\"blue\",\"blue\",\"blue\",\"blue\",\"blue\",\"blue\",\"blue\",\"blue\",\"blue\",\"blue\",\"blue\",\"blue\",\"blue\",\"blue\",\"blue\",\"blue\",\"blue\",\"blue\",\"blue\",\"blue\",\"blue\",\"blue\",\"blue\",\"blue\",\"blue\",\"blue\",\"blue\",\"blue\",\"blue\",\"blue\",\"blue\",\"blue\",\"blue\",\"blue\",\"blue\",\"blue\",\"blue\",\"blue\",\"blue\",\"blue\",\"blue\",\"blue\",\"blue\",\"blue\",\"blue\",\"blue\",\"blue\",\"blue\",\"blue\",\"blue\",\"blue\",\"blue\",\"blue\",\"blue\",\"blue\",\"blue\",\"blue\",\"blue\",\"blue\",\"blue\",\"blue\",\"blue\",\"blue\",\"blue\",\"blue\",\"blue\",\"blue\",\"blue\",\"blue\",\"blue\",\"blue\",\"blue\",\"blue\",\"blue\",\"blue\",\"blue\",\"blue\",\"blue\",\"blue\",\"blue\",\"blue\",\"blue\",\"blue\",\"blue\",\"blue\",\"blue\",\"blue\",\"blue\",\"blue\",\"blue\",\"blue\",\"blue\",\"blue\",\"blue\",\"blue\",\"blue\",\"blue\",\"blue\",\"blue\",\"blue\",\"blue\",\"blue\",\"blue\",\"blue\",\"blue\",\"blue\",\"blue\",\"blue\",\"blue\",\"blue\",\"blue\",\"blue\",\"blue\",\"blue\",\"blue\",\"blue\",\"blue\",\"blue\",\"blue\",\"blue\",\"blue\",\"blue\",\"blue\",\"blue\",\"blue\",\"blue\",\"blue\",\"blue\",\"blue\",\"blue\",\"blue\",\"blue\",\"blue\",\"blue\",\"blue\",\"blue\",\"blue\",\"blue\",\"blue\",\"blue\",\"blue\",\"blue\",\"blue\",\"blue\",\"blue\",\"blue\",\"blue\",\"blue\",\"blue\",\"blue\",\"blue\",\"blue\",\"blue\",\"blue\",\"blue\",\"blue\",\"blue\",\"blue\",\"blue\",\"blue\",\"blue\",\"blue\",\"blue\",\"blue\",\"blue\",\"blue\",\"blue\",\"blue\",\"blue\",\"blue\",\"blue\",\"blue\",\"blue\",\"blue\",\"blue\",\"blue\",\"blue\",\"blue\",\"blue\",\"blue\",\"blue\",\"blue\",\"blue\",\"blue\",\"blue\",\"blue\",\"blue\",\"blue\",\"blue\",\"blue\",\"blue\",\"blue\",\"blue\",\"blue\",\"blue\",\"blue\",\"blue\",\"blue\",\"blue\",\"blue\",\"blue\",\"blue\",\"blue\",\"blue\",\"blue\",\"blue\",\"blue\",\"blue\",\"blue\",\"blue\",\"blue\",\"blue\",\"blue\",\"blue\",\"blue\",\"blue\",\"blue\",\"blue\",\"blue\",\"blue\",\"blue\",\"blue\",\"blue\",\"blue\",\"blue\",\"blue\",\"blue\",\"blue\",\"blue\",\"blue\",\"blue\",\"blue\",\"blue\",\"blue\",\"blue\",\"blue\",\"blue\",\"blue\",\"blue\",\"blue\",\"blue\",\"blue\",\"blue\",\"blue\",\"blue\",\"blue\",\"blue\",\"blue\",\"blue\",\"blue\",\"blue\",\"blue\",\"blue\",\"blue\",\"blue\",\"blue\",\"blue\",\"blue\",\"blue\",\"blue\",\"blue\",\"blue\",\"blue\",\"blue\",\"blue\",\"blue\",\"blue\",\"blue\",\"blue\",\"blue\",\"blue\",\"blue\",\"blue\",\"blue\",\"blue\",\"blue\",\"blue\",\"blue\",\"blue\",\"blue\",\"blue\",\"blue\",\"blue\",\"blue\",\"blue\",\"blue\",\"blue\",\"blue\",\"blue\",\"blue\",\"blue\",\"blue\",\"blue\",\"blue\",\"blue\",\"blue\",\"blue\",\"blue\",\"blue\",\"blue\",\"blue\",\"blue\",\"blue\",\"blue\",\"blue\",\"blue\",\"blue\",\"blue\",\"blue\",\"blue\",\"blue\",\"blue\",\"blue\",\"blue\",\"blue\",\"blue\",\"blue\",\"blue\",\"blue\",\"blue\",\"blue\",\"blue\",\"blue\",\"blue\",\"blue\",\"blue\",\"blue\",\"blue\",\"blue\",\"blue\",\"blue\",\"blue\",\"blue\",\"blue\",\"blue\",\"blue\",\"blue\",\"blue\",\"blue\",\"blue\",\"blue\",\"blue\",\"blue\",\"blue\",\"blue\",\"blue\",\"blue\",\"blue\",\"blue\",\"blue\",\"blue\",\"blue\",\"blue\",\"blue\",\"blue\",\"blue\",\"blue\",\"blue\",\"blue\",\"blue\",\"blue\",\"blue\",\"blue\",\"blue\",\"blue\",\"blue\",\"blue\",\"blue\",\"blue\",\"blue\",\"blue\",\"blue\",\"blue\",\"blue\",\"blue\",\"blue\",\"blue\",\"blue\",\"blue\",\"blue\",\"blue\",\"blue\",\"blue\",\"blue\",\"blue\",\"blue\",\"blue\",\"blue\",\"blue\",\"blue\",\"blue\",\"blue\",\"blue\",\"blue\",\"blue\",\"blue\",\"blue\",\"blue\",\"blue\",\"blue\",\"blue\",\"blue\",\"blue\",\"blue\",\"blue\",\"blue\",\"blue\",\"blue\",\"blue\",\"blue\",\"blue\",\"blue\",\"blue\",\"blue\",\"blue\",\"blue\",\"blue\",\"blue\",\"blue\",\"blue\",\"blue\",\"blue\",\"blue\",\"blue\",\"blue\",\"blue\",\"blue\",\"blue\",\"blue\",\"blue\",\"blue\",\"blue\",\"blue\",\"blue\",\"blue\",\"blue\",\"blue\",\"blue\",\"blue\",\"blue\",\"blue\",\"blue\",\"blue\",\"blue\",\"blue\",\"blue\",\"blue\",\"blue\",\"blue\",\"blue\",\"blue\",\"blue\",\"blue\",\"blue\",\"blue\",\"blue\",\"blue\",\"blue\",\"blue\",\"blue\",\"blue\",\"blue\",\"blue\",\"blue\",\"blue\",\"blue\",\"blue\",\"blue\",\"blue\",\"blue\",\"blue\",\"blue\",\"blue\",\"blue\",\"blue\",\"blue\",\"blue\",\"blue\",\"blue\",\"blue\",\"blue\",\"blue\",\"blue\",\"blue\",\"blue\",\"blue\",\"blue\",\"blue\",\"blue\",\"blue\",\"blue\",\"blue\",\"blue\",\"blue\",\"blue\",\"blue\",\"blue\",\"blue\",\"blue\",\"blue\",\"blue\",\"blue\",\"blue\",\"blue\",\"blue\",\"blue\",\"blue\",\"blue\",\"blue\",\"blue\",\"blue\",\"blue\",\"blue\",\"blue\",\"blue\",\"blue\",\"blue\",\"blue\",\"blue\",\"blue\",\"blue\",\"blue\",\"blue\",\"blue\",\"blue\",\"blue\",\"blue\",\"blue\",\"blue\",\"blue\",\"blue\",\"blue\",\"blue\",\"blue\",\"blue\",\"blue\",\"blue\",\"blue\",\"blue\",\"blue\",\"blue\",\"blue\",\"blue\",\"blue\",\"blue\",\"blue\",\"blue\",\"blue\",\"blue\",\"blue\",\"blue\",\"blue\",\"blue\",\"blue\",\"blue\",\"blue\",\"blue\",\"blue\",\"blue\",\"blue\",\"blue\",\"blue\",\"blue\",\"blue\",\"blue\",\"blue\",\"blue\",\"blue\",\"blue\",\"blue\",\"blue\",\"blue\",\"blue\",\"blue\",\"blue\",\"blue\",\"blue\",\"blue\",\"blue\",\"blue\",\"blue\",\"blue\",\"blue\",\"blue\",\"blue\",\"blue\",\"blue\",\"blue\",\"blue\",\"blue\",\"blue\",\"blue\",\"blue\",\"blue\",\"blue\",\"blue\",\"blue\",\"blue\",\"blue\",\"blue\",\"blue\",\"blue\",\"blue\",\"blue\",\"blue\",\"blue\",\"blue\",\"blue\",\"blue\",\"blue\",\"blue\",\"blue\",\"blue\",\"blue\",\"blue\",\"blue\",\"blue\",\"blue\",\"blue\",\"blue\",\"blue\",\"blue\",\"blue\",\"blue\",\"blue\",\"blue\",\"blue\",\"blue\",\"blue\",\"blue\",\"blue\",\"blue\",\"blue\",\"blue\",\"blue\",\"blue\",\"blue\",\"blue\",\"blue\",\"blue\",\"blue\",\"blue\",\"blue\",\"blue\",\"blue\",\"blue\",\"blue\",\"blue\",\"blue\",\"blue\",\"blue\",\"blue\",\"blue\",\"blue\",\"blue\",\"blue\",\"blue\",\"blue\",\"blue\",\"blue\",\"blue\",\"blue\",\"blue\",\"blue\",\"blue\",\"blue\",\"blue\",\"blue\",\"blue\",\"blue\",\"blue\",\"blue\",\"blue\",\"blue\",\"blue\",\"blue\",\"blue\",\"blue\",\"blue\",\"blue\",\"blue\",\"blue\",\"blue\",\"blue\",\"blue\",\"blue\",\"blue\",\"blue\",\"blue\",\"blue\",\"blue\",\"blue\",\"blue\",\"blue\",\"blue\",\"blue\",\"blue\",\"blue\",\"blue\",\"blue\",\"blue\",\"blue\",\"blue\",\"blue\",\"blue\",\"blue\",\"blue\",\"blue\",\"blue\",\"blue\",\"blue\",\"blue\",\"blue\",\"blue\",\"blue\",\"blue\",\"blue\",\"blue\",\"blue\",\"blue\",\"blue\",\"blue\",\"blue\",\"blue\",\"blue\",\"blue\",\"blue\",\"blue\",\"blue\",\"blue\",\"blue\",\"blue\",\"blue\",\"blue\",\"blue\",\"blue\",\"blue\",\"blue\",\"blue\",\"blue\",\"blue\",\"blue\",\"blue\",\"blue\",\"blue\",\"blue\",\"blue\",\"blue\",\"blue\",\"blue\",\"blue\",\"blue\",\"blue\",\"blue\",\"blue\",\"blue\",\"blue\",\"blue\",\"blue\",\"blue\",\"blue\",\"blue\",\"blue\",\"blue\",\"blue\",\"blue\",\"blue\",\"blue\",\"blue\",\"blue\",\"blue\",\"blue\",\"blue\",\"blue\",\"blue\",\"blue\",\"blue\",\"blue\",\"blue\",\"blue\",\"blue\",\"blue\",\"blue\",\"blue\",\"blue\",\"blue\",\"blue\",\"blue\",\"blue\",\"blue\",\"blue\",\"blue\",\"blue\",\"blue\",\"blue\",\"blue\",\"blue\",\"blue\",\"blue\",\"blue\",\"blue\",\"blue\",\"blue\",\"blue\",\"blue\",\"blue\",\"blue\",\"blue\",\"blue\",\"blue\",\"blue\",\"blue\",\"blue\",\"blue\",\"blue\",\"blue\",\"blue\",\"blue\",\"blue\",\"blue\",\"blue\",\"blue\",\"blue\",\"blue\",\"blue\",\"blue\",\"blue\",\"blue\",\"blue\",\"blue\",\"blue\",\"blue\",\"blue\",\"blue\",\"blue\",\"blue\",\"blue\",\"blue\",\"blue\",\"blue\",\"blue\",\"blue\",\"blue\",\"blue\",\"blue\",\"blue\",\"blue\",\"blue\",\"blue\",\"blue\",\"blue\",\"blue\",\"blue\",\"blue\",\"blue\",\"blue\",\"blue\",\"blue\",\"blue\",\"blue\",\"blue\",\"blue\",\"blue\",\"blue\",\"blue\",\"blue\",\"blue\",\"blue\",\"blue\",\"blue\",\"blue\",\"blue\",\"blue\",\"blue\",\"blue\",\"blue\",\"blue\",\"blue\",\"blue\",\"blue\",\"blue\",\"blue\",\"blue\",\"blue\",\"blue\",\"blue\",\"blue\",\"blue\",\"blue\",\"blue\",\"blue\",\"blue\",\"blue\",\"blue\",\"blue\",\"blue\",\"blue\",\"blue\",\"blue\",\"blue\",\"blue\",\"blue\",\"blue\",\"blue\",\"blue\",\"blue\",\"blue\",\"blue\",\"blue\",\"blue\",\"blue\",\"blue\",\"blue\",\"blue\",\"blue\",\"blue\",\"blue\",\"blue\",\"blue\",\"blue\",\"blue\",\"blue\",\"blue\",\"blue\",\"blue\",\"blue\",\"blue\",\"blue\",\"blue\",\"blue\",\"blue\",\"blue\",\"blue\",\"blue\",\"blue\",\"blue\",\"blue\",\"blue\",\"blue\",\"blue\",\"blue\",\"blue\",\"blue\",\"blue\",\"blue\",\"blue\",\"blue\",\"blue\",\"blue\",\"blue\",\"blue\",\"blue\",\"blue\",\"blue\",\"blue\",\"blue\",\"blue\",\"blue\",\"blue\",\"blue\",\"blue\",\"blue\",\"blue\",\"blue\",\"blue\",\"blue\",\"blue\",\"blue\",\"blue\",\"blue\",\"blue\",\"blue\",\"blue\",\"blue\",\"blue\",\"blue\",\"blue\",\"blue\",\"blue\",\"blue\",\"blue\",\"blue\",\"blue\",\"blue\",\"blue\",\"blue\",\"blue\",\"blue\",\"blue\",\"blue\",\"blue\",\"blue\",\"blue\",\"blue\",\"blue\",\"blue\",\"blue\",\"blue\",\"blue\",\"blue\",\"blue\",\"blue\",\"blue\",\"blue\",\"blue\",\"blue\",\"blue\",\"blue\",\"blue\",\"blue\",\"blue\",\"blue\",\"blue\",\"blue\",\"blue\",\"blue\",\"blue\",\"blue\",\"blue\",\"blue\",\"blue\",\"blue\",\"blue\",\"blue\",\"blue\",\"blue\",\"blue\",\"blue\",\"blue\",\"blue\",\"blue\",\"blue\",\"blue\",\"blue\",\"blue\",\"blue\",\"blue\",\"blue\",\"blue\",\"blue\",\"blue\",\"blue\",\"blue\",\"blue\",\"blue\",\"blue\",\"blue\",\"blue\",\"blue\",\"blue\",\"blue\",\"blue\",\"blue\",\"blue\",\"blue\",\"blue\",\"blue\",\"blue\",\"blue\",\"blue\",\"blue\",\"blue\",\"blue\",\"blue\",\"blue\",\"blue\",\"blue\",\"blue\",\"blue\",\"blue\",\"blue\",\"blue\",\"blue\",\"blue\",\"blue\",\"blue\",\"blue\",\"blue\",\"blue\",\"blue\",\"blue\",\"blue\",\"blue\",\"blue\",\"blue\",\"blue\",\"blue\",\"blue\",\"blue\",\"blue\",\"blue\",\"blue\",\"blue\",\"blue\",\"blue\",\"blue\",\"blue\",\"blue\",\"blue\",\"blue\",\"blue\",\"blue\",\"blue\",\"blue\",\"blue\",\"blue\",\"blue\",\"blue\",\"blue\",\"blue\",\"blue\",\"blue\",\"blue\",\"blue\",\"blue\",\"blue\",\"blue\",\"blue\",\"blue\",\"blue\",\"blue\",\"blue\",\"blue\",\"blue\",\"blue\",\"blue\",\"blue\",\"blue\",\"blue\",\"blue\",\"blue\",\"blue\",\"blue\",\"blue\",\"blue\",\"blue\",\"blue\",\"blue\",\"blue\",\"blue\",\"blue\",\"blue\",\"blue\",\"blue\",\"blue\",\"blue\",\"blue\",\"blue\",\"blue\",\"blue\",\"blue\",\"blue\",\"blue\",\"blue\",\"blue\",\"blue\",\"blue\",\"blue\",\"blue\",\"blue\",\"blue\",\"blue\",\"blue\",\"blue\",\"blue\",\"blue\",\"blue\",\"blue\",\"blue\",\"blue\",\"blue\",\"blue\",\"blue\",\"blue\",\"blue\",\"blue\",\"blue\",\"blue\",\"blue\",\"blue\",\"blue\",\"blue\",\"blue\",\"blue\",\"blue\",\"blue\",\"blue\",\"blue\",\"blue\",\"blue\",\"blue\",\"blue\",\"blue\",\"blue\",\"blue\",\"blue\",\"blue\",\"blue\",\"blue\",\"blue\",\"blue\",\"blue\",\"blue\",\"blue\",\"blue\",\"blue\",\"blue\",\"blue\",\"blue\",\"blue\",\"blue\",\"blue\",\"blue\",\"blue\",\"blue\",\"blue\",\"blue\",\"blue\",\"blue\",\"blue\",\"blue\",\"blue\",\"blue\",\"blue\",\"blue\",\"blue\",\"blue\",\"blue\",\"blue\",\"blue\",\"blue\",\"blue\",\"blue\",\"blue\",\"blue\",\"blue\",\"blue\",\"blue\",\"blue\",\"blue\",\"blue\",\"blue\",\"blue\",\"blue\",\"blue\",\"blue\",\"blue\",\"blue\",\"blue\",\"blue\",\"blue\",\"blue\",\"blue\",\"blue\",\"blue\",\"blue\",\"blue\",\"blue\",\"blue\",\"blue\",\"blue\",\"blue\",\"blue\",\"blue\",\"blue\",\"blue\",\"blue\",\"blue\",\"blue\",\"blue\",\"blue\",\"blue\",\"blue\",\"blue\",\"blue\",\"blue\",\"blue\",\"blue\",\"blue\",\"blue\",\"blue\",\"blue\",\"blue\",\"blue\",\"blue\",\"blue\",\"blue\",\"blue\",\"blue\",\"blue\",\"blue\",\"blue\",\"blue\",\"blue\",\"blue\",\"blue\",\"blue\",\"blue\",\"blue\",\"blue\",\"blue\",\"blue\",\"blue\",\"blue\",\"blue\",\"blue\",\"blue\",\"blue\",\"blue\",\"blue\",\"blue\",\"blue\",\"blue\",\"blue\",\"blue\",\"blue\",\"blue\",\"blue\",\"blue\",\"blue\",\"blue\",\"blue\",\"blue\",\"blue\",\"blue\",\"blue\",\"blue\",\"blue\",\"blue\",\"blue\",\"blue\",\"blue\",\"blue\",\"blue\",\"blue\",\"blue\",\"blue\",\"blue\",\"blue\",\"blue\",\"blue\",\"blue\",\"blue\",\"blue\",\"blue\",\"blue\",\"blue\",\"blue\",\"blue\",\"blue\",\"blue\",\"blue\",\"blue\",\"blue\",\"blue\",\"blue\",\"blue\",\"blue\",\"blue\",\"blue\",\"blue\",\"blue\",\"blue\",\"blue\",\"blue\",\"blue\",\"blue\",\"blue\",\"blue\",\"blue\",\"blue\",\"blue\",\"blue\",\"blue\",\"blue\",\"blue\",\"blue\",\"blue\",\"blue\",\"blue\",\"blue\",\"blue\",\"blue\",\"blue\",\"blue\",\"blue\",\"blue\",\"blue\",\"blue\",\"blue\",\"blue\",\"blue\",\"blue\",\"blue\",\"blue\",\"blue\",\"blue\",\"blue\",\"blue\",\"blue\",\"blue\",\"blue\",\"blue\",\"blue\",\"blue\",\"blue\",\"blue\",\"blue\",\"blue\",\"blue\",\"blue\",\"blue\",\"blue\",\"blue\",\"blue\",\"blue\",\"blue\",\"blue\",\"blue\",\"blue\",\"blue\",\"blue\",\"blue\",\"blue\",\"blue\",\"blue\",\"blue\",\"blue\",\"blue\",\"blue\",\"blue\",\"blue\",\"blue\",\"blue\",\"blue\",\"blue\",\"blue\",\"blue\",\"blue\",\"blue\",\"blue\",\"blue\",\"blue\",\"blue\",\"blue\",\"blue\",\"blue\",\"blue\",\"blue\",\"blue\",\"blue\",\"blue\",\"blue\",\"blue\",\"blue\",\"blue\",\"blue\",\"blue\",\"blue\",\"blue\",\"blue\",\"blue\",\"blue\",\"blue\",\"blue\",\"blue\",\"blue\",\"blue\",\"blue\",\"blue\",\"blue\",\"blue\",\"blue\",\"blue\",\"blue\",\"blue\",\"blue\",\"blue\",\"blue\",\"blue\",\"blue\",\"blue\",\"blue\",\"blue\",\"blue\",\"blue\",\"blue\",\"blue\",\"blue\",\"blue\",\"blue\",\"blue\",\"blue\",\"blue\",\"blue\",\"blue\",\"blue\",\"blue\",\"blue\",\"blue\",\"blue\",\"blue\",\"blue\",\"blue\",\"blue\",\"blue\",\"blue\",\"blue\",\"blue\",\"blue\",\"blue\",\"blue\",\"blue\",\"blue\",\"blue\",\"blue\",\"blue\",\"blue\",\"blue\",\"blue\",\"blue\",\"blue\",\"blue\",\"blue\",\"blue\",\"blue\",\"blue\",\"blue\",\"blue\",\"blue\",\"blue\",\"blue\",\"blue\",\"blue\",\"blue\",\"blue\",\"blue\",\"blue\",\"blue\",\"blue\",\"blue\",\"blue\",\"blue\",\"blue\",\"blue\",\"blue\",\"blue\",\"blue\",\"blue\",\"blue\",\"blue\",\"blue\",\"blue\",\"blue\",\"blue\",\"blue\",\"blue\",\"blue\",\"blue\",\"blue\",\"blue\",\"blue\",\"blue\",\"blue\",\"blue\",\"blue\",\"blue\",\"blue\",\"blue\",\"blue\",\"blue\",\"blue\",\"blue\",\"blue\",\"blue\",\"blue\",\"blue\",\"blue\",\"blue\",\"blue\",\"blue\",\"blue\",\"blue\",\"blue\",\"blue\",\"blue\",\"blue\",\"blue\",\"blue\",\"blue\",\"blue\",\"blue\",\"blue\",\"blue\",\"blue\",\"blue\",\"blue\",\"blue\",\"blue\",\"blue\",\"blue\",\"blue\",\"blue\",\"blue\",\"blue\",\"blue\",\"blue\",\"blue\",\"blue\",\"blue\",\"blue\",\"blue\",\"blue\",\"blue\",\"blue\",\"blue\",\"blue\",\"blue\",\"blue\",\"blue\",\"blue\",\"blue\",\"blue\",\"blue\",\"blue\",\"blue\",\"blue\",\"blue\",\"blue\",\"blue\",\"blue\",\"blue\",\"blue\",\"blue\",\"blue\",\"blue\",\"blue\",\"blue\",\"blue\",\"blue\",\"blue\",\"blue\",\"blue\",\"blue\",\"blue\",\"blue\",\"blue\",\"blue\",\"blue\",\"blue\",\"blue\",\"blue\",\"blue\",\"blue\",\"blue\",\"blue\",\"blue\",\"blue\",\"blue\",\"blue\",\"blue\",\"blue\",\"blue\",\"blue\",\"blue\",\"blue\",\"blue\",\"blue\",\"blue\",\"blue\",\"blue\",\"blue\",\"blue\",\"blue\",\"blue\",\"blue\",\"blue\",\"blue\",\"blue\",\"blue\",\"blue\",\"blue\",\"blue\",\"blue\",\"blue\",\"blue\",\"blue\",\"blue\",\"blue\",\"blue\",\"blue\",\"blue\",\"blue\",\"blue\",\"blue\",\"blue\",\"blue\",\"blue\",\"blue\",\"blue\",\"blue\",\"blue\",\"blue\",\"blue\",\"blue\",\"blue\",\"blue\",\"blue\",\"blue\",\"blue\",\"blue\",\"blue\",\"blue\",\"blue\",\"blue\",\"blue\",\"blue\",\"blue\",\"blue\",\"blue\",\"blue\",\"blue\",\"blue\",\"blue\",\"blue\",\"blue\",\"blue\",\"blue\",\"blue\",\"blue\",\"blue\",\"blue\",\"blue\",\"blue\",\"blue\",\"blue\",\"blue\",\"blue\",\"blue\",\"blue\",\"blue\",\"blue\",\"blue\",\"blue\",\"blue\",\"blue\",\"blue\",\"blue\",\"blue\",\"blue\",\"blue\",\"blue\",\"blue\",\"blue\",\"blue\",\"blue\",\"blue\",\"blue\",\"blue\",\"blue\",\"blue\",\"blue\",\"blue\",\"blue\",\"blue\",\"blue\",\"blue\",\"blue\",\"blue\",\"blue\",\"blue\",\"blue\",\"blue\",\"blue\",\"blue\",\"blue\",\"blue\",\"blue\",\"blue\",\"blue\",\"blue\",\"blue\",\"blue\",\"blue\",\"blue\",\"blue\",\"blue\",\"blue\",\"blue\",\"blue\",\"blue\",\"blue\",\"blue\",\"blue\",\"blue\",\"blue\",\"blue\",\"blue\",\"blue\",\"blue\",\"blue\",\"blue\",\"blue\",\"blue\",\"blue\",\"blue\",\"blue\",\"blue\",\"blue\",\"blue\",\"blue\",\"blue\",\"blue\",\"blue\",\"blue\",\"blue\",\"blue\",\"blue\",\"blue\",\"blue\",\"blue\",\"blue\",\"blue\",\"blue\",\"blue\",\"blue\",\"blue\",\"blue\",\"blue\",\"blue\",\"blue\",\"blue\",\"blue\",\"blue\",\"blue\",\"blue\",\"blue\",\"blue\",\"blue\",\"blue\",\"blue\",\"blue\",\"blue\",\"blue\",\"blue\",\"blue\",\"blue\",\"blue\",\"blue\",\"blue\",\"blue\",\"blue\",\"blue\",\"blue\",\"blue\",\"blue\",\"blue\",\"blue\",\"blue\",\"blue\",\"blue\",\"blue\",\"blue\",\"blue\",\"blue\",\"blue\",\"blue\",\"blue\",\"blue\",\"blue\",\"blue\",\"blue\",\"blue\",\"blue\",\"blue\",\"blue\",\"blue\",\"blue\",\"blue\",\"blue\",\"blue\",\"blue\",\"blue\",\"blue\",\"blue\",\"blue\",\"blue\",\"blue\",\"blue\",\"blue\",\"blue\",\"blue\",\"blue\",\"blue\",\"blue\",\"blue\",\"blue\",\"blue\",\"blue\",\"blue\",\"blue\",\"blue\",\"blue\",\"blue\",\"blue\",\"blue\",\"blue\",\"blue\",\"blue\",\"blue\",\"blue\",\"blue\",\"blue\",\"blue\",\"blue\",\"blue\",\"blue\",\"blue\",\"blue\",\"blue\",\"blue\",\"blue\",\"blue\",\"blue\",\"blue\",\"blue\",\"blue\",\"blue\",\"blue\",\"blue\",\"blue\",\"blue\",\"blue\",\"blue\",\"blue\",\"blue\",\"blue\",\"blue\",\"blue\",\"blue\",\"blue\",\"blue\",\"blue\",\"blue\",\"blue\",\"blue\",\"blue\",\"blue\",\"blue\",\"blue\",\"blue\",\"blue\",\"blue\",\"blue\",\"blue\",\"blue\",\"blue\",\"blue\",\"blue\",\"blue\",\"blue\",\"blue\",\"blue\",\"blue\",\"blue\",\"blue\",\"blue\",\"blue\",\"blue\",\"blue\",\"blue\",\"blue\",\"blue\",\"blue\",\"blue\",\"blue\",\"blue\",\"blue\",\"blue\",\"blue\",\"blue\",\"blue\",\"blue\",\"blue\",\"blue\",\"blue\",\"blue\",\"blue\",\"blue\",\"blue\",\"blue\",\"blue\",\"blue\",\"blue\",\"blue\",\"blue\",\"blue\",\"blue\",\"blue\",\"blue\",\"blue\",\"blue\",\"blue\",\"blue\",\"blue\",\"blue\",\"blue\",\"blue\",\"blue\",\"blue\",\"blue\",\"blue\",\"blue\",\"blue\",\"blue\",\"blue\",\"blue\",\"blue\",\"blue\",\"blue\",\"blue\",\"blue\",\"blue\",\"blue\",\"blue\",\"blue\",\"blue\",\"blue\",\"blue\",\"blue\",\"blue\",\"blue\",\"blue\",\"blue\",\"blue\",\"blue\",\"blue\",\"blue\",\"blue\",\"blue\",\"blue\",\"blue\",\"blue\",\"blue\",\"blue\",\"blue\",\"blue\",\"blue\",\"blue\",\"blue\",\"blue\",\"blue\",\"blue\",\"blue\",\"blue\",\"blue\",\"blue\",\"blue\",\"blue\",\"blue\",\"blue\",\"blue\",\"blue\",\"blue\",\"blue\",\"blue\",\"blue\",\"blue\",\"blue\",\"blue\",\"blue\",\"blue\",\"blue\",\"blue\",\"blue\",\"blue\",\"blue\",\"blue\",\"blue\",\"blue\",\"blue\",\"blue\",\"blue\",\"blue\",\"blue\",\"blue\",\"blue\",\"blue\",\"blue\",\"blue\",\"blue\",\"blue\",\"blue\",\"blue\",\"blue\",\"blue\",\"blue\",\"blue\",\"blue\",\"blue\",\"blue\",\"blue\",\"blue\",\"blue\",\"blue\",\"blue\",\"blue\",\"blue\",\"blue\",\"blue\",\"blue\",\"blue\",\"blue\",\"blue\",\"blue\",\"blue\",\"blue\",\"blue\",\"blue\",\"blue\",\"blue\",\"blue\",\"blue\",\"blue\",\"blue\",\"blue\",\"blue\",\"blue\",\"blue\",\"blue\",\"blue\",\"blue\",\"blue\",\"blue\",\"blue\",\"blue\",\"blue\",\"blue\",\"blue\",\"blue\",\"blue\",\"blue\",\"blue\",\"blue\",\"blue\",\"blue\",\"blue\",\"blue\",\"blue\",\"blue\",\"blue\",\"blue\",\"blue\",\"blue\",\"blue\",\"blue\",\"blue\",\"blue\",\"blue\",\"blue\",\"blue\",\"blue\",\"blue\",\"blue\",\"blue\",\"blue\",\"blue\",\"blue\",\"blue\",\"blue\",\"blue\",\"blue\",\"blue\",\"blue\",\"blue\",\"blue\",\"blue\",\"blue\",\"blue\",\"blue\",\"blue\",\"blue\",\"blue\",\"blue\",\"blue\",\"blue\",\"blue\",\"blue\",\"blue\",\"blue\",\"blue\",\"blue\",\"blue\",\"blue\",\"blue\",\"blue\",\"blue\",\"blue\",\"blue\",\"blue\",\"blue\",\"blue\",\"blue\",\"blue\",\"blue\",\"blue\",\"blue\",\"blue\",\"blue\",\"blue\",\"blue\",\"blue\",\"blue\",\"blue\",\"blue\",\"blue\",\"blue\",\"blue\",\"blue\",\"blue\",\"blue\",\"blue\",\"blue\",\"blue\",\"blue\",\"blue\",\"blue\",\"blue\",\"blue\",\"blue\",\"blue\",\"blue\",\"blue\",\"blue\",\"blue\",\"blue\",\"blue\",\"blue\",\"blue\",\"blue\",\"blue\",\"blue\",\"blue\",\"blue\",\"blue\",\"blue\",\"blue\",\"blue\",\"blue\",\"blue\",\"blue\",\"blue\",\"blue\",\"blue\",\"blue\",\"blue\",\"blue\",\"blue\",\"blue\",\"blue\",\"blue\",\"blue\",\"blue\",\"blue\",\"blue\",\"blue\",\"blue\",\"blue\",\"blue\",\"blue\",\"blue\",\"blue\",\"blue\",\"blue\",\"blue\",\"blue\",\"blue\",\"blue\",\"blue\",\"blue\",\"blue\",\"blue\",\"blue\",\"blue\",\"blue\",\"blue\",\"blue\",\"blue\",\"blue\",\"blue\",\"blue\",\"blue\",\"blue\",\"blue\",\"blue\",\"blue\",\"blue\",\"blue\",\"blue\",\"blue\",\"blue\",\"blue\",\"blue\",\"blue\",\"blue\",\"blue\",\"blue\",\"blue\",\"blue\",\"blue\",\"blue\",\"blue\",\"blue\",\"blue\",\"blue\",\"blue\",\"blue\",\"blue\",\"blue\",\"blue\",\"blue\",\"blue\",\"blue\",\"blue\",\"blue\",\"blue\",\"blue\",\"blue\",\"blue\",\"blue\",\"blue\",\"blue\",\"blue\",\"blue\",\"blue\",\"blue\",\"blue\",\"blue\",\"blue\",\"blue\",\"blue\",\"blue\",\"blue\",\"blue\",\"blue\",\"blue\",\"blue\",\"blue\",\"blue\",\"blue\",\"blue\",\"blue\",\"blue\",\"blue\",\"blue\",\"blue\",\"blue\",\"blue\",\"blue\",\"blue\",\"blue\",\"blue\",\"blue\",\"blue\",\"blue\",\"blue\",\"blue\",\"blue\",\"blue\",\"blue\",\"blue\",\"blue\",\"blue\",\"blue\",\"blue\",\"blue\",\"blue\",\"blue\",\"blue\",\"blue\",\"blue\",\"blue\",\"blue\",\"blue\",\"blue\",\"blue\",\"blue\",\"blue\",\"blue\",\"blue\",\"blue\",\"blue\",\"blue\",\"blue\",\"blue\",\"blue\",\"blue\",\"blue\",\"blue\",\"blue\",\"blue\",\"blue\",\"blue\",\"blue\",\"blue\",\"blue\",\"blue\",\"blue\",\"blue\",\"blue\",\"blue\",\"blue\",\"blue\",\"blue\",\"blue\",\"blue\",\"blue\",\"blue\",\"blue\",\"blue\",\"blue\",\"blue\",\"blue\",\"blue\",\"blue\",\"blue\",\"blue\",\"blue\",\"blue\",\"blue\",\"blue\",\"blue\",\"blue\",\"blue\",\"blue\",\"blue\",\"blue\",\"blue\",\"blue\",\"blue\",\"blue\",\"blue\",\"blue\",\"blue\",\"blue\",\"blue\",\"blue\",\"blue\",\"blue\",\"blue\",\"blue\",\"blue\",\"blue\",\"blue\",\"blue\",\"blue\",\"blue\",\"blue\",\"blue\",\"blue\",\"blue\",\"blue\",\"blue\",\"blue\",\"blue\",\"blue\",\"blue\",\"blue\",\"blue\",\"blue\",\"blue\",\"blue\",\"blue\",\"blue\",\"blue\",\"blue\",\"blue\",\"blue\",\"blue\",\"blue\",\"blue\",\"blue\",\"blue\",\"blue\",\"blue\",\"blue\",\"blue\",\"blue\",\"blue\",\"blue\",\"blue\",\"blue\",\"blue\",\"blue\",\"blue\",\"blue\",\"blue\",\"blue\",\"blue\",\"blue\",\"blue\",\"blue\",\"blue\",\"blue\",\"blue\",\"blue\",\"blue\",\"blue\",\"blue\",\"blue\",\"blue\",\"blue\",\"blue\",\"blue\",\"blue\",\"blue\",\"blue\",\"blue\",\"blue\",\"blue\",\"blue\",\"blue\",\"blue\",\"blue\",\"blue\",\"blue\",\"blue\",\"blue\",\"blue\",\"blue\",\"blue\",\"blue\",\"blue\",\"blue\",\"blue\",\"blue\",\"blue\",\"blue\",\"blue\",\"blue\",\"blue\",\"blue\",\"blue\",\"blue\",\"blue\",\"blue\",\"blue\",\"blue\",\"blue\",\"blue\",\"blue\",\"blue\",\"blue\",\"blue\",\"blue\",\"blue\",\"blue\",\"blue\",\"blue\",\"blue\",\"blue\",\"blue\",\"blue\",\"blue\",\"blue\",\"blue\",\"blue\",\"blue\",\"blue\",\"blue\",\"blue\",\"blue\",\"blue\",\"blue\",\"blue\",\"blue\",\"blue\",\"blue\",\"blue\",\"blue\",\"blue\",\"blue\",\"blue\",\"blue\",\"blue\",\"blue\",\"blue\",\"blue\",\"blue\",\"blue\",\"blue\",\"blue\",\"blue\",\"blue\",\"blue\",\"blue\",\"blue\",\"blue\",\"blue\",\"blue\",\"blue\",\"blue\",\"blue\",\"blue\",\"blue\",\"blue\",\"blue\",\"blue\",\"blue\",\"blue\",\"blue\",\"blue\",\"blue\",\"blue\",\"blue\",\"blue\",\"blue\",\"blue\",\"blue\",\"blue\",\"blue\",\"blue\",\"blue\",\"blue\",\"blue\",\"blue\",\"blue\",\"blue\",\"blue\",\"blue\",\"blue\",\"blue\",\"blue\",\"blue\",\"blue\",\"blue\",\"blue\",\"blue\",\"blue\",\"blue\",\"blue\",\"blue\",\"blue\",\"blue\",\"blue\",\"blue\",\"blue\",\"blue\",\"blue\",\"blue\",\"blue\",\"blue\",\"blue\",\"blue\",\"blue\",\"blue\",\"blue\",\"blue\",\"blue\",\"blue\",\"blue\",\"blue\",\"blue\",\"blue\",\"blue\",\"blue\",\"blue\",\"blue\",\"blue\",\"blue\",\"blue\",\"blue\",\"blue\",\"blue\",\"blue\",\"blue\",\"blue\",\"blue\",\"blue\",\"blue\",\"blue\",\"blue\",\"blue\",\"blue\",\"blue\",\"blue\",\"blue\",\"blue\",\"blue\",\"blue\",\"blue\",\"blue\",\"blue\",\"blue\",\"blue\",\"blue\",\"blue\",\"blue\",\"blue\",\"blue\",\"blue\",\"blue\",\"blue\",\"blue\",\"blue\",\"blue\",\"blue\",\"blue\",\"blue\",\"blue\",\"blue\",\"blue\",\"blue\",\"blue\",\"blue\",\"blue\",\"blue\",\"blue\",\"blue\",\"blue\",\"blue\",\"blue\",\"blue\",\"blue\",\"blue\",\"blue\",\"blue\",\"blue\",\"blue\",\"blue\",\"blue\",\"blue\",\"blue\",\"blue\",\"blue\",\"blue\",\"blue\",\"blue\",\"blue\",\"blue\",\"blue\",\"blue\",\"blue\",\"blue\",\"blue\",\"blue\",\"blue\",\"blue\",\"blue\",\"blue\",\"blue\",\"blue\",\"blue\",\"blue\",\"blue\",\"blue\",\"blue\",\"blue\",\"blue\",\"blue\",\"blue\",\"blue\",\"blue\",\"blue\",\"blue\",\"blue\",\"blue\",\"blue\",\"blue\",\"blue\",\"blue\",\"blue\",\"blue\",\"blue\",\"blue\",\"blue\",\"blue\",\"blue\",\"blue\",\"blue\",\"blue\",\"blue\",\"blue\",\"blue\",\"blue\",\"blue\",\"blue\",\"blue\",\"blue\",\"blue\",\"blue\",\"blue\",\"blue\",\"blue\",\"blue\",\"blue\",\"blue\",\"blue\",\"blue\",\"blue\",\"blue\",\"blue\",\"blue\",\"blue\",\"blue\",\"blue\",\"blue\",\"blue\",\"blue\",\"blue\",\"blue\",\"blue\",\"blue\",\"blue\",\"blue\",\"blue\",\"blue\",\"blue\",\"blue\",\"blue\",\"blue\",\"blue\",\"blue\",\"blue\",\"blue\",\"blue\",\"blue\",\"blue\",\"blue\",\"blue\",\"blue\",\"blue\",\"blue\",\"blue\",\"blue\",\"blue\",\"blue\",\"blue\",\"blue\",\"blue\",\"blue\",\"blue\",\"blue\",\"blue\",\"blue\",\"blue\",\"blue\",\"blue\",\"blue\",\"blue\",\"blue\",\"blue\",\"blue\",\"blue\",\"blue\",\"blue\",\"blue\",\"blue\",\"blue\",\"blue\",\"blue\",\"blue\",\"blue\",\"blue\",\"blue\",\"blue\",\"blue\",\"blue\",\"blue\",\"blue\",\"blue\",\"blue\",\"blue\",\"blue\",\"blue\",\"blue\",\"blue\",\"blue\",\"blue\",\"blue\",\"blue\",\"blue\",\"blue\",\"blue\",\"blue\",\"blue\",\"blue\",\"blue\",\"blue\",\"blue\",\"blue\",\"blue\",\"blue\",\"blue\",\"blue\",\"blue\",\"blue\",\"blue\",\"blue\",\"blue\",\"blue\",\"blue\",\"blue\",\"blue\",\"blue\",\"blue\",\"blue\",\"blue\",\"blue\",\"blue\",\"blue\",\"blue\",\"blue\",\"blue\",\"blue\",\"blue\",\"blue\",\"blue\",\"blue\",\"blue\",\"blue\",\"blue\",\"blue\",\"blue\",\"blue\",\"blue\",\"blue\",\"blue\",\"blue\",\"blue\",\"blue\",\"blue\",\"blue\",\"blue\",\"blue\",\"blue\",\"blue\",\"blue\",\"blue\",\"blue\",\"blue\",\"blue\",\"blue\",\"blue\",\"blue\",\"blue\",\"blue\",\"blue\",\"blue\",\"blue\",\"blue\",\"blue\",\"blue\",\"blue\",\"blue\",\"blue\",\"blue\",\"blue\",\"blue\",\"blue\",\"blue\",\"blue\",\"blue\",\"blue\",\"blue\",\"blue\",\"blue\",\"blue\",\"blue\",\"blue\",\"blue\",\"blue\",\"blue\",\"blue\",\"blue\",\"blue\",\"blue\",\"blue\",\"blue\",\"blue\",\"blue\",\"blue\",\"blue\",\"blue\",\"blue\",\"blue\",\"blue\",\"blue\",\"blue\",\"blue\",\"blue\",\"blue\",\"blue\",\"blue\",\"blue\",\"blue\",\"blue\",\"blue\",\"blue\",\"blue\",\"blue\",\"blue\",\"blue\",\"blue\",\"blue\",\"blue\",\"blue\",\"blue\",\"blue\",\"blue\",\"blue\",\"blue\",\"blue\",\"blue\",\"blue\",\"blue\",\"blue\",\"blue\",\"blue\",\"blue\",\"blue\",\"blue\",\"blue\",\"blue\",\"blue\",\"blue\",\"blue\",\"blue\",\"blue\",\"blue\",\"blue\",\"blue\",\"blue\",\"blue\",\"blue\",\"blue\",\"blue\",\"blue\",\"blue\",\"blue\",\"blue\",\"blue\",\"blue\",\"blue\",\"blue\",\"blue\",\"blue\",\"blue\",\"blue\",\"blue\",\"blue\",\"blue\",\"blue\",\"blue\",\"blue\",\"blue\",\"blue\",\"blue\",\"blue\",\"blue\",\"blue\",\"blue\",\"blue\",\"blue\",\"blue\",\"blue\",\"blue\",\"blue\",\"blue\",\"blue\",\"blue\",\"blue\",\"blue\",\"blue\",\"blue\",\"blue\",\"blue\",\"blue\",\"blue\",\"blue\",\"blue\",\"blue\",\"blue\",\"blue\",\"blue\",\"blue\",\"blue\",\"blue\",\"blue\",\"blue\",\"blue\",\"blue\",\"blue\",\"blue\",\"blue\",\"blue\",\"blue\",\"blue\",\"blue\",\"blue\",\"blue\",\"blue\",\"blue\",\"blue\",\"blue\",\"blue\",\"blue\",\"blue\",\"blue\",\"blue\",\"blue\",\"blue\",\"blue\",\"blue\",\"blue\",\"blue\",\"blue\",\"blue\",\"blue\",\"blue\",\"blue\",\"blue\",\"blue\",\"blue\",\"blue\",\"blue\",\"blue\",\"blue\",\"blue\",\"blue\",\"blue\",\"blue\",\"blue\",\"blue\",\"blue\",\"blue\",\"blue\",\"blue\",\"blue\",\"blue\",\"blue\",\"blue\",\"blue\",\"blue\",\"blue\",\"blue\",\"blue\",\"blue\",\"blue\",\"blue\",\"blue\",\"blue\",\"blue\",\"blue\",\"blue\",\"blue\",\"blue\",\"blue\",\"blue\",\"blue\",\"blue\",\"blue\",\"blue\",\"blue\",\"blue\",\"blue\",\"blue\",\"blue\",\"blue\",\"blue\",\"blue\",\"blue\",\"blue\",\"blue\",\"blue\",\"blue\",\"blue\",\"blue\",\"blue\",\"blue\",\"blue\",\"blue\",\"blue\",\"blue\",\"blue\",\"blue\",\"blue\",\"blue\",\"blue\",\"blue\",\"blue\",\"blue\",\"blue\",\"blue\",\"blue\",\"blue\",\"blue\",\"blue\",\"blue\",\"blue\",\"blue\",\"blue\",\"blue\",\"blue\",\"blue\",\"blue\",\"blue\",\"blue\",\"blue\",\"blue\",\"blue\",\"blue\",\"blue\",\"blue\",\"blue\",\"blue\",\"blue\",\"blue\",\"blue\",\"blue\",\"blue\",\"blue\",\"blue\",\"blue\",\"blue\",\"blue\",\"blue\",\"blue\",\"blue\",\"blue\",\"blue\",\"blue\",\"blue\",\"blue\",\"blue\",\"blue\",\"blue\",\"blue\",\"blue\",\"blue\",\"blue\",\"blue\",\"blue\",\"blue\",\"blue\",\"blue\",\"blue\",\"blue\",\"blue\",\"blue\",\"blue\",\"blue\",\"blue\",\"blue\",\"blue\",\"blue\",\"blue\",\"blue\",\"blue\",\"blue\",\"blue\",\"blue\",\"blue\",\"blue\",\"blue\",\"blue\",\"blue\",\"blue\",\"blue\",\"blue\",\"blue\",\"blue\",\"blue\",\"blue\",\"blue\",\"blue\",\"blue\",\"blue\",\"blue\",\"blue\",\"blue\",\"blue\",\"blue\",\"blue\",\"blue\",\"blue\",\"blue\",\"blue\",\"blue\",\"blue\",\"blue\",\"blue\",\"blue\",\"blue\",\"blue\",\"blue\",\"blue\",\"blue\",\"blue\",\"blue\",\"blue\",\"blue\",\"blue\",\"blue\",\"blue\",\"blue\",\"blue\",\"blue\",\"blue\",\"blue\",\"blue\",\"blue\",\"blue\",\"blue\",\"blue\",\"blue\",\"blue\",\"blue\",\"blue\",\"blue\",\"blue\",\"blue\",\"blue\",\"blue\",\"blue\",\"blue\",\"blue\",\"blue\",\"blue\",\"blue\",\"blue\",\"blue\",\"blue\",\"blue\",\"blue\",\"blue\",\"blue\",\"blue\",\"blue\",\"blue\",\"blue\",\"blue\",\"blue\",\"blue\",\"blue\",\"blue\",\"blue\",\"blue\",\"blue\",\"blue\",\"blue\",\"blue\",\"blue\",\"blue\",\"blue\",\"blue\",\"blue\",\"blue\",\"blue\",\"blue\",\"blue\",\"blue\",\"blue\",\"blue\",\"blue\",\"blue\",\"blue\",\"blue\",\"blue\",\"blue\",\"blue\",\"blue\",\"blue\",\"blue\",\"blue\",\"blue\",\"blue\",\"blue\",\"blue\",\"blue\",\"blue\",\"blue\",\"blue\",\"blue\",\"blue\",\"blue\",\"blue\",\"blue\",\"blue\",\"blue\",\"blue\",\"blue\",\"blue\",\"blue\",\"blue\",\"blue\",\"blue\",\"blue\",\"blue\",\"blue\",\"blue\",\"blue\",\"blue\",\"blue\",\"blue\",\"blue\",\"blue\",\"blue\",\"blue\",\"blue\",\"blue\",\"blue\",\"blue\",\"blue\",\"blue\",\"blue\",\"blue\",\"blue\",\"blue\",\"blue\",\"blue\",\"blue\",\"blue\",\"blue\",\"blue\",\"blue\",\"blue\",\"blue\",\"blue\",\"blue\",\"blue\",\"blue\",\"blue\",\"blue\",\"blue\",\"blue\",\"blue\",\"blue\",\"blue\",\"blue\",\"blue\",\"blue\",\"blue\",\"blue\",\"blue\",\"blue\",\"blue\",\"blue\",\"blue\",\"blue\",\"blue\",\"blue\",\"blue\",\"blue\",\"blue\",\"blue\",\"blue\",\"blue\",\"blue\",\"blue\",\"blue\",\"blue\",\"blue\",\"blue\",\"blue\",\"blue\",\"blue\",\"blue\",\"blue\",\"blue\",\"blue\",\"blue\",\"blue\",\"blue\",\"blue\",\"blue\",\"blue\",\"blue\",\"blue\",\"blue\",\"blue\",\"blue\",\"blue\",\"blue\",\"blue\",\"blue\",\"blue\",\"blue\",\"blue\",\"blue\",\"blue\",\"blue\",\"blue\",\"blue\",\"blue\",\"blue\",\"blue\",\"blue\",\"blue\",\"blue\",\"blue\",\"blue\",\"blue\",\"blue\",\"blue\",\"blue\",\"blue\",\"blue\",\"blue\",\"blue\",\"blue\",\"blue\",\"blue\",\"blue\",\"blue\",\"blue\",\"blue\",\"blue\",\"blue\",\"blue\",\"blue\",\"blue\",\"blue\",\"blue\",\"blue\",\"blue\",\"blue\",\"blue\",\"blue\",\"blue\",\"blue\",\"blue\",\"blue\",\"blue\",\"blue\",\"blue\",\"blue\",\"blue\",\"blue\",\"blue\",\"blue\",\"blue\",\"blue\",\"blue\",\"blue\",\"blue\",\"blue\",\"blue\",\"blue\",\"blue\",\"blue\",\"blue\",\"blue\",\"blue\",\"blue\",\"blue\",\"blue\",\"blue\",\"blue\",\"blue\",\"blue\",\"blue\",\"blue\",\"blue\",\"blue\",\"blue\",\"blue\",\"blue\",\"blue\",\"blue\",\"blue\",\"blue\",\"blue\",\"blue\",\"blue\",\"blue\",\"blue\",\"blue\",\"blue\",\"blue\",\"blue\",\"blue\",\"blue\",\"blue\",\"blue\",\"blue\",\"blue\",\"blue\",\"blue\",\"blue\",\"blue\",\"blue\",\"blue\",\"blue\",\"blue\",\"blue\",\"blue\",\"blue\",\"blue\",\"blue\",\"blue\",\"blue\",\"blue\",\"blue\",\"blue\",\"blue\",\"blue\",\"blue\",\"blue\",\"blue\",\"blue\",\"blue\",\"blue\",\"blue\",\"blue\",\"blue\",\"blue\",\"blue\",\"blue\",\"blue\",\"blue\",\"blue\",\"blue\",\"blue\",\"blue\",\"blue\",\"blue\",\"blue\",\"blue\",\"blue\",\"blue\",\"blue\",\"blue\",\"blue\",\"blue\",\"blue\",\"blue\",\"blue\",\"blue\",\"blue\",\"blue\",\"blue\",\"blue\",\"blue\",\"blue\",\"blue\",\"blue\",\"blue\",\"blue\",\"blue\",\"blue\",\"blue\",\"blue\",\"blue\",\"blue\",\"blue\",\"blue\",\"blue\",\"blue\",\"blue\",\"blue\",\"blue\",\"blue\",\"blue\",\"blue\",\"blue\",\"blue\",\"blue\",\"blue\",\"blue\",\"blue\",\"blue\",\"blue\",\"blue\",\"blue\",\"blue\",\"blue\",\"blue\",\"blue\",\"blue\",\"blue\",\"blue\",\"blue\",\"blue\",\"blue\",\"blue\",\"blue\",\"blue\",\"blue\",\"blue\",\"blue\",\"blue\",\"blue\",\"blue\",\"blue\",\"blue\",\"blue\",\"blue\",\"blue\",\"blue\",\"blue\",\"blue\",\"blue\",\"blue\",\"blue\",\"blue\",\"blue\",\"blue\",\"blue\",\"blue\",\"blue\",\"blue\",\"blue\",\"blue\",\"blue\",\"blue\",\"blue\",\"blue\",\"blue\",\"blue\",\"blue\",\"blue\",\"blue\",\"blue\",\"blue\",\"blue\",\"blue\",\"blue\",\"blue\",\"blue\",\"blue\",\"blue\",\"blue\",\"blue\",\"blue\",\"blue\",\"blue\",\"blue\",\"blue\",\"blue\",\"blue\",\"blue\",\"blue\",\"blue\",\"blue\"]],[\"token\",[\"verified\",\"2gb\",\"illinois\",\"jazz\",\"checking\",\"telescope\",\"seasons\",\"astrologer\",\"contribution\",\"homemade\",\"heroes\",\"warcraft\",\"kumar\",\"tester\",\"politically\",\"conquer\",\"columbia\",\"quiet\",\"repeat\",\"kapil\",\"involve\",\"mckinsey\",\"switched\",\"att\",\"instance\",\"innocent\",\"portuguese\",\"subscribers\",\"cabinet\",\"terror\",\"85\",\"rotation\",\"shirts\",\"drawn\",\"bi\",\"aspergers\",\"inspiration\",\"beats\",\"\\u00a3\",\"approximately\",\"asset\",\"empathy\",\"rooting\",\"ia\",\"dandruff\",\"slab\",\"operator\",\"horrible\",\"dominant\",\"ocd\",\"spacetime\",\"blow\",\"installing\",\"learnt\",\"separation\",\"institution\",\"temples\",\"hons\",\"pound\",\"removing\",\"unemployment\",\"greenlit\",\"audit\",\"supplement\",\"roller\",\"dota\",\"tiny\",\"equally\",\"braces\",\"aggressive\",\"corn\",\"camps\",\"additional\",\"consent\",\"granted\",\"welfare\",\"myths\",\"stations\",\"timeline\",\"psychologist\",\"nagpur\",\"herself\",\"cooper\",\"exgirlfriend\",\"intercourse\",\"flip\",\"hurts\",\"lpa\",\"nerve\",\"tvs\",\"halloween\",\"screenshot\",\"biomedical\",\"covered\",\"milky\",\"onsite\",\"aside\",\"meaningful\",\"stretch\",\"joker\",\"encounter\",\"tone\",\"founders\",\"talked\",\"respectively\",\"downloads\",\"cocaine\",\"toxic\",\"sword\",\"fuck\",\"trainer\",\"partition\",\"boxing\",\"grid\",\"practicing\",\"menu\",\"cms\",\"indore\",\"ate\",\"volunteer\",\"misconceptions\",\"pics\",\"flies\",\"instantly\",\"trans\",\"friday\",\"sociopaths\",\"ctc\",\"hoax\",\"detailed\",\"sizes\",\"rejection\",\"limitations\",\"bharat\",\"kissing\",\"renewable\",\"oriented\",\"countrys\",\"dumps\",\"spiders\",\"technological\",\"advertisement\",\"headache\",\"zodiac\",\"accommodation\",\"venus\",\"calcium\",\"passenger\",\"falls\",\"overnight\",\"pickup\",\"gary\",\"transportation\",\"odds\",\"jupiter\",\"purchasing\",\"fluently\",\"flu\",\"photons\",\"conductor\",\"ohio\",\"balaji\",\"mcdonalds\",\"betting\",\"irrational\",\"sachin\",\"deactivate\",\"estimate\",\"hairs\",\"fluent\",\"errors\",\"remaining\",\"marriages\",\"medieval\",\"charles\",\"spider\",\"oxford\",\"gita\",\"races\",\"liquor\",\"poland\",\"lease\",\"co2\",\"selenium\",\"attempts\",\"crystal\",\"manaphy\",\"knight\",\"collapsed\",\"wheels\",\"behaviour\",\"bitcoins\",\"parliament\",\"himher\",\"handsome\",\"thousands\",\"caring\",\"kings\",\"lucky\",\"workplace\",\"condom\",\"intuitive\",\"chronic\",\"eyesight\",\"simulation\",\"prank\",\"quickest\",\"concert\",\"popularity\",\"connections\",\"disorders\",\"scripting\",\"appearance\",\"js\",\"depth\",\"cheque\",\"longterm\",\"documentaries\",\"dioxide\",\"bright\",\"info\",\"diseases\",\"appeal\",\"snap\",\"smoked\",\"singers\",\"boil\",\"probably\",\"temperatures\",\"appearing\",\"olive\",\"ntse\",\"telecom\",\"brief\",\"discrimination\",\"ethnic\",\"cache\",\"passionate\",\"shoulder\",\"assault\",\"marshmallow\",\"momentum\",\"yr\",\"migrate\",\"retire\",\"cet\",\"canvas\",\"vietnamese\",\"institutions\",\"meter\",\"roots\",\"integer\",\"imported\",\"ants\",\"lyft\",\"piercing\",\"il\",\"poop\",\"organisms\",\"ve\",\"entropy\",\"calm\",\"saddest\",\"toward\",\"myth\",\"sight\",\"filling\",\"hdmi\",\"satisfied\",\"transactions\",\"pharmacy\",\"nursing\",\"correlation\",\"regression\",\"awake\",\"md\",\"nri\",\"recommendations\",\"bin\",\"finland\",\"multi\",\"voted\",\"discovery\",\"edward\",\"touching\",\"immigrant\",\"geometry\",\"indicate\",\"ourselves\",\"texting\",\"seek\",\"expecting\",\"dj\",\"brake\",\"helicopter\",\"blonde\",\"triple\",\"ladies\",\"vivekananda\",\"switching\",\"prostitution\",\"banana\",\"magazines\",\"shippuden\",\"lucknow\",\"2019\",\"failing\",\"elizabeth\",\"irish\",\"ebook\",\"temporary\",\"governor\",\"wasting\",\"weekends\",\"cpt\",\"wax\",\"labor\",\"instruments\",\"instrumentation\",\"hates\",\"hip\",\"arnab\",\"bubble\",\"employers\",\"aadhaar\",\"boyfriends\",\"jake\",\"explained\",\"yesterday\",\"beta\",\"extrovert\",\"andhra\",\"micromax\",\"vertical\",\"lay\",\"nonprofit\",\"dubbed\",\"typing\",\"automotive\",\"thomas\",\"procedures\",\"priority\",\"funded\",\"arabs\",\"siblings\",\"guinea\",\"missile\",\"luck\",\"strategic\",\"defend\",\"module\",\"tuition\",\"acids\",\"controller\",\"committee\",\"housing\",\"integral\",\"peaceful\",\"refugees\",\"prescription\",\"interns\",\"supported\",\"womans\",\"dentist\",\"wives\",\"village\",\"affecting\",\"lte\",\"beaches\",\"austin\",\"substance\",\"engagement\",\"trainee\",\"measures\",\"trailer\",\"purchased\",\"15000\",\"uttar\",\"glue\",\"dtu\",\"medal\",\"photon\",\"engg\",\"violin\",\"column\",\"somehow\",\"rotate\",\"3000\",\"virat\",\"forgotten\",\"fingers\",\"slim\",\"arrest\",\"covalent\",\"ncert\",\"kernel\",\"da\",\"alarm\",\"ngo\",\"4gb\",\"productivity\",\"planned\",\"district\",\"berlin\",\"lists\",\"leads\",\"slang\",\"defence\",\"aspiring\",\"56\",\"enemy\",\"farming\",\"muller\",\"pays\",\"liver\",\"membrane\",\"secretly\",\"plug\",\"gum\",\"eclipse\",\"chewing\",\"labs\",\"zombie\",\"authority\",\"males\",\"argentina\",\"tasks\",\"fell\",\"nails\",\"palestine\",\"tanks\",\"identical\",\"deck\",\"qualification\",\"leadership\",\"kohli\",\"pronunciation\",\"hello\",\"violent\",\"sabha\",\"respiration\",\"transform\",\"warranty\",\"faculty\",\"adolf\",\"expenses\",\"jersey\",\"mercury\",\"whiskey\",\"tackle\",\"tweet\",\"blame\",\"cruise\",\"mahindra\",\"discharge\",\"reduced\",\"vodka\",\"mahatma\",\"bass\",\"compete\",\"stains\",\"pill\",\"swim\",\"ali\",\"gf\",\"ford\",\"prince\",\"sweat\",\"performing\",\"limits\",\"leonardo\",\"cow\",\"resolve\",\"matters\",\"pharmaceutical\",\"ray\",\"remotely\",\"pf\",\"clinical\",\"bpo\",\"homeless\",\"husbands\",\"rising\",\"newtons\",\"outcome\",\"derivative\",\"alpha\",\"grown\",\"capitalism\",\"astronaut\",\"hybrid\",\"palm\",\"teens\",\"hits\",\"airplanes\",\"none\",\"admin\",\"applicable\",\"amcat\",\"spam\",\"neutrality\",\"pixel\",\"festival\",\"faces\",\"molar\",\"snakes\",\"sip\",\"kik\",\"farm\",\"ltd\",\"votes\",\"publishing\",\"comfort\",\"frontend\",\"spin\",\"diagnosed\",\"buildings\",\"\\u00b0\",\"cashless\",\"addictive\",\"extinct\",\"ugc\",\"coke\",\"llb\",\"phrases\",\"struggle\",\"drives\",\"fiber\",\"grocery\",\"achieved\",\"penny\",\"bath\",\"allies\",\"uninstall\",\"ny\",\"appears\",\"effort\",\"satellites\",\"confirmed\",\"loneliness\",\"illuminati\",\"uri\",\"lucid\",\"preferably\",\"neither\",\"\\u221a\",\"pacific\",\"americas\",\"bs\",\"graduated\",\"bills\",\"tube\",\"germans\",\"assume\",\"cleared\",\"mate\",\"divide\",\"versions\",\"fallen\",\"journey\",\"anthem\",\"certificates\",\"looked\",\"sponsor\",\"useless\",\"dependent\",\"invite\",\"guru\",\"keyword\",\"aipmt\",\"clone\",\"kgs\",\"chip\",\"origins\",\"wide\",\"motivational\",\"elite\",\"wanna\",\"unity\",\"cough\",\"connecting\",\"mystery\",\"kim\",\"syrian\",\"voldemort\",\"responsibilities\",\"molecules\",\"boobs\",\"holidays\",\"tutorial\",\"circumstances\",\"fiitjee\",\"islands\",\"bypass\",\"slowly\",\"mixture\",\"aluminum\",\"salesforce\",\"twin\",\"iot\",\"remedy\",\"sheets\",\"pole\",\"hated\",\"females\",\"protected\",\"irs\",\"insecure\",\"entering\",\"neuroscience\",\"offices\",\"delta\",\"suggestion\",\"snapdeal\",\"backstory\",\"periodic\",\"cancelled\",\"mans\",\"complicated\",\"bitsat\",\"pleasure\",\"loop\",\"dropbox\",\"selfish\",\"nude\",\"20000\",\"voter\",\"variables\",\"victory\",\"closest\",\"compensation\",\"extended\",\"locations\",\"cracked\",\"perks\",\"ended\",\"exit\",\"awareness\",\"pakistanis\",\"ebooks\",\"bull\",\"unblock\",\"100000\",\"entrepreneurship\",\"infrastructure\",\"scotland\",\"guest\",\"attacked\",\"hurting\",\"lion\",\"reject\",\"purposes\",\"knife\",\"thai\",\"ipl\",\"knee\",\"accepting\",\"spent\",\"punjabi\",\"tab\",\"quoras\",\"caffeine\",\"athletes\",\"ink\",\"cooked\",\"improving\",\"invaded\",\"allah\",\"thermodynamics\",\"mortgage\",\"firsttime\",\"achievements\",\"issued\",\"breath\",\"award\",\"llc\",\"legends\",\"mood\",\"influenced\",\"proteins\",\"holy\",\"performed\",\"pee\",\"blocks\",\"molecule\",\"interests\",\"imei\",\"requires\",\"cisco\",\"moves\",\"marrying\",\"mca\",\"perfectly\",\"iisc\",\"corporation\",\"shiva\",\"viruses\",\"difficulty\",\"50000\",\"volte\",\"shampoo\",\"secular\",\"transplant\",\"ghz\",\"ahead\",\"crew\",\"interact\",\"depend\",\"hawaii\",\"hiv\",\"evening\",\"vegetable\",\"revenge\",\"suppose\",\"busy\",\"label\",\"rogue\",\"rational\",\"hillstation\",\"brains\",\"urdu\",\"imagine\",\"salaries\",\"survey\",\"g4\",\"butt\",\"manufacturers\",\"saas\",\"residency\",\"recommendation\",\"purple\",\"fault\",\"aadhar\",\"aging\",\"bhopal\",\"conducted\",\"loses\",\"infection\",\"forest\",\"impacts\",\"collection\",\"fridge\",\"diamond\",\"mis\",\"recorded\",\"march\",\"conditioner\",\"signature\",\"listed\",\"branches\",\"manchester\",\"wanting\",\"perception\",\"absolutely\",\"servers\",\"soluble\",\"swami\",\"lumia\",\"directors\",\"52\",\"2008\",\"gaining\",\"stereotypes\",\"homes\",\"vegas\",\"jam\",\"behave\",\"relatively\",\"forum\",\"ib\",\"earphones\",\"facilities\",\"april\",\"finally\",\"tail\",\"capacitor\",\"tiger\",\"deaf\",\"deliver\",\"django\",\"expand\",\"skip\",\"nearly\",\"maybe\",\"task\",\"gateway\",\"strangest\",\"abstract\",\"adding\",\"suck\",\"tim\",\"printed\",\"sigma\",\"immigrate\",\"decline\",\"arrested\",\"95\",\"narcissistic\",\"freelancing\",\"patterns\",\"expired\",\"casual\",\"tablets\",\"patients\",\"lean\",\"pieces\",\"laymans\",\"whatever\",\"polish\",\"lemon\",\"abortion\",\"i3\",\"theorem\",\"h\",\"compulsory\",\"helped\",\"sons\",\"feminism\",\"compiler\",\"tested\",\"enhance\",\"adhd\",\"manhattan\",\"iii\",\"nail\",\"eee\",\"deals\",\"excellent\",\"ipo\",\"folder\",\"sand\",\"continuous\",\"capable\",\"libraries\",\"aggregate\",\"64\",\"bsnl\",\"profiles\",\"spirit\",\"pulled\",\"owns\",\"deloitte\",\"therapist\",\"acts\",\"millions\",\"authors\",\"marathi\",\"dvd\",\"coconut\",\"swiss\",\"interaction\",\"ncr\",\"kannada\",\"smallest\",\"advisable\",\"smartest\",\"sorry\",\"normally\",\"ends\",\"rome\",\"spectrum\",\"cousin\",\"75\",\"suzuki\",\"nights\",\"cap\",\"enable\",\"counselling\",\"proxy\",\"margin\",\"shops\",\"hackers\",\"tatkal\",\"opened\",\"cinema\",\"consumption\",\"coal\",\"silent\",\"choosing\",\"introduction\",\"electromagnetic\",\"hcl\",\"complaint\",\"puppies\",\"vc\",\"symbols\",\"lenses\",\"username\",\"arrow\",\"adopted\",\"affects\",\"sudden\",\"pcm\",\"gel\",\"affair\",\"pinterest\",\"statements\",\"supplements\",\"justified\",\"turns\",\"santa\",\"shoe\",\"trek\",\"headphone\",\"girlfriends\",\"verizon\",\"rocket\",\"conference\",\"ego\",\"srm\",\"afghanistan\",\"nucleus\",\"generated\",\"chinas\",\"ww1\",\"consultancy\",\"socially\",\"allen\",\"berkeley\",\"missed\",\"crying\",\"introduced\",\"ps3\",\"flour\",\"brought\",\"elder\",\"minecraft\",\"9th\",\"freelancer\",\"circles\",\"scars\",\"entertainment\",\"turbine\",\"deeply\",\"rom\",\"evolved\",\"nato\",\"strengths\",\"ide\",\"tweets\",\"scholarships\",\"mentor\",\"collect\",\"hdfc\",\"mandarin\",\"solo\",\"terrible\",\"influential\",\"professionals\",\"65\",\"recognition\",\"nvidia\",\"cia\",\"designs\",\"10k\",\"creation\",\"tom\",\"rated\",\"introverts\",\"boiling\",\"communism\",\"treaty\",\"whereas\",\"thanks\",\"cigarette\",\"bengaluru\",\"oneplus\",\"reserve\",\"advertise\",\"nits\",\"helping\",\"bruce\",\"mp3\",\"severe\",\"proposal\",\"cultures\",\"tap\",\"animated\",\"planes\",\"hall\",\"cognitive\",\"supports\",\"keys\",\"gotten\",\"feedback\",\"recording\",\"proceed\",\"membership\",\"console\",\"overseas\",\"hows\",\"william\",\"billionaires\",\"updated\",\"pre\",\"organizations\",\"messi\",\"unexpected\",\"nitrogen\",\"hungry\",\"nigeria\",\"sync\",\"arduino\",\"gross\",\"outer\",\"searching\",\"workers\",\"outlook\",\"europeans\",\"founder\",\"lectures\",\"legitimate\",\"camp\",\"ordinary\",\"investments\",\"bone\",\"raising\",\"quite\",\"ages\",\"joint\",\"johnson\",\"destination\",\"concerned\",\"belief\",\"refrigerator\",\"implications\",\"manga\",\"mandatory\",\"obamas\",\"lawyers\",\"bedroom\",\"icon\",\"qualifications\",\"qa\",\"bikes\",\"boston\",\"holding\",\"session\",\"appointment\",\"weaknesses\",\"iphones\",\"motorcycle\",\"schizophrenia\",\"5th\",\"intellectual\",\"eaten\",\"attending\",\"medals\",\"adsense\",\"nda\",\"6th\",\"kali\",\"georgia\",\"wechat\",\"earlier\",\"drone\",\"truck\",\"horse\",\"merchant\",\"torque\",\"seed\",\"backend\",\"holmes\",\"graduating\",\"400\",\"bones\",\"sufficient\",\"participate\",\"rifle\",\"shock\",\"downloaded\",\"earthquake\",\"breasts\",\"secretary\",\"insert\",\"damaged\",\"massive\",\"standing\",\"remainder\",\"programme\",\"holocaust\",\"totally\",\"belt\",\"affairs\",\"nokia\",\"mechanism\",\"pin\",\"scan\",\"fought\",\"superpower\",\"poetry\",\"signals\",\"educated\",\"scariest\",\"trains\",\"closer\",\"weapon\",\"icici\",\"serial\",\"bicycle\",\"terminal\",\"finished\",\"stolen\",\"inspiring\",\"cuisine\",\"spark\",\"sounds\",\"pricing\",\"click\",\"underwear\",\"kidney\",\"bengal\",\"invention\",\"discount\",\"chase\",\"evaluate\",\"distributed\",\"themes\",\"amd\",\"stem\",\"st\",\"genre\",\"vegetables\",\"council\",\"bihar\",\"thick\",\"mouse\",\"worry\",\"newly\",\"updates\",\"candy\",\"prepaid\",\"wet\",\"rap\",\"motors\",\"implemented\",\"theoretical\",\"fabric\",\"mexican\",\"portfolio\",\"technique\",\"icse\",\"expansion\",\"evolutionary\",\"justify\",\"trick\",\"attached\",\"lightning\",\"pitch\",\"armed\",\"einstein\",\"conversion\",\"iitjee\",\"declared\",\"admit\",\"acquisition\",\"innovation\",\"runs\",\"wwe\",\"trial\",\"memories\",\"refuse\",\"netherlands\",\"committed\",\"fraud\",\"jailbreak\",\"settle\",\"badly\",\"approved\",\"eligibility\",\"trend\",\"increases\",\"comic\",\"quorans\",\"cellular\",\"matches\",\"receiving\",\"bmw\",\"vlsi\",\"signed\",\"lakes\",\"350\",\"communications\",\"pork\",\"joined\",\"anyway\",\"differentiate\",\"actresses\",\"29\",\"ethics\",\"premier\",\"hearing\",\"vehicles\",\"drama\",\"instant\",\"lips\",\"dates\",\"july\",\"holiday\",\"coach\",\"malayalam\",\"superior\",\"soviet\",\"plate\",\"throw\",\"worship\",\"bars\",\"sharma\",\"mothers\",\"integrated\",\"clubs\",\"bug\",\"melbourne\",\"co\",\"bisexual\",\"regions\",\"lesson\",\"heads\",\"reader\",\"snake\",\"qualify\",\"paul\",\"causing\",\"disappear\",\"era\",\"lets\",\"qualified\",\"spiritual\",\"wolf\",\"requirement\",\"journalism\",\"studied\",\"lowest\",\"vader\",\"coursera\",\"stark\",\"configuration\",\"verbal\",\"undergrad\",\"dimensions\",\"transition\",\"efficiently\",\"interstellar\",\"locked\",\"summary\",\"chandigarh\",\"ghosts\",\"included\",\"operate\",\"dimension\",\"mount\",\"noticed\",\"rating\",\"somewhere\",\"martin\",\"bra\",\"bird\",\"zuckerberg\",\"sensor\",\"audience\",\"dirty\",\"starbucks\",\"permission\",\"residential\",\"wholesale\",\"assets\",\"clearly\",\"km\",\"invade\",\"ipcc\",\"fb\",\"shell\",\"shave\",\"loud\",\"tip\",\"seeds\",\"sets\",\"polar\",\"although\",\"june\",\"judaism\",\"anti\",\"instrument\",\"seven\",\"shooting\",\"j\",\"portal\",\"tower\",\"github\",\"linked\",\"admitted\",\"punishment\",\"mid\",\"micro\",\"cured\",\"lifestyle\",\"nor\",\"upset\",\"challenge\",\"soap\",\"standards\",\"integration\",\"lottery\",\"lab\",\"williams\",\"odd\",\"soil\",\"sensitive\",\"route\",\"tattoos\",\"coin\",\"declare\",\"frame\",\"differential\",\"bowl\",\"softwares\",\"notifications\",\"maintenance\",\"inner\",\"apples\",\"converted\",\"recruiter\",\"bombay\",\"command\",\"posting\",\"controlled\",\"balls\",\"personally\",\"poker\",\"extract\",\"hired\",\"bugs\",\"providers\",\"loans\",\"calculator\",\"attractions\",\"torrents\",\"keywords\",\"profession\",\"blogging\",\"transport\",\"sue\",\"anonymously\",\"compounds\",\"robot\",\"buddhism\",\"sweet\",\"defense\",\"nobody\",\"uc\",\"defined\",\"division\",\"bags\",\"epic\",\"unhealthy\",\"craziest\",\"urban\",\"combination\",\"pair\",\"laugh\",\"cv\",\"usd\",\"launched\",\"usps\",\"visited\",\"nexus\",\"regularly\",\"brothers\",\"broker\",\"concentrate\",\"agreement\",\"nervous\",\"frozen\",\"detail\",\"sir\",\"situations\",\"borderline\",\"angularjs\",\"abusive\",\"tourism\",\"relate\",\"august\",\"communist\",\"accountant\",\"dumb\",\"arab\",\"b2b\",\"du\",\"thermal\",\"asians\",\"threat\",\"karma\",\"passive\",\"homosexuality\",\"putting\",\"quantitative\",\"relativity\",\"sanskrit\",\"opinions\",\"verify\",\"bear\",\"roll\",\"expanding\",\"teenage\",\"jeans\",\"providing\",\"shared\",\"extreme\",\"mi\",\"vr\",\"progress\",\"greece\",\"cpu\",\"ips\",\"merge\",\"reputation\",\"loving\",\"salman\",\"iss\",\"warm\",\"dental\",\"extension\",\"attraction\",\"fictional\",\"journal\",\"login\",\"secondary\",\"recognize\",\"southern\",\"ph\",\"lunch\",\"wallet\",\"ronaldo\",\"larger\",\"actions\",\"fathers\",\"adopt\",\"claims\",\"bottom\",\"therapy\",\"patient\",\"described\",\"virginity\",\"functional\",\"ionic\",\"chartered\",\"discover\",\"55\",\"21st\",\"biased\",\"mad\",\"northern\",\"onto\",\"liberals\",\"premium\",\"neutral\",\"detect\",\"diagram\",\"sperm\",\"ga\",\"bleach\",\"spread\",\"contributions\",\"activate\",\"prior\",\"safest\",\"holder\",\"360\",\"aim\",\"rental\",\"families\",\"everybody\",\"shut\",\"payments\",\"150\",\"cube\",\"vegan\",\"newspaper\",\"beef\",\"houses\",\"preferred\",\"simultaneously\",\"marked\",\"reactions\",\"emergency\",\"protection\",\"cab\",\"forex\",\"norway\",\"immigrants\",\"googles\",\"ssb\",\"wing\",\"yrs\",\"ensure\",\"spy\",\"reasoning\",\"strange\",\"forgive\",\"turkish\",\"tag\",\"ranking\",\"platforms\",\"fox\",\"existed\",\"walmart\",\"lazy\",\"ears\",\"clock\",\"beam\",\"rare\",\"bush\",\"2011\",\"stops\",\"batteries\",\"certified\",\"naked\",\"worldwide\",\"staying\",\"lifetime\",\"ted\",\"lake\",\"wealthy\",\"transit\",\"stephen\",\"rural\",\"versa\",\"pets\",\"commonly\",\"adults\",\"ultimate\",\"genius\",\"vinegar\",\"allows\",\"aid\",\"retirement\",\"airtel\",\"sciences\",\"mountain\",\"drinks\",\"tour\",\"wind\",\"seattle\",\"disabled\",\"bodies\",\"lesbian\",\"governments\",\"kinetic\",\"tumblr\",\"absolute\",\"author\",\"toilet\",\"whey\",\"sleepy\",\"molecular\",\"watches\",\"inventions\",\"rain\",\"34\",\"angular\",\"o\",\"dish\",\"however\",\"agents\",\"abs\",\"switzerland\",\"transformer\",\"clearing\",\"consciousness\",\"broadband\",\"uae\",\"automatic\",\"opposed\",\"geography\",\"astronauts\",\"decisions\",\"cement\",\"induction\",\"luxury\",\"upvotes\",\"politicians\",\"posted\",\"toefl\",\"kitchen\",\"noise\",\"radius\",\"dye\",\"miles\",\"risks\",\"scientifically\",\"mnc\",\"propose\",\"prepared\",\"iiit\",\"mention\",\"equipment\",\"darth\",\"january\",\"surname\",\"raised\",\"attitude\",\"gta\",\"david\",\"hike\",\"awkward\",\"proven\",\"productive\",\"lg\",\"filled\",\"atmosphere\",\"lee\",\"irctc\",\"addicted\",\"dynamic\",\"employment\",\"weekend\",\"replacement\",\"singing\",\"owners\",\"bipolar\",\"tomorrow\",\"poems\",\"default\",\"kvpy\",\"sauce\",\"competitors\",\"russians\",\"sample\",\"crimes\",\"hang\",\"inspired\",\"furniture\",\"throughout\",\"presence\",\"efficiency\",\"leg\",\"biological\",\"pilani\",\"conversations\",\"inspirational\",\"bachelor\",\"centers\",\"withdraw\",\"fundamental\",\"comparison\",\"november\",\"fifa\",\"penalty\",\"algebra\",\"joke\",\"htc\",\"pilots\",\"collapse\",\"texts\",\"vocabulary\",\"moved\",\"sc\",\"smile\",\"october\",\"dot\",\"genetic\",\"architect\",\"url\",\"51\",\"sore\",\"uniform\",\"re\",\"rails\",\"smaller\",\"marine\",\"terrorists\",\"nazi\",\"breast\",\"politician\",\"subtitles\",\"chosen\",\"egypt\",\"thin\",\"packages\",\"editor\",\"bands\",\"mythology\",\"reasonable\",\"permit\",\"acceptable\",\"seriously\",\"iraq\",\"fever\",\"visitor\",\"honest\",\"friction\",\"offering\",\"smarter\",\"ahmedabad\",\"replaced\",\"resolution\",\"burning\",\"bridge\",\"catholic\",\"calendar\",\"resident\",\"policies\",\"forced\",\"leading\",\"arm\",\"deserve\",\"context\",\"coolest\",\"arranged\",\"arizona\",\"comics\",\"harm\",\"democrats\",\"jail\",\"breed\",\"anywhere\",\"psu\",\"christ\",\"violence\",\"agriculture\",\"objective\",\"moments\",\"infinity\",\"supporting\",\"critical\",\"trees\",\"beyond\",\"bag\",\"vitamin\",\"assembly\",\"solved\",\"array\",\"perspective\",\"pas\",\"wwii\",\"skinny\",\"contains\",\"lift\",\"cleaning\",\"peter\",\"aap\",\"pimples\",\"initial\",\"lesserknown\",\"sights\",\"principles\",\"realize\",\"millionaire\",\"faux\",\"orbit\",\"desire\",\"hi\",\"prophet\",\"suits\",\"careers\",\"thinks\",\"quantity\",\"spots\",\"wage\",\"asleep\",\"sociology\",\"guard\",\"units\",\"structural\",\"operation\",\"pants\",\"w\",\"bulk\",\"possibly\",\"drunk\",\"fired\",\"accident\",\"inch\",\"bottle\",\"aerospace\",\"narcissist\",\"ux\",\"angeles\",\"wood\",\"index\",\"safely\",\"robotics\",\"edition\",\"metals\",\"practices\",\"scheme\",\"interior\",\"diabetes\",\"nobel\",\"youth\",\"lived\",\"september\",\"chief\",\"proposed\",\"assuming\",\"sin\",\"counter\",\"disable\",\"introduce\",\"restore\",\"swimming\",\"intern\",\"answering\",\"mentioned\",\"crash\",\"laser\",\"teenagers\",\"presentation\",\"quran\",\"classified\",\"demonetisation\",\"communicate\",\"cotton\",\"autism\",\"anger\",\"environmental\",\"stable\",\"7th\",\"bread\",\"invited\",\"wisdom\",\"wrote\",\"widely\",\"minor\",\"formal\",\"dreaming\",\"managers\",\"escape\",\"pollution\",\"taiwan\",\"verification\",\"los\",\"figures\",\"26\",\"illness\",\"sides\",\"compatible\",\"pack\",\"conspiracy\",\"hedge\",\"flights\",\"dropped\",\"former\",\"suffer\",\"aware\",\"designers\",\"mahabharata\",\"evolve\",\"weigh\",\"dies\",\"fruits\",\"cc\",\"butter\",\"sharing\",\"atoms\",\"tongue\",\"transaction\",\"poverty\",\"suffering\",\"presidents\",\"resistance\",\"adam\",\"civilization\",\"mining\",\"toronto\",\"stick\",\"increased\",\"wild\",\"freelance\",\"removal\",\"aws\",\"rio\",\"principle\",\"asus\",\"cute\",\"consumer\",\"pool\",\"variable\",\"tutorials\",\"advance\",\"keeping\",\"visible\",\"cognizant\",\"equations\",\"rooms\",\"krishna\",\"printer\",\"tooth\",\"mentally\",\"realistic\",\"automobile\",\"cake\",\"tie\",\"beach\",\"ghost\",\"comfortable\",\"mysql\",\"oral\",\"closed\",\"helps\",\"maharashtra\",\"admissions\",\"i5\",\"partners\",\"axis\",\"beliefs\",\"neck\",\"clans\",\"hidden\",\"cyber\",\"voting\",\"bacteria\",\"layer\",\"chhattisgarh\",\"5000\",\"sitting\",\"murder\",\"argument\",\"f\",\"privacy\",\"syndrome\",\"2010\",\"bite\",\"vacation\",\"isro\",\"trouble\",\"records\",\"answered\",\"digit\",\"defeat\",\"childhood\",\"5s\",\"gates\",\"f1\",\"town\",\"anal\",\"copper\",\"talks\",\"affiliate\",\"sociopath\",\"installed\",\"static\",\"copyright\",\"animation\",\"donate\",\"stranger\",\"bcom\",\"destroyed\",\"gujarat\",\"foundation\",\"prize\",\"components\",\"foreigner\",\"arms\",\"unlimited\",\"needing\",\"settings\",\"item\",\"eve\",\"competition\",\"landing\",\"beard\",\"patent\",\"ending\",\"2020\",\"incident\",\"petroleum\",\"florida\",\"particularly\",\"ups\",\"generator\",\"leather\",\"heal\",\"experiment\",\"28\",\"passing\",\"talent\",\"remote\",\"300\",\"published\",\"impossible\",\"steam\",\"80\",\"washing\",\"guilty\",\"punjab\",\"70\",\"album\",\"bullet\",\"paris\",\"interface\",\"agencies\",\"mission\",\"digits\",\"modis\",\"recruitment\",\"manipal\",\"telling\",\"meal\",\"orange\",\"stone\",\"links\",\"ab\",\"upper\",\"cameras\",\"p\",\"combat\",\"passion\",\"shower\",\"thailand\",\"beings\",\"grad\",\"27\",\"finger\",\"jump\",\"lights\",\"ui\",\"bba\",\"sweden\",\"arrive\",\"4th\",\"amendment\",\"window\",\"satellite\",\"al\",\"matlab\",\"jokes\",\"muhammad\",\"expression\",\"booking\",\"dinner\",\"skype\",\"lots\",\"2018\",\"teen\",\"finish\",\"dslr\",\"mens\",\"proud\",\"entrepreneurs\",\"ukraine\",\"coins\",\"scenario\",\"transmission\",\"ignore\",\"pride\",\"contribute\",\"grand\",\"curve\",\"false\",\"operations\",\"breakup\",\"eventually\",\"acquire\",\"commission\",\"lies\",\"spoken\",\"pills\",\"masturbating\",\"jackson\",\"airbnb\",\"delivered\",\"disk\",\"radiation\",\"plays\",\"marvel\",\"particle\",\"breakfast\",\"smartphones\",\"relevant\",\"quota\",\"refund\",\"inches\",\"telugu\",\"angel\",\"eastern\",\"inflation\",\"predict\",\"annoying\",\"obc\",\"tough\",\"conduct\",\"originate\",\"notification\",\"backup\",\"harder\",\"richest\",\"pronounce\",\"sri\",\"wheel\",\"wasnt\",\"oldest\",\"sheet\",\"soda\",\"20s\",\"wipro\",\"awesome\",\"facial\",\"z\",\"noida\",\"confident\",\"fbi\",\"corrupt\",\"succeed\",\"reddit\",\"associate\",\"input\",\"guns\",\"rahul\",\"baking\",\"description\",\"musical\",\"apache\",\"nowadays\",\"fluid\",\"capacity\",\"loose\",\"freshman\",\"cfa\",\"optional\",\"theres\",\"ps4\",\"trends\",\"jon\",\"richard\",\"legit\",\"nodejs\",\"document\",\"sexually\",\"particles\",\"singer\",\"printing\",\"captain\",\"valuable\",\"several\",\"aiims\",\"boot\",\"sit\",\"zone\",\"billionaire\",\"floor\",\"gravitational\",\"export\",\"motivation\",\"golden\",\"transgender\",\"healthcare\",\"heaven\",\"81\",\"leaves\",\"listening\",\"overall\",\"press\",\"dishes\",\"railways\",\"warming\",\"enfield\",\"extent\",\"acceleration\",\"afford\",\"bonds\",\"border\",\"registration\",\"cast\",\"hope\",\"shipping\",\"karnataka\",\"specifically\",\"opportunity\",\"arabia\",\"pump\",\"pg\",\"carrier\",\"plot\",\"kingdom\",\"contract\",\"painful\",\"kindle\",\"boring\",\"essential\",\"disney\",\"charger\",\"seconds\",\"measured\",\"honda\",\"ba\",\"makeup\",\"\\u2013\",\"mini\",\"annual\",\"traits\",\"retrieve\",\"willing\",\"swift\",\"consume\",\"hindus\",\"psychopath\",\"tells\",\"solving\",\"conditions\",\"artists\",\"spotify\",\"bomb\",\"integrate\",\"stuck\",\"nikon\",\"gadgets\",\"womens\",\"judge\",\"republicans\",\"vacuum\",\"felt\",\"putin\",\"tennis\",\"concentration\",\"fans\",\"constantly\",\"matrix\",\"secrets\",\"spot\",\"soft\",\"stored\",\"neural\",\"submit\",\"scores\",\"ola\",\"wire\",\"gdp\",\"jaipur\",\"typically\",\"airline\",\"roles\",\"cheaper\",\"machines\",\"shift\",\"impress\",\"basics\",\"32\",\"conservative\",\"birds\",\"tend\",\"duty\",\"setup\",\"rude\",\"pink\",\"church\",\"mine\",\"jack\",\"sending\",\"cooking\",\"versus\",\"expert\",\"olympic\",\"biotechnology\",\"gurgaon\",\"worked\",\"codes\",\"successfully\",\"hardware\",\"faith\",\"pr\",\"television\",\"compound\",\"vit\",\"universal\",\"thank\",\"grammatically\",\"chicago\",\"ivy\",\"worried\",\"enterprise\",\"sodium\",\"railway\",\"remedies\",\"racism\",\"tracking\",\"psychological\",\"apartment\",\"magazine\",\"martial\",\"beauty\",\"waiting\",\"attacks\",\"horror\",\"fantasy\",\"ma\",\"select\",\"increasing\",\"metro\",\"opt\",\"map\",\"watched\",\"gear\",\"icloud\",\"james\",\"comedy\",\"lollipop\",\"ireland\",\"upcoming\",\"italian\",\"oven\",\"emotionally\",\"decided\",\"lakh\",\"grey\",\"kept\",\"produced\",\"mouth\",\"manual\",\"dhoni\",\"fill\",\"throat\",\"shoot\",\"liked\",\"innovative\",\"immediately\",\"lonely\",\"fighting\",\"max\",\"accidentally\",\"schedule\",\"orgasm\",\"rape\",\"ride\",\"muscles\",\"graduates\",\"taller\",\"boost\",\"lakhs\",\"microwave\",\"electrons\",\"upon\",\"attract\",\"ap\",\"abuse\",\"earths\",\"forever\",\"underrated\",\"facing\",\"terrorist\",\"alien\",\"celebrity\",\"frequently\",\"vpn\",\"wales\",\"powder\",\"superman\",\"mixed\",\"caught\",\"goods\",\"beginning\",\"starts\",\"atomic\",\"associated\",\"triangle\",\"parties\",\"banning\",\"k\",\"honey\",\"monitor\",\"graph\",\"leaders\",\"embedded\",\"juice\",\"split\",\"lady\",\"sequence\",\"911\",\"harassment\",\"nepal\",\"pop\",\"habit\",\"setting\",\"edge\",\"ww2\",\"gps\",\"federal\",\"charged\",\"lying\",\"empty\",\"whenever\",\"airplane\",\"jet\",\"destroy\",\"ies\",\"wouldnt\",\"quick\",\"decrease\",\"robert\",\"pradesh\",\"professors\",\"massage\",\"held\",\"spending\",\"markets\",\"objects\",\"chart\",\"mechanics\",\"silver\",\"usage\",\"basketball\",\"gen\",\"periods\",\"identity\",\"individuals\",\"css\",\"soul\",\"ipod\",\"chest\",\"understanding\",\"coast\",\"classic\",\"spain\",\"babies\",\"sd\",\"hostel\",\"shirt\",\"further\",\"logical\",\"franchise\",\"obtain\",\"foreigners\",\"fully\",\"region\",\"designed\",\"cheated\",\"beneficial\",\"shes\",\"accent\",\"couldnt\",\"queen\",\"sick\",\"blowing\",\"properly\",\"stronger\",\"returns\",\"condition\",\"musk\",\"ugly\",\"teams\",\"filter\",\"snow\",\"glasses\",\"employer\",\"solid\",\"followed\",\"embarrassing\",\"auto\",\"meeting\",\"belong\",\"strike\",\"internships\",\"bachelors\",\"administration\",\"temple\",\"wealth\",\"retail\",\"speakers\",\"electoral\",\"headphones\",\"streaming\",\"mirror\",\"diesel\",\"republic\",\"antivirus\",\"customers\",\"atm\",\"vagina\",\"cigarettes\",\"aptitude\",\"lewis\",\"saudi\",\"puppy\",\"recovery\",\"jimmy\",\"obsessed\",\"domestic\",\"pen\",\"batch\",\"de\",\"drawing\",\"ai\",\"medium\",\"simply\",\"photoshop\",\"sms\",\"turning\",\"nadu\",\"appropriate\",\"adobe\",\"substitute\",\"fruit\",\"recipes\",\"fighter\",\"saving\",\"greater\",\"cheat\",\"routine\",\"push\",\"sherlock\",\"arguments\",\"sony\",\"import\",\"soldiers\",\"charges\",\"emotions\",\"ibm\",\"un\",\"innovations\",\"itunes\",\"consultant\",\"iims\",\"relations\",\"psychopaths\",\"existing\",\"angle\",\"clash\",\"bus\",\"australian\",\"crazy\",\"pull\",\"theories\",\"savings\",\"suit\",\"contrast\",\"calculus\",\"pi\",\"credits\",\"bluetooth\",\"himself\",\"traveling\",\"criminal\",\"xiaomi\",\"zealand\",\"seats\",\"electron\",\"script\",\"11th\",\"lessons\",\"programmers\",\"december\",\"flag\",\"singh\",\"arabic\",\"sale\",\"nfl\",\"grammar\",\"killing\",\"virgin\",\"differently\",\"poem\",\"provided\",\"automation\",\"shy\",\"translation\",\"mathematical\",\"45\",\"celebrities\",\"spring\",\"downloading\",\"dr\",\"organization\",\"majority\",\"clients\",\"hd\",\"motivate\",\"thats\",\"thesis\",\"door\",\"weakest\",\"saw\",\"canon\",\"younger\",\"costs\",\"river\",\"rings\",\"factory\",\"decent\",\"clintons\",\"holes\",\"desert\",\"divorce\",\"sold\",\"cheese\",\"atom\",\"taught\",\"minute\",\"ocean\",\"crisis\",\"represent\",\"surgical\",\"parent\",\"brexit\",\"possibility\",\"longest\",\"edit\",\"scholarship\",\"motivated\",\"chocolate\",\"faced\",\"90\",\"parallel\",\"foot\",\"examination\",\"friendly\",\"kinds\",\"wins\",\"islamic\",\"degrees\",\"registered\",\"distribution\",\"junior\",\"gave\",\"sing\",\"articles\",\"hadoop\",\"saved\",\"hero\",\"ear\",\"asks\",\"improved\",\"teenager\",\"forms\",\"wash\",\"provides\",\"washington\",\"strikes\",\"binary\",\"syria\",\"indonesia\",\"powers\",\"highly\",\"heshe\",\"happiness\",\"director\",\"citizenship\",\"knew\",\"humanity\",\"translate\",\"nba\",\"permanently\",\"soccer\",\"todays\",\"challenges\",\"barack\",\"title\",\"latin\",\"fitness\",\"genuine\",\"investor\",\"dislike\",\"scenes\",\"hacker\",\"bangladesh\",\"ebay\",\"earning\",\"dell\",\"paytm\",\"spouse\",\"bored\",\"roman\",\"official\",\"dragon\",\"park\",\"except\",\"habits\",\"quote\",\"astrology\",\"congress\",\"automatically\",\"island\",\"religions\",\"christianity\",\"supreme\",\"owner\",\"hell\",\"wikipedia\",\"cancel\",\"industries\",\"actress\",\"client\",\"visual\",\"michael\",\"remain\",\"ability\",\"concrete\",\"conflict\",\"string\",\"linear\",\"supposed\",\"engines\",\"2012\",\"\\u2018\",\"lesser\",\"traditional\",\"episodes\",\"goals\",\"tata\",\"opening\",\"target\",\"weak\",\"anonymous\",\"bjp\",\"resource\",\"concepts\",\"ruby\",\"friendship\",\"nyc\",\"pretty\",\"implement\",\"painting\",\"ill\",\"agency\",\"reverse\",\"confused\",\"italy\",\"response\",\"yellow\",\"dance\",\"contain\",\"vice\",\"editing\",\"acting\",\"weirdest\",\"feels\",\"govt\",\"accounting\",\"rise\",\"wise\",\"leaving\",\"lens\",\"artist\",\"arvind\",\"pattern\",\"scared\",\"attention\",\"airlines\",\"sky\",\"malaysia\",\"port\",\"attempt\",\"element\",\"classical\",\"shown\",\"safety\",\"including\",\"tablet\",\"la\",\"terrorism\",\"commit\",\"maps\",\"african\",\"viewed\",\"calling\",\"6s\",\"agent\",\"output\",\"justice\",\"don\",\"addiction\",\"lock\",\"vegetarian\",\"britain\",\"percent\",\"meditation\",\"ibps\",\"monthly\",\"writers\",\"forward\",\"stuff\",\"mr\",\"ready\",\"forgot\",\"flying\",\"recommended\",\"fields\",\"blind\",\"l\",\"hinduism\",\"desktop\",\"host\",\"tattoo\",\"maintain\",\"boards\",\"helpful\",\"semester\",\"load\",\"tier\",\"agree\",\"factor\",\"elon\",\"freshers\",\"sql\",\"cases\",\"exact\",\"confidence\",\"behavior\",\"hacked\",\"quotes\",\"hydrogen\",\"pakistani\",\"masturbate\",\"divided\",\"skill\",\"fine\",\"falling\",\"chess\",\"charging\",\"pages\",\"vector\",\"supporters\",\"waste\",\"sanders\",\"affordable\",\"unlock\",\"techniques\",\"wine\",\"keyboard\",\"cm\",\"wireless\",\"lawyer\",\"egg\",\"cope\",\"mindblowing\",\"recipe\",\"corruption\",\"scored\",\"secure\",\"teaching\",\"opposite\",\"educational\",\"bernie\",\"y\",\"library\",\"models\",\"kid\",\"stack\",\"separate\",\"19\",\"extremely\",\"properties\",\"cable\",\"magic\",\"removed\",\"computing\",\"hospital\",\"beer\",\"christians\",\"twice\",\"kg\",\"consulting\",\"whose\",\"serious\",\"petrol\",\"travelling\",\"revolution\",\"custom\",\"structures\",\"guide\",\"celebrate\",\"lenovo\",\"turned\",\"ielts\",\"grades\",\"fuel\",\"relative\",\"oracle\",\"academy\",\"lack\",\"passed\",\"relation\",\"values\",\"movement\",\"strategies\",\"eu\",\"emotional\",\"legs\",\"pokemon\",\"3g\",\"iran\",\"mostly\",\"jewish\",\"offered\",\"log\",\"hasnt\",\"explanation\",\"signal\",\"stores\",\"syllabus\",\"bits\",\"yoga\",\"weapons\",\"gods\",\"10000\",\"delivery\",\"gb\",\"sum\",\"letters\",\"venture\",\"selection\",\"winning\",\"35\",\"comment\",\"consequences\",\"sport\",\"items\",\"seems\",\"ring\",\"jealous\",\"laptops\",\"criteria\",\"fresh\",\"reference\",\"bitcoin\",\"infinite\",\"perform\",\"brazil\",\"density\",\"plans\",\"hosting\",\"clothing\",\"hong\",\"dying\",\"heavy\",\"steve\",\"gone\",\"damage\",\"missing\",\"ethical\",\"republican\",\"contacts\",\"activity\",\"electronic\",\"qualities\",\"piano\",\"hisher\",\"repair\",\"posts\",\"disease\",\"winter\",\"ten\",\"publish\",\"paint\",\"physically\",\"executive\",\"deposit\",\"elements\",\"xbox\",\"ceo\",\"visitors\",\"discovered\",\"tickets\",\"literature\",\"primary\",\"naturally\",\"senior\",\"u\",\"hardest\",\"debate\",\"frequency\",\"vietnam\",\"cry\",\"assistant\",\"gifts\",\"practical\",\"funny\",\"valid\",\"liberal\",\"refer\",\"beat\",\"shape\",\"institutes\",\"msc\",\"internal\",\"located\",\"significant\",\"scientists\",\"g\",\"ship\",\"proper\",\"independence\",\"added\",\"hes\",\"catch\",\"urine\",\"effectively\",\"named\",\"responsible\",\"strength\",\"whos\",\"immigration\",\"vehicle\",\"tesla\",\"kong\",\"meth\",\"england\",\"huge\",\"pizza\",\"rejected\",\"george\",\"fan\",\"salt\",\"browser\",\"sat\",\"loved\",\"fees\",\"walking\",\"symbol\",\"equity\",\"ubuntu\",\"alternatives\",\"theme\",\"virus\",\"manufacturing\",\"cutoff\",\"pure\",\"22\",\"introvert\",\"unable\",\"greek\",\"rice\",\"gst\",\"happening\",\"centre\",\"kiss\",\"prison\",\"bigger\",\"font\",\"construction\",\"exercises\",\"keeps\",\"gmat\",\"offers\",\"cross\",\"nasa\",\"unit\",\"advertising\",\"cup\",\"fixed\",\"limited\",\"billion\",\"subjects\",\"arts\",\"worlds\",\"stupid\",\"breaking\",\"funding\",\"tank\",\"generate\",\"efficient\",\"exists\",\"atheist\",\"entrepreneur\",\"direction\",\"broken\",\"offline\",\"firms\",\"station\",\"magnetic\",\"include\",\"aliens\",\"tinder\",\"logo\",\"photography\",\"worse\",\"besides\",\"path\",\"somebody\",\"interviews\",\"persons\",\"figure\",\"placed\",\"nation\",\"knows\",\"unmarried\",\"hp\",\"profitable\",\"tricks\",\"boss\",\"reply\",\"scam\",\"circle\",\"processor\",\"debt\",\"growing\",\"royal\",\"fiction\",\"department\",\"mistake\",\"weird\",\"graphics\",\"external\",\"article\",\"volume\",\"scratch\",\"chain\",\"protect\",\"storage\",\"texas\",\"liquid\",\"circuit\",\"graphic\",\"tired\",\"weather\",\"oxygen\",\"velocity\",\"dad\",\"band\",\"teachers\",\"drugs\",\"complex\",\"studio\",\"accenture\",\"leader\",\"levels\",\"goal\",\"logic\",\"acne\",\"plastic\",\"motion\",\"button\",\"peoples\",\"vision\",\"gap\",\"dollar\",\"computers\",\"stomach\",\"sources\",\"constant\",\"draw\",\"dress\",\"calculated\",\"sort\",\"3rd\",\"club\",\"channels\",\"creating\",\"candidates\",\"kejriwal\",\"broke\",\"sentences\",\"format\",\"emails\",\"raw\",\"stanford\",\"completed\",\"documents\",\"pan\",\"showing\",\"enter\",\"unknown\",\"bought\",\"router\",\"claim\",\"six\",\"technologies\",\"\\u20b9\",\"flipkart\",\"infosys\",\"mutual\",\"angry\",\"iits\",\"affected\",\"prices\",\"shares\",\"naruto\",\"processing\",\"finding\",\"democratic\",\"evolution\",\"harmful\",\"dual\",\"virtual\",\"member\",\"wave\",\"actual\",\"extra\",\"radio\",\"citizens\",\"e\",\"hr\",\"previous\",\"stopped\",\"walk\",\"redmi\",\"speaker\",\"torrent\",\"smoke\",\"mistakes\",\"flash\",\"iron\",\"entire\",\"individual\",\"express\",\"flow\",\"mode\",\"aircraft\",\"section\",\"planets\",\"10th\",\"respond\",\"easier\",\"evil\",\"percentile\",\"seeing\",\"calories\",\"upgrade\",\"professor\",\"v\",\"launch\",\"staff\",\"till\",\"silicon\",\"entry\",\"constitution\",\"century\",\"notice\",\"ie\",\"atheists\",\"tests\",\"21\",\"became\",\"kerala\",\"truly\",\"count\",\"essay\",\"papers\",\"accurate\",\"colors\",\"respect\",\"ideal\",\"rock\",\"reliance\",\"peace\",\"masturbation\",\"audio\",\"random\",\"independent\",\"colour\",\"hotels\",\"presidency\",\"generation\",\"paypal\",\"shot\",\"central\",\"released\",\"occur\",\"display\",\"industrial\",\"particular\",\"risk\",\"eg\",\"belly\",\"pet\",\"similarities\",\"organic\",\"marijuana\",\"networks\",\"aspects\",\"flat\",\"d\",\"comments\",\"nose\",\"identify\",\"rbi\",\"improvement\",\"directly\",\"framework\",\"suggestions\",\"designing\",\"brands\",\"religious\",\"influence\",\"novels\",\"statistics\",\"historical\",\"ground\",\"commerce\",\"pregnancy\",\"romantic\",\"failure\",\"wearing\",\"john\",\"apart\",\"bay\",\"symptoms\",\"200\",\"couple\",\"60\",\"canadian\",\"lie\",\"print\",\"carry\",\"gender\",\"experienced\",\"pounds\",\"reservation\",\"either\",\"stage\",\"artificial\",\"fit\",\"blogs\",\"developing\",\"environment\",\"learned\",\"copy\",\"phase\",\"bond\",\"democracy\",\"cgpa\",\"operating\",\"surface\",\"officers\",\"h1b\",\"ip\",\"workout\",\"fee\",\"elected\",\"hands\",\"largest\",\"sad\",\"shouldnt\",\"seat\",\"sister\",\"developers\",\"despite\",\"scene\",\"po\",\"diploma\",\"request\",\"empire\",\"ratio\",\"considering\",\"academic\",\"tree\",\"register\",\"advantage\",\"eligible\",\"nit\",\"shop\",\"intel\",\"funniest\",\"alternative\",\"fail\",\"ads\",\"nature\",\"miss\",\"involved\",\"overrated\",\"attend\",\"freedom\",\"dna\",\"beginners\",\"raise\",\"dry\",\"failed\",\"legally\",\"batman\",\"upload\",\"carbon\",\"regret\",\"applied\",\"points\",\"investors\",\"pick\",\"equivalent\",\"connected\",\"christmas\",\"lyrics\",\"nations\",\"caused\",\"bsc\",\"1st\",\"action\",\"activities\",\"biology\",\"hide\",\"asia\",\"takes\",\"require\",\"alive\",\"mom\",\"cycle\",\"generally\",\"campaign\",\"fair\",\"wake\",\"bit\",\"rules\",\"olympics\",\"racist\",\"areas\",\"eggs\",\"feature\",\"sap\",\"taxes\",\"ad\",\"shall\",\"theyre\",\"species\",\"pilot\",\"firm\",\"fish\",\"define\",\"doctors\",\"piece\",\"itself\",\"bang\",\"solutions\",\"iim\",\"2013\",\"wanted\",\"length\",\"burn\",\"waves\",\"bar\",\"gives\",\"forces\",\"christian\",\"anybody\",\"relationships\",\"nice\",\"wedding\",\"various\",\"brother\",\"films\",\"cream\",\"suddenly\",\"philippines\",\"fashion\",\"truth\",\"gpa\",\"cgl\",\"tall\",\"goa\",\"hacking\",\"statement\",\"reset\",\"materials\",\"played\",\"match\",\"usb\",\"novel\",\"unusual\",\"knowing\",\"selected\",\"valley\",\"chrome\",\"couples\",\"becomes\",\"died\",\"cheating\",\"community\",\"groups\",\"category\",\"pursuing\",\"writer\",\"mexico\",\"anymore\",\"sugar\",\"climate\",\"brown\",\"players\",\"ii\",\"reviews\",\"took\",\"led\",\"connection\",\"begin\",\"html\",\"changing\",\"received\",\"plants\",\"debit\",\"record\",\"revenue\",\"mars\",\"strongest\",\"members\",\"formed\",\"union\",\"thought\",\"existence\",\"kashmir\",\"gandhi\",\"pdf\",\"banned\",\"0\",\"plane\",\"treated\",\"electricity\",\"scale\",\"basis\",\"moral\",\"images\",\"methods\",\"certification\",\"voltage\",\"style\",\"base\",\"excel\",\"amazing\",\"regarding\",\"result\",\"rates\",\"hold\",\"indias\",\"airport\",\"businesses\",\"feet\",\"built\",\"linkedin\",\"signs\",\"above\",\"networking\",\"r\",\"shopping\",\"looks\",\"went\",\"placements\",\"bed\",\"experiences\",\"daughter\",\"tourist\",\"employee\",\"caste\",\"wait\",\"direct\",\"especially\",\"feed\",\"continue\",\"expected\",\"algorithm\",\"depressed\",\"shoes\",\"soon\",\"supply\",\"stress\",\"24\",\"inr\",\"foods\",\"rent\",\"architecture\",\"ban\",\"entrance\",\"actors\",\"messenger\",\"unique\",\"kolkata\",\"funds\",\"rupee\",\"promote\",\"rupees\",\"jews\",\"23\",\"cook\",\"cultural\",\"accepted\",\"hear\",\"glass\",\"road\",\"joining\",\"measure\",\"havent\",\"metal\",\"resume\",\"afraid\",\"turkey\",\"meat\",\"goes\",\"installation\",\"netflix\",\"benefit\",\"demand\",\"release\",\"produce\",\"report\",\"cover\",\"changes\",\"double\",\"2nd\",\"reaction\",\"killed\",\"steel\",\"requirements\",\"france\",\"exchange\",\"ac\",\"quantum\",\"reliable\",\"box\",\"results\",\"lives\",\"treatment\",\"4g\",\"ece\",\"probability\",\"sleeping\",\"philosophy\",\"handle\",\"forget\",\"driver\",\"demonetization\",\"algorithms\",\"trade\",\"rule\",\"muscle\",\"calls\",\"tried\",\"mental\",\"sure\",\"quit\",\"navy\",\"achieve\",\"francisco\",\"location\",\"until\",\"sense\",\"anxiety\",\"wordpress\",\"focus\",\"fact\",\"production\",\"conversation\",\"motor\",\"five\",\"attracted\",\"hit\",\"analyst\",\"moto\",\"isis\",\"chicken\",\"sector\",\"permanent\",\"along\",\"king\",\"slow\",\"candidate\",\"minutes\",\"purchase\",\"gun\",\"selling\",\"usually\",\"\\u2026\",\"fly\",\"round\",\"panel\",\"error\",\"stocks\",\"api\",\"remember\",\"africa\",\"paying\",\"hitler\",\"3d\",\"regular\",\"losing\",\"mail\",\"yahoo\",\"cheapest\",\"older\",\"concept\",\"characters\",\"definition\",\"lines\",\"pm\",\"cloud\",\"cats\",\"russian\",\"ipad\",\"korean\",\"proof\",\"battle\",\"stars\",\"stream\",\"recent\",\"typical\",\"performance\",\"harvard\",\"restaurant\",\"origin\",\"listen\",\"smell\",\"decide\",\"serve\",\"undergraduate\",\"profit\",\"situation\",\"surgery\",\"asking\",\"plant\",\"link\",\"square\",\"completing\",\"four\",\"trust\",\"payment\",\"gym\",\"andor\",\"worklife\",\"guitar\",\"elections\",\"half\",\"investing\",\"scientist\",\"street\",\"needs\",\"native\",\"thoughts\",\"reality\",\"40\",\"medicine\",\"race\",\"choice\",\"longer\",\"came\",\"applying\",\"hiring\",\"west\",\"weed\",\"hacks\",\"step\",\"sea\",\"crime\",\"devices\",\"event\",\"citizen\",\"14\",\"17\",\"ticket\",\"fund\",\"equation\",\"suicide\",\"whom\",\"met\",\"almost\",\"designer\",\"local\",\"departments\",\"khan\",\"customer\",\"banking\",\"javascript\",\"trip\",\"issue\",\"react\",\"cannot\",\"dubai\",\"wall\",\"touch\",\"parts\",\"loves\",\"clothes\",\"straight\",\"sexual\",\"active\",\"inpatient\",\"dreams\",\"protein\",\"table\",\"exercise\",\"lord\",\"mtech\",\"creative\",\"ball\",\"speaking\",\"son\",\"receive\",\"dollars\",\"domain\",\"prospects\",\"hour\",\"graduation\",\"commercial\",\"themselves\",\"factors\",\"jesus\",\"programmer\",\"recommend\",\"replace\",\"chat\",\"placement\",\"episode\",\"fastest\",\"restaurants\",\"object\",\"drivers\",\"gaming\",\"mark\",\"taste\",\"seem\",\"perfect\",\"potential\",\"trumps\",\"appear\",\"rights\",\"equal\",\"rest\",\"package\",\"meant\",\"drop\",\"cool\",\"material\",\"potter\",\"events\",\"convince\",\"completely\",\"n\",\"zero\",\"significance\",\"lower\",\"feelings\",\"followers\",\"evidence\",\"certain\",\"later\",\"original\",\"bible\",\"disorder\",\"testing\",\"via\",\"stand\",\"actor\",\"characteristics\",\"cities\",\"reach\",\"ago\",\"mbbs\",\"speech\",\"electric\",\"approach\",\"scientific\",\"root\",\"analytics\",\"below\",\"grade\",\"mains\",\"topic\",\"fun\",\"ancient\",\"adult\",\"standard\",\"ice\",\"everyday\",\"population\",\"invented\",\"european\",\"intelligent\",\"11\",\"subject\",\"rehab\",\"background\",\"giving\",\"platform\",\"flight\",\"thrones\",\"maths\",\"dc\",\"teeth\",\"mit\",\"weeks\",\"east\",\"means\",\"programs\",\"beginner\",\"heat\",\"third\",\"tea\",\"range\",\"london\",\"maximum\",\"enjoy\",\"2000\",\"cells\",\"quickly\",\"here\",\"expensive\",\"phrase\",\"partner\",\"league\",\"anime\",\"latest\",\"specific\",\"whether\",\"functions\",\"os\",\"fire\",\"saying\",\"secret\",\"13\",\"planet\",\"hole\",\"super\",\"teacher\",\"strong\",\"accounts\",\"minister\",\"database\",\"economic\",\"channel\",\"estate\",\"ram\",\"switch\",\"asian\",\"smoking\",\"branch\",\"israel\",\"18\",\"features\",\"success\",\"lead\",\"total\",\"key\",\"master\",\"ok\",\"favourite\",\"psychology\",\"pok\\u00e9mon\",\"nothing\",\"clean\",\"25\",\"politics\",\"drinking\",\"sometimes\",\"recently\",\"korea\",\"sent\",\"poor\",\"hindu\",\"hollywood\",\"survive\",\"cure\",\"property\",\"return\",\"narendra\",\"budget\",\"sports\",\"limit\",\"arent\",\"boys\",\"driving\",\"whole\",\"cash\",\"smartphone\",\"php\",\"developed\",\"ssc\",\"hot\",\"attractive\",\"tool\",\"physical\",\"ecommerce\",\"sbi\",\"morning\",\"animal\",\"multiple\",\"loan\",\"acid\",\"fresher\",\"spanish\",\"moving\",\"decision\",\"county\",\"determined\",\"becoming\",\"seo\",\"summer\",\"manage\",\"server\",\"competitive\",\"milk\",\"importance\",\"banks\",\"cheap\",\"powerful\",\"issues\",\"penis\",\"according\",\"analysis\",\"bike\",\"position\",\"western\",\"advanced\",\"campus\",\"highest\",\"front\",\"court\",\"status\",\"gravity\",\"positions\",\"comes\",\"steps\",\"complete\",\"electronics\",\"won\",\"hurt\",\"certificate\",\"temperature\",\"player\",\"someones\",\"communication\",\"million\",\"talking\",\"preparing\",\"finance\",\"cancer\",\"9\",\"harry\",\"accept\",\"2014\",\"plus\",\"born\",\"tcs\",\"license\",\"bring\",\"teach\",\"practice\",\"trading\",\"m\",\"might\",\"opportunities\",\"global\",\"wish\",\"outside\",\"attack\",\"procedure\",\"needed\",\"update\",\"coffee\",\"provider\",\"rather\",\"16\",\"allow\",\"tamil\",\"mix\",\"connect\",\"room\",\"watching\",\"deep\",\"york\",\"image\",\"birth\",\"sign\",\"birthday\",\"playing\",\"wars\",\"grads\",\"hire\",\"phones\",\"cbse\",\"details\",\"clear\",\"cricket\",\"dangerous\",\"track\",\"corporate\",\"voice\",\"upsc\",\"content\",\"okay\",\"san\",\"heart\",\"far\",\"heard\",\"prove\",\"positive\",\"moment\",\"sales\",\"opinion\",\"engineers\",\"block\",\"diet\",\"coding\",\"core\",\"baby\",\"father\",\"little\",\"large\",\"blocked\",\"distance\",\"land\",\"simple\",\"husband\",\"told\",\"traffic\",\"prevent\",\"pictures\",\"planning\",\"fear\",\"classes\",\"towards\",\"technical\",\"building\",\"trying\",\"photo\",\"early\",\"uses\",\"sydney\",\"startups\",\"act\",\"id\",\"describe\",\"12th\",\"may\",\"formula\",\"gets\",\"present\",\"wont\",\"cut\",\"treat\",\"mathematics\",\"visiting\",\"eye\",\"policy\",\"close\",\"cse\",\"suitable\",\"version\",\"tools\",\"head\",\"minimum\",\"chennai\",\"easily\",\"method\",\"intelligence\",\"gre\",\"mother\",\"doctor\",\"macbook\",\"deleted\",\"gas\",\"suggest\",\"cards\",\"files\",\"loss\",\"art\",\"easiest\",\"late\",\"among\",\"together\",\"depression\",\"higher\",\"alone\",\"economics\",\"dead\",\"growth\",\"insurance\",\"gold\",\"necessary\",\"neet\",\"blog\",\"example\",\"memory\",\"crack\",\"consider\",\"works\",\"currency\",\"recruit\",\"pursue\",\"strategy\",\"young\",\"cs\",\"projects\",\"50\",\"manager\",\"abroad\",\"schools\",\"illegal\",\"inside\",\"stories\",\"hand\",\"t\",\"greatest\",\"personality\",\"galaxy\",\"device\",\"views\",\"user\",\"chemistry\",\"cars\",\"iq\",\"prefer\",\"picture\",\"nuclear\",\"middle\",\"applications\",\"gmail\",\"laws\",\"final\",\"capital\",\"kids\",\"society\",\"fake\",\"bill\",\"save\",\"though\",\"likely\",\"determine\",\"shows\",\"character\",\"snapchat\",\"youre\",\"eyes\",\"islam\",\"marry\",\"brand\",\"yet\",\"impact\",\"speak\",\"within\",\"rich\",\"resources\",\"net\",\"non\",\"pressure\",\"changed\",\"allowed\",\"obama\",\"cold\",\"running\",\"feeling\",\"jio\",\"football\",\"gift\",\"written\",\"buying\",\"mac\",\"spend\",\"prime\",\"blue\",\"train\",\"studies\",\"negative\",\"thinking\",\"solution\",\"sun\",\"least\",\"following\",\"install\",\"else\",\"muslims\",\"camera\",\"vote\",\"linux\",\"expect\",\"german\",\"recover\",\"starting\",\"crush\",\"coming\",\"muslim\",\"modern\",\"battery\",\"provide\",\"access\",\"presidential\",\"interest\",\"dating\",\"pro\",\"likes\",\"french\",\"singapore\",\"useful\",\"already\",\"professional\",\"percentage\",\"drink\",\"created\",\"board\",\"passport\",\"structure\",\"case\",\"height\",\"microsoft\",\"break\",\"screen\",\"names\",\"chance\",\"special\",\"30\",\"skin\",\"natural\",\"color\",\"interested\",\"amount\",\"pain\",\"healthy\",\"hack\",\"messages\",\"ias\",\"gay\",\"disadvantages\",\"pass\",\"moon\",\"systems\",\"hindi\",\"financial\",\"taken\",\"yes\",\"sim\",\"pregnant\",\"faster\",\"animals\",\"internship\",\"let\",\"photos\",\"balance\",\"sound\",\"due\",\"knowledge\",\"charge\",\"message\",\"officer\",\"solar\",\"military\",\"meet\",\"option\",\"reading\",\"across\",\"overcome\",\"everyone\",\"everything\",\"wife\",\"reduce\",\"chances\",\"samsung\",\"income\",\"bollywood\",\"season\",\"europe\",\"boy\",\"currently\",\"ex\",\"smart\",\"california\",\"engine\",\"paid\",\"army\",\"contact\",\"address\",\"wants\",\"ones\",\"gain\",\"reasons\",\"avoid\",\"please\",\"note\",\"known\",\"pune\",\"film\",\"national\",\"once\",\"users\",\"porn\",\"scope\",\"twitter\",\"drug\",\"rank\",\"japan\",\"fight\",\"transfer\",\"political\",\"green\",\"news\",\"self\",\"uber\",\"basic\",\"british\",\"religion\",\"hyderabad\",\"topics\",\"explain\",\"phd\",\"eating\",\"letter\",\"calculate\",\"ive\",\"tech\",\"personal\",\"japanese\",\"check\",\"hotel\",\"wifi\",\"beautiful\",\"difficult\",\"paper\",\"languages\",\"investment\",\"develop\",\"north\",\"electrical\",\"ios\",\"alcohol\",\"exactly\",\"profile\",\"past\",\"exams\",\"ca\",\"convert\",\"vs\",\"understand\",\"care\",\"dream\",\"try\",\"americans\",\"lost\",\"chemical\",\"source\",\"b\",\"admission\",\"easy\",\"must\",\"three\",\"effect\",\"view\",\"options\",\"page\",\"away\",\"red\",\"said\",\"line\",\"short\",\"happy\",\"security\",\"dark\",\"preparation\",\"second\",\"fat\",\"matter\",\"few\",\"since\",\"role\",\"pc\",\"office\",\"team\",\"delete\",\"cell\",\"election\",\"economy\",\"term\",\"dogs\",\"text\",\"female\",\"effective\",\"brain\",\"share\",\"digital\",\"btech\",\"russia\",\"\\u201c\",\"party\",\"numbers\",\"20\",\"store\",\"male\",\"mass\",\"turn\",\"left\",\"married\",\"rs\",\"taking\",\"those\",\"password\",\"follow\",\"advice\",\"isnt\",\"15\",\"types\",\"network\",\"\\u201d\",\"week\",\"purpose\",\"related\",\"fix\",\"started\",\"courses\",\"masters\",\"grow\",\"8\",\"fast\",\"leave\",\"100\",\"often\",\"found\",\"pros\",\"marriage\",\"cons\",\"quality\",\"words\",\"kill\",\"price\",\"near\",\"modi\",\"enough\",\"search\",\"python\",\"x\",\"blood\",\"math\",\"yourself\",\"drive\",\"size\",\"star\",\"graduate\",\"majors\",\"500\",\"model\",\"studying\",\"general\",\"oil\",\"colleges\",\"area\",\"developer\",\"germany\",\"industry\",\"full\",\"training\",\"says\",\"period\",\"videos\",\"universe\",\"fall\",\"daily\",\"information\",\"foreign\",\"credit\",\"force\",\"12\",\"youve\",\"south\",\"offer\",\"set\",\"add\",\"send\",\"australia\",\"center\",\"1000\",\"famous\",\"2015\",\"lot\",\"function\",\"tax\",\"correct\",\"solve\",\"advantages\",\"coaching\",\"institute\",\"effects\",\"guys\",\"again\",\"group\",\"hours\",\"side\",\"sentence\",\"low\",\"similar\",\"plan\",\"children\",\"answers\",\"talk\",\"marks\",\"ideas\",\"theory\",\"death\",\"compared\",\"night\",\"remove\",\"dog\",\"anything\",\"single\",\"successful\",\"gate\",\"indians\",\"put\",\"problems\",\"move\",\"writing\",\"point\",\"invest\",\"asked\",\"biggest\",\"others\",\"stock\",\"notes\",\"story\",\"machine\",\"private\",\"sell\",\"seen\",\"required\",\"field\",\"file\",\"rate\",\"humans\",\"application\",\"face\",\"sites\",\"mind\",\"facts\",\"mumbai\",\"post\",\"stay\",\"child\",\"terms\",\"products\",\"control\",\"legal\",\"police\",\"didnt\",\"level\",\"worst\",\"hate\",\"visit\",\"called\",\"amazon\",\"causes\",\"health\",\"form\",\"physics\",\"iit\",\"skills\",\"times\",\"medical\",\"based\",\"list\",\"websites\",\"die\",\"part\",\"less\",\"benefits\",\"apple\",\"instead\",\"these\",\"boyfriend\",\"sleep\",\"canada\",\"reason\",\"education\",\"cause\",\"jee\",\"value\",\"today\",\"media\",\"public\",\"happened\",\"product\",\"research\",\"main\",\"behind\",\"international\",\"project\",\"uk\",\"differ\",\"7\",\"places\",\"wear\",\"order\",\"date\",\"etc\",\"small\",\"songs\",\"apps\",\"email\",\"given\",\"wrong\",\"site\",\"normal\",\"culture\",\"also\",\"civil\",\"city\",\"available\",\"house\",\"exist\",\"startup\",\"services\",\"ms\",\"both\",\"down\",\"2017\",\"run\",\"cat\",\"well\",\"space\",\"join\",\"deal\",\"games\",\"visa\",\"rid\",\"air\",\"speed\",\"popular\",\"problem\",\"support\",\"current\",\"pakistan\",\"choose\",\"build\",\"idea\",\"america\",\"whatsapp\",\"affect\",\"law\",\"technology\",\"call\",\"6\",\"universities\",\"family\",\"marketing\",\"major\",\"actually\",\"favorite\",\"light\",\"bangalore\",\"woman\",\"because\",\"type\",\"program\",\"looking\",\"living\",\"open\",\"believe\",\"month\",\"able\",\"management\",\"travel\",\"degree\",\"show\",\"interesting\",\"score\",\"months\",\"series\",\"chinese\",\"development\",\"end\",\"code\",\"design\",\"per\",\"employees\",\"review\",\"clinton\",\"common\",\"kind\",\"internet\",\"song\",\"download\",\"course\",\"parents\",\"jobs\",\"such\",\"increase\",\"java\",\"god\",\"another\",\"united\",\"girlfriend\",\"mechanical\",\"always\",\"next\",\"never\",\"around\",\"tips\",\"mba\",\"myself\",\"hillary\",\"apply\",\"answer\",\"something\",\"considered\",\"making\",\"differences\",\"market\",\"compare\",\"great\",\"keep\",\"test\",\"s\",\"win\",\"against\",\"states\",\"earn\",\"youtube\",\"worth\",\"delhi\",\"energy\",\"laptop\",\"american\",\"lose\",\"each\",\"hard\",\"makes\",\"age\",\"ask\",\"safe\",\"body\",\"power\",\"salary\",\"4\",\"watch\",\"white\",\"windows\",\"instagram\",\"history\",\"pay\",\"every\",\"last\",\"create\",\"relationship\",\"music\",\"too\",\"meaning\",\"state\",\"average\",\"earth\",\"got\",\"process\",\"class\",\"tv\",\"eat\",\"done\",\"happens\",\"days\",\"big\",\"off\",\"improve\",\"future\",\"place\",\"man\",\"human\",\"government\",\"play\",\"countries\",\"food\",\"service\",\"students\",\"weight\",\"game\",\"engineer\",\"write\",\"very\",\"interview\",\"web\",\"tell\",\"social\",\"girls\",\"video\",\"look\",\"having\",\"guy\",\"home\",\"hair\",\"usa\",\"doesnt\",\"word\",\"bank\",\"friend\",\"true\",\"experience\",\"career\",\"president\",\"question\",\"own\",\"china\",\"come\",\"under\",\"working\",\"him\",\"doing\",\"donald\",\"friends\",\"right\",\"5\",\"cost\",\"mobile\",\"even\",\"movies\",\"then\",\"c\",\"\\u2019\",\"exam\",\"men\",\"learning\",\"card\",\"war\",\"read\",\"programming\",\"black\",\"anyone\",\"high\",\"10\",\"companies\",\"car\",\"getting\",\"give\",\"important\",\"questions\",\"cant\",\"iphone\",\"website\",\"top\",\"water\",\"prepare\",\"during\",\"real\",\"say\",\"system\",\"name\",\"through\",\"two\",\"1\",\"our\",\"study\",\"3\",\"university\",\"made\",\"back\",\"happen\",\"stop\",\"student\",\"sex\",\"bad\",\"language\",\"going\",\"same\",\"before\",\"software\",\"school\",\"live\",\"country\",\"android\",\"science\",\"help\",\"she\",\"see\",\"thing\",\"women\",\"over\",\"data\",\"examples\",\"computer\",\"had\",\"ways\",\"change\",\"while\",\"book\",\"english\",\"account\",\"still\",\"movie\",\"books\",\"2016\",\"facebook\",\"free\",\"number\",\"college\",\"app\",\"2\",\"just\",\"now\",\"no\",\"trump\",\"company\",\"only\",\"old\",\"been\",\"google\",\"phone\",\"long\",\"different\",\"girl\",\"his\",\"her\",\"years\",\"really\",\"them\",\"using\",\"business\",\"need\",\"being\",\"buy\",\"day\",\"person\",\"things\",\"possible\",\"could\",\"were\",\"its\",\"love\",\"engineering\",\"im\",\"used\",\"online\",\"go\",\"year\",\"he\",\"into\",\"feel\",\"dont\",\"first\",\"up\"]]]}}},\"view\":{\"type\":\"object\",\"name\":\"CDSView\",\"id\":\"p1047\",\"attributes\":{\"filter\":{\"type\":\"object\",\"name\":\"AllIndices\",\"id\":\"p1048\"}}},\"glyph\":{\"type\":\"object\",\"name\":\"Scatter\",\"id\":\"p1043\",\"attributes\":{\"x\":{\"type\":\"field\",\"field\":\"x\"},\"y\":{\"type\":\"field\",\"field\":\"y\"},\"size\":{\"type\":\"value\",\"value\":10},\"line_color\":{\"type\":\"field\",\"field\":\"color\"},\"line_alpha\":{\"type\":\"value\",\"value\":0.25},\"fill_color\":{\"type\":\"field\",\"field\":\"color\"},\"fill_alpha\":{\"type\":\"value\",\"value\":0.25},\"hatch_color\":{\"type\":\"field\",\"field\":\"color\"},\"hatch_alpha\":{\"type\":\"value\",\"value\":0.25}}},\"nonselection_glyph\":{\"type\":\"object\",\"name\":\"Scatter\",\"id\":\"p1044\",\"attributes\":{\"x\":{\"type\":\"field\",\"field\":\"x\"},\"y\":{\"type\":\"field\",\"field\":\"y\"},\"size\":{\"type\":\"value\",\"value\":10},\"line_color\":{\"type\":\"field\",\"field\":\"color\"},\"line_alpha\":{\"type\":\"value\",\"value\":0.1},\"fill_color\":{\"type\":\"field\",\"field\":\"color\"},\"fill_alpha\":{\"type\":\"value\",\"value\":0.1},\"hatch_color\":{\"type\":\"field\",\"field\":\"color\"},\"hatch_alpha\":{\"type\":\"value\",\"value\":0.1}}},\"muted_glyph\":{\"type\":\"object\",\"name\":\"Scatter\",\"id\":\"p1045\",\"attributes\":{\"x\":{\"type\":\"field\",\"field\":\"x\"},\"y\":{\"type\":\"field\",\"field\":\"y\"},\"size\":{\"type\":\"value\",\"value\":10},\"line_color\":{\"type\":\"field\",\"field\":\"color\"},\"line_alpha\":{\"type\":\"value\",\"value\":0.2},\"fill_color\":{\"type\":\"field\",\"field\":\"color\"},\"fill_alpha\":{\"type\":\"value\",\"value\":0.2},\"hatch_color\":{\"type\":\"field\",\"field\":\"color\"},\"hatch_alpha\":{\"type\":\"value\",\"value\":0.2}}}}}],\"toolbar\":{\"type\":\"object\",\"name\":\"Toolbar\",\"id\":\"p1014\",\"attributes\":{\"tools\":[{\"type\":\"object\",\"name\":\"PanTool\",\"id\":\"p1027\"},{\"type\":\"object\",\"name\":\"WheelZoomTool\",\"id\":\"p1028\",\"attributes\":{\"renderers\":\"auto\"}},{\"type\":\"object\",\"name\":\"BoxZoomTool\",\"id\":\"p1029\",\"attributes\":{\"dimensions\":\"both\",\"overlay\":{\"type\":\"object\",\"name\":\"BoxAnnotation\",\"id\":\"p1030\",\"attributes\":{\"syncable\":false,\"line_color\":\"black\",\"line_alpha\":1.0,\"line_width\":2,\"line_dash\":[4,4],\"fill_color\":\"lightgrey\",\"fill_alpha\":0.5,\"level\":\"overlay\",\"visible\":false,\"left\":{\"type\":\"number\",\"value\":\"nan\"},\"right\":{\"type\":\"number\",\"value\":\"nan\"},\"top\":{\"type\":\"number\",\"value\":\"nan\"},\"bottom\":{\"type\":\"number\",\"value\":\"nan\"},\"left_units\":\"canvas\",\"right_units\":\"canvas\",\"top_units\":\"canvas\",\"bottom_units\":\"canvas\",\"handles\":{\"type\":\"object\",\"name\":\"BoxInteractionHandles\",\"id\":\"p1036\",\"attributes\":{\"all\":{\"type\":\"object\",\"name\":\"AreaVisuals\",\"id\":\"p1035\",\"attributes\":{\"fill_color\":\"white\",\"hover_fill_color\":\"lightgray\"}}}}}}}},{\"type\":\"object\",\"name\":\"SaveTool\",\"id\":\"p1037\"},{\"type\":\"object\",\"name\":\"ResetTool\",\"id\":\"p1038\"},{\"type\":\"object\",\"name\":\"HelpTool\",\"id\":\"p1039\"},{\"type\":\"object\",\"name\":\"HoverTool\",\"id\":\"p1049\",\"attributes\":{\"renderers\":\"auto\",\"tooltips\":[[\"token\",\"@token\"]]}}],\"active_scroll\":{\"id\":\"p1028\"}}},\"left\":[{\"type\":\"object\",\"name\":\"LinearAxis\",\"id\":\"p1022\",\"attributes\":{\"ticker\":{\"type\":\"object\",\"name\":\"BasicTicker\",\"id\":\"p1023\",\"attributes\":{\"mantissas\":[1,2,5]}},\"formatter\":{\"type\":\"object\",\"name\":\"BasicTickFormatter\",\"id\":\"p1024\"},\"major_label_policy\":{\"type\":\"object\",\"name\":\"AllLabels\",\"id\":\"p1025\"}}}],\"below\":[{\"type\":\"object\",\"name\":\"LinearAxis\",\"id\":\"p1017\",\"attributes\":{\"ticker\":{\"type\":\"object\",\"name\":\"BasicTicker\",\"id\":\"p1018\",\"attributes\":{\"mantissas\":[1,2,5]}},\"formatter\":{\"type\":\"object\",\"name\":\"BasicTickFormatter\",\"id\":\"p1019\"},\"major_label_policy\":{\"type\":\"object\",\"name\":\"AllLabels\",\"id\":\"p1020\"}}}],\"center\":[{\"type\":\"object\",\"name\":\"Grid\",\"id\":\"p1021\",\"attributes\":{\"axis\":{\"id\":\"p1017\"}}},{\"type\":\"object\",\"name\":\"Grid\",\"id\":\"p1026\",\"attributes\":{\"dimension\":1,\"axis\":{\"id\":\"p1022\"}}}]}}]}};\n",
              "  const render_items = [{\"docid\":\"3f4d8910-875a-4fca-81a9-e86349de129f\",\"roots\":{\"p1006\":\"ba3b44ac-d9bc-48a5-ad3e-187183d101d9\"},\"root_ids\":[\"p1006\"]}];\n",
              "  void root.Bokeh.embed.embed_items_notebook(docs_json, render_items);\n",
              "  }\n",
              "  if (root.Bokeh !== undefined) {\n",
              "    embed_document(root);\n",
              "  } else {\n",
              "    let attempts = 0;\n",
              "    const timer = setInterval(function(root) {\n",
              "      if (root.Bokeh !== undefined) {\n",
              "        clearInterval(timer);\n",
              "        embed_document(root);\n",
              "      } else {\n",
              "        attempts++;\n",
              "        if (attempts > 100) {\n",
              "          clearInterval(timer);\n",
              "          console.log(\"Bokeh: ERROR: Unable to run BokehJS code because BokehJS library is missing\");\n",
              "        }\n",
              "      }\n",
              "    }, 10, root)\n",
              "  }\n",
              "})(window);"
            ],
            "application/vnd.bokehjs_exec.v0+json": ""
          },
          "metadata": {
            "application/vnd.bokehjs_exec.v0+json": {
              "id": "p1006"
            }
          }
        },
        {
          "output_type": "execute_result",
          "data": {
            "text/plain": [
              "figure(id='p1006', ...)"
            ],
            "text/html": [
              "<div style=\"display: table;\"><div style=\"display: table-row;\"><div style=\"display: table-cell;\"><b title=\"bokeh.plotting._figure.figure\">figure</b>(</div><div style=\"display: table-cell;\">id&nbsp;=&nbsp;'p1006', <span id=\"p1053\" style=\"cursor: pointer;\">&hellip;)</span></div></div><div class=\"p1052\" style=\"display: none;\"><div style=\"display: table-cell;\"></div><div style=\"display: table-cell;\">above&nbsp;=&nbsp;[],</div></div><div class=\"p1052\" style=\"display: none;\"><div style=\"display: table-cell;\"></div><div style=\"display: table-cell;\">align&nbsp;=&nbsp;'auto',</div></div><div class=\"p1052\" style=\"display: none;\"><div style=\"display: table-cell;\"></div><div style=\"display: table-cell;\">aspect_ratio&nbsp;=&nbsp;None,</div></div><div class=\"p1052\" style=\"display: none;\"><div style=\"display: table-cell;\"></div><div style=\"display: table-cell;\">aspect_scale&nbsp;=&nbsp;1,</div></div><div class=\"p1052\" style=\"display: none;\"><div style=\"display: table-cell;\"></div><div style=\"display: table-cell;\">attribution&nbsp;=&nbsp;[],</div></div><div class=\"p1052\" style=\"display: none;\"><div style=\"display: table-cell;\"></div><div style=\"display: table-cell;\">background_fill_alpha&nbsp;=&nbsp;1.0,</div></div><div class=\"p1052\" style=\"display: none;\"><div style=\"display: table-cell;\"></div><div style=\"display: table-cell;\">background_fill_color&nbsp;=&nbsp;'#ffffff',</div></div><div class=\"p1052\" style=\"display: none;\"><div style=\"display: table-cell;\"></div><div style=\"display: table-cell;\">background_hatch_alpha&nbsp;=&nbsp;1.0,</div></div><div class=\"p1052\" style=\"display: none;\"><div style=\"display: table-cell;\"></div><div style=\"display: table-cell;\">background_hatch_color&nbsp;=&nbsp;'black',</div></div><div class=\"p1052\" style=\"display: none;\"><div style=\"display: table-cell;\"></div><div style=\"display: table-cell;\">background_hatch_extra&nbsp;=&nbsp;{},</div></div><div class=\"p1052\" style=\"display: none;\"><div style=\"display: table-cell;\"></div><div style=\"display: table-cell;\">background_hatch_pattern&nbsp;=&nbsp;None,</div></div><div class=\"p1052\" style=\"display: none;\"><div style=\"display: table-cell;\"></div><div style=\"display: table-cell;\">background_hatch_scale&nbsp;=&nbsp;12.0,</div></div><div class=\"p1052\" style=\"display: none;\"><div style=\"display: table-cell;\"></div><div style=\"display: table-cell;\">background_hatch_weight&nbsp;=&nbsp;1.0,</div></div><div class=\"p1052\" style=\"display: none;\"><div style=\"display: table-cell;\"></div><div style=\"display: table-cell;\">below&nbsp;=&nbsp;[LinearAxis(id='p1017', ...)],</div></div><div class=\"p1052\" style=\"display: none;\"><div style=\"display: table-cell;\"></div><div style=\"display: table-cell;\">border_fill_alpha&nbsp;=&nbsp;1.0,</div></div><div class=\"p1052\" style=\"display: none;\"><div style=\"display: table-cell;\"></div><div style=\"display: table-cell;\">border_fill_color&nbsp;=&nbsp;'#ffffff',</div></div><div class=\"p1052\" style=\"display: none;\"><div style=\"display: table-cell;\"></div><div style=\"display: table-cell;\">border_hatch_alpha&nbsp;=&nbsp;1.0,</div></div><div class=\"p1052\" style=\"display: none;\"><div style=\"display: table-cell;\"></div><div style=\"display: table-cell;\">border_hatch_color&nbsp;=&nbsp;'black',</div></div><div class=\"p1052\" style=\"display: none;\"><div style=\"display: table-cell;\"></div><div style=\"display: table-cell;\">border_hatch_extra&nbsp;=&nbsp;{},</div></div><div class=\"p1052\" style=\"display: none;\"><div style=\"display: table-cell;\"></div><div style=\"display: table-cell;\">border_hatch_pattern&nbsp;=&nbsp;None,</div></div><div class=\"p1052\" style=\"display: none;\"><div style=\"display: table-cell;\"></div><div style=\"display: table-cell;\">border_hatch_scale&nbsp;=&nbsp;12.0,</div></div><div class=\"p1052\" style=\"display: none;\"><div style=\"display: table-cell;\"></div><div style=\"display: table-cell;\">border_hatch_weight&nbsp;=&nbsp;1.0,</div></div><div class=\"p1052\" style=\"display: none;\"><div style=\"display: table-cell;\"></div><div style=\"display: table-cell;\">center&nbsp;=&nbsp;[Grid(id='p1021', ...), Grid(id='p1026', ...)],</div></div><div class=\"p1052\" style=\"display: none;\"><div style=\"display: table-cell;\"></div><div style=\"display: table-cell;\">context_menu&nbsp;=&nbsp;'auto',</div></div><div class=\"p1052\" style=\"display: none;\"><div style=\"display: table-cell;\"></div><div style=\"display: table-cell;\">css_classes&nbsp;=&nbsp;[],</div></div><div class=\"p1052\" style=\"display: none;\"><div style=\"display: table-cell;\"></div><div style=\"display: table-cell;\">css_variables&nbsp;=&nbsp;{},</div></div><div class=\"p1052\" style=\"display: none;\"><div style=\"display: table-cell;\"></div><div style=\"display: table-cell;\">disabled&nbsp;=&nbsp;False,</div></div><div class=\"p1052\" style=\"display: none;\"><div style=\"display: table-cell;\"></div><div style=\"display: table-cell;\">elements&nbsp;=&nbsp;[],</div></div><div class=\"p1052\" style=\"display: none;\"><div style=\"display: table-cell;\"></div><div style=\"display: table-cell;\">extra_x_ranges&nbsp;=&nbsp;{},</div></div><div class=\"p1052\" style=\"display: none;\"><div style=\"display: table-cell;\"></div><div style=\"display: table-cell;\">extra_x_scales&nbsp;=&nbsp;{},</div></div><div class=\"p1052\" style=\"display: none;\"><div style=\"display: table-cell;\"></div><div style=\"display: table-cell;\">extra_y_ranges&nbsp;=&nbsp;{},</div></div><div class=\"p1052\" style=\"display: none;\"><div style=\"display: table-cell;\"></div><div style=\"display: table-cell;\">extra_y_scales&nbsp;=&nbsp;{},</div></div><div class=\"p1052\" style=\"display: none;\"><div style=\"display: table-cell;\"></div><div style=\"display: table-cell;\">flow_mode&nbsp;=&nbsp;'block',</div></div><div class=\"p1052\" style=\"display: none;\"><div style=\"display: table-cell;\"></div><div style=\"display: table-cell;\">frame_align&nbsp;=&nbsp;True,</div></div><div class=\"p1052\" style=\"display: none;\"><div style=\"display: table-cell;\"></div><div style=\"display: table-cell;\">frame_height&nbsp;=&nbsp;None,</div></div><div class=\"p1052\" style=\"display: none;\"><div style=\"display: table-cell;\"></div><div style=\"display: table-cell;\">frame_width&nbsp;=&nbsp;None,</div></div><div class=\"p1052\" style=\"display: none;\"><div style=\"display: table-cell;\"></div><div style=\"display: table-cell;\">height&nbsp;=&nbsp;400,</div></div><div class=\"p1052\" style=\"display: none;\"><div style=\"display: table-cell;\"></div><div style=\"display: table-cell;\">height_policy&nbsp;=&nbsp;'auto',</div></div><div class=\"p1052\" style=\"display: none;\"><div style=\"display: table-cell;\"></div><div style=\"display: table-cell;\">hidpi&nbsp;=&nbsp;True,</div></div><div class=\"p1052\" style=\"display: none;\"><div style=\"display: table-cell;\"></div><div style=\"display: table-cell;\">hold_render&nbsp;=&nbsp;False,</div></div><div class=\"p1052\" style=\"display: none;\"><div style=\"display: table-cell;\"></div><div style=\"display: table-cell;\">html_attributes&nbsp;=&nbsp;{},</div></div><div class=\"p1052\" style=\"display: none;\"><div style=\"display: table-cell;\"></div><div style=\"display: table-cell;\">html_id&nbsp;=&nbsp;None,</div></div><div class=\"p1052\" style=\"display: none;\"><div style=\"display: table-cell;\"></div><div style=\"display: table-cell;\">js_event_callbacks&nbsp;=&nbsp;{},</div></div><div class=\"p1052\" style=\"display: none;\"><div style=\"display: table-cell;\"></div><div style=\"display: table-cell;\">js_property_callbacks&nbsp;=&nbsp;{},</div></div><div class=\"p1052\" style=\"display: none;\"><div style=\"display: table-cell;\"></div><div style=\"display: table-cell;\">left&nbsp;=&nbsp;[LinearAxis(id='p1022', ...)],</div></div><div class=\"p1052\" style=\"display: none;\"><div style=\"display: table-cell;\"></div><div style=\"display: table-cell;\">lod_factor&nbsp;=&nbsp;10,</div></div><div class=\"p1052\" style=\"display: none;\"><div style=\"display: table-cell;\"></div><div style=\"display: table-cell;\">lod_interval&nbsp;=&nbsp;300,</div></div><div class=\"p1052\" style=\"display: none;\"><div style=\"display: table-cell;\"></div><div style=\"display: table-cell;\">lod_threshold&nbsp;=&nbsp;2000,</div></div><div class=\"p1052\" style=\"display: none;\"><div style=\"display: table-cell;\"></div><div style=\"display: table-cell;\">lod_timeout&nbsp;=&nbsp;500,</div></div><div class=\"p1052\" style=\"display: none;\"><div style=\"display: table-cell;\"></div><div style=\"display: table-cell;\">margin&nbsp;=&nbsp;None,</div></div><div class=\"p1052\" style=\"display: none;\"><div style=\"display: table-cell;\"></div><div style=\"display: table-cell;\">match_aspect&nbsp;=&nbsp;False,</div></div><div class=\"p1052\" style=\"display: none;\"><div style=\"display: table-cell;\"></div><div style=\"display: table-cell;\">max_height&nbsp;=&nbsp;None,</div></div><div class=\"p1052\" style=\"display: none;\"><div style=\"display: table-cell;\"></div><div style=\"display: table-cell;\">max_width&nbsp;=&nbsp;None,</div></div><div class=\"p1052\" style=\"display: none;\"><div style=\"display: table-cell;\"></div><div style=\"display: table-cell;\">min_border&nbsp;=&nbsp;5,</div></div><div class=\"p1052\" style=\"display: none;\"><div style=\"display: table-cell;\"></div><div style=\"display: table-cell;\">min_border_bottom&nbsp;=&nbsp;None,</div></div><div class=\"p1052\" style=\"display: none;\"><div style=\"display: table-cell;\"></div><div style=\"display: table-cell;\">min_border_left&nbsp;=&nbsp;None,</div></div><div class=\"p1052\" style=\"display: none;\"><div style=\"display: table-cell;\"></div><div style=\"display: table-cell;\">min_border_right&nbsp;=&nbsp;None,</div></div><div class=\"p1052\" style=\"display: none;\"><div style=\"display: table-cell;\"></div><div style=\"display: table-cell;\">min_border_top&nbsp;=&nbsp;None,</div></div><div class=\"p1052\" style=\"display: none;\"><div style=\"display: table-cell;\"></div><div style=\"display: table-cell;\">min_height&nbsp;=&nbsp;None,</div></div><div class=\"p1052\" style=\"display: none;\"><div style=\"display: table-cell;\"></div><div style=\"display: table-cell;\">min_width&nbsp;=&nbsp;None,</div></div><div class=\"p1052\" style=\"display: none;\"><div style=\"display: table-cell;\"></div><div style=\"display: table-cell;\">name&nbsp;=&nbsp;None,</div></div><div class=\"p1052\" style=\"display: none;\"><div style=\"display: table-cell;\"></div><div style=\"display: table-cell;\">outline_line_alpha&nbsp;=&nbsp;1.0,</div></div><div class=\"p1052\" style=\"display: none;\"><div style=\"display: table-cell;\"></div><div style=\"display: table-cell;\">outline_line_cap&nbsp;=&nbsp;'butt',</div></div><div class=\"p1052\" style=\"display: none;\"><div style=\"display: table-cell;\"></div><div style=\"display: table-cell;\">outline_line_color&nbsp;=&nbsp;'#e5e5e5',</div></div><div class=\"p1052\" style=\"display: none;\"><div style=\"display: table-cell;\"></div><div style=\"display: table-cell;\">outline_line_dash&nbsp;=&nbsp;[],</div></div><div class=\"p1052\" style=\"display: none;\"><div style=\"display: table-cell;\"></div><div style=\"display: table-cell;\">outline_line_dash_offset&nbsp;=&nbsp;0,</div></div><div class=\"p1052\" style=\"display: none;\"><div style=\"display: table-cell;\"></div><div style=\"display: table-cell;\">outline_line_join&nbsp;=&nbsp;'bevel',</div></div><div class=\"p1052\" style=\"display: none;\"><div style=\"display: table-cell;\"></div><div style=\"display: table-cell;\">outline_line_width&nbsp;=&nbsp;1,</div></div><div class=\"p1052\" style=\"display: none;\"><div style=\"display: table-cell;\"></div><div style=\"display: table-cell;\">output_backend&nbsp;=&nbsp;'canvas',</div></div><div class=\"p1052\" style=\"display: none;\"><div style=\"display: table-cell;\"></div><div style=\"display: table-cell;\">renderers&nbsp;=&nbsp;[GlyphRenderer(id='p1046', ...)],</div></div><div class=\"p1052\" style=\"display: none;\"><div style=\"display: table-cell;\"></div><div style=\"display: table-cell;\">reset_policy&nbsp;=&nbsp;'standard',</div></div><div class=\"p1052\" style=\"display: none;\"><div style=\"display: table-cell;\"></div><div style=\"display: table-cell;\">resizable&nbsp;=&nbsp;False,</div></div><div class=\"p1052\" style=\"display: none;\"><div style=\"display: table-cell;\"></div><div style=\"display: table-cell;\">right&nbsp;=&nbsp;[],</div></div><div class=\"p1052\" style=\"display: none;\"><div style=\"display: table-cell;\"></div><div style=\"display: table-cell;\">sizing_mode&nbsp;=&nbsp;None,</div></div><div class=\"p1052\" style=\"display: none;\"><div style=\"display: table-cell;\"></div><div style=\"display: table-cell;\">styles&nbsp;=&nbsp;{},</div></div><div class=\"p1052\" style=\"display: none;\"><div style=\"display: table-cell;\"></div><div style=\"display: table-cell;\">stylesheets&nbsp;=&nbsp;[],</div></div><div class=\"p1052\" style=\"display: none;\"><div style=\"display: table-cell;\"></div><div style=\"display: table-cell;\">subscribed_events&nbsp;=&nbsp;PropertyValueSet(),</div></div><div class=\"p1052\" style=\"display: none;\"><div style=\"display: table-cell;\"></div><div style=\"display: table-cell;\">syncable&nbsp;=&nbsp;True,</div></div><div class=\"p1052\" style=\"display: none;\"><div style=\"display: table-cell;\"></div><div style=\"display: table-cell;\">tags&nbsp;=&nbsp;[],</div></div><div class=\"p1052\" style=\"display: none;\"><div style=\"display: table-cell;\"></div><div style=\"display: table-cell;\">title&nbsp;=&nbsp;Title(id='p1013', ...),</div></div><div class=\"p1052\" style=\"display: none;\"><div style=\"display: table-cell;\"></div><div style=\"display: table-cell;\">title_location&nbsp;=&nbsp;'above',</div></div><div class=\"p1052\" style=\"display: none;\"><div style=\"display: table-cell;\"></div><div style=\"display: table-cell;\">toolbar&nbsp;=&nbsp;Toolbar(id='p1014', ...),</div></div><div class=\"p1052\" style=\"display: none;\"><div style=\"display: table-cell;\"></div><div style=\"display: table-cell;\">toolbar_inner&nbsp;=&nbsp;False,</div></div><div class=\"p1052\" style=\"display: none;\"><div style=\"display: table-cell;\"></div><div style=\"display: table-cell;\">toolbar_location&nbsp;=&nbsp;'right',</div></div><div class=\"p1052\" style=\"display: none;\"><div style=\"display: table-cell;\"></div><div style=\"display: table-cell;\">toolbar_sticky&nbsp;=&nbsp;True,</div></div><div class=\"p1052\" style=\"display: none;\"><div style=\"display: table-cell;\"></div><div style=\"display: table-cell;\">visible&nbsp;=&nbsp;True,</div></div><div class=\"p1052\" style=\"display: none;\"><div style=\"display: table-cell;\"></div><div style=\"display: table-cell;\">width&nbsp;=&nbsp;600,</div></div><div class=\"p1052\" style=\"display: none;\"><div style=\"display: table-cell;\"></div><div style=\"display: table-cell;\">width_policy&nbsp;=&nbsp;'auto',</div></div><div class=\"p1052\" style=\"display: none;\"><div style=\"display: table-cell;\"></div><div style=\"display: table-cell;\">window_axis&nbsp;=&nbsp;'none',</div></div><div class=\"p1052\" style=\"display: none;\"><div style=\"display: table-cell;\"></div><div style=\"display: table-cell;\">x_range&nbsp;=&nbsp;DataRange1d(id='p1007', ...),</div></div><div class=\"p1052\" style=\"display: none;\"><div style=\"display: table-cell;\"></div><div style=\"display: table-cell;\">x_scale&nbsp;=&nbsp;LinearScale(id='p1015', ...),</div></div><div class=\"p1052\" style=\"display: none;\"><div style=\"display: table-cell;\"></div><div style=\"display: table-cell;\">y_range&nbsp;=&nbsp;DataRange1d(id='p1008', ...),</div></div><div class=\"p1052\" style=\"display: none;\"><div style=\"display: table-cell;\"></div><div style=\"display: table-cell;\">y_scale&nbsp;=&nbsp;LinearScale(id='p1016', ...))</div></div></div>\n",
              "<script>\n",
              "(function() {\n",
              "  let expanded = false;\n",
              "  const ellipsis = document.getElementById(\"p1053\");\n",
              "  ellipsis.addEventListener(\"click\", function() {\n",
              "    const rows = document.getElementsByClassName(\"p1052\");\n",
              "    for (let i = 0; i < rows.length; i++) {\n",
              "      const el = rows[i];\n",
              "      el.style.display = expanded ? \"none\" : \"table-row\";\n",
              "    }\n",
              "    ellipsis.innerHTML = expanded ? \"&hellip;)\" : \"&lsaquo;&lsaquo;&lsaquo;\";\n",
              "    expanded = !expanded;\n",
              "  });\n",
              "})();\n",
              "</script>\n"
            ]
          },
          "metadata": {},
          "execution_count": 121
        }
      ],
      "source": [
        "draw_vectors(embedding[:, 0], embedding[:, 1], token=top_words)"
      ]
    },
    {
      "cell_type": "markdown",
      "metadata": {
        "id": "epA997MzeJBX"
      },
      "source": [
        "Для сдачи задания необходимо загрузить функции `subsample_frequent_words` и `get_negative_sampling_prob`, а также сгенерировать файл для посылки ниже и приложить в соответствующую задачу. Успехов!"
      ]
    },
    {
      "cell_type": "code",
      "execution_count": 124,
      "metadata": {
        "id": "8KMl-_p3eJBX",
        "outputId": "78acd279-138f-4ae3-9ae0-140551349085",
        "colab": {
          "base_uri": "https://localhost:8080/"
        }
      },
      "outputs": [
        {
          "output_type": "stream",
          "name": "stdout",
          "text": [
            "File saved to `submission_dict.json`\n"
          ]
        }
      ],
      "source": [
        "# do not change the code in the block below\n",
        "# __________start of block__________\n",
        "import os\n",
        "import json\n",
        "\n",
        "assert os.path.exists(\n",
        "    \"words_subset.txt\"\n",
        "), \"Please, download `words_subset.txt` and place it in the working directory\"\n",
        "\n",
        "with open(\"words_subset.txt\") as iofile:\n",
        "    selected_words = iofile.read().split(\"\\n\")\n",
        "\n",
        "\n",
        "def get_matrix_for_selected_words(selected_words, embedding_matrix, word_to_index):\n",
        "    word_vectors = []\n",
        "    for word in selected_words:\n",
        "        index = word_to_index.get(word, None)\n",
        "        vector = [0.0] * embedding_matrix.shape[1]\n",
        "        if index is not None:\n",
        "            vector = embedding_matrix[index].numpy().tolist()\n",
        "        word_vectors.append(vector)\n",
        "    return word_vectors\n",
        "\n",
        "\n",
        "word_vectors = get_matrix_for_selected_words(\n",
        "    selected_words, embedding_matrix_context, word_to_index\n",
        ")\n",
        "\n",
        "with open(\"submission_dict.json\", \"w\") as iofile:\n",
        "    json.dump(word_vectors, iofile)\n",
        "print(\"File saved to `submission_dict.json`\")\n",
        "# __________end of block__________"
      ]
    },
    {
      "cell_type": "code",
      "source": [],
      "metadata": {
        "id": "mtrYcsxV03tX"
      },
      "execution_count": null,
      "outputs": []
    }
  ],
  "metadata": {
    "colab": {
      "provenance": []
    },
    "kernelspec": {
      "display_name": "py3_research",
      "language": "python",
      "name": "python3"
    },
    "language_info": {
      "codemirror_mode": {
        "name": "ipython",
        "version": 3
      },
      "file_extension": ".py",
      "mimetype": "text/x-python",
      "name": "python",
      "nbconvert_exporter": "python",
      "pygments_lexer": "ipython3",
      "version": "3.11.2"
    },
    "widgets": {
      "application/vnd.jupyter.widget-state+json": {
        "7ec1008bb60043d99ecdcf7065a9e57e": {
          "model_module": "@jupyter-widgets/controls",
          "model_name": "HBoxModel",
          "model_module_version": "1.5.0",
          "state": {
            "_dom_classes": [],
            "_model_module": "@jupyter-widgets/controls",
            "_model_module_version": "1.5.0",
            "_model_name": "HBoxModel",
            "_view_count": null,
            "_view_module": "@jupyter-widgets/controls",
            "_view_module_version": "1.5.0",
            "_view_name": "HBoxView",
            "box_style": "",
            "children": [
              "IPY_MODEL_ece46912cf2f469b947de11f7322ab62",
              "IPY_MODEL_1ccb85b770714ab3a981ab73a6c6598c",
              "IPY_MODEL_d822747ca0da40fda20776a3416e30d2"
            ],
            "layout": "IPY_MODEL_d8144f88946b499688c3052c2a3dae2f"
          }
        },
        "ece46912cf2f469b947de11f7322ab62": {
          "model_module": "@jupyter-widgets/controls",
          "model_name": "HTMLModel",
          "model_module_version": "1.5.0",
          "state": {
            "_dom_classes": [],
            "_model_module": "@jupyter-widgets/controls",
            "_model_module_version": "1.5.0",
            "_model_name": "HTMLModel",
            "_view_count": null,
            "_view_module": "@jupyter-widgets/controls",
            "_view_module_version": "1.5.0",
            "_view_name": "HTMLView",
            "description": "",
            "description_tooltip": null,
            "layout": "IPY_MODEL_3756b7884fa14ae08186c06505df60ff",
            "placeholder": "​",
            "style": "IPY_MODEL_a90a885b0a3945be80b1985fcb32f5ad",
            "value": "100%"
          }
        },
        "1ccb85b770714ab3a981ab73a6c6598c": {
          "model_module": "@jupyter-widgets/controls",
          "model_name": "FloatProgressModel",
          "model_module_version": "1.5.0",
          "state": {
            "_dom_classes": [],
            "_model_module": "@jupyter-widgets/controls",
            "_model_module_version": "1.5.0",
            "_model_name": "FloatProgressModel",
            "_view_count": null,
            "_view_module": "@jupyter-widgets/controls",
            "_view_module_version": "1.5.0",
            "_view_name": "ProgressView",
            "bar_style": "success",
            "description": "",
            "description_tooltip": null,
            "layout": "IPY_MODEL_c38269109663467796e062e68808d618",
            "max": 2500,
            "min": 0,
            "orientation": "horizontal",
            "style": "IPY_MODEL_eea28c9f5a44448d8acdb98b08c7f056",
            "value": 2500
          }
        },
        "d822747ca0da40fda20776a3416e30d2": {
          "model_module": "@jupyter-widgets/controls",
          "model_name": "HTMLModel",
          "model_module_version": "1.5.0",
          "state": {
            "_dom_classes": [],
            "_model_module": "@jupyter-widgets/controls",
            "_model_module_version": "1.5.0",
            "_model_name": "HTMLModel",
            "_view_count": null,
            "_view_module": "@jupyter-widgets/controls",
            "_view_module_version": "1.5.0",
            "_view_name": "HTMLView",
            "description": "",
            "description_tooltip": null,
            "layout": "IPY_MODEL_efcd3aec4a544ec78f4054bd7a0db81f",
            "placeholder": "​",
            "style": "IPY_MODEL_d3c14e79cc4e40f5880abd06e69d989f",
            "value": " 2500/2500 [1:10:05&lt;00:00,  1.67s/it]"
          }
        },
        "d8144f88946b499688c3052c2a3dae2f": {
          "model_module": "@jupyter-widgets/base",
          "model_name": "LayoutModel",
          "model_module_version": "1.2.0",
          "state": {
            "_model_module": "@jupyter-widgets/base",
            "_model_module_version": "1.2.0",
            "_model_name": "LayoutModel",
            "_view_count": null,
            "_view_module": "@jupyter-widgets/base",
            "_view_module_version": "1.2.0",
            "_view_name": "LayoutView",
            "align_content": null,
            "align_items": null,
            "align_self": null,
            "border": null,
            "bottom": null,
            "display": null,
            "flex": null,
            "flex_flow": null,
            "grid_area": null,
            "grid_auto_columns": null,
            "grid_auto_flow": null,
            "grid_auto_rows": null,
            "grid_column": null,
            "grid_gap": null,
            "grid_row": null,
            "grid_template_areas": null,
            "grid_template_columns": null,
            "grid_template_rows": null,
            "height": null,
            "justify_content": null,
            "justify_items": null,
            "left": null,
            "margin": null,
            "max_height": null,
            "max_width": null,
            "min_height": null,
            "min_width": null,
            "object_fit": null,
            "object_position": null,
            "order": null,
            "overflow": null,
            "overflow_x": null,
            "overflow_y": null,
            "padding": null,
            "right": null,
            "top": null,
            "visibility": null,
            "width": null
          }
        },
        "3756b7884fa14ae08186c06505df60ff": {
          "model_module": "@jupyter-widgets/base",
          "model_name": "LayoutModel",
          "model_module_version": "1.2.0",
          "state": {
            "_model_module": "@jupyter-widgets/base",
            "_model_module_version": "1.2.0",
            "_model_name": "LayoutModel",
            "_view_count": null,
            "_view_module": "@jupyter-widgets/base",
            "_view_module_version": "1.2.0",
            "_view_name": "LayoutView",
            "align_content": null,
            "align_items": null,
            "align_self": null,
            "border": null,
            "bottom": null,
            "display": null,
            "flex": null,
            "flex_flow": null,
            "grid_area": null,
            "grid_auto_columns": null,
            "grid_auto_flow": null,
            "grid_auto_rows": null,
            "grid_column": null,
            "grid_gap": null,
            "grid_row": null,
            "grid_template_areas": null,
            "grid_template_columns": null,
            "grid_template_rows": null,
            "height": null,
            "justify_content": null,
            "justify_items": null,
            "left": null,
            "margin": null,
            "max_height": null,
            "max_width": null,
            "min_height": null,
            "min_width": null,
            "object_fit": null,
            "object_position": null,
            "order": null,
            "overflow": null,
            "overflow_x": null,
            "overflow_y": null,
            "padding": null,
            "right": null,
            "top": null,
            "visibility": null,
            "width": null
          }
        },
        "a90a885b0a3945be80b1985fcb32f5ad": {
          "model_module": "@jupyter-widgets/controls",
          "model_name": "DescriptionStyleModel",
          "model_module_version": "1.5.0",
          "state": {
            "_model_module": "@jupyter-widgets/controls",
            "_model_module_version": "1.5.0",
            "_model_name": "DescriptionStyleModel",
            "_view_count": null,
            "_view_module": "@jupyter-widgets/base",
            "_view_module_version": "1.2.0",
            "_view_name": "StyleView",
            "description_width": ""
          }
        },
        "c38269109663467796e062e68808d618": {
          "model_module": "@jupyter-widgets/base",
          "model_name": "LayoutModel",
          "model_module_version": "1.2.0",
          "state": {
            "_model_module": "@jupyter-widgets/base",
            "_model_module_version": "1.2.0",
            "_model_name": "LayoutModel",
            "_view_count": null,
            "_view_module": "@jupyter-widgets/base",
            "_view_module_version": "1.2.0",
            "_view_name": "LayoutView",
            "align_content": null,
            "align_items": null,
            "align_self": null,
            "border": null,
            "bottom": null,
            "display": null,
            "flex": null,
            "flex_flow": null,
            "grid_area": null,
            "grid_auto_columns": null,
            "grid_auto_flow": null,
            "grid_auto_rows": null,
            "grid_column": null,
            "grid_gap": null,
            "grid_row": null,
            "grid_template_areas": null,
            "grid_template_columns": null,
            "grid_template_rows": null,
            "height": null,
            "justify_content": null,
            "justify_items": null,
            "left": null,
            "margin": null,
            "max_height": null,
            "max_width": null,
            "min_height": null,
            "min_width": null,
            "object_fit": null,
            "object_position": null,
            "order": null,
            "overflow": null,
            "overflow_x": null,
            "overflow_y": null,
            "padding": null,
            "right": null,
            "top": null,
            "visibility": null,
            "width": null
          }
        },
        "eea28c9f5a44448d8acdb98b08c7f056": {
          "model_module": "@jupyter-widgets/controls",
          "model_name": "ProgressStyleModel",
          "model_module_version": "1.5.0",
          "state": {
            "_model_module": "@jupyter-widgets/controls",
            "_model_module_version": "1.5.0",
            "_model_name": "ProgressStyleModel",
            "_view_count": null,
            "_view_module": "@jupyter-widgets/base",
            "_view_module_version": "1.2.0",
            "_view_name": "StyleView",
            "bar_color": null,
            "description_width": ""
          }
        },
        "efcd3aec4a544ec78f4054bd7a0db81f": {
          "model_module": "@jupyter-widgets/base",
          "model_name": "LayoutModel",
          "model_module_version": "1.2.0",
          "state": {
            "_model_module": "@jupyter-widgets/base",
            "_model_module_version": "1.2.0",
            "_model_name": "LayoutModel",
            "_view_count": null,
            "_view_module": "@jupyter-widgets/base",
            "_view_module_version": "1.2.0",
            "_view_name": "LayoutView",
            "align_content": null,
            "align_items": null,
            "align_self": null,
            "border": null,
            "bottom": null,
            "display": null,
            "flex": null,
            "flex_flow": null,
            "grid_area": null,
            "grid_auto_columns": null,
            "grid_auto_flow": null,
            "grid_auto_rows": null,
            "grid_column": null,
            "grid_gap": null,
            "grid_row": null,
            "grid_template_areas": null,
            "grid_template_columns": null,
            "grid_template_rows": null,
            "height": null,
            "justify_content": null,
            "justify_items": null,
            "left": null,
            "margin": null,
            "max_height": null,
            "max_width": null,
            "min_height": null,
            "min_width": null,
            "object_fit": null,
            "object_position": null,
            "order": null,
            "overflow": null,
            "overflow_x": null,
            "overflow_y": null,
            "padding": null,
            "right": null,
            "top": null,
            "visibility": null,
            "width": null
          }
        },
        "d3c14e79cc4e40f5880abd06e69d989f": {
          "model_module": "@jupyter-widgets/controls",
          "model_name": "DescriptionStyleModel",
          "model_module_version": "1.5.0",
          "state": {
            "_model_module": "@jupyter-widgets/controls",
            "_model_module_version": "1.5.0",
            "_model_name": "DescriptionStyleModel",
            "_view_count": null,
            "_view_module": "@jupyter-widgets/base",
            "_view_module_version": "1.2.0",
            "_view_name": "StyleView",
            "description_width": ""
          }
        }
      }
    }
  },
  "nbformat": 4,
  "nbformat_minor": 0
}